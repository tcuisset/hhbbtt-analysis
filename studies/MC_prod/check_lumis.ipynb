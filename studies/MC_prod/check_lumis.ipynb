{
 "cells": [
  {
   "cell_type": "code",
   "execution_count": 10,
   "metadata": {},
   "outputs": [],
   "source": [
    "import uproot\n",
    "import numpy as np\n",
    "import subprocess"
   ]
  },
  {
   "cell_type": "code",
   "execution_count": 8,
   "metadata": {},
   "outputs": [],
   "source": [
    "eos_server = \"root://eos.grif.fr\"\n",
    "eos_commands = [\"eos\", \"-b\", eos_server]\n",
    "eos_basepath_crab = \"/eos/grif/cms/llr/store/user/tcuisset/boostedTaus/2018_prod/\"\n",
    "eos_output_path = \"/eos/grif/cms/llr/store/user/tcuisset/boostedTaus/2018_MC/\"\n",
    "def run_eos_cmd(*args):\n",
    "    ret = subprocess.run([ *eos_commands, *args], stdout=subprocess.PIPE, check=True)\n",
    "    return ret.stdout.decode().splitlines()\n",
    "def list_files(dir, treeName=\"LuminosityBlocks\"):\n",
    "    return [f\"root://eos.grif.fr//{dir}/{f}:{treeName}\" for f in run_eos_cmd(\"ls\", dir)]\n"
   ]
  },
  {
   "cell_type": "code",
   "execution_count": 22,
   "metadata": {},
   "outputs": [
    {
     "data": {
      "text/plain": [
       "{'run': array([1, 1, 1, 1, 1, 1, 1, 1, 1, 1, 1, 1, 1, 1, 1, 1, 1, 1, 1, 1, 1, 1,\n",
       "        1, 1, 1, 1, 1, 1, 1, 1, 1, 1, 1, 1, 1, 1, 1, 1, 1, 1, 1, 1, 1, 1,\n",
       "        1, 1, 1, 1, 1, 1, 1, 1, 1, 1, 1, 1, 1, 1, 1, 1, 1, 1, 1, 1, 1, 1,\n",
       "        1, 1, 1, 1, 1, 1, 1, 1, 1, 1, 1, 1, 1, 1, 1, 1, 1], dtype=uint32),\n",
       " 'luminosityBlock': array([ 2009,  2010,  3230, 22363, 38280, 38663,  2433,  2689,  3431,\n",
       "         3432,  5411,  2143,  2576,  3023, 30043, 30044,  4612, 12545,\n",
       "         3792, 51918, 52980,  2539,  2540, 26659,  2055,  3136,  4169,\n",
       "         4170,  4357, 12391, 12739, 12740, 31243,  4449, 37037, 38047,\n",
       "        48605,  2971, 52256, 52448,  2031,  2093,  2094,  2096,  2203,\n",
       "         4834,  4841,  4842,  4996,  2032,  2071,  2072,  2095,  2129,\n",
       "         2130,  4995, 51855, 54062,  4450, 37038, 38048, 38217, 38218,\n",
       "         2432,  2529,  2530,  2592,  2999,  3000,  3581,  3582,  2866,\n",
       "        14437, 12805, 27849, 36557,  2259, 30189, 15744,  4079, 13542,\n",
       "        13662, 14461], dtype=uint32),\n",
       " 'GenFilter_filterEfficiency': array([1., 1., 1., 1., 1., 1., 1., 1., 1., 1., 1., 1., 1., 1., 1., 1., 1.,\n",
       "        1., 1., 1., 1., 1., 1., 1., 1., 1., 1., 1., 1., 1., 1., 1., 1., 1.,\n",
       "        1., 1., 1., 1., 1., 1., 1., 1., 1., 1., 1., 1., 1., 1., 1., 1., 1.,\n",
       "        1., 1., 1., 1., 1., 1., 1., 1., 1., 1., 1., 1., 1., 1., 1., 1., 1.,\n",
       "        1., 1., 1., 1., 1., 1., 1., 1., 1., 1., 1., 1., 1., 1., 1.],\n",
       "       dtype=float32),\n",
       " 'GenFilter_filterEfficiencyError': array([0., 0., 0., 0., 0., 0., 0., 0., 0., 0., 0., 0., 0., 0., 0., 0., 0.,\n",
       "        0., 0., 0., 0., 0., 0., 0., 0., 0., 0., 0., 0., 0., 0., 0., 0., 0.,\n",
       "        0., 0., 0., 0., 0., 0., 0., 0., 0., 0., 0., 0., 0., 0., 0., 0., 0.,\n",
       "        0., 0., 0., 0., 0., 0., 0., 0., 0., 0., 0., 0., 0., 0., 0., 0., 0.,\n",
       "        0., 0., 0., 0., 0., 0., 0., 0., 0., 0., 0., 0., 0., 0., 0.],\n",
       "       dtype=float32),\n",
       " 'GenFilter_numEventsPassed': array([912, 936, 936, 920, 956, 958, 930, 942, 940, 922, 946, 930, 948,\n",
       "        936, 944, 946, 928, 946, 942, 946, 952, 932, 934, 926, 932, 940,\n",
       "        932, 938, 940, 942, 922, 934, 938, 962, 944, 938, 934, 954, 922,\n",
       "        928, 938, 948, 910, 932, 948, 926, 940, 934, 946, 932, 940, 938,\n",
       "        936, 954, 920, 942, 934, 924, 942, 938, 942, 930, 932, 948, 918,\n",
       "        920, 932, 912, 946, 934, 946, 948, 920, 956, 922, 948, 930, 926,\n",
       "        934, 944, 938, 914, 914], dtype=int32),\n",
       " 'GenFilter_numEventsTotal': array([912, 936, 936, 920, 956, 958, 930, 942, 940, 922, 946, 930, 948,\n",
       "        936, 944, 946, 928, 946, 942, 946, 952, 932, 934, 926, 932, 940,\n",
       "        932, 938, 940, 942, 922, 934, 938, 962, 944, 938, 934, 954, 922,\n",
       "        928, 938, 948, 910, 932, 948, 926, 940, 934, 946, 932, 940, 938,\n",
       "        936, 954, 920, 942, 934, 924, 942, 938, 942, 930, 932, 948, 918,\n",
       "        920, 932, 912, 946, 934, 946, 948, 920, 956, 922, 948, 930, 926,\n",
       "        934, 944, 938, 914, 914], dtype=int32)}"
      ]
     },
     "execution_count": 22,
     "metadata": {},
     "output_type": "execute_result"
    }
   ],
   "source": [
    "x = uproot.concatenate([\"root://eos.grif.fr///eos/grif/cms/llr/store/user/tcuisset/boostedTaus/2018_MC/st_top/NANO_NANO_99.root:LuminosityBlocks\"], library=\"np\")\n",
    "x"
   ]
  },
  {
   "cell_type": "code",
   "execution_count": 27,
   "metadata": {},
   "outputs": [
    {
     "data": {
      "text/plain": [
       "'root://eos.grif.fr///eos/grif/cms/llr/store/user/tcuisset/boostedTaus/2018_MC/ST_t-channel_top_4f_InclusiveDecays/NANO_NANO_1-1.root:LuminosityBlocks'"
      ]
     },
     "execution_count": 27,
     "metadata": {},
     "output_type": "execute_result"
    }
   ],
   "source": [
    "list_files(\"/eos/grif/cms/llr/store/user/tcuisset/boostedTaus/2018_MC/ST_t-channel_top_4f_InclusiveDecays\")[0]"
   ]
  },
  {
   "cell_type": "code",
   "execution_count": 13,
   "metadata": {},
   "outputs": [],
   "source": [
    "st_top = uproot.concatenate(list_files(\"/eos/grif/cms/llr/store/user/tcuisset/boostedTaus/2018_MC/st_top\"), filter_name=[\"luminosityBlock\"], library=\"np\")[\"luminosityBlock\"]"
   ]
  },
  {
   "cell_type": "code",
   "execution_count": 14,
   "metadata": {},
   "outputs": [],
   "source": [
    "ST_t = uproot.concatenate(list_files(\"/eos/grif/cms/llr/store/user/tcuisset/boostedTaus/2018_MC/ST_t-channel_top_4f_InclusiveDecays\"), filter_name=[\"luminosityBlock\"], library=\"np\")[\"luminosityBlock\"]"
   ]
  },
  {
   "cell_type": "code",
   "execution_count": 16,
   "metadata": {},
   "outputs": [
    {
     "data": {
      "text/plain": [
       "array([  28,   29,   30, ..., 7998, 7999, 8000], dtype=uint32)"
      ]
     },
     "execution_count": 16,
     "metadata": {},
     "output_type": "execute_result"
    }
   ],
   "source": [
    "np.intersect1d(st_top, ST_t)"
   ]
  },
  {
   "cell_type": "code",
   "execution_count": 19,
   "metadata": {},
   "outputs": [
    {
     "data": {
      "text/plain": [
       "(47573, 7650, 6205)"
      ]
     },
     "execution_count": 19,
     "metadata": {},
     "output_type": "execute_result"
    }
   ],
   "source": [
    "len(st_top), len(ST_t), len(np.intersect1d(st_top, ST_t))"
   ]
  },
  {
   "cell_type": "code",
   "execution_count": 24,
   "metadata": {},
   "outputs": [
    {
     "data": {
      "text/plain": [
       "array([    28,     29,     30, ..., 199849, 199892, 199999], dtype=uint32)"
      ]
     },
     "execution_count": 24,
     "metadata": {},
     "output_type": "execute_result"
    }
   ],
   "source": [
    "np.sort(st_top)"
   ]
  },
  {
   "cell_type": "code",
   "execution_count": 25,
   "metadata": {},
   "outputs": [
    {
     "data": {
      "text/plain": [
       "array([   1,    2,    3, ..., 7998, 7999, 8000], dtype=uint32)"
      ]
     },
     "execution_count": 25,
     "metadata": {},
     "output_type": "execute_result"
    }
   ],
   "source": [
    "np.sort(ST_t)"
   ]
  }
 ],
 "metadata": {
  "kernelspec": {
   "display_name": "modules-python-3.11",
   "language": "python",
   "name": "python3"
  },
  "language_info": {
   "codemirror_mode": {
    "name": "ipython",
    "version": 3
   },
   "file_extension": ".py",
   "mimetype": "text/x-python",
   "name": "python",
   "nbconvert_exporter": "python",
   "pygments_lexer": "ipython3",
   "version": "3.11.8"
  }
 },
 "nbformat": 4,
 "nbformat_minor": 2
}
