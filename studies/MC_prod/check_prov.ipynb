{
 "cells": [
  {
   "cell_type": "markdown",
   "metadata": {},
   "source": [
    "# NanoAOD provenance checker\n",
    "Makes sure all files are from the same gridpack"
   ]
  },
  {
   "cell_type": "code",
   "execution_count": 11,
   "metadata": {},
   "outputs": [],
   "source": [
    "import subprocess\n",
    "from concurrent.futures import ThreadPoolExecutor,as_completed\n",
    "import random"
   ]
  },
  {
   "cell_type": "code",
   "execution_count": 13,
   "metadata": {},
   "outputs": [],
   "source": [
    "def getGridpack(f):\n",
    "    ret = subprocess.run(\"edmProvDump -ef externalLHEProducer \" + f + \" | grep /cvmfs/cms.cern.ch/phys_generator/\", shell=True, check=True, stdout=subprocess.PIPE)\n",
    "    return ret.stdout.decode()\n",
    "eos_server = \"root://eos.grif.fr\"\n",
    "eos_commands = [\"eos\", \"-b\", eos_server]\n",
    "eos_basepath_crab = \"/eos/grif/cms/llr/store/user/tcuisset/boostedTaus/2018_prod/\"\n",
    "eos_output_path = \"/eos/grif/cms/llr/store/user/tcuisset/boostedTaus/2018_MC/\"\n",
    "def run_eos_cmd(*args):\n",
    "    ret = subprocess.run([ *eos_commands, *args], stdout=subprocess.PIPE, check=True)\n",
    "    return ret.stdout.decode().splitlines()"
   ]
  },
  {
   "cell_type": "code",
   "execution_count": 10,
   "metadata": {},
   "outputs": [
    {
     "data": {
      "text/plain": [
       "b\"  args: vstring tracked  = {'/cvmfs/cms.cern.ch/phys_generator/gridpacks/UL/13TeV/madgraph/V5_2.6.5/st_tch_4f_ckm_UL_powheg_madspin/st_tch_4f_ckm_top_13TeV_UL_powheg_madspin_slc7_amd64_gcc700_CMSSW_10_6_19_tarball.tar.xz'}\\n\""
      ]
     },
     "execution_count": 10,
     "metadata": {},
     "output_type": "execute_result"
    }
   ],
   "source": [
    "getGridpack(\"root://eos.grif.fr///eos/grif/cms/llr/store/user/tcuisset/boostedTaus/2018_MC/ST_t-channel_top_4f_InclusiveDecays/NANO_NANO_10.root\")"
   ]
  },
  {
   "cell_type": "code",
   "execution_count": 5,
   "metadata": {},
   "outputs": [
    {
     "name": "stdout",
     "output_type": "stream",
     "text": [
      "subject   : /DC=ch/DC=cern/OU=Organic Units/OU=Users/CN=tcuisset/CN=858886/CN=Theo Cuisset/CN=436848596\n",
      "issuer    : /DC=ch/DC=cern/OU=Organic Units/OU=Users/CN=tcuisset/CN=858886/CN=Theo Cuisset\n",
      "identity  : /DC=ch/DC=cern/OU=Organic Units/OU=Users/CN=tcuisset/CN=858886/CN=Theo Cuisset\n",
      "type      : RFC3820 compliant impersonation proxy\n",
      "strength  : 2048\n",
      "path      : /grid_mnt/data__data.polcms/cms/cuisset/ZHbbtautau/framework/nanoaod_base_analysis/x509up\n",
      "timeleft  : 191:59:56\n",
      "key usage : Digital Signature, Key Encipherment\n"
     ]
    },
    {
     "data": {
      "text/plain": [
       "CompletedProcess(args='voms-proxy-info', returncode=0)"
      ]
     },
     "execution_count": 5,
     "metadata": {},
     "output_type": "execute_result"
    }
   ],
   "source": [
    "subprocess.run(\"voms-proxy-info\", shell=True)"
   ]
  },
  {
   "cell_type": "code",
   "execution_count": 28,
   "metadata": {},
   "outputs": [],
   "source": [
    "sample=50\n",
    "with ThreadPoolExecutor(max_workers=30) as exc:\n",
    "    futs = {}\n",
    "    for dataset in run_eos_cmd(\"ls\", eos_output_path):\n",
    "        files = run_eos_cmd(\"ls\", eos_output_path + \"/\" + dataset)\n",
    "        futs[dataset] = [exc.submit(getGridpack, \"root://eos.grif.fr///eos/grif/cms/llr/store/user/tcuisset/boostedTaus/2018_MC/\" + dataset + \"/\" + file) for file in (random.sample(files, sample) if len(files)>sample else files)]\n"
   ]
  },
  {
   "cell_type": "code",
   "execution_count": 20,
   "metadata": {},
   "outputs": [
    {
     "data": {
      "text/plain": [
       "\"  args: vstring tracked  = {'/cvmfs/cms.cern.ch/phys_generator/gridpacks/slc7_amd64_gcc700/13TeV/madgraph/V5_2.6.5/dy_jetbinned_fxfx/dyellell0j_5f_NLO_FXFX_slc7_amd64_gcc700_CMSSW_10_6_19_tarball.tar.xz'}\\n\""
      ]
     },
     "execution_count": 20,
     "metadata": {},
     "output_type": "execute_result"
    }
   ],
   "source": [
    "futs[\"DYJetsToLL_0J-amcatnloFXFX\"][0].result()"
   ]
  },
  {
   "cell_type": "code",
   "execution_count": 29,
   "metadata": {},
   "outputs": [
    {
     "data": {
      "text/plain": [
       "{'DYJetsToLL_0J-amcatnloFXFX': {\"  args: vstring tracked  = {'/cvmfs/cms.cern.ch/phys_generator/gridpacks/slc7_amd64_gcc700/13TeV/madgraph/V5_2.6.5/dy_jetbinned_fxfx/dyellell0j_5f_NLO_FXFX_slc7_amd64_gcc700_CMSSW_10_6_19_tarball.tar.xz'}\\n\"},\n",
       " 'DYJetsToLL_1J-amcatnloFXFX': {\"  args: vstring tracked  = {'/cvmfs/cms.cern.ch/phys_generator/gridpacks/slc7_amd64_gcc700/13TeV/madgraph/V5_2.6.5/dy_jetbinned_fxfx/dyellell1j_5f_NLO_FXFX_slc7_amd64_gcc700_CMSSW_10_6_19_tarball.tar.xz'}\\n\"},\n",
       " 'DYJetsToLL_2J-amcatnloFXFX': {\"  args: vstring tracked  = {'/cvmfs/cms.cern.ch/phys_generator/gridpacks/slc7_amd64_gcc700/13TeV/madgraph/V5_2.6.5/dy_jetbinned_fxfx/dyellell2j_5f_NLO_FXFX_slc7_amd64_gcc700_CMSSW_10_6_19_tarball.tar.xz'}\\n\"},\n",
       " 'DYJetsToLL_LHEFilterPtZ-0To50-amcatnloFXFX': {\"  args: vstring tracked  = {'/cvmfs/cms.cern.ch/phys_generator/gridpacks/UL/13TeV/madgraph/V5_2.6.5/EWparamSync/DYJetsToLL_012j_Ptbin_5f_NLO_FXFX_updated/DYJetsToLL_012j_Zpt-0To80_5f_NLO_FXFX_slc7_amd64_gcc700_CMSSW_10_6_19_tarball.tar.xz'}\\n\"},\n",
       " 'DYJetsToLL_LHEFilterPtZ-100To250-amcatnloFXFX': {\"  args: vstring tracked  = {'/cvmfs/cms.cern.ch/phys_generator/gridpacks/UL/13TeV/madgraph/V5_2.6.5/EWparamSync/DYJetsToLL_012j_Ptbin_5f_NLO_FXFX_updated/DYJetsToLL_012j_Zpt-70To280_5f_NLO_FXFX_slc7_amd64_gcc700_CMSSW_10_6_19_tarball.tar.xz'}\\n\"},\n",
       " 'DYJetsToLL_LHEFilterPtZ-250To400-amcatnloFXFX': {\"  args: vstring tracked  = {'/cvmfs/cms.cern.ch/phys_generator/gridpacks/UL/13TeV/madgraph/V5_2.6.5/EWparamSync/DYJetsToLL_012j_Ptbin_5f_NLO_FXFX_updated/DYJetsToLL_012j_Zpt-220To430_5f_NLO_FXFX_slc7_amd64_gcc700_CMSSW_10_6_19_tarball.tar.xz'}\\n\"},\n",
       " 'DYJetsToLL_LHEFilterPtZ-400To650-amcatnloFXFX': {\"  args: vstring tracked  = {'/cvmfs/cms.cern.ch/phys_generator/gridpacks/UL/13TeV/madgraph/V5_2.6.5/EWparamSync/DYJetsToLL_012j_Ptbin_5f_NLO_FXFX_updated/DYJetsToLL_012j_Zpt-370To700_5f_NLO_FXFX_slc7_amd64_gcc700_CMSSW_10_6_19_tarball.tar.xz'}\\n\"},\n",
       " 'DYJetsToLL_LHEFilterPtZ-50To100-amcatnloFXFX': {\"  args: vstring tracked  = {'/cvmfs/cms.cern.ch/phys_generator/gridpacks/UL/13TeV/madgraph/V5_2.6.5/EWparamSync/DYJetsToLL_012j_Ptbin_5f_NLO_FXFX_updated/DYJetsToLL_012j_Zpt-20To130_5f_NLO_FXFX_slc7_amd64_gcc700_CMSSW_10_6_19_tarball.tar.xz'}\\n\"},\n",
       " 'DYJetsToLL_LHEFilterPtZ-650ToInf-amcatnloFXFX': {\"  args: vstring tracked  = {'/cvmfs/cms.cern.ch/phys_generator/gridpacks/UL/13TeV/madgraph/V5_2.6.5/EWparamSync/DYJetsToLL_012j_Ptbin_5f_NLO_FXFX_updated/DYJetsToLL_012j_Zpt-600Toinf_5f_NLO_FXFX_slc7_amd64_gcc700_CMSSW_10_6_19_tarball.tar.xz'}\\n\"},\n",
       " 'DYJetsToLL_M-50-amcatnloFXFX': {\"  args: vstring tracked  = {'/cvmfs/cms.cern.ch/phys_generator/gridpacks/slc7_amd64_gcc700/13TeV/madgraph/V5_2.6.5/dy_fxfx_incl/dyellell012j_5f_NLO_FXFX_slc7_amd64_gcc700_CMSSW_10_6_19_tarball.tar.xz'}\\n\"},\n",
       " 'EWK_WminusToLNu': {\"  args: vstring tracked  = {'/cvmfs/cms.cern.ch/phys_generator/gridpacks/UL/13TeV/madgraph/V5_2.6.5/ewkwmlvjj_5f_LO/v3/ewkwmlvjj_5f_LO_slc7_amd64_gcc700_CMSSW_10_6_19_tarball.tar.xz'}\\n\"},\n",
       " 'EWK_WplusToLNu': {\"  args: vstring tracked  = {'/cvmfs/cms.cern.ch/phys_generator/gridpacks/UL/13TeV/madgraph/V5_2.6.5/ewkwplvjj_5f_LO/v3/ewkwplvjj_5f_LO_slc7_amd64_gcc700_CMSSW_10_6_19_tarball.tar.xz'}\\n\"},\n",
       " 'EWK_ZTo2L': {\"  args: vstring tracked  = {'/cvmfs/cms.cern.ch/phys_generator/gridpacks/UL/13TeV/madgraph/V5_2.6.5/ewkzlljj_5f_LO/v2/ewkzlljj_5f_LO_slc7_amd64_gcc700_CMSSW_10_6_19_tarball.tar.xz'}\\n\"},\n",
       " 'GluGluToHHTo2B2Tau_node_SM': {\"  args: vstring tracked  = {'/cvmfs/cms.cern.ch/phys_generator/gridpacks/UL/13TeV/madgraph/V5_2.6.5/doubleHiggs/GF_HH_benchmarks/GF_HH_SM_slc7_amd64_gcc700_CMSSW_9_3_16_tarball.tar.xz'}\\n\"},\n",
       " 'GluGluToXToZZTo2B2Tau_M-1000': {\"  args: vstring tracked  = {'/cvmfs/cms.cern.ch/phys_generator/gridpacks/RunII/13TeV/slc7_amd64_gcc700/Powheg/XToZZTo2B2Tau/gg_H_quark-mass-effects_slc7_amd64_gcc700_CMSSW_10_6_37_my_gg_X_ZZbbtautau_quark-mass-effects_NNPDF31_13TeV_M1000.tgz'}\\n\"},\n",
       " 'GluGluToXToZZTo2B2Tau_M-1100': {\"  args: vstring tracked  = {'/cvmfs/cms.cern.ch/phys_generator/gridpacks/RunII/13TeV/slc7_amd64_gcc700/Powheg/XToZZTo2B2Tau/gg_H_quark-mass-effects_slc7_amd64_gcc700_CMSSW_10_6_37_my_gg_X_ZZbbtautau_quark-mass-effects_NNPDF31_13TeV_M1100.tgz'}\\n\"},\n",
       " 'GluGluToXToZZTo2B2Tau_M-1200': {\"  args: vstring tracked  = {'/cvmfs/cms.cern.ch/phys_generator/gridpacks/RunII/13TeV/slc7_amd64_gcc700/Powheg/XToZZTo2B2Tau/gg_H_quark-mass-effects_slc7_amd64_gcc700_CMSSW_10_6_37_my_gg_X_ZZbbtautau_quark-mass-effects_NNPDF31_13TeV_M1200.tgz'}\\n\"},\n",
       " 'GluGluToXToZZTo2B2Tau_M-1300': {\"  args: vstring tracked  = {'/cvmfs/cms.cern.ch/phys_generator/gridpacks/RunII/13TeV/slc7_amd64_gcc700/Powheg/XToZZTo2B2Tau/gg_H_quark-mass-effects_slc7_amd64_gcc700_CMSSW_10_6_37_my_gg_X_ZZbbtautau_quark-mass-effects_NNPDF31_13TeV_M1300.tgz'}\\n\"},\n",
       " 'GluGluToXToZZTo2B2Tau_M-1400': {\"  args: vstring tracked  = {'/cvmfs/cms.cern.ch/phys_generator/gridpacks/RunII/13TeV/slc7_amd64_gcc700/Powheg/XToZZTo2B2Tau/gg_H_quark-mass-effects_slc7_amd64_gcc700_CMSSW_10_6_37_my_gg_X_ZZbbtautau_quark-mass-effects_NNPDF31_13TeV_M1400.tgz'}\\n\"},\n",
       " 'GluGluToXToZZTo2B2Tau_M-1500': {\"  args: vstring tracked  = {'/cvmfs/cms.cern.ch/phys_generator/gridpacks/RunII/13TeV/slc7_amd64_gcc700/Powheg/XToZZTo2B2Tau/gg_H_quark-mass-effects_slc7_amd64_gcc700_CMSSW_10_6_37_my_gg_X_ZZbbtautau_quark-mass-effects_NNPDF31_13TeV_M1500.tgz'}\\n\"},\n",
       " 'GluGluToXToZZTo2B2Tau_M-1600': {\"  args: vstring tracked  = {'/cvmfs/cms.cern.ch/phys_generator/gridpacks/RunII/13TeV/slc7_amd64_gcc700/Powheg/XToZZTo2B2Tau/gg_H_quark-mass-effects_slc7_amd64_gcc700_CMSSW_10_6_37_my_gg_X_ZZbbtautau_quark-mass-effects_NNPDF31_13TeV_M1600.tgz'}\\n\"},\n",
       " 'GluGluToXToZZTo2B2Tau_M-1700': {\"  args: vstring tracked  = {'/cvmfs/cms.cern.ch/phys_generator/gridpacks/RunII/13TeV/slc7_amd64_gcc700/Powheg/XToZZTo2B2Tau/gg_H_quark-mass-effects_slc7_amd64_gcc700_CMSSW_10_6_37_my_gg_X_ZZbbtautau_quark-mass-effects_NNPDF31_13TeV_M1700.tgz'}\\n\"},\n",
       " 'GluGluToXToZZTo2B2Tau_M-1800': {\"  args: vstring tracked  = {'/cvmfs/cms.cern.ch/phys_generator/gridpacks/RunII/13TeV/slc7_amd64_gcc700/Powheg/XToZZTo2B2Tau/gg_H_quark-mass-effects_slc7_amd64_gcc700_CMSSW_10_6_37_my_gg_X_ZZbbtautau_quark-mass-effects_NNPDF31_13TeV_M1800.tgz'}\\n\"},\n",
       " 'GluGluToXToZZTo2B2Tau_M-1900': {\"  args: vstring tracked  = {'/cvmfs/cms.cern.ch/phys_generator/gridpacks/RunII/13TeV/slc7_amd64_gcc700/Powheg/XToZZTo2B2Tau/gg_H_quark-mass-effects_slc7_amd64_gcc700_CMSSW_10_6_37_my_gg_X_ZZbbtautau_quark-mass-effects_NNPDF31_13TeV_M1900.tgz'}\\n\"},\n",
       " 'GluGluToXToZZTo2B2Tau_M-200': {\"  args: vstring tracked  = {'/cvmfs/cms.cern.ch/phys_generator/gridpacks/RunII/13TeV/slc7_amd64_gcc700/Powheg/XToZZTo2B2Tau/gg_H_quark-mass-effects_slc7_amd64_gcc700_CMSSW_10_6_37_my_gg_X_ZZbbtautau_quark-mass-effects_NNPDF31_13TeV_M200.tgz'}\\n\"},\n",
       " 'GluGluToXToZZTo2B2Tau_M-2000': {\"  args: vstring tracked  = {'/cvmfs/cms.cern.ch/phys_generator/gridpacks/RunII/13TeV/slc7_amd64_gcc700/Powheg/XToZZTo2B2Tau/gg_H_quark-mass-effects_slc7_amd64_gcc700_CMSSW_10_6_37_my_gg_X_ZZbbtautau_quark-mass-effects_NNPDF31_13TeV_M2000.tgz'}\\n\"},\n",
       " 'GluGluToXToZZTo2B2Tau_M-210': {\"  args: vstring tracked  = {'/cvmfs/cms.cern.ch/phys_generator/gridpacks/RunII/13TeV/slc7_amd64_gcc700/Powheg/XToZZTo2B2Tau/gg_H_quark-mass-effects_slc7_amd64_gcc700_CMSSW_10_6_37_my_gg_X_ZZbbtautau_quark-mass-effects_NNPDF31_13TeV_M210.tgz'}\\n\"},\n",
       " 'GluGluToXToZZTo2B2Tau_M-220': {\"  args: vstring tracked  = {'/cvmfs/cms.cern.ch/phys_generator/gridpacks/RunII/13TeV/slc7_amd64_gcc700/Powheg/XToZZTo2B2Tau/gg_H_quark-mass-effects_slc7_amd64_gcc700_CMSSW_10_6_37_my_gg_X_ZZbbtautau_quark-mass-effects_NNPDF31_13TeV_M220.tgz'}\\n\"},\n",
       " 'GluGluToXToZZTo2B2Tau_M-2200': {\"  args: vstring tracked  = {'/cvmfs/cms.cern.ch/phys_generator/gridpacks/RunII/13TeV/slc7_amd64_gcc700/Powheg/XToZZTo2B2Tau/gg_H_quark-mass-effects_slc7_amd64_gcc700_CMSSW_10_6_37_my_gg_X_ZZbbtautau_quark-mass-effects_NNPDF31_13TeV_M2200.tgz'}\\n\"},\n",
       " 'GluGluToXToZZTo2B2Tau_M-230': {\"  args: vstring tracked  = {'/cvmfs/cms.cern.ch/phys_generator/gridpacks/RunII/13TeV/slc7_amd64_gcc700/Powheg/XToZZTo2B2Tau/gg_H_quark-mass-effects_slc7_amd64_gcc700_CMSSW_10_6_37_my_gg_X_ZZbbtautau_quark-mass-effects_NNPDF31_13TeV_M230.tgz'}\\n\"},\n",
       " 'GluGluToXToZZTo2B2Tau_M-240': {\"  args: vstring tracked  = {'/cvmfs/cms.cern.ch/phys_generator/gridpacks/RunII/13TeV/slc7_amd64_gcc700/Powheg/XToZZTo2B2Tau/gg_H_quark-mass-effects_slc7_amd64_gcc700_CMSSW_10_6_37_my_gg_X_ZZbbtautau_quark-mass-effects_NNPDF31_13TeV_M240.tgz'}\\n\"},\n",
       " 'GluGluToXToZZTo2B2Tau_M-2400': {\"  args: vstring tracked  = {'/cvmfs/cms.cern.ch/phys_generator/gridpacks/RunII/13TeV/slc7_amd64_gcc700/Powheg/XToZZTo2B2Tau/gg_H_quark-mass-effects_slc7_amd64_gcc700_CMSSW_10_6_37_my_gg_X_ZZbbtautau_quark-mass-effects_NNPDF31_13TeV_M2400.tgz'}\\n\"},\n",
       " 'GluGluToXToZZTo2B2Tau_M-250': {\"  args: vstring tracked  = {'/cvmfs/cms.cern.ch/phys_generator/gridpacks/RunII/13TeV/slc7_amd64_gcc700/Powheg/XToZZTo2B2Tau/gg_H_quark-mass-effects_slc7_amd64_gcc700_CMSSW_10_6_37_my_gg_X_ZZbbtautau_quark-mass-effects_NNPDF31_13TeV_M250.tgz'}\\n\"},\n",
       " 'GluGluToXToZZTo2B2Tau_M-2500': {\"  args: vstring tracked  = {'/cvmfs/cms.cern.ch/phys_generator/gridpacks/RunII/13TeV/slc7_amd64_gcc700/Powheg/XToZZTo2B2Tau/gg_H_quark-mass-effects_slc7_amd64_gcc700_CMSSW_10_6_37_my_gg_X_ZZbbtautau_quark-mass-effects_NNPDF31_13TeV_M2500.tgz'}\\n\"},\n",
       " 'GluGluToXToZZTo2B2Tau_M-260': {\"  args: vstring tracked  = {'/cvmfs/cms.cern.ch/phys_generator/gridpacks/RunII/13TeV/slc7_amd64_gcc700/Powheg/XToZZTo2B2Tau/gg_H_quark-mass-effects_slc7_amd64_gcc700_CMSSW_10_6_37_my_gg_X_ZZbbtautau_quark-mass-effects_NNPDF31_13TeV_M260.tgz'}\\n\"},\n",
       " 'GluGluToXToZZTo2B2Tau_M-2600': {\"  args: vstring tracked  = {'/cvmfs/cms.cern.ch/phys_generator/gridpacks/RunII/13TeV/slc7_amd64_gcc700/Powheg/XToZZTo2B2Tau/gg_H_quark-mass-effects_slc7_amd64_gcc700_CMSSW_10_6_37_my_gg_X_ZZbbtautau_quark-mass-effects_NNPDF31_13TeV_M2600.tgz'}\\n\"},\n",
       " 'GluGluToXToZZTo2B2Tau_M-270': {\"  args: vstring tracked  = {'/cvmfs/cms.cern.ch/phys_generator/gridpacks/RunII/13TeV/slc7_amd64_gcc700/Powheg/XToZZTo2B2Tau/gg_H_quark-mass-effects_slc7_amd64_gcc700_CMSSW_10_6_37_my_gg_X_ZZbbtautau_quark-mass-effects_NNPDF31_13TeV_M270.tgz'}\\n\"},\n",
       " 'GluGluToXToZZTo2B2Tau_M-280': {\"  args: vstring tracked  = {'/cvmfs/cms.cern.ch/phys_generator/gridpacks/RunII/13TeV/slc7_amd64_gcc700/Powheg/XToZZTo2B2Tau/gg_H_quark-mass-effects_slc7_amd64_gcc700_CMSSW_10_6_37_my_gg_X_ZZbbtautau_quark-mass-effects_NNPDF31_13TeV_M280.tgz'}\\n\"},\n",
       " 'GluGluToXToZZTo2B2Tau_M-2800': {\"  args: vstring tracked  = {'/cvmfs/cms.cern.ch/phys_generator/gridpacks/RunII/13TeV/slc7_amd64_gcc700/Powheg/XToZZTo2B2Tau/gg_H_quark-mass-effects_slc7_amd64_gcc700_CMSSW_10_6_37_my_gg_X_ZZbbtautau_quark-mass-effects_NNPDF31_13TeV_M2800.tgz'}\\n\"},\n",
       " 'GluGluToXToZZTo2B2Tau_M-300': {\"  args: vstring tracked  = {'/cvmfs/cms.cern.ch/phys_generator/gridpacks/RunII/13TeV/slc7_amd64_gcc700/Powheg/XToZZTo2B2Tau/gg_H_quark-mass-effects_slc7_amd64_gcc700_CMSSW_10_6_37_my_gg_X_ZZbbtautau_quark-mass-effects_NNPDF31_13TeV_M300.tgz'}\\n\"},\n",
       " 'GluGluToXToZZTo2B2Tau_M-3000': {\"  args: vstring tracked  = {'/cvmfs/cms.cern.ch/phys_generator/gridpacks/RunII/13TeV/slc7_amd64_gcc700/Powheg/XToZZTo2B2Tau/gg_H_quark-mass-effects_slc7_amd64_gcc700_CMSSW_10_6_37_my_gg_X_ZZbbtautau_quark-mass-effects_NNPDF31_13TeV_M3000.tgz'}\\n\"},\n",
       " 'GluGluToXToZZTo2B2Tau_M-320': {\"  args: vstring tracked  = {'/cvmfs/cms.cern.ch/phys_generator/gridpacks/RunII/13TeV/slc7_amd64_gcc700/Powheg/XToZZTo2B2Tau/gg_H_quark-mass-effects_slc7_amd64_gcc700_CMSSW_10_6_37_my_gg_X_ZZbbtautau_quark-mass-effects_NNPDF31_13TeV_M320.tgz'}\\n\"},\n",
       " 'GluGluToXToZZTo2B2Tau_M-350': {\"  args: vstring tracked  = {'/cvmfs/cms.cern.ch/phys_generator/gridpacks/RunII/13TeV/slc7_amd64_gcc700/Powheg/XToZZTo2B2Tau/gg_H_quark-mass-effects_slc7_amd64_gcc700_CMSSW_10_6_37_my_gg_X_ZZbbtautau_quark-mass-effects_NNPDF31_13TeV_M350.tgz'}\\n\"},\n",
       " 'GluGluToXToZZTo2B2Tau_M-3500': {\"  args: vstring tracked  = {'/cvmfs/cms.cern.ch/phys_generator/gridpacks/RunII/13TeV/slc7_amd64_gcc700/Powheg/XToZZTo2B2Tau/gg_H_quark-mass-effects_slc7_amd64_gcc700_CMSSW_10_6_37_my_gg_X_ZZbbtautau_quark-mass-effects_NNPDF31_13TeV_M3500.tgz'}\\n\"},\n",
       " 'GluGluToXToZZTo2B2Tau_M-360': {\"  args: vstring tracked  = {'/cvmfs/cms.cern.ch/phys_generator/gridpacks/RunII/13TeV/slc7_amd64_gcc700/Powheg/XToZZTo2B2Tau/gg_H_quark-mass-effects_slc7_amd64_gcc700_CMSSW_10_6_37_my_gg_X_ZZbbtautau_quark-mass-effects_NNPDF31_13TeV_M360.tgz'}\\n\"},\n",
       " 'GluGluToXToZZTo2B2Tau_M-400': {\"  args: vstring tracked  = {'/cvmfs/cms.cern.ch/phys_generator/gridpacks/RunII/13TeV/slc7_amd64_gcc700/Powheg/XToZZTo2B2Tau/gg_H_quark-mass-effects_slc7_amd64_gcc700_CMSSW_10_6_37_my_gg_X_ZZbbtautau_quark-mass-effects_NNPDF31_13TeV_M400.tgz'}\\n\"},\n",
       " 'GluGluToXToZZTo2B2Tau_M-4000': {\"  args: vstring tracked  = {'/cvmfs/cms.cern.ch/phys_generator/gridpacks/RunII/13TeV/slc7_amd64_gcc700/Powheg/XToZZTo2B2Tau/gg_H_quark-mass-effects_slc7_amd64_gcc700_CMSSW_10_6_37_my_gg_X_ZZbbtautau_quark-mass-effects_NNPDF31_13TeV_M4000.tgz'}\\n\"},\n",
       " 'GluGluToXToZZTo2B2Tau_M-450': {\"  args: vstring tracked  = {'/cvmfs/cms.cern.ch/phys_generator/gridpacks/RunII/13TeV/slc7_amd64_gcc700/Powheg/XToZZTo2B2Tau/gg_H_quark-mass-effects_slc7_amd64_gcc700_CMSSW_10_6_37_my_gg_X_ZZbbtautau_quark-mass-effects_NNPDF31_13TeV_M450.tgz'}\\n\"},\n",
       " 'GluGluToXToZZTo2B2Tau_M-4500': {\"  args: vstring tracked  = {'/cvmfs/cms.cern.ch/phys_generator/gridpacks/RunII/13TeV/slc7_amd64_gcc700/Powheg/XToZZTo2B2Tau/gg_H_quark-mass-effects_slc7_amd64_gcc700_CMSSW_10_6_37_my_gg_X_ZZbbtautau_quark-mass-effects_NNPDF31_13TeV_M4500.tgz'}\\n\"},\n",
       " 'GluGluToXToZZTo2B2Tau_M-500': {\"  args: vstring tracked  = {'/cvmfs/cms.cern.ch/phys_generator/gridpacks/RunII/13TeV/slc7_amd64_gcc700/Powheg/XToZZTo2B2Tau/gg_H_quark-mass-effects_slc7_amd64_gcc700_CMSSW_10_6_37_my_gg_X_ZZbbtautau_quark-mass-effects_NNPDF31_13TeV_M500.tgz'}\\n\"},\n",
       " 'GluGluToXToZZTo2B2Tau_M-5000': {\"  args: vstring tracked  = {'/cvmfs/cms.cern.ch/phys_generator/gridpacks/RunII/13TeV/slc7_amd64_gcc700/Powheg/XToZZTo2B2Tau/gg_H_quark-mass-effects_slc7_amd64_gcc700_CMSSW_10_6_37_my_gg_X_ZZbbtautau_quark-mass-effects_NNPDF31_13TeV_M5000.tgz'}\\n\"},\n",
       " 'GluGluToXToZZTo2B2Tau_M-550': {\"  args: vstring tracked  = {'/cvmfs/cms.cern.ch/phys_generator/gridpacks/RunII/13TeV/slc7_amd64_gcc700/Powheg/XToZZTo2B2Tau/gg_H_quark-mass-effects_slc7_amd64_gcc700_CMSSW_10_6_37_my_gg_X_ZZbbtautau_quark-mass-effects_NNPDF31_13TeV_M550.tgz'}\\n\"},\n",
       " 'GluGluToXToZZTo2B2Tau_M-600': {\"  args: vstring tracked  = {'/cvmfs/cms.cern.ch/phys_generator/gridpacks/RunII/13TeV/slc7_amd64_gcc700/Powheg/XToZZTo2B2Tau/gg_H_quark-mass-effects_slc7_amd64_gcc700_CMSSW_10_6_37_my_gg_X_ZZbbtautau_quark-mass-effects_NNPDF31_13TeV_M600.tgz'}\\n\"},\n",
       " 'GluGluToXToZZTo2B2Tau_M-650': {\"  args: vstring tracked  = {'/cvmfs/cms.cern.ch/phys_generator/gridpacks/RunII/13TeV/slc7_amd64_gcc700/Powheg/XToZZTo2B2Tau/gg_H_quark-mass-effects_slc7_amd64_gcc700_CMSSW_10_6_37_my_gg_X_ZZbbtautau_quark-mass-effects_NNPDF31_13TeV_M650.tgz'}\\n\"},\n",
       " 'GluGluToXToZZTo2B2Tau_M-700': {\"  args: vstring tracked  = {'/cvmfs/cms.cern.ch/phys_generator/gridpacks/RunII/13TeV/slc7_amd64_gcc700/Powheg/XToZZTo2B2Tau/gg_H_quark-mass-effects_slc7_amd64_gcc700_CMSSW_10_6_37_my_gg_X_ZZbbtautau_quark-mass-effects_NNPDF31_13TeV_M700.tgz'}\\n\"},\n",
       " 'GluGluToXToZZTo2B2Tau_M-750': {\"  args: vstring tracked  = {'/cvmfs/cms.cern.ch/phys_generator/gridpacks/RunII/13TeV/slc7_amd64_gcc700/Powheg/XToZZTo2B2Tau/gg_H_quark-mass-effects_slc7_amd64_gcc700_CMSSW_10_6_37_my_gg_X_ZZbbtautau_quark-mass-effects_NNPDF31_13TeV_M750.tgz'}\\n\"},\n",
       " 'GluGluToXToZZTo2B2Tau_M-800': {\"  args: vstring tracked  = {'/cvmfs/cms.cern.ch/phys_generator/gridpacks/RunII/13TeV/slc7_amd64_gcc700/Powheg/XToZZTo2B2Tau/gg_H_quark-mass-effects_slc7_amd64_gcc700_CMSSW_10_6_37_my_gg_X_ZZbbtautau_quark-mass-effects_NNPDF31_13TeV_M800.tgz'}\\n\"},\n",
       " 'GluGluToXToZZTo2B2Tau_M-850': {\"  args: vstring tracked  = {'/cvmfs/cms.cern.ch/phys_generator/gridpacks/RunII/13TeV/slc7_amd64_gcc700/Powheg/XToZZTo2B2Tau/gg_H_quark-mass-effects_slc7_amd64_gcc700_CMSSW_10_6_37_my_gg_X_ZZbbtautau_quark-mass-effects_NNPDF31_13TeV_M850.tgz'}\\n\"},\n",
       " 'GluGluToXToZZTo2B2Tau_M-900': {\"  args: vstring tracked  = {'/cvmfs/cms.cern.ch/phys_generator/gridpacks/RunII/13TeV/slc7_amd64_gcc700/Powheg/XToZZTo2B2Tau/gg_H_quark-mass-effects_slc7_amd64_gcc700_CMSSW_10_6_37_my_gg_X_ZZbbtautau_quark-mass-effects_NNPDF31_13TeV_M900.tgz'}\\n\"},\n",
       " 'ST_t-channel_antitop_4f_InclusiveDecays': {\"  args: vstring tracked  = {'/cvmfs/cms.cern.ch/phys_generator/gridpacks/UL/13TeV/madgraph/V5_2.6.5/st_tch_4f_ckm_UL_powheg_madspin/st_tch_4f_ckm_antitop_13TeV_UL_powheg_madspin_slc7_amd64_gcc700_CMSSW_10_6_19_tarball.tar.xz'}\\n\"},\n",
       " 'ST_t-channel_top_4f_InclusiveDecays': {\"  args: vstring tracked  = {'/cvmfs/cms.cern.ch/phys_generator/gridpacks/UL/13TeV/madgraph/V5_2.6.5/st_tch_4f_ckm_UL_powheg_madspin/st_tch_4f_ckm_top_13TeV_UL_powheg_madspin_slc7_amd64_gcc700_CMSSW_10_6_19_tarball.tar.xz'}\\n\"},\n",
       " 'ST_tW_antitop_5f_InclusiveDecays': {\"  args: vstring tracked  = {'/cvmfs/cms.cern.ch/phys_generator/gridpacks/UL/13TeV/powheg/V2/st_tW_5f_dr_ckm_13TeV/ST_wtch_DR_slc7_amd64_gcc820_CMSSW_10_6_19_patch3_st_tW_5f_dr_ckm_antitop_13TeV_pdfFix.tgz'}\\n\"},\n",
       " 'TTTo2L2Nu': {\"  args: vstring tracked  = {'/cvmfs/cms.cern.ch/phys_generator/gridpacks/2017/13TeV/powheg/V2/TT_hvq/TT_hdamp_NNPDF31_NNLO_dilepton.tgz'}\\n\"},\n",
       " 'TTToSemiLeptonic': {\"  args: vstring tracked  = {'/cvmfs/cms.cern.ch/phys_generator/gridpacks/2017/13TeV/powheg/V2/TT_hvq/TT_hdamp_NNPDF31_NNLO_ljets.tgz'}\\n\"},\n",
       " 'TTWH': {\"  args: vstring tracked  = {'/cvmfs/cms.cern.ch/phys_generator/gridpacks/UL/13TeV/madgraph/V5_2.6.5/TTWH_5f_LO/TTWH_5f_LO_slc7_amd64_gcc700_CMSSW_10_6_19_tarball.tar.xz'}\\n\"},\n",
       " 'TTWJetsToLNu': {\"  args: vstring tracked  = {'/cvmfs/cms.cern.ch/phys_generator/gridpacks/UL/13TeV/madgraph/V5_2.6.5/TTWJetsToLNu_5f_NLO_FXFX/TTWJetsToLNu_5f_NLO_FXFX_slc7_amd64_gcc700_CMSSW_10_6_0_tarball.tar.xz'}\\n\"},\n",
       " 'TTWJetsToQQ': {\"  args: vstring tracked  = {'/cvmfs/cms.cern.ch/phys_generator/gridpacks/UL/13TeV/madgraph/V5_2.6.5/TTWJetsToQQ_5f_NLO_FXFX/TTWJetsToQQ_5f_NLO_FXFX_slc7_amd64_gcc700_CMSSW_10_6_19_tarball.tar.xz'}\\n\"},\n",
       " 'TTWW': {\"  args: vstring tracked  = {'/cvmfs/cms.cern.ch/phys_generator/gridpacks/UL/13TeV/madgraph/V5_2.6.5/TTWW_5f_LO/TTWW_5f_LO_slc7_amd64_gcc700_CMSSW_10_6_19_tarball.tar.xz'}\\n\"},\n",
       " 'TTWZ': {\"  args: vstring tracked  = {'/cvmfs/cms.cern.ch/phys_generator/gridpacks/UL/13TeV/madgraph/V5_2.6.5/TTWZ_5f_LO/TTWZ_5f_LO_slc7_amd64_gcc700_CMSSW_10_6_19_tarball.tar.xz'}\\n\"},\n",
       " 'TTZH': {\"  args: vstring tracked  = {'/cvmfs/cms.cern.ch/phys_generator/gridpacks/UL/13TeV/madgraph/V5_2.6.5/TTZH_5f_LO/TTZH_5f_LO_slc7_amd64_gcc700_CMSSW_10_6_19_tarball.tar.xz'}\\n\"},\n",
       " 'TTZToLLNuNu_M-10': {\"  args: vstring tracked  = {'/cvmfs/cms.cern.ch/phys_generator/gridpacks/UL/13TeV/madgraph/V5_2.6.5/TTZJetsToLLNuNu_5f_NLO/TTZJetsToLLNuNu_5f_NLO_slc7_amd64_gcc700_CMSSW_10_6_0_tarball.tar.xz'}\\n\"},\n",
       " 'TTZToQQ': {\"  args: vstring tracked  = {'/cvmfs/cms.cern.ch/phys_generator/gridpacks/UL/13TeV/madgraph/TTZJets/TTZJetsToQQ_5f_NLO/v2/TTZJetsToQQ_5f_NLO_slc7_amd64_gcc700_CMSSW_10_6_0_tarball.tar.xz'}\\n\"},\n",
       " 'TTZZ': {\"  args: vstring tracked  = {'/cvmfs/cms.cern.ch/phys_generator/gridpacks/UL/13TeV/madgraph/V5_2.6.5/TTZZ_5f_LO/TTZZ_5f_LO_slc7_amd64_gcc700_CMSSW_10_6_19_tarball.tar.xz'}\\n\"},\n",
       " 'WJetsToLNu': {\"  args: vstring tracked  = {'/cvmfs/cms.cern.ch/phys_generator/gridpacks/2017/13TeV/madgraph/V5_2.6.1/WJetsToLNu/WJetsToLNu_13TeV-madgraphMLM-pythia8_slc6_amd64_gcc630_CMSSW_9_3_16_tarball.tar.xz'}\\n\"},\n",
       " 'WJetsToLNu_HT-100To200': {\"  args: vstring tracked  = {'/cvmfs/cms.cern.ch/phys_generator/gridpacks/UL/13TeV/madgraph/V5_2.6.5/WJetsToLNu_HT/WJetsToLNu_HT-100to200/WJetsToLNu_HT-100to200_slc6_amd64_gcc630_CMSSW_9_3_16_tarball.tar.xz'}\\n\"},\n",
       " 'WJetsToLNu_HT-200To400': {\"  args: vstring tracked  = {'/cvmfs/cms.cern.ch/phys_generator/gridpacks/UL/13TeV/madgraph/V5_2.6.5/WJetsToLNu_HT/WJetsToLNu_HT-200to400/WJetsToLNu_HT-200to400_slc6_amd64_gcc630_CMSSW_9_3_16_tarball.tar.xz'}\\n\"},\n",
       " 'WJetsToLNu_HT-2500ToInf': {\"  args: vstring tracked  = {'/cvmfs/cms.cern.ch/phys_generator/gridpacks/UL/13TeV/madgraph/V5_2.6.5/WJetsToLNu_HT/WJetsToLNu_HT-2500toInf/v2/WJetsToLNu_HT-2500toInf_slc7_amd64_gcc630_CMSSW_9_3_16_tarball.tar.xz'}\\n\"},\n",
       " 'WJetsToLNu_HT-400To600': {\"  args: vstring tracked  = {'/cvmfs/cms.cern.ch/phys_generator/gridpacks/UL/13TeV/madgraph/V5_2.6.5/WJetsToLNu_HT/WJetsToLNu_HT-400to600/WJetsToLNu_HT-400to600_slc6_amd64_gcc630_CMSSW_9_3_16_tarball.tar.xz'}\\n\"},\n",
       " 'WJetsToLNu_HT-600To800': {\"  args: vstring tracked  = {'/cvmfs/cms.cern.ch/phys_generator/gridpacks/UL/13TeV/madgraph/V5_2.6.5/WJetsToLNu_HT/WJetsToLNu_HT-600to800/WJetsToLNu_HT-600to800_slc6_amd64_gcc630_CMSSW_9_3_16_tarball.tar.xz'}\\n\"},\n",
       " 'WJetsToLNu_HT-800To1200': {\"  args: vstring tracked  = {'/cvmfs/cms.cern.ch/phys_generator/gridpacks/UL/13TeV/madgraph/V5_2.6.5/WJetsToLNu_HT/WJetsToLNu_HT-800to1200/WJetsToLNu_HT-800to1200_slc6_amd64_gcc630_CMSSW_9_3_16_tarball.tar.xz'}\\n\"},\n",
       " 'WWTo1L1Nu2Q': {\"  args: vstring tracked  = {'/cvmfs/cms.cern.ch/phys_generator/gridpacks/UL/13TeV/madgraph/V5_2.6.5/VV/WWToLNuQQ_4f_amcatnloFxFx_slc7_amd64_gcc700_CMSSW_10_6_19_tarball.tar.xz'}\\n\"},\n",
       " 'WWTo4Q': {\"  args: vstring tracked  = {'/cvmfs/cms.cern.ch/phys_generator/gridpacks/UL/13TeV/madgraph/V5_2.6.5/VV/WWTo4Q_4f_amcatnloFxFx_slc7_amd64_gcc700_CMSSW_10_6_19_tarball.tar.xz'}\\n\"},\n",
       " 'WWW_4F': {\"  args: vstring tracked  = {'/cvmfs/cms.cern.ch/phys_generator/gridpacks/UL/13TeV/madgraph/V5_2.6.5/VVV/WWWJets_4f_NLO_slc7_amd64_gcc700_CMSSW_10_6_19_tarball.tar.xz'}\\n\"},\n",
       " 'WWZ_4F': {\"  args: vstring tracked  = {'/cvmfs/cms.cern.ch/phys_generator/gridpacks/UL/13TeV/madgraph/V5_2.6.5/VVV/WWZJets_4f_NLO_slc7_amd64_gcc700_CMSSW_10_6_19_tarball.tar.xz'}\\n\"},\n",
       " 'WZTo1L1Nu2Q': {\"  args: vstring tracked  = {'/cvmfs/cms.cern.ch/phys_generator/gridpacks/UL/13TeV/madgraph/V5_2.6.5/VV/WZToLNu2Q_4f_amcatnloFxFx_slc7_amd64_gcc700_CMSSW_10_6_19_tarball.tar.xz'}\\n\"},\n",
       " 'WZTo1L3Nu': {\"  args: vstring tracked  = {'/cvmfs/cms.cern.ch/phys_generator/gridpacks/UL/13TeV/madgraph/V5_2.6.5/VV/WZToL3Nu_4f_amcatnloFxFx_slc7_amd64_gcc700_CMSSW_10_6_19_tarball.tar.xz'}\\n\"},\n",
       " 'WZTo2Q2L': {\"  args: vstring tracked  = {'/cvmfs/cms.cern.ch/phys_generator/gridpacks/UL/13TeV/madgraph/V5_2.6.5/WZTo2L2Q01j_5f_NLO_FXFX/WZTo2L2Q01j_5f_NLO_FXFX_slc7_amd64_gcc700_CMSSW_10_6_19_tarball.tar.xz'}\\n\"},\n",
       " 'WZTo3LNu': {\"  args: vstring tracked  = {'/cvmfs/cms.cern.ch/phys_generator/gridpacks/slc7_amd64_gcc700/13TeV/madgraph/V5_2.6.5/WZTo3LNu_5f_NLO_FXFX/WZTo3LNu01j_5f_NLO_FXFX_slc7_amd64_gcc700_CMSSW_10_6_19_tarball.tar.xz'}\\n\"},\n",
       " 'WZZ': {\"  args: vstring tracked  = {'/cvmfs/cms.cern.ch/phys_generator/gridpacks/slc7_amd64_gcc700/13TeV/madgraph/V5_2.6.5/VVV/WZZJets_5f_NLO/WZZJets_5f_NLO_slc7_amd64_gcc700_CMSSW_10_6_19_tarball.tar.xz'}\\n\"},\n",
       " 'WminusHToTauTau_M125': {\"  args: vstring tracked  = {'/cvmfs/cms.cern.ch/phys_generator/gridpacks/2017/13TeV/powheg/V2/HWminusJ_HanythingJ_NNPDF31_13TeV_M125/HWJ_slc6_amd64_gcc630_CMSSW_9_3_0_HWminusJ_HanythingJ_NNPDF31_13TeV_M125_Vinclusive.tgz'}\\n\"},\n",
       " 'WplusHToTauTau_M125': {\"  args: vstring tracked  = {'/cvmfs/cms.cern.ch/phys_generator/gridpacks/2017/13TeV/powheg/V2/HWplusJ_HanythingJ_NNPDF31_13TeV_M125/HWJ_slc6_amd64_gcc630_CMSSW_9_3_0_HWplusJ_HanythingJ_NNPDF31_13TeV_M125_Vinclusive.tgz'}\\n\"},\n",
       " 'ZHToTauTau_M125': {\"  args: vstring tracked  = {'/cvmfs/cms.cern.ch/phys_generator/gridpacks/2017/13TeV/powheg/V2/HZJ_HanythingJ_NNPDF31_13TeV_M125/v1/HZJ_HanythingJ_NNPDF31_13TeV_M125.tgz'}\\n\"},\n",
       " 'ZH_Hbb_Zll': {\"  args: vstring tracked  = {'/cvmfs/cms.cern.ch/phys_generator/gridpacks/UL/13TeV/powheg/V2/HZJ_slc7_amd64_gcc700_CMSSW_10_6_27_ZH_HToBB_ZToLL_M125_13TeV_powheg/v1/HZJ_slc7_amd64_gcc700_CMSSW_10_6_27_ZH_HToBB_ZToLL_M125_13TeV_powheg.tgz'}\\n\"},\n",
       " 'ZZTo2L2Nu': {\"  args: vstring tracked  = {' /cvmfs/cms.cern.ch/phys_generator/gridpacks/UL/13TeV/powheg/V2/ZZ_2l2nu_13TeV/v2/ZZ_slc7_amd64_gcc820_CMSSW_11_0_1_ZZ2L2Nu.tgz'}\\n\"},\n",
       " 'ZZTo2Q2L': {\"  args: vstring tracked  = {'/cvmfs/cms.cern.ch/phys_generator/gridpacks/UL/13TeV/madgraph/V5_2.6.5/ZZTo2L2Q01j_5f_NLO_FXFX/ZZTo2L2Q01j_5f_NLO_FXFX_slc7_amd64_gcc700_CMSSW_10_6_19_tarball.tar.xz'}\\n\"},\n",
       " 'ZZTo2Q2Nu': {\"  args: vstring tracked  = {'/cvmfs/cms.cern.ch/phys_generator/gridpacks/slc6_amd64_gcc630/13TeV/madgraph/V5_2.6.5/diboson/ZZTo2Q2Nu01j_5f_NLO_FXFX_slc6_amd64_gcc630_CMSSW_9_3_16_tarball.tar.xz'}\\n\"},\n",
       " 'ZZTo4L': {\"  args: vstring tracked  = {'/cvmfs/cms.cern.ch/phys_generator/gridpacks/2017/13TeV/powheg/V2/ZZTo4L/v1/ZZ_slc6_amd64_gcc630_CMSSW_9_3_0_ZZTo4L2017_pdf306000.tgz'}\\n\"},\n",
       " 'ZZTo4Q': {\"  args: vstring tracked  = {'/cvmfs/cms.cern.ch/phys_generator/gridpacks/UL/13TeV/madgraph/V5_2.6.5/VV/ZZTo4Q_5f_amcatnloFxFx_slc7_amd64_gcc700_CMSSW_10_6_19_tarball.tar.xz'}\\n\"},\n",
       " 'ZZZ': {\"  args: vstring tracked  = {'/cvmfs/cms.cern.ch/phys_generator/gridpacks/UL/13TeV/madgraph/V5_2.6.5/VVV/ZZZJets_5f_NLO_slc7_amd64_gcc700_CMSSW_10_6_19_tarball.tar.xz'}\\n\"},\n",
       " 'ggHToZZTo2L2Q': {\"  args: vstring tracked  = {'/cvmfs/cms.cern.ch/phys_generator/gridpacks/2017/13TeV/powheg/V2/gg_H_quark-mass-effects_ZZ_NNPDF31_13TeV/gg_H_quark-mass-effects_ZZ2l2q_NNPDF31_13TeV_M125/v2/gg_H_quark-mass-effects_ZZ2l2q_NNPDF31_13TeV_M125.tgz'}\\n\"},\n",
       " 'ttHToTauTau_M125': {\"  args: vstring tracked  = {'/cvmfs/cms.cern.ch/phys_generator/gridpacks/2017/13TeV/powheg/V2/ttH_inclusive_hdamp_NNPDF31_13TeV_M125/v1/ttH_inclusive_hdamp_NNPDF31_13TeV_M125.tgz'}\\n\"},\n",
       " 'ttHTobb_M125': {\"  args: vstring tracked  = {'/cvmfs/cms.cern.ch/phys_generator/gridpacks/slc7_amd64_gcc700/13TeV/powhegV2/ttH_inclusive_hdamp_NNPDF31_13TeV_M125/ttH_inclusive_hdamp_NNPDF31_13TeV_M125.tgz'}\\n\"}}"
      ]
     },
     "execution_count": 29,
     "metadata": {},
     "output_type": "execute_result"
    }
   ],
   "source": [
    "grids = {dataset : set(fut.result() for fut in futs_dataset) for dataset, futs_dataset in futs.items()}\n",
    "grids"
   ]
  },
  {
   "cell_type": "code",
   "execution_count": 30,
   "metadata": {},
   "outputs": [
    {
     "data": {
      "text/plain": [
       "1"
      ]
     },
     "execution_count": 30,
     "metadata": {},
     "output_type": "execute_result"
    }
   ],
   "source": [
    "max((len(g) for g in grids.values()))"
   ]
  },
  {
   "cell_type": "code",
   "execution_count": 31,
   "metadata": {},
   "outputs": [
    {
     "data": {
      "text/plain": [
       "{'DYJetsToLL_0J-amcatnloFXFX': \"cvmfs/cms.cern.ch/phys_generator/gridpacks/slc7_amd64_gcc700/13TeV/madgraph/V5_2.6.5/dy_jetbinned_fxfx/dyellell0j_5f_NLO_FXFX_slc7_amd64_gcc700_CMSSW_10_6_19_tarball.tar.xz'}\\n\",\n",
       " 'DYJetsToLL_1J-amcatnloFXFX': \"cvmfs/cms.cern.ch/phys_generator/gridpacks/slc7_amd64_gcc700/13TeV/madgraph/V5_2.6.5/dy_jetbinned_fxfx/dyellell1j_5f_NLO_FXFX_slc7_amd64_gcc700_CMSSW_10_6_19_tarball.tar.xz'}\\n\",\n",
       " 'DYJetsToLL_2J-amcatnloFXFX': \"cvmfs/cms.cern.ch/phys_generator/gridpacks/slc7_amd64_gcc700/13TeV/madgraph/V5_2.6.5/dy_jetbinned_fxfx/dyellell2j_5f_NLO_FXFX_slc7_amd64_gcc700_CMSSW_10_6_19_tarball.tar.xz'}\\n\",\n",
       " 'DYJetsToLL_LHEFilterPtZ-0To50-amcatnloFXFX': \"cvmfs/cms.cern.ch/phys_generator/gridpacks/UL/13TeV/madgraph/V5_2.6.5/EWparamSync/DYJetsToLL_012j_Ptbin_5f_NLO_FXFX_updated/DYJetsToLL_012j_Zpt-0To80_5f_NLO_FXFX_slc7_amd64_gcc700_CMSSW_10_6_19_tarball.tar.xz'}\\n\",\n",
       " 'DYJetsToLL_LHEFilterPtZ-100To250-amcatnloFXFX': \"cvmfs/cms.cern.ch/phys_generator/gridpacks/UL/13TeV/madgraph/V5_2.6.5/EWparamSync/DYJetsToLL_012j_Ptbin_5f_NLO_FXFX_updated/DYJetsToLL_012j_Zpt-70To280_5f_NLO_FXFX_slc7_amd64_gcc700_CMSSW_10_6_19_tarball.tar.xz'}\\n\",\n",
       " 'DYJetsToLL_LHEFilterPtZ-250To400-amcatnloFXFX': \"cvmfs/cms.cern.ch/phys_generator/gridpacks/UL/13TeV/madgraph/V5_2.6.5/EWparamSync/DYJetsToLL_012j_Ptbin_5f_NLO_FXFX_updated/DYJetsToLL_012j_Zpt-220To430_5f_NLO_FXFX_slc7_amd64_gcc700_CMSSW_10_6_19_tarball.tar.xz'}\\n\",\n",
       " 'DYJetsToLL_LHEFilterPtZ-400To650-amcatnloFXFX': \"cvmfs/cms.cern.ch/phys_generator/gridpacks/UL/13TeV/madgraph/V5_2.6.5/EWparamSync/DYJetsToLL_012j_Ptbin_5f_NLO_FXFX_updated/DYJetsToLL_012j_Zpt-370To700_5f_NLO_FXFX_slc7_amd64_gcc700_CMSSW_10_6_19_tarball.tar.xz'}\\n\",\n",
       " 'DYJetsToLL_LHEFilterPtZ-50To100-amcatnloFXFX': \"cvmfs/cms.cern.ch/phys_generator/gridpacks/UL/13TeV/madgraph/V5_2.6.5/EWparamSync/DYJetsToLL_012j_Ptbin_5f_NLO_FXFX_updated/DYJetsToLL_012j_Zpt-20To130_5f_NLO_FXFX_slc7_amd64_gcc700_CMSSW_10_6_19_tarball.tar.xz'}\\n\",\n",
       " 'DYJetsToLL_LHEFilterPtZ-650ToInf-amcatnloFXFX': \"cvmfs/cms.cern.ch/phys_generator/gridpacks/UL/13TeV/madgraph/V5_2.6.5/EWparamSync/DYJetsToLL_012j_Ptbin_5f_NLO_FXFX_updated/DYJetsToLL_012j_Zpt-600Toinf_5f_NLO_FXFX_slc7_amd64_gcc700_CMSSW_10_6_19_tarball.tar.xz'}\\n\",\n",
       " 'DYJetsToLL_M-50-amcatnloFXFX': \"cvmfs/cms.cern.ch/phys_generator/gridpacks/slc7_amd64_gcc700/13TeV/madgraph/V5_2.6.5/dy_fxfx_incl/dyellell012j_5f_NLO_FXFX_slc7_amd64_gcc700_CMSSW_10_6_19_tarball.tar.xz'}\\n\",\n",
       " 'EWK_WminusToLNu': \"cvmfs/cms.cern.ch/phys_generator/gridpacks/UL/13TeV/madgraph/V5_2.6.5/ewkwmlvjj_5f_LO/v3/ewkwmlvjj_5f_LO_slc7_amd64_gcc700_CMSSW_10_6_19_tarball.tar.xz'}\\n\",\n",
       " 'EWK_WplusToLNu': \"cvmfs/cms.cern.ch/phys_generator/gridpacks/UL/13TeV/madgraph/V5_2.6.5/ewkwplvjj_5f_LO/v3/ewkwplvjj_5f_LO_slc7_amd64_gcc700_CMSSW_10_6_19_tarball.tar.xz'}\\n\",\n",
       " 'EWK_ZTo2L': \"cvmfs/cms.cern.ch/phys_generator/gridpacks/UL/13TeV/madgraph/V5_2.6.5/ewkzlljj_5f_LO/v2/ewkzlljj_5f_LO_slc7_amd64_gcc700_CMSSW_10_6_19_tarball.tar.xz'}\\n\",\n",
       " 'GluGluToHHTo2B2Tau_node_SM': \"cvmfs/cms.cern.ch/phys_generator/gridpacks/UL/13TeV/madgraph/V5_2.6.5/doubleHiggs/GF_HH_benchmarks/GF_HH_SM_slc7_amd64_gcc700_CMSSW_9_3_16_tarball.tar.xz'}\\n\",\n",
       " 'GluGluToXToZZTo2B2Tau_M-1000': \"cvmfs/cms.cern.ch/phys_generator/gridpacks/RunII/13TeV/slc7_amd64_gcc700/Powheg/XToZZTo2B2Tau/gg_H_quark-mass-effects_slc7_amd64_gcc700_CMSSW_10_6_37_my_gg_X_ZZbbtautau_quark-mass-effects_NNPDF31_13TeV_M1000.tgz'}\\n\",\n",
       " 'GluGluToXToZZTo2B2Tau_M-1100': \"cvmfs/cms.cern.ch/phys_generator/gridpacks/RunII/13TeV/slc7_amd64_gcc700/Powheg/XToZZTo2B2Tau/gg_H_quark-mass-effects_slc7_amd64_gcc700_CMSSW_10_6_37_my_gg_X_ZZbbtautau_quark-mass-effects_NNPDF31_13TeV_M1100.tgz'}\\n\",\n",
       " 'GluGluToXToZZTo2B2Tau_M-1200': \"cvmfs/cms.cern.ch/phys_generator/gridpacks/RunII/13TeV/slc7_amd64_gcc700/Powheg/XToZZTo2B2Tau/gg_H_quark-mass-effects_slc7_amd64_gcc700_CMSSW_10_6_37_my_gg_X_ZZbbtautau_quark-mass-effects_NNPDF31_13TeV_M1200.tgz'}\\n\",\n",
       " 'GluGluToXToZZTo2B2Tau_M-1300': \"cvmfs/cms.cern.ch/phys_generator/gridpacks/RunII/13TeV/slc7_amd64_gcc700/Powheg/XToZZTo2B2Tau/gg_H_quark-mass-effects_slc7_amd64_gcc700_CMSSW_10_6_37_my_gg_X_ZZbbtautau_quark-mass-effects_NNPDF31_13TeV_M1300.tgz'}\\n\",\n",
       " 'GluGluToXToZZTo2B2Tau_M-1400': \"cvmfs/cms.cern.ch/phys_generator/gridpacks/RunII/13TeV/slc7_amd64_gcc700/Powheg/XToZZTo2B2Tau/gg_H_quark-mass-effects_slc7_amd64_gcc700_CMSSW_10_6_37_my_gg_X_ZZbbtautau_quark-mass-effects_NNPDF31_13TeV_M1400.tgz'}\\n\",\n",
       " 'GluGluToXToZZTo2B2Tau_M-1500': \"cvmfs/cms.cern.ch/phys_generator/gridpacks/RunII/13TeV/slc7_amd64_gcc700/Powheg/XToZZTo2B2Tau/gg_H_quark-mass-effects_slc7_amd64_gcc700_CMSSW_10_6_37_my_gg_X_ZZbbtautau_quark-mass-effects_NNPDF31_13TeV_M1500.tgz'}\\n\",\n",
       " 'GluGluToXToZZTo2B2Tau_M-1600': \"cvmfs/cms.cern.ch/phys_generator/gridpacks/RunII/13TeV/slc7_amd64_gcc700/Powheg/XToZZTo2B2Tau/gg_H_quark-mass-effects_slc7_amd64_gcc700_CMSSW_10_6_37_my_gg_X_ZZbbtautau_quark-mass-effects_NNPDF31_13TeV_M1600.tgz'}\\n\",\n",
       " 'GluGluToXToZZTo2B2Tau_M-1700': \"cvmfs/cms.cern.ch/phys_generator/gridpacks/RunII/13TeV/slc7_amd64_gcc700/Powheg/XToZZTo2B2Tau/gg_H_quark-mass-effects_slc7_amd64_gcc700_CMSSW_10_6_37_my_gg_X_ZZbbtautau_quark-mass-effects_NNPDF31_13TeV_M1700.tgz'}\\n\",\n",
       " 'GluGluToXToZZTo2B2Tau_M-1800': \"cvmfs/cms.cern.ch/phys_generator/gridpacks/RunII/13TeV/slc7_amd64_gcc700/Powheg/XToZZTo2B2Tau/gg_H_quark-mass-effects_slc7_amd64_gcc700_CMSSW_10_6_37_my_gg_X_ZZbbtautau_quark-mass-effects_NNPDF31_13TeV_M1800.tgz'}\\n\",\n",
       " 'GluGluToXToZZTo2B2Tau_M-1900': \"cvmfs/cms.cern.ch/phys_generator/gridpacks/RunII/13TeV/slc7_amd64_gcc700/Powheg/XToZZTo2B2Tau/gg_H_quark-mass-effects_slc7_amd64_gcc700_CMSSW_10_6_37_my_gg_X_ZZbbtautau_quark-mass-effects_NNPDF31_13TeV_M1900.tgz'}\\n\",\n",
       " 'GluGluToXToZZTo2B2Tau_M-200': \"cvmfs/cms.cern.ch/phys_generator/gridpacks/RunII/13TeV/slc7_amd64_gcc700/Powheg/XToZZTo2B2Tau/gg_H_quark-mass-effects_slc7_amd64_gcc700_CMSSW_10_6_37_my_gg_X_ZZbbtautau_quark-mass-effects_NNPDF31_13TeV_M200.tgz'}\\n\",\n",
       " 'GluGluToXToZZTo2B2Tau_M-2000': \"cvmfs/cms.cern.ch/phys_generator/gridpacks/RunII/13TeV/slc7_amd64_gcc700/Powheg/XToZZTo2B2Tau/gg_H_quark-mass-effects_slc7_amd64_gcc700_CMSSW_10_6_37_my_gg_X_ZZbbtautau_quark-mass-effects_NNPDF31_13TeV_M2000.tgz'}\\n\",\n",
       " 'GluGluToXToZZTo2B2Tau_M-210': \"cvmfs/cms.cern.ch/phys_generator/gridpacks/RunII/13TeV/slc7_amd64_gcc700/Powheg/XToZZTo2B2Tau/gg_H_quark-mass-effects_slc7_amd64_gcc700_CMSSW_10_6_37_my_gg_X_ZZbbtautau_quark-mass-effects_NNPDF31_13TeV_M210.tgz'}\\n\",\n",
       " 'GluGluToXToZZTo2B2Tau_M-220': \"cvmfs/cms.cern.ch/phys_generator/gridpacks/RunII/13TeV/slc7_amd64_gcc700/Powheg/XToZZTo2B2Tau/gg_H_quark-mass-effects_slc7_amd64_gcc700_CMSSW_10_6_37_my_gg_X_ZZbbtautau_quark-mass-effects_NNPDF31_13TeV_M220.tgz'}\\n\",\n",
       " 'GluGluToXToZZTo2B2Tau_M-2200': \"cvmfs/cms.cern.ch/phys_generator/gridpacks/RunII/13TeV/slc7_amd64_gcc700/Powheg/XToZZTo2B2Tau/gg_H_quark-mass-effects_slc7_amd64_gcc700_CMSSW_10_6_37_my_gg_X_ZZbbtautau_quark-mass-effects_NNPDF31_13TeV_M2200.tgz'}\\n\",\n",
       " 'GluGluToXToZZTo2B2Tau_M-230': \"cvmfs/cms.cern.ch/phys_generator/gridpacks/RunII/13TeV/slc7_amd64_gcc700/Powheg/XToZZTo2B2Tau/gg_H_quark-mass-effects_slc7_amd64_gcc700_CMSSW_10_6_37_my_gg_X_ZZbbtautau_quark-mass-effects_NNPDF31_13TeV_M230.tgz'}\\n\",\n",
       " 'GluGluToXToZZTo2B2Tau_M-240': \"cvmfs/cms.cern.ch/phys_generator/gridpacks/RunII/13TeV/slc7_amd64_gcc700/Powheg/XToZZTo2B2Tau/gg_H_quark-mass-effects_slc7_amd64_gcc700_CMSSW_10_6_37_my_gg_X_ZZbbtautau_quark-mass-effects_NNPDF31_13TeV_M240.tgz'}\\n\",\n",
       " 'GluGluToXToZZTo2B2Tau_M-2400': \"cvmfs/cms.cern.ch/phys_generator/gridpacks/RunII/13TeV/slc7_amd64_gcc700/Powheg/XToZZTo2B2Tau/gg_H_quark-mass-effects_slc7_amd64_gcc700_CMSSW_10_6_37_my_gg_X_ZZbbtautau_quark-mass-effects_NNPDF31_13TeV_M2400.tgz'}\\n\",\n",
       " 'GluGluToXToZZTo2B2Tau_M-250': \"cvmfs/cms.cern.ch/phys_generator/gridpacks/RunII/13TeV/slc7_amd64_gcc700/Powheg/XToZZTo2B2Tau/gg_H_quark-mass-effects_slc7_amd64_gcc700_CMSSW_10_6_37_my_gg_X_ZZbbtautau_quark-mass-effects_NNPDF31_13TeV_M250.tgz'}\\n\",\n",
       " 'GluGluToXToZZTo2B2Tau_M-2500': \"cvmfs/cms.cern.ch/phys_generator/gridpacks/RunII/13TeV/slc7_amd64_gcc700/Powheg/XToZZTo2B2Tau/gg_H_quark-mass-effects_slc7_amd64_gcc700_CMSSW_10_6_37_my_gg_X_ZZbbtautau_quark-mass-effects_NNPDF31_13TeV_M2500.tgz'}\\n\",\n",
       " 'GluGluToXToZZTo2B2Tau_M-260': \"cvmfs/cms.cern.ch/phys_generator/gridpacks/RunII/13TeV/slc7_amd64_gcc700/Powheg/XToZZTo2B2Tau/gg_H_quark-mass-effects_slc7_amd64_gcc700_CMSSW_10_6_37_my_gg_X_ZZbbtautau_quark-mass-effects_NNPDF31_13TeV_M260.tgz'}\\n\",\n",
       " 'GluGluToXToZZTo2B2Tau_M-2600': \"cvmfs/cms.cern.ch/phys_generator/gridpacks/RunII/13TeV/slc7_amd64_gcc700/Powheg/XToZZTo2B2Tau/gg_H_quark-mass-effects_slc7_amd64_gcc700_CMSSW_10_6_37_my_gg_X_ZZbbtautau_quark-mass-effects_NNPDF31_13TeV_M2600.tgz'}\\n\",\n",
       " 'GluGluToXToZZTo2B2Tau_M-270': \"cvmfs/cms.cern.ch/phys_generator/gridpacks/RunII/13TeV/slc7_amd64_gcc700/Powheg/XToZZTo2B2Tau/gg_H_quark-mass-effects_slc7_amd64_gcc700_CMSSW_10_6_37_my_gg_X_ZZbbtautau_quark-mass-effects_NNPDF31_13TeV_M270.tgz'}\\n\",\n",
       " 'GluGluToXToZZTo2B2Tau_M-280': \"cvmfs/cms.cern.ch/phys_generator/gridpacks/RunII/13TeV/slc7_amd64_gcc700/Powheg/XToZZTo2B2Tau/gg_H_quark-mass-effects_slc7_amd64_gcc700_CMSSW_10_6_37_my_gg_X_ZZbbtautau_quark-mass-effects_NNPDF31_13TeV_M280.tgz'}\\n\",\n",
       " 'GluGluToXToZZTo2B2Tau_M-2800': \"cvmfs/cms.cern.ch/phys_generator/gridpacks/RunII/13TeV/slc7_amd64_gcc700/Powheg/XToZZTo2B2Tau/gg_H_quark-mass-effects_slc7_amd64_gcc700_CMSSW_10_6_37_my_gg_X_ZZbbtautau_quark-mass-effects_NNPDF31_13TeV_M2800.tgz'}\\n\",\n",
       " 'GluGluToXToZZTo2B2Tau_M-300': \"cvmfs/cms.cern.ch/phys_generator/gridpacks/RunII/13TeV/slc7_amd64_gcc700/Powheg/XToZZTo2B2Tau/gg_H_quark-mass-effects_slc7_amd64_gcc700_CMSSW_10_6_37_my_gg_X_ZZbbtautau_quark-mass-effects_NNPDF31_13TeV_M300.tgz'}\\n\",\n",
       " 'GluGluToXToZZTo2B2Tau_M-3000': \"cvmfs/cms.cern.ch/phys_generator/gridpacks/RunII/13TeV/slc7_amd64_gcc700/Powheg/XToZZTo2B2Tau/gg_H_quark-mass-effects_slc7_amd64_gcc700_CMSSW_10_6_37_my_gg_X_ZZbbtautau_quark-mass-effects_NNPDF31_13TeV_M3000.tgz'}\\n\",\n",
       " 'GluGluToXToZZTo2B2Tau_M-320': \"cvmfs/cms.cern.ch/phys_generator/gridpacks/RunII/13TeV/slc7_amd64_gcc700/Powheg/XToZZTo2B2Tau/gg_H_quark-mass-effects_slc7_amd64_gcc700_CMSSW_10_6_37_my_gg_X_ZZbbtautau_quark-mass-effects_NNPDF31_13TeV_M320.tgz'}\\n\",\n",
       " 'GluGluToXToZZTo2B2Tau_M-350': \"cvmfs/cms.cern.ch/phys_generator/gridpacks/RunII/13TeV/slc7_amd64_gcc700/Powheg/XToZZTo2B2Tau/gg_H_quark-mass-effects_slc7_amd64_gcc700_CMSSW_10_6_37_my_gg_X_ZZbbtautau_quark-mass-effects_NNPDF31_13TeV_M350.tgz'}\\n\",\n",
       " 'GluGluToXToZZTo2B2Tau_M-3500': \"cvmfs/cms.cern.ch/phys_generator/gridpacks/RunII/13TeV/slc7_amd64_gcc700/Powheg/XToZZTo2B2Tau/gg_H_quark-mass-effects_slc7_amd64_gcc700_CMSSW_10_6_37_my_gg_X_ZZbbtautau_quark-mass-effects_NNPDF31_13TeV_M3500.tgz'}\\n\",\n",
       " 'GluGluToXToZZTo2B2Tau_M-360': \"cvmfs/cms.cern.ch/phys_generator/gridpacks/RunII/13TeV/slc7_amd64_gcc700/Powheg/XToZZTo2B2Tau/gg_H_quark-mass-effects_slc7_amd64_gcc700_CMSSW_10_6_37_my_gg_X_ZZbbtautau_quark-mass-effects_NNPDF31_13TeV_M360.tgz'}\\n\",\n",
       " 'GluGluToXToZZTo2B2Tau_M-400': \"cvmfs/cms.cern.ch/phys_generator/gridpacks/RunII/13TeV/slc7_amd64_gcc700/Powheg/XToZZTo2B2Tau/gg_H_quark-mass-effects_slc7_amd64_gcc700_CMSSW_10_6_37_my_gg_X_ZZbbtautau_quark-mass-effects_NNPDF31_13TeV_M400.tgz'}\\n\",\n",
       " 'GluGluToXToZZTo2B2Tau_M-4000': \"cvmfs/cms.cern.ch/phys_generator/gridpacks/RunII/13TeV/slc7_amd64_gcc700/Powheg/XToZZTo2B2Tau/gg_H_quark-mass-effects_slc7_amd64_gcc700_CMSSW_10_6_37_my_gg_X_ZZbbtautau_quark-mass-effects_NNPDF31_13TeV_M4000.tgz'}\\n\",\n",
       " 'GluGluToXToZZTo2B2Tau_M-450': \"cvmfs/cms.cern.ch/phys_generator/gridpacks/RunII/13TeV/slc7_amd64_gcc700/Powheg/XToZZTo2B2Tau/gg_H_quark-mass-effects_slc7_amd64_gcc700_CMSSW_10_6_37_my_gg_X_ZZbbtautau_quark-mass-effects_NNPDF31_13TeV_M450.tgz'}\\n\",\n",
       " 'GluGluToXToZZTo2B2Tau_M-4500': \"cvmfs/cms.cern.ch/phys_generator/gridpacks/RunII/13TeV/slc7_amd64_gcc700/Powheg/XToZZTo2B2Tau/gg_H_quark-mass-effects_slc7_amd64_gcc700_CMSSW_10_6_37_my_gg_X_ZZbbtautau_quark-mass-effects_NNPDF31_13TeV_M4500.tgz'}\\n\",\n",
       " 'GluGluToXToZZTo2B2Tau_M-500': \"cvmfs/cms.cern.ch/phys_generator/gridpacks/RunII/13TeV/slc7_amd64_gcc700/Powheg/XToZZTo2B2Tau/gg_H_quark-mass-effects_slc7_amd64_gcc700_CMSSW_10_6_37_my_gg_X_ZZbbtautau_quark-mass-effects_NNPDF31_13TeV_M500.tgz'}\\n\",\n",
       " 'GluGluToXToZZTo2B2Tau_M-5000': \"cvmfs/cms.cern.ch/phys_generator/gridpacks/RunII/13TeV/slc7_amd64_gcc700/Powheg/XToZZTo2B2Tau/gg_H_quark-mass-effects_slc7_amd64_gcc700_CMSSW_10_6_37_my_gg_X_ZZbbtautau_quark-mass-effects_NNPDF31_13TeV_M5000.tgz'}\\n\",\n",
       " 'GluGluToXToZZTo2B2Tau_M-550': \"cvmfs/cms.cern.ch/phys_generator/gridpacks/RunII/13TeV/slc7_amd64_gcc700/Powheg/XToZZTo2B2Tau/gg_H_quark-mass-effects_slc7_amd64_gcc700_CMSSW_10_6_37_my_gg_X_ZZbbtautau_quark-mass-effects_NNPDF31_13TeV_M550.tgz'}\\n\",\n",
       " 'GluGluToXToZZTo2B2Tau_M-600': \"cvmfs/cms.cern.ch/phys_generator/gridpacks/RunII/13TeV/slc7_amd64_gcc700/Powheg/XToZZTo2B2Tau/gg_H_quark-mass-effects_slc7_amd64_gcc700_CMSSW_10_6_37_my_gg_X_ZZbbtautau_quark-mass-effects_NNPDF31_13TeV_M600.tgz'}\\n\",\n",
       " 'GluGluToXToZZTo2B2Tau_M-650': \"cvmfs/cms.cern.ch/phys_generator/gridpacks/RunII/13TeV/slc7_amd64_gcc700/Powheg/XToZZTo2B2Tau/gg_H_quark-mass-effects_slc7_amd64_gcc700_CMSSW_10_6_37_my_gg_X_ZZbbtautau_quark-mass-effects_NNPDF31_13TeV_M650.tgz'}\\n\",\n",
       " 'GluGluToXToZZTo2B2Tau_M-700': \"cvmfs/cms.cern.ch/phys_generator/gridpacks/RunII/13TeV/slc7_amd64_gcc700/Powheg/XToZZTo2B2Tau/gg_H_quark-mass-effects_slc7_amd64_gcc700_CMSSW_10_6_37_my_gg_X_ZZbbtautau_quark-mass-effects_NNPDF31_13TeV_M700.tgz'}\\n\",\n",
       " 'GluGluToXToZZTo2B2Tau_M-750': \"cvmfs/cms.cern.ch/phys_generator/gridpacks/RunII/13TeV/slc7_amd64_gcc700/Powheg/XToZZTo2B2Tau/gg_H_quark-mass-effects_slc7_amd64_gcc700_CMSSW_10_6_37_my_gg_X_ZZbbtautau_quark-mass-effects_NNPDF31_13TeV_M750.tgz'}\\n\",\n",
       " 'GluGluToXToZZTo2B2Tau_M-800': \"cvmfs/cms.cern.ch/phys_generator/gridpacks/RunII/13TeV/slc7_amd64_gcc700/Powheg/XToZZTo2B2Tau/gg_H_quark-mass-effects_slc7_amd64_gcc700_CMSSW_10_6_37_my_gg_X_ZZbbtautau_quark-mass-effects_NNPDF31_13TeV_M800.tgz'}\\n\",\n",
       " 'GluGluToXToZZTo2B2Tau_M-850': \"cvmfs/cms.cern.ch/phys_generator/gridpacks/RunII/13TeV/slc7_amd64_gcc700/Powheg/XToZZTo2B2Tau/gg_H_quark-mass-effects_slc7_amd64_gcc700_CMSSW_10_6_37_my_gg_X_ZZbbtautau_quark-mass-effects_NNPDF31_13TeV_M850.tgz'}\\n\",\n",
       " 'GluGluToXToZZTo2B2Tau_M-900': \"cvmfs/cms.cern.ch/phys_generator/gridpacks/RunII/13TeV/slc7_amd64_gcc700/Powheg/XToZZTo2B2Tau/gg_H_quark-mass-effects_slc7_amd64_gcc700_CMSSW_10_6_37_my_gg_X_ZZbbtautau_quark-mass-effects_NNPDF31_13TeV_M900.tgz'}\\n\",\n",
       " 'ST_t-channel_antitop_4f_InclusiveDecays': \"cvmfs/cms.cern.ch/phys_generator/gridpacks/UL/13TeV/madgraph/V5_2.6.5/st_tch_4f_ckm_UL_powheg_madspin/st_tch_4f_ckm_antitop_13TeV_UL_powheg_madspin_slc7_amd64_gcc700_CMSSW_10_6_19_tarball.tar.xz'}\\n\",\n",
       " 'ST_t-channel_top_4f_InclusiveDecays': \"cvmfs/cms.cern.ch/phys_generator/gridpacks/UL/13TeV/madgraph/V5_2.6.5/st_tch_4f_ckm_UL_powheg_madspin/st_tch_4f_ckm_top_13TeV_UL_powheg_madspin_slc7_amd64_gcc700_CMSSW_10_6_19_tarball.tar.xz'}\\n\",\n",
       " 'ST_tW_antitop_5f_InclusiveDecays': \"cvmfs/cms.cern.ch/phys_generator/gridpacks/UL/13TeV/powheg/V2/st_tW_5f_dr_ckm_13TeV/ST_wtch_DR_slc7_amd64_gcc820_CMSSW_10_6_19_patch3_st_tW_5f_dr_ckm_antitop_13TeV_pdfFix.tgz'}\\n\",\n",
       " 'TTTo2L2Nu': \"cvmfs/cms.cern.ch/phys_generator/gridpacks/2017/13TeV/powheg/V2/TT_hvq/TT_hdamp_NNPDF31_NNLO_dilepton.tgz'}\\n\",\n",
       " 'TTToSemiLeptonic': \"cvmfs/cms.cern.ch/phys_generator/gridpacks/2017/13TeV/powheg/V2/TT_hvq/TT_hdamp_NNPDF31_NNLO_ljets.tgz'}\\n\",\n",
       " 'TTWH': \"cvmfs/cms.cern.ch/phys_generator/gridpacks/UL/13TeV/madgraph/V5_2.6.5/TTWH_5f_LO/TTWH_5f_LO_slc7_amd64_gcc700_CMSSW_10_6_19_tarball.tar.xz'}\\n\",\n",
       " 'TTWJetsToLNu': \"cvmfs/cms.cern.ch/phys_generator/gridpacks/UL/13TeV/madgraph/V5_2.6.5/TTWJetsToLNu_5f_NLO_FXFX/TTWJetsToLNu_5f_NLO_FXFX_slc7_amd64_gcc700_CMSSW_10_6_0_tarball.tar.xz'}\\n\",\n",
       " 'TTWJetsToQQ': \"cvmfs/cms.cern.ch/phys_generator/gridpacks/UL/13TeV/madgraph/V5_2.6.5/TTWJetsToQQ_5f_NLO_FXFX/TTWJetsToQQ_5f_NLO_FXFX_slc7_amd64_gcc700_CMSSW_10_6_19_tarball.tar.xz'}\\n\",\n",
       " 'TTWW': \"cvmfs/cms.cern.ch/phys_generator/gridpacks/UL/13TeV/madgraph/V5_2.6.5/TTWW_5f_LO/TTWW_5f_LO_slc7_amd64_gcc700_CMSSW_10_6_19_tarball.tar.xz'}\\n\",\n",
       " 'TTWZ': \"cvmfs/cms.cern.ch/phys_generator/gridpacks/UL/13TeV/madgraph/V5_2.6.5/TTWZ_5f_LO/TTWZ_5f_LO_slc7_amd64_gcc700_CMSSW_10_6_19_tarball.tar.xz'}\\n\",\n",
       " 'TTZH': \"cvmfs/cms.cern.ch/phys_generator/gridpacks/UL/13TeV/madgraph/V5_2.6.5/TTZH_5f_LO/TTZH_5f_LO_slc7_amd64_gcc700_CMSSW_10_6_19_tarball.tar.xz'}\\n\",\n",
       " 'TTZToLLNuNu_M-10': \"cvmfs/cms.cern.ch/phys_generator/gridpacks/UL/13TeV/madgraph/V5_2.6.5/TTZJetsToLLNuNu_5f_NLO/TTZJetsToLLNuNu_5f_NLO_slc7_amd64_gcc700_CMSSW_10_6_0_tarball.tar.xz'}\\n\",\n",
       " 'TTZToQQ': \"cvmfs/cms.cern.ch/phys_generator/gridpacks/UL/13TeV/madgraph/TTZJets/TTZJetsToQQ_5f_NLO/v2/TTZJetsToQQ_5f_NLO_slc7_amd64_gcc700_CMSSW_10_6_0_tarball.tar.xz'}\\n\",\n",
       " 'TTZZ': \"cvmfs/cms.cern.ch/phys_generator/gridpacks/UL/13TeV/madgraph/V5_2.6.5/TTZZ_5f_LO/TTZZ_5f_LO_slc7_amd64_gcc700_CMSSW_10_6_19_tarball.tar.xz'}\\n\",\n",
       " 'WJetsToLNu': \"cvmfs/cms.cern.ch/phys_generator/gridpacks/2017/13TeV/madgraph/V5_2.6.1/WJetsToLNu/WJetsToLNu_13TeV-madgraphMLM-pythia8_slc6_amd64_gcc630_CMSSW_9_3_16_tarball.tar.xz'}\\n\",\n",
       " 'WJetsToLNu_HT-100To200': \"cvmfs/cms.cern.ch/phys_generator/gridpacks/UL/13TeV/madgraph/V5_2.6.5/WJetsToLNu_HT/WJetsToLNu_HT-100to200/WJetsToLNu_HT-100to200_slc6_amd64_gcc630_CMSSW_9_3_16_tarball.tar.xz'}\\n\",\n",
       " 'WJetsToLNu_HT-200To400': \"cvmfs/cms.cern.ch/phys_generator/gridpacks/UL/13TeV/madgraph/V5_2.6.5/WJetsToLNu_HT/WJetsToLNu_HT-200to400/WJetsToLNu_HT-200to400_slc6_amd64_gcc630_CMSSW_9_3_16_tarball.tar.xz'}\\n\",\n",
       " 'WJetsToLNu_HT-2500ToInf': \"cvmfs/cms.cern.ch/phys_generator/gridpacks/UL/13TeV/madgraph/V5_2.6.5/WJetsToLNu_HT/WJetsToLNu_HT-2500toInf/v2/WJetsToLNu_HT-2500toInf_slc7_amd64_gcc630_CMSSW_9_3_16_tarball.tar.xz'}\\n\",\n",
       " 'WJetsToLNu_HT-400To600': \"cvmfs/cms.cern.ch/phys_generator/gridpacks/UL/13TeV/madgraph/V5_2.6.5/WJetsToLNu_HT/WJetsToLNu_HT-400to600/WJetsToLNu_HT-400to600_slc6_amd64_gcc630_CMSSW_9_3_16_tarball.tar.xz'}\\n\",\n",
       " 'WJetsToLNu_HT-600To800': \"cvmfs/cms.cern.ch/phys_generator/gridpacks/UL/13TeV/madgraph/V5_2.6.5/WJetsToLNu_HT/WJetsToLNu_HT-600to800/WJetsToLNu_HT-600to800_slc6_amd64_gcc630_CMSSW_9_3_16_tarball.tar.xz'}\\n\",\n",
       " 'WJetsToLNu_HT-800To1200': \"cvmfs/cms.cern.ch/phys_generator/gridpacks/UL/13TeV/madgraph/V5_2.6.5/WJetsToLNu_HT/WJetsToLNu_HT-800to1200/WJetsToLNu_HT-800to1200_slc6_amd64_gcc630_CMSSW_9_3_16_tarball.tar.xz'}\\n\",\n",
       " 'WWTo1L1Nu2Q': \"cvmfs/cms.cern.ch/phys_generator/gridpacks/UL/13TeV/madgraph/V5_2.6.5/VV/WWToLNuQQ_4f_amcatnloFxFx_slc7_amd64_gcc700_CMSSW_10_6_19_tarball.tar.xz'}\\n\",\n",
       " 'WWTo4Q': \"cvmfs/cms.cern.ch/phys_generator/gridpacks/UL/13TeV/madgraph/V5_2.6.5/VV/WWTo4Q_4f_amcatnloFxFx_slc7_amd64_gcc700_CMSSW_10_6_19_tarball.tar.xz'}\\n\",\n",
       " 'WWW_4F': \"cvmfs/cms.cern.ch/phys_generator/gridpacks/UL/13TeV/madgraph/V5_2.6.5/VVV/WWWJets_4f_NLO_slc7_amd64_gcc700_CMSSW_10_6_19_tarball.tar.xz'}\\n\",\n",
       " 'WWZ_4F': \"cvmfs/cms.cern.ch/phys_generator/gridpacks/UL/13TeV/madgraph/V5_2.6.5/VVV/WWZJets_4f_NLO_slc7_amd64_gcc700_CMSSW_10_6_19_tarball.tar.xz'}\\n\",\n",
       " 'WZTo1L1Nu2Q': \"cvmfs/cms.cern.ch/phys_generator/gridpacks/UL/13TeV/madgraph/V5_2.6.5/VV/WZToLNu2Q_4f_amcatnloFxFx_slc7_amd64_gcc700_CMSSW_10_6_19_tarball.tar.xz'}\\n\",\n",
       " 'WZTo1L3Nu': \"cvmfs/cms.cern.ch/phys_generator/gridpacks/UL/13TeV/madgraph/V5_2.6.5/VV/WZToL3Nu_4f_amcatnloFxFx_slc7_amd64_gcc700_CMSSW_10_6_19_tarball.tar.xz'}\\n\",\n",
       " 'WZTo2Q2L': \"cvmfs/cms.cern.ch/phys_generator/gridpacks/UL/13TeV/madgraph/V5_2.6.5/WZTo2L2Q01j_5f_NLO_FXFX/WZTo2L2Q01j_5f_NLO_FXFX_slc7_amd64_gcc700_CMSSW_10_6_19_tarball.tar.xz'}\\n\",\n",
       " 'WZTo3LNu': \"cvmfs/cms.cern.ch/phys_generator/gridpacks/slc7_amd64_gcc700/13TeV/madgraph/V5_2.6.5/WZTo3LNu_5f_NLO_FXFX/WZTo3LNu01j_5f_NLO_FXFX_slc7_amd64_gcc700_CMSSW_10_6_19_tarball.tar.xz'}\\n\",\n",
       " 'WZZ': \"cvmfs/cms.cern.ch/phys_generator/gridpacks/slc7_amd64_gcc700/13TeV/madgraph/V5_2.6.5/VVV/WZZJets_5f_NLO/WZZJets_5f_NLO_slc7_amd64_gcc700_CMSSW_10_6_19_tarball.tar.xz'}\\n\",\n",
       " 'WminusHToTauTau_M125': \"cvmfs/cms.cern.ch/phys_generator/gridpacks/2017/13TeV/powheg/V2/HWminusJ_HanythingJ_NNPDF31_13TeV_M125/HWJ_slc6_amd64_gcc630_CMSSW_9_3_0_HWminusJ_HanythingJ_NNPDF31_13TeV_M125_Vinclusive.tgz'}\\n\",\n",
       " 'WplusHToTauTau_M125': \"cvmfs/cms.cern.ch/phys_generator/gridpacks/2017/13TeV/powheg/V2/HWplusJ_HanythingJ_NNPDF31_13TeV_M125/HWJ_slc6_amd64_gcc630_CMSSW_9_3_0_HWplusJ_HanythingJ_NNPDF31_13TeV_M125_Vinclusive.tgz'}\\n\",\n",
       " 'ZHToTauTau_M125': \"cvmfs/cms.cern.ch/phys_generator/gridpacks/2017/13TeV/powheg/V2/HZJ_HanythingJ_NNPDF31_13TeV_M125/v1/HZJ_HanythingJ_NNPDF31_13TeV_M125.tgz'}\\n\",\n",
       " 'ZH_Hbb_Zll': \"cvmfs/cms.cern.ch/phys_generator/gridpacks/UL/13TeV/powheg/V2/HZJ_slc7_amd64_gcc700_CMSSW_10_6_27_ZH_HToBB_ZToLL_M125_13TeV_powheg/v1/HZJ_slc7_amd64_gcc700_CMSSW_10_6_27_ZH_HToBB_ZToLL_M125_13TeV_powheg.tgz'}\\n\",\n",
       " 'ZZTo2L2Nu': \"/cvmfs/cms.cern.ch/phys_generator/gridpacks/UL/13TeV/powheg/V2/ZZ_2l2nu_13TeV/v2/ZZ_slc7_amd64_gcc820_CMSSW_11_0_1_ZZ2L2Nu.tgz'}\\n\",\n",
       " 'ZZTo2Q2L': \"cvmfs/cms.cern.ch/phys_generator/gridpacks/UL/13TeV/madgraph/V5_2.6.5/ZZTo2L2Q01j_5f_NLO_FXFX/ZZTo2L2Q01j_5f_NLO_FXFX_slc7_amd64_gcc700_CMSSW_10_6_19_tarball.tar.xz'}\\n\",\n",
       " 'ZZTo2Q2Nu': \"cvmfs/cms.cern.ch/phys_generator/gridpacks/slc6_amd64_gcc630/13TeV/madgraph/V5_2.6.5/diboson/ZZTo2Q2Nu01j_5f_NLO_FXFX_slc6_amd64_gcc630_CMSSW_9_3_16_tarball.tar.xz'}\\n\",\n",
       " 'ZZTo4L': \"cvmfs/cms.cern.ch/phys_generator/gridpacks/2017/13TeV/powheg/V2/ZZTo4L/v1/ZZ_slc6_amd64_gcc630_CMSSW_9_3_0_ZZTo4L2017_pdf306000.tgz'}\\n\",\n",
       " 'ZZTo4Q': \"cvmfs/cms.cern.ch/phys_generator/gridpacks/UL/13TeV/madgraph/V5_2.6.5/VV/ZZTo4Q_5f_amcatnloFxFx_slc7_amd64_gcc700_CMSSW_10_6_19_tarball.tar.xz'}\\n\",\n",
       " 'ZZZ': \"cvmfs/cms.cern.ch/phys_generator/gridpacks/UL/13TeV/madgraph/V5_2.6.5/VVV/ZZZJets_5f_NLO_slc7_amd64_gcc700_CMSSW_10_6_19_tarball.tar.xz'}\\n\",\n",
       " 'ggHToZZTo2L2Q': \"cvmfs/cms.cern.ch/phys_generator/gridpacks/2017/13TeV/powheg/V2/gg_H_quark-mass-effects_ZZ_NNPDF31_13TeV/gg_H_quark-mass-effects_ZZ2l2q_NNPDF31_13TeV_M125/v2/gg_H_quark-mass-effects_ZZ2l2q_NNPDF31_13TeV_M125.tgz'}\\n\",\n",
       " 'ttHToTauTau_M125': \"cvmfs/cms.cern.ch/phys_generator/gridpacks/2017/13TeV/powheg/V2/ttH_inclusive_hdamp_NNPDF31_13TeV_M125/v1/ttH_inclusive_hdamp_NNPDF31_13TeV_M125.tgz'}\\n\",\n",
       " 'ttHTobb_M125': \"cvmfs/cms.cern.ch/phys_generator/gridpacks/slc7_amd64_gcc700/13TeV/powhegV2/ttH_inclusive_hdamp_NNPDF31_13TeV_M125/ttH_inclusive_hdamp_NNPDF31_13TeV_M125.tgz'}\\n\"}"
      ]
     },
     "execution_count": 31,
     "metadata": {},
     "output_type": "execute_result"
    }
   ],
   "source": [
    "grids_nice = {dataset : next(iter(s))[len('{\"  args: vstring tracked  = {'):] for dataset, s in grids.items()}\n",
    "grids_nice"
   ]
  }
 ],
 "metadata": {
  "kernelspec": {
   "display_name": ".venv",
   "language": "python",
   "name": "python3"
  },
  "language_info": {
   "codemirror_mode": {
    "name": "ipython",
    "version": 3
   },
   "file_extension": ".py",
   "mimetype": "text/x-python",
   "name": "python",
   "nbconvert_exporter": "python",
   "pygments_lexer": "ipython3",
   "version": "3.9.6"
  }
 },
 "nbformat": 4,
 "nbformat_minor": 2
}
