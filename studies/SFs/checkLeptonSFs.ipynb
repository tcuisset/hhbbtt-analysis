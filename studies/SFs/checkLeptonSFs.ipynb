{
 "cells": [
  {
   "cell_type": "code",
   "execution_count": 1,
   "metadata": {},
   "outputs": [
    {
     "name": "stdout",
     "output_type": "stream",
     "text": [
      "Welcome to JupyROOT 6.24/07\n"
     ]
    }
   ],
   "source": [
    "from Corrections.EGM.eleCorrections import *\n",
    "from Corrections.MUO.muCorrections import *\n",
    "import ROOT\n",
    "import JupyROOT.helpers.utils\n",
    "JupyROOT.helpers.utils.GetGeometryDrawer = lambda:None # magic fix to make ROOT faster\n",
    "import cppyy\n",
    "import numpy as np\n",
    "import hist\n",
    "import matplotlib.pyplot as plt\n",
    "import mplhep as hep\n",
    "plt.style.use(hep.style.CMS)\n",
    "import math\n",
    "import uproot\n",
    "import awkward as ak"
   ]
  },
  {
   "cell_type": "code",
   "execution_count": 2,
   "metadata": {},
   "outputs": [
    {
     "data": {
      "text/plain": [
       "<Array [{bunchCrossing: 4294967295, ... ] type='128 * {\"bunchCrossing\": uint32, ...'>"
      ]
     },
     "execution_count": 2,
     "metadata": {},
     "output_type": "execute_result"
    }
   ],
   "source": [
    "inp = uproot.open(\"/grid_mnt/data__data.polcms/cms/cuisset/cmt/PreprocessRDF/ul_2018_ZbbHtt_v12/ZprimeToZH_ZToBB_HToTauTau_M600/cat_base_selection/prod_240610/data_12.root:Events\").arrays()\n",
    "inp"
   ]
  },
  {
   "cell_type": "markdown",
   "metadata": {},
   "source": [
    "## Electron SFs"
   ]
  },
  {
   "cell_type": "code",
   "execution_count": 3,
   "metadata": {},
   "outputs": [],
   "source": [
    "rdf_mod = eleSFRDFProducer(year=2018, isUL=True, isMC=True, wps=[\"wp80iso\", \"RecoAbove20\"])"
   ]
  },
  {
   "cell_type": "code",
   "execution_count": 21,
   "metadata": {},
   "outputs": [
    {
     "data": {
      "text/plain": [
       "[0.9301777244921896]"
      ]
     },
     "execution_count": 21,
     "metadata": {},
     "output_type": "execute_result"
    }
   ],
   "source": [
    "list(cppyy.gbl.get_ele_sf(\"sfup\", \"wp80iso\", [2.], [30.]))"
   ]
  },
  {
   "cell_type": "code",
   "execution_count": 16,
   "metadata": {},
   "outputs": [
    {
     "name": "stdout",
     "output_type": "stream",
     "text": [
      "[1.]\n",
      "[]\n",
      "[0.93949468]\n",
      "[1.]\n",
      "[0.94078375 1.        ]\n",
      "[0.94078375 1.        ]\n",
      "[0.9271623 1.       ]\n",
      "[]\n",
      "[0.93949468]\n",
      "[]\n",
      "[]\n",
      "[0.93746606]\n",
      "[0.94305374]\n",
      "[0.95369706]\n",
      "[]\n",
      "[]\n",
      "[1.]\n",
      "[]\n",
      "[0.97339764 0.94461027 1.        ]\n",
      "[0.94245131]\n",
      "[0.94461027 1.        ]\n",
      "[0.90566357]\n",
      "[0.95106447]\n",
      "[0.96910074 0.95369706 1.         1.        ]\n",
      "[]\n",
      "[1.]\n",
      "[0.9776679 0.       ]\n",
      "[0.93949468]\n",
      "[1.]\n",
      "[]\n",
      "[0.96305582 1.        ]\n",
      "[]\n",
      "[]\n",
      "[]\n",
      "[]\n",
      "[0.94461027 1.        ]\n",
      "[]\n",
      "[0.9271623]\n",
      "[0.96910074 0.92635139]\n",
      "[]\n",
      "[0.96871707 0.94078375]\n",
      "[1.]\n",
      "[]\n",
      "[0.9271623]\n",
      "[]\n",
      "[0.93949468 0.93746606]\n",
      "[]\n",
      "[]\n",
      "[0.95369706]\n",
      "[0.93949468]\n",
      "[0.93949468]\n",
      "[0.96910074 1.        ]\n",
      "[]\n",
      "[0.93949468 0.93746606 1.        ]\n",
      "[0.93949468 0.94996652 1.         1.        ]\n",
      "[0.93949468 1.         1.        ]\n",
      "[0.94996652]\n",
      "[]\n",
      "[0.97560322]\n",
      "[]\n",
      "[]\n",
      "[0.96305582 0.94996652 0.92673482]\n",
      "[0.94078375]\n",
      "[0.93949468]\n",
      "[]\n",
      "[]\n",
      "[0.96305582]\n",
      "[0.97213405 0.93746606]\n",
      "[0.94737135]\n",
      "[0.93746606 1.        ]\n",
      "[0.94996652]\n",
      "[0.94245131 1.        ]\n",
      "[0.94078375]\n",
      "[0.96910074 0.92673482]\n",
      "[0.94245131 1.        ]\n",
      "[0.]\n",
      "[0.93746606 0.93746606]\n",
      "[0.93949468 0.94305374]\n",
      "[0.94078375 1.        ]\n",
      "[1.]\n",
      "[0.95369706]\n",
      "[]\n",
      "[]\n",
      "[0.94305374 0.94668549 0.95369706]\n",
      "[1. 1.]\n",
      "[0.94078375]\n",
      "[0.96305582]\n",
      "[]\n",
      "[]\n",
      "[0.91282645]\n",
      "[0.9271623]\n",
      "[0.94123814]\n",
      "[0.96910074 1.        ]\n",
      "[]\n",
      "[0.93949468]\n",
      "[]\n",
      "[1.]\n",
      "[0.94996652 0.92673482]\n",
      "[]\n",
      "[0.94123814]\n",
      "[0.94123814 1.        ]\n",
      "[0.94441096 1.        ]\n",
      "[]\n",
      "[0.94996652]\n",
      "[]\n",
      "[0.94245131]\n",
      "[0.97560322 0.93746606 1.        ]\n",
      "[0.96840196]\n",
      "[]\n",
      "[0.93949468 1.        ]\n",
      "[]\n",
      "[0.94078375 1.         1.        ]\n",
      "[]\n",
      "[0.91282645]\n",
      "[0.97339764]\n",
      "[]\n",
      "[]\n",
      "[]\n",
      "[0.94078375]\n",
      "[]\n",
      "[1.]\n",
      "[0.94996652 1.        ]\n",
      "[0.94668549 0.95369706]\n",
      "[0.]\n",
      "[]\n",
      "[1. 1.]\n",
      "[0.96305582]\n",
      "[0.93949468]\n",
      "[0.96840196 0.92673482]\n",
      "[0.93949468]\n",
      "[0.9537376]\n",
      "[0.]\n",
      "[]\n",
      "[]\n",
      "[1.]\n",
      "[]\n",
      "[0.94078375]\n",
      "[0.92673482]\n",
      "[0.94461027]\n",
      "[1.]\n",
      "[]\n",
      "[1.]\n"
     ]
    }
   ],
   "source": [
    "bug = None\n",
    "for evt in inp:\n",
    "    sfs = np.array(cppyy.gbl.get_ele_sf(\"sfdown\", \"wp80iso\", evt.Electron_eta, evt.Electron_pt))\n",
    "    print(sfs)\n",
    "    if np.any(sfs < 0.5):\n",
    "        bug = evt"
   ]
  },
  {
   "cell_type": "code",
   "execution_count": 23,
   "metadata": {},
   "outputs": [
    {
     "data": {
      "text/plain": [
       "[0.0]"
      ]
     },
     "execution_count": 23,
     "metadata": {},
     "output_type": "execute_result"
    }
   ],
   "source": [
    "list(cppyy.gbl.get_ele_sf(\"sfdown\", \"wp80iso\", bug.Electron_eta, bug.Electron_pt))"
   ]
  },
  {
   "cell_type": "code",
   "execution_count": 19,
   "metadata": {},
   "outputs": [
    {
     "data": {
      "text/plain": [
       "(<Array [73.1] type='1 * float32'>, <Array [-1.55] type='1 * float32'>)"
      ]
     },
     "execution_count": 19,
     "metadata": {},
     "output_type": "execute_result"
    }
   ],
   "source": [
    "bug.Electron_pt, bug.Electron_eta"
   ]
  },
  {
   "cell_type": "markdown",
   "metadata": {},
   "source": [
    "## Muon SFs"
   ]
  },
  {
   "cell_type": "code",
   "execution_count": 3,
   "metadata": {},
   "outputs": [],
   "source": [
    "mu_sf_module = muSFRDFProducer(year=2018, isUL=True, isMC=True, ispreVFP=False)"
   ]
  },
  {
   "cell_type": "code",
   "execution_count": 14,
   "metadata": {},
   "outputs": [
    {
     "data": {
      "text/plain": [
       "<Array [0.99, 2] type='2 * float64'>"
      ]
     },
     "execution_count": 14,
     "metadata": {},
     "output_type": "execute_result"
    }
   ],
   "source": [
    "inp.musf_tight_reliso_stat_up[1]"
   ]
  },
  {
   "cell_type": "code",
   "execution_count": 18,
   "metadata": {},
   "outputs": [
    {
     "data": {
      "text/plain": [
       "(-0.596923828125, 14.688910484313965)"
      ]
     },
     "execution_count": 18,
     "metadata": {},
     "output_type": "execute_result"
    }
   ],
   "source": [
    "inp[1].Muon_eta[1], inp[1].Muon_pt[1], "
   ]
  },
  {
   "cell_type": "code",
   "execution_count": 5,
   "metadata": {},
   "outputs": [
    {
     "data": {
      "image/png": "[encoded data removed]",
      "text/plain": [
       "<Figure size 720x720 with 1 Axes>"
      ]
     },
     "metadata": {
      "needs_background": "light"
     },
     "output_type": "display_data"
    }
   ],
   "source": [
    "plt.hist(ak.flatten(inp.musf_tight_reliso_stat_up), bins=500)\n",
    "# plt.xlim(0, 0.1)\n",
    "None"
   ]
  },
  {
   "cell_type": "code",
   "execution_count": 19,
   "metadata": {},
   "outputs": [
    {
     "data": {
      "text/plain": [
       "[1.0]"
      ]
     },
     "execution_count": 19,
     "metadata": {},
     "output_type": "execute_result"
    }
   ],
   "source": [
    "list(cppyy.gbl.get_mu_tight_reliso_sf(\"stat\", [-0.5], [14]))"
   ]
  },
  {
   "cell_type": "markdown",
   "metadata": {},
   "source": [
    "## b-tag SFs"
   ]
  },
  {
   "cell_type": "code",
   "execution_count": 3,
   "metadata": {},
   "outputs": [],
   "source": [
    "from Corrections.BTV.btag_SF import *\n",
    "btag_mod = btag_SFRDFProducer(year=2018, isUL=True, isMC=True, ispreVFP=False)"
   ]
  },
  {
   "cell_type": "code",
   "execution_count": 5,
   "metadata": {},
   "outputs": [
    {
     "data": {
      "text/plain": [
       "[0.9787099329362282, 0.9551077095638657, 0.9308019149722525, 1.0]"
      ]
     },
     "execution_count": 5,
     "metadata": {},
     "output_type": "execute_result"
    }
   ],
   "source": [
    "list(cppyy.gbl._btag_SF.get_btag_sf([50.], [2.], [1.], [10.], \n",
    "                               [5], [2], [4], [0.8], \n",
    "                               [], [], [], [],\n",
    "                               \"central\", \"central\", \"down_hfstats1\"))"
   ]
  },
  {
   "cell_type": "code",
   "execution_count": 15,
   "metadata": {},
   "outputs": [
    {
     "data": {
      "text/plain": [
       "5"
      ]
     },
     "execution_count": 15,
     "metadata": {},
     "output_type": "execute_result"
    }
   ],
   "source": [
    "cppyy.gbl.std.string(\"down_cferr\").rfind(\"cferr\", 5)"
   ]
  },
  {
   "cell_type": "code",
   "execution_count": 6,
   "metadata": {},
   "outputs": [],
   "source": [
    "reshape_uncertainties = [\"central\", \"down_cferr1\", \"down_cferr2\", \"down_hf\", \"down_hfstats1\", \"down_hfstats2\",  \"down_lf\", \"down_lfstats1\", \"down_lfstats2\", \"down_jesAbsoluteMPFBias\", \"down_jesAbsoluteScale\", \"down_jesAbsoluteStat\", \"down_jesFlavorQCD\",\n",
    "        \"down_jesFragmentation\", \"down_jesPileUpDataMC\", \"down_jesPileUpPtBB\", \"down_jesPileUpPtEC1\",\n",
    "        \"down_jesPileUpPtEC2\", \"down_jesPileUpPtHF\", \"down_jesPileUpPtRef\", \"down_jesRelativeBal\",\n",
    "        \"down_jesRelativeFSR\", \"down_jesRelativeJEREC1\", \"down_jesRelativeJEREC2\", \"down_jesRelativeJERHF\",\n",
    "        \"down_jesRelativePtBB\", \"down_jesRelativePtEC1\", \"down_jesRelativePtEC2\", \"down_jesRelativePtHF\",\n",
    "        \"down_jesRelativeSample\", \"down_jesRelativeStatEC\", \"down_jesRelativeStatFSR\",\n",
    "        \"down_jesRelativeStatHF\", \"down_jesSinglePionECAL\", \"down_jesSinglePionHCAL\", \"down_jesTimePtEta\",\n",
    "        \"up_cferr1\", \"up_cferr2\", \"up_hf\", \"up_hfstats1\", \"up_hfstats2\",  \"up_lf\", \"up_lfstats1\", \"up_lfstats2\",\n",
    "        \"up_jesAbsoluteMPFBias\", \"up_jesAbsoluteScale\", \"up_jesAbsoluteStat\",\n",
    "        \"up_jesFlavorQCD\", \"up_jesFragmentation\", \"up_jesPileUpDataMC\", \"up_jesPileUpPtBB\",\n",
    "        \"up_jesPileUpPtEC1\", \"up_jesPileUpPtEC2\", \"up_jesPileUpPtHF\", \"up_jesPileUpPtRef\",\n",
    "        \"up_jesRelativeBal\", \"up_jesRelativeFSR\", \"up_jesRelativeJEREC1\", \"up_jesRelativeJEREC2\",\n",
    "        \"up_jesRelativeJERHF\", \"up_jesRelativePtBB\", \"up_jesRelativePtEC1\", \"up_jesRelativePtEC2\",\n",
    "        \"up_jesRelativePtHF\", \"up_jesRelativeSample\", \"up_jesRelativeStatEC\", \"up_jesRelativeStatFSR\",\n",
    "        \"up_jesRelativeStatHF\", \"up_jesSinglePionECAL\", \"up_jesSinglePionHCAL\", \"up_jesTimePtEta\"]"
   ]
  },
  {
   "cell_type": "code",
   "execution_count": 9,
   "metadata": {},
   "outputs": [
    {
     "name": "stdout",
     "output_type": "stream",
     "text": [
      "central\n",
      "[0.9540062593751429, 1.0, 1.0, 1.0]\n",
      "down_cferr1\n",
      "[0.9540062593751429, 1.0, 1.0, 0.6659704652158629]\n",
      "down_cferr2\n",
      "[0.9540062593751429, 1.0, 1.0, 0.8304855577922161]\n",
      "down_hf\n",
      "[0.9540062593751429, 1.0, 1.0, 1.0]\n",
      "down_hfstats1\n",
      "[0.9540062593751429, 1.0, 1.0, 1.0]\n",
      "down_hfstats2\n",
      "[0.9540062593751429, 1.0, 1.0, 1.0]\n",
      "down_lf\n",
      "[0.9540062593751429, 1.0, 1.0, 1.0]\n",
      "down_lfstats1\n",
      "[0.9540062593751429, 1.0, 1.0, 1.0]\n",
      "down_lfstats2\n",
      "[0.9540062593751429, 1.0, 1.0, 1.0]\n",
      "down_jesAbsoluteMPFBias\n",
      "vector<double> btag_SFinterface::get_btag_sf(ROOT::VecOps::RVec<float> Jet_pt, ROOT::VecOps::RVec<float> Jet_eta, ROOT::VecOps::RVec<float> Jet_phi, ROOT::VecOps::RVec<float> Jet_mass, ROOT::VecOps::RVec<int> Jet_jetId, ROOT::VecOps::RVec<int> Jet_puId, ROOT::VecOps::RVec<int> Jet_hadronFlavour, ROOT::VecOps::RVec<float> Jet_btagDeepFlavB, ROOT::VecOps::RVec<float> lepton_pt, ROOT::VecOps::RVec<float> lepton_eta, ROOT::VecOps::RVec<float> lepton_phi, ROOT::VecOps::RVec<float> lepton_mass, string incl_uncertainty, string comb_uncertainty, string shape_uncertainty) =>\n",
      "    out_of_range: Index not available in Category for input argument 1 val: 4\n",
      "down_jesAbsoluteScale\n",
      "vector<double> btag_SFinterface::get_btag_sf(ROOT::VecOps::RVec<float> Jet_pt, ROOT::VecOps::RVec<float> Jet_eta, ROOT::VecOps::RVec<float> Jet_phi, ROOT::VecOps::RVec<float> Jet_mass, ROOT::VecOps::RVec<int> Jet_jetId, ROOT::VecOps::RVec<int> Jet_puId, ROOT::VecOps::RVec<int> Jet_hadronFlavour, ROOT::VecOps::RVec<float> Jet_btagDeepFlavB, ROOT::VecOps::RVec<float> lepton_pt, ROOT::VecOps::RVec<float> lepton_eta, ROOT::VecOps::RVec<float> lepton_phi, ROOT::VecOps::RVec<float> lepton_mass, string incl_uncertainty, string comb_uncertainty, string shape_uncertainty) =>\n",
      "    out_of_range: Index not available in Category for input argument 1 val: 4\n",
      "down_jesAbsoluteStat\n",
      "vector<double> btag_SFinterface::get_btag_sf(ROOT::VecOps::RVec<float> Jet_pt, ROOT::VecOps::RVec<float> Jet_eta, ROOT::VecOps::RVec<float> Jet_phi, ROOT::VecOps::RVec<float> Jet_mass, ROOT::VecOps::RVec<int> Jet_jetId, ROOT::VecOps::RVec<int> Jet_puId, ROOT::VecOps::RVec<int> Jet_hadronFlavour, ROOT::VecOps::RVec<float> Jet_btagDeepFlavB, ROOT::VecOps::RVec<float> lepton_pt, ROOT::VecOps::RVec<float> lepton_eta, ROOT::VecOps::RVec<float> lepton_phi, ROOT::VecOps::RVec<float> lepton_mass, string incl_uncertainty, string comb_uncertainty, string shape_uncertainty) =>\n",
      "    out_of_range: Index not available in Category for input argument 1 val: 4\n",
      "down_jesFlavorQCD\n",
      "vector<double> btag_SFinterface::get_btag_sf(ROOT::VecOps::RVec<float> Jet_pt, ROOT::VecOps::RVec<float> Jet_eta, ROOT::VecOps::RVec<float> Jet_phi, ROOT::VecOps::RVec<float> Jet_mass, ROOT::VecOps::RVec<int> Jet_jetId, ROOT::VecOps::RVec<int> Jet_puId, ROOT::VecOps::RVec<int> Jet_hadronFlavour, ROOT::VecOps::RVec<float> Jet_btagDeepFlavB, ROOT::VecOps::RVec<float> lepton_pt, ROOT::VecOps::RVec<float> lepton_eta, ROOT::VecOps::RVec<float> lepton_phi, ROOT::VecOps::RVec<float> lepton_mass, string incl_uncertainty, string comb_uncertainty, string shape_uncertainty) =>\n",
      "    out_of_range: Index not available in Category for input argument 1 val: 4\n",
      "down_jesFragmentation\n",
      "vector<double> btag_SFinterface::get_btag_sf(ROOT::VecOps::RVec<float> Jet_pt, ROOT::VecOps::RVec<float> Jet_eta, ROOT::VecOps::RVec<float> Jet_phi, ROOT::VecOps::RVec<float> Jet_mass, ROOT::VecOps::RVec<int> Jet_jetId, ROOT::VecOps::RVec<int> Jet_puId, ROOT::VecOps::RVec<int> Jet_hadronFlavour, ROOT::VecOps::RVec<float> Jet_btagDeepFlavB, ROOT::VecOps::RVec<float> lepton_pt, ROOT::VecOps::RVec<float> lepton_eta, ROOT::VecOps::RVec<float> lepton_phi, ROOT::VecOps::RVec<float> lepton_mass, string incl_uncertainty, string comb_uncertainty, string shape_uncertainty) =>\n",
      "    out_of_range: Index not available in Category for input argument 1 val: 4\n",
      "down_jesPileUpDataMC\n",
      "vector<double> btag_SFinterface::get_btag_sf(ROOT::VecOps::RVec<float> Jet_pt, ROOT::VecOps::RVec<float> Jet_eta, ROOT::VecOps::RVec<float> Jet_phi, ROOT::VecOps::RVec<float> Jet_mass, ROOT::VecOps::RVec<int> Jet_jetId, ROOT::VecOps::RVec<int> Jet_puId, ROOT::VecOps::RVec<int> Jet_hadronFlavour, ROOT::VecOps::RVec<float> Jet_btagDeepFlavB, ROOT::VecOps::RVec<float> lepton_pt, ROOT::VecOps::RVec<float> lepton_eta, ROOT::VecOps::RVec<float> lepton_phi, ROOT::VecOps::RVec<float> lepton_mass, string incl_uncertainty, string comb_uncertainty, string shape_uncertainty) =>\n",
      "    out_of_range: Index not available in Category for input argument 1 val: 4\n",
      "down_jesPileUpPtBB\n",
      "vector<double> btag_SFinterface::get_btag_sf(ROOT::VecOps::RVec<float> Jet_pt, ROOT::VecOps::RVec<float> Jet_eta, ROOT::VecOps::RVec<float> Jet_phi, ROOT::VecOps::RVec<float> Jet_mass, ROOT::VecOps::RVec<int> Jet_jetId, ROOT::VecOps::RVec<int> Jet_puId, ROOT::VecOps::RVec<int> Jet_hadronFlavour, ROOT::VecOps::RVec<float> Jet_btagDeepFlavB, ROOT::VecOps::RVec<float> lepton_pt, ROOT::VecOps::RVec<float> lepton_eta, ROOT::VecOps::RVec<float> lepton_phi, ROOT::VecOps::RVec<float> lepton_mass, string incl_uncertainty, string comb_uncertainty, string shape_uncertainty) =>\n",
      "    out_of_range: Index not available in Category for input argument 1 val: 4\n",
      "down_jesPileUpPtEC1\n",
      "vector<double> btag_SFinterface::get_btag_sf(ROOT::VecOps::RVec<float> Jet_pt, ROOT::VecOps::RVec<float> Jet_eta, ROOT::VecOps::RVec<float> Jet_phi, ROOT::VecOps::RVec<float> Jet_mass, ROOT::VecOps::RVec<int> Jet_jetId, ROOT::VecOps::RVec<int> Jet_puId, ROOT::VecOps::RVec<int> Jet_hadronFlavour, ROOT::VecOps::RVec<float> Jet_btagDeepFlavB, ROOT::VecOps::RVec<float> lepton_pt, ROOT::VecOps::RVec<float> lepton_eta, ROOT::VecOps::RVec<float> lepton_phi, ROOT::VecOps::RVec<float> lepton_mass, string incl_uncertainty, string comb_uncertainty, string shape_uncertainty) =>\n",
      "    out_of_range: Index not available in Category for input argument 1 val: 4\n",
      "down_jesPileUpPtEC2\n",
      "vector<double> btag_SFinterface::get_btag_sf(ROOT::VecOps::RVec<float> Jet_pt, ROOT::VecOps::RVec<float> Jet_eta, ROOT::VecOps::RVec<float> Jet_phi, ROOT::VecOps::RVec<float> Jet_mass, ROOT::VecOps::RVec<int> Jet_jetId, ROOT::VecOps::RVec<int> Jet_puId, ROOT::VecOps::RVec<int> Jet_hadronFlavour, ROOT::VecOps::RVec<float> Jet_btagDeepFlavB, ROOT::VecOps::RVec<float> lepton_pt, ROOT::VecOps::RVec<float> lepton_eta, ROOT::VecOps::RVec<float> lepton_phi, ROOT::VecOps::RVec<float> lepton_mass, string incl_uncertainty, string comb_uncertainty, string shape_uncertainty) =>\n",
      "    out_of_range: Index not available in Category for input argument 1 val: 4\n",
      "down_jesPileUpPtHF\n",
      "vector<double> btag_SFinterface::get_btag_sf(ROOT::VecOps::RVec<float> Jet_pt, ROOT::VecOps::RVec<float> Jet_eta, ROOT::VecOps::RVec<float> Jet_phi, ROOT::VecOps::RVec<float> Jet_mass, ROOT::VecOps::RVec<int> Jet_jetId, ROOT::VecOps::RVec<int> Jet_puId, ROOT::VecOps::RVec<int> Jet_hadronFlavour, ROOT::VecOps::RVec<float> Jet_btagDeepFlavB, ROOT::VecOps::RVec<float> lepton_pt, ROOT::VecOps::RVec<float> lepton_eta, ROOT::VecOps::RVec<float> lepton_phi, ROOT::VecOps::RVec<float> lepton_mass, string incl_uncertainty, string comb_uncertainty, string shape_uncertainty) =>\n",
      "    out_of_range: Index not available in Category for input argument 1 val: 4\n",
      "down_jesPileUpPtRef\n",
      "vector<double> btag_SFinterface::get_btag_sf(ROOT::VecOps::RVec<float> Jet_pt, ROOT::VecOps::RVec<float> Jet_eta, ROOT::VecOps::RVec<float> Jet_phi, ROOT::VecOps::RVec<float> Jet_mass, ROOT::VecOps::RVec<int> Jet_jetId, ROOT::VecOps::RVec<int> Jet_puId, ROOT::VecOps::RVec<int> Jet_hadronFlavour, ROOT::VecOps::RVec<float> Jet_btagDeepFlavB, ROOT::VecOps::RVec<float> lepton_pt, ROOT::VecOps::RVec<float> lepton_eta, ROOT::VecOps::RVec<float> lepton_phi, ROOT::VecOps::RVec<float> lepton_mass, string incl_uncertainty, string comb_uncertainty, string shape_uncertainty) =>\n",
      "    out_of_range: Index not available in Category for input argument 1 val: 4\n",
      "down_jesRelativeBal\n",
      "vector<double> btag_SFinterface::get_btag_sf(ROOT::VecOps::RVec<float> Jet_pt, ROOT::VecOps::RVec<float> Jet_eta, ROOT::VecOps::RVec<float> Jet_phi, ROOT::VecOps::RVec<float> Jet_mass, ROOT::VecOps::RVec<int> Jet_jetId, ROOT::VecOps::RVec<int> Jet_puId, ROOT::VecOps::RVec<int> Jet_hadronFlavour, ROOT::VecOps::RVec<float> Jet_btagDeepFlavB, ROOT::VecOps::RVec<float> lepton_pt, ROOT::VecOps::RVec<float> lepton_eta, ROOT::VecOps::RVec<float> lepton_phi, ROOT::VecOps::RVec<float> lepton_mass, string incl_uncertainty, string comb_uncertainty, string shape_uncertainty) =>\n",
      "    out_of_range: Index not available in Category for input argument 1 val: 4\n",
      "down_jesRelativeFSR\n",
      "vector<double> btag_SFinterface::get_btag_sf(ROOT::VecOps::RVec<float> Jet_pt, ROOT::VecOps::RVec<float> Jet_eta, ROOT::VecOps::RVec<float> Jet_phi, ROOT::VecOps::RVec<float> Jet_mass, ROOT::VecOps::RVec<int> Jet_jetId, ROOT::VecOps::RVec<int> Jet_puId, ROOT::VecOps::RVec<int> Jet_hadronFlavour, ROOT::VecOps::RVec<float> Jet_btagDeepFlavB, ROOT::VecOps::RVec<float> lepton_pt, ROOT::VecOps::RVec<float> lepton_eta, ROOT::VecOps::RVec<float> lepton_phi, ROOT::VecOps::RVec<float> lepton_mass, string incl_uncertainty, string comb_uncertainty, string shape_uncertainty) =>\n",
      "    out_of_range: Index not available in Category for input argument 1 val: 4\n",
      "down_jesRelativeJEREC1\n",
      "vector<double> btag_SFinterface::get_btag_sf(ROOT::VecOps::RVec<float> Jet_pt, ROOT::VecOps::RVec<float> Jet_eta, ROOT::VecOps::RVec<float> Jet_phi, ROOT::VecOps::RVec<float> Jet_mass, ROOT::VecOps::RVec<int> Jet_jetId, ROOT::VecOps::RVec<int> Jet_puId, ROOT::VecOps::RVec<int> Jet_hadronFlavour, ROOT::VecOps::RVec<float> Jet_btagDeepFlavB, ROOT::VecOps::RVec<float> lepton_pt, ROOT::VecOps::RVec<float> lepton_eta, ROOT::VecOps::RVec<float> lepton_phi, ROOT::VecOps::RVec<float> lepton_mass, string incl_uncertainty, string comb_uncertainty, string shape_uncertainty) =>\n",
      "    out_of_range: Index not available in Category for input argument 1 val: 4\n",
      "down_jesRelativeJEREC2\n",
      "vector<double> btag_SFinterface::get_btag_sf(ROOT::VecOps::RVec<float> Jet_pt, ROOT::VecOps::RVec<float> Jet_eta, ROOT::VecOps::RVec<float> Jet_phi, ROOT::VecOps::RVec<float> Jet_mass, ROOT::VecOps::RVec<int> Jet_jetId, ROOT::VecOps::RVec<int> Jet_puId, ROOT::VecOps::RVec<int> Jet_hadronFlavour, ROOT::VecOps::RVec<float> Jet_btagDeepFlavB, ROOT::VecOps::RVec<float> lepton_pt, ROOT::VecOps::RVec<float> lepton_eta, ROOT::VecOps::RVec<float> lepton_phi, ROOT::VecOps::RVec<float> lepton_mass, string incl_uncertainty, string comb_uncertainty, string shape_uncertainty) =>\n",
      "    out_of_range: Index not available in Category for input argument 1 val: 4\n",
      "down_jesRelativeJERHF\n",
      "vector<double> btag_SFinterface::get_btag_sf(ROOT::VecOps::RVec<float> Jet_pt, ROOT::VecOps::RVec<float> Jet_eta, ROOT::VecOps::RVec<float> Jet_phi, ROOT::VecOps::RVec<float> Jet_mass, ROOT::VecOps::RVec<int> Jet_jetId, ROOT::VecOps::RVec<int> Jet_puId, ROOT::VecOps::RVec<int> Jet_hadronFlavour, ROOT::VecOps::RVec<float> Jet_btagDeepFlavB, ROOT::VecOps::RVec<float> lepton_pt, ROOT::VecOps::RVec<float> lepton_eta, ROOT::VecOps::RVec<float> lepton_phi, ROOT::VecOps::RVec<float> lepton_mass, string incl_uncertainty, string comb_uncertainty, string shape_uncertainty) =>\n",
      "    out_of_range: Index not available in Category for input argument 1 val: 4\n",
      "down_jesRelativePtBB\n",
      "vector<double> btag_SFinterface::get_btag_sf(ROOT::VecOps::RVec<float> Jet_pt, ROOT::VecOps::RVec<float> Jet_eta, ROOT::VecOps::RVec<float> Jet_phi, ROOT::VecOps::RVec<float> Jet_mass, ROOT::VecOps::RVec<int> Jet_jetId, ROOT::VecOps::RVec<int> Jet_puId, ROOT::VecOps::RVec<int> Jet_hadronFlavour, ROOT::VecOps::RVec<float> Jet_btagDeepFlavB, ROOT::VecOps::RVec<float> lepton_pt, ROOT::VecOps::RVec<float> lepton_eta, ROOT::VecOps::RVec<float> lepton_phi, ROOT::VecOps::RVec<float> lepton_mass, string incl_uncertainty, string comb_uncertainty, string shape_uncertainty) =>\n",
      "    out_of_range: Index not available in Category for input argument 1 val: 4\n",
      "down_jesRelativePtEC1\n",
      "vector<double> btag_SFinterface::get_btag_sf(ROOT::VecOps::RVec<float> Jet_pt, ROOT::VecOps::RVec<float> Jet_eta, ROOT::VecOps::RVec<float> Jet_phi, ROOT::VecOps::RVec<float> Jet_mass, ROOT::VecOps::RVec<int> Jet_jetId, ROOT::VecOps::RVec<int> Jet_puId, ROOT::VecOps::RVec<int> Jet_hadronFlavour, ROOT::VecOps::RVec<float> Jet_btagDeepFlavB, ROOT::VecOps::RVec<float> lepton_pt, ROOT::VecOps::RVec<float> lepton_eta, ROOT::VecOps::RVec<float> lepton_phi, ROOT::VecOps::RVec<float> lepton_mass, string incl_uncertainty, string comb_uncertainty, string shape_uncertainty) =>\n",
      "    out_of_range: Index not available in Category for input argument 1 val: 4\n",
      "down_jesRelativePtEC2\n",
      "vector<double> btag_SFinterface::get_btag_sf(ROOT::VecOps::RVec<float> Jet_pt, ROOT::VecOps::RVec<float> Jet_eta, ROOT::VecOps::RVec<float> Jet_phi, ROOT::VecOps::RVec<float> Jet_mass, ROOT::VecOps::RVec<int> Jet_jetId, ROOT::VecOps::RVec<int> Jet_puId, ROOT::VecOps::RVec<int> Jet_hadronFlavour, ROOT::VecOps::RVec<float> Jet_btagDeepFlavB, ROOT::VecOps::RVec<float> lepton_pt, ROOT::VecOps::RVec<float> lepton_eta, ROOT::VecOps::RVec<float> lepton_phi, ROOT::VecOps::RVec<float> lepton_mass, string incl_uncertainty, string comb_uncertainty, string shape_uncertainty) =>\n",
      "    out_of_range: Index not available in Category for input argument 1 val: 4\n",
      "down_jesRelativePtHF\n",
      "vector<double> btag_SFinterface::get_btag_sf(ROOT::VecOps::RVec<float> Jet_pt, ROOT::VecOps::RVec<float> Jet_eta, ROOT::VecOps::RVec<float> Jet_phi, ROOT::VecOps::RVec<float> Jet_mass, ROOT::VecOps::RVec<int> Jet_jetId, ROOT::VecOps::RVec<int> Jet_puId, ROOT::VecOps::RVec<int> Jet_hadronFlavour, ROOT::VecOps::RVec<float> Jet_btagDeepFlavB, ROOT::VecOps::RVec<float> lepton_pt, ROOT::VecOps::RVec<float> lepton_eta, ROOT::VecOps::RVec<float> lepton_phi, ROOT::VecOps::RVec<float> lepton_mass, string incl_uncertainty, string comb_uncertainty, string shape_uncertainty) =>\n",
      "    out_of_range: Index not available in Category for input argument 1 val: 4\n",
      "down_jesRelativeSample\n",
      "vector<double> btag_SFinterface::get_btag_sf(ROOT::VecOps::RVec<float> Jet_pt, ROOT::VecOps::RVec<float> Jet_eta, ROOT::VecOps::RVec<float> Jet_phi, ROOT::VecOps::RVec<float> Jet_mass, ROOT::VecOps::RVec<int> Jet_jetId, ROOT::VecOps::RVec<int> Jet_puId, ROOT::VecOps::RVec<int> Jet_hadronFlavour, ROOT::VecOps::RVec<float> Jet_btagDeepFlavB, ROOT::VecOps::RVec<float> lepton_pt, ROOT::VecOps::RVec<float> lepton_eta, ROOT::VecOps::RVec<float> lepton_phi, ROOT::VecOps::RVec<float> lepton_mass, string incl_uncertainty, string comb_uncertainty, string shape_uncertainty) =>\n",
      "    out_of_range: Index not available in Category for input argument 1 val: 4\n",
      "down_jesRelativeStatEC\n",
      "vector<double> btag_SFinterface::get_btag_sf(ROOT::VecOps::RVec<float> Jet_pt, ROOT::VecOps::RVec<float> Jet_eta, ROOT::VecOps::RVec<float> Jet_phi, ROOT::VecOps::RVec<float> Jet_mass, ROOT::VecOps::RVec<int> Jet_jetId, ROOT::VecOps::RVec<int> Jet_puId, ROOT::VecOps::RVec<int> Jet_hadronFlavour, ROOT::VecOps::RVec<float> Jet_btagDeepFlavB, ROOT::VecOps::RVec<float> lepton_pt, ROOT::VecOps::RVec<float> lepton_eta, ROOT::VecOps::RVec<float> lepton_phi, ROOT::VecOps::RVec<float> lepton_mass, string incl_uncertainty, string comb_uncertainty, string shape_uncertainty) =>\n",
      "    out_of_range: Index not available in Category for input argument 1 val: 4\n",
      "down_jesRelativeStatFSR\n",
      "vector<double> btag_SFinterface::get_btag_sf(ROOT::VecOps::RVec<float> Jet_pt, ROOT::VecOps::RVec<float> Jet_eta, ROOT::VecOps::RVec<float> Jet_phi, ROOT::VecOps::RVec<float> Jet_mass, ROOT::VecOps::RVec<int> Jet_jetId, ROOT::VecOps::RVec<int> Jet_puId, ROOT::VecOps::RVec<int> Jet_hadronFlavour, ROOT::VecOps::RVec<float> Jet_btagDeepFlavB, ROOT::VecOps::RVec<float> lepton_pt, ROOT::VecOps::RVec<float> lepton_eta, ROOT::VecOps::RVec<float> lepton_phi, ROOT::VecOps::RVec<float> lepton_mass, string incl_uncertainty, string comb_uncertainty, string shape_uncertainty) =>\n",
      "    out_of_range: Index not available in Category for input argument 1 val: 4\n",
      "down_jesRelativeStatHF\n",
      "vector<double> btag_SFinterface::get_btag_sf(ROOT::VecOps::RVec<float> Jet_pt, ROOT::VecOps::RVec<float> Jet_eta, ROOT::VecOps::RVec<float> Jet_phi, ROOT::VecOps::RVec<float> Jet_mass, ROOT::VecOps::RVec<int> Jet_jetId, ROOT::VecOps::RVec<int> Jet_puId, ROOT::VecOps::RVec<int> Jet_hadronFlavour, ROOT::VecOps::RVec<float> Jet_btagDeepFlavB, ROOT::VecOps::RVec<float> lepton_pt, ROOT::VecOps::RVec<float> lepton_eta, ROOT::VecOps::RVec<float> lepton_phi, ROOT::VecOps::RVec<float> lepton_mass, string incl_uncertainty, string comb_uncertainty, string shape_uncertainty) =>\n",
      "    out_of_range: Index not available in Category for input argument 1 val: 4\n",
      "down_jesSinglePionECAL\n",
      "vector<double> btag_SFinterface::get_btag_sf(ROOT::VecOps::RVec<float> Jet_pt, ROOT::VecOps::RVec<float> Jet_eta, ROOT::VecOps::RVec<float> Jet_phi, ROOT::VecOps::RVec<float> Jet_mass, ROOT::VecOps::RVec<int> Jet_jetId, ROOT::VecOps::RVec<int> Jet_puId, ROOT::VecOps::RVec<int> Jet_hadronFlavour, ROOT::VecOps::RVec<float> Jet_btagDeepFlavB, ROOT::VecOps::RVec<float> lepton_pt, ROOT::VecOps::RVec<float> lepton_eta, ROOT::VecOps::RVec<float> lepton_phi, ROOT::VecOps::RVec<float> lepton_mass, string incl_uncertainty, string comb_uncertainty, string shape_uncertainty) =>\n",
      "    out_of_range: Index not available in Category for input argument 1 val: 4\n",
      "down_jesSinglePionHCAL\n",
      "vector<double> btag_SFinterface::get_btag_sf(ROOT::VecOps::RVec<float> Jet_pt, ROOT::VecOps::RVec<float> Jet_eta, ROOT::VecOps::RVec<float> Jet_phi, ROOT::VecOps::RVec<float> Jet_mass, ROOT::VecOps::RVec<int> Jet_jetId, ROOT::VecOps::RVec<int> Jet_puId, ROOT::VecOps::RVec<int> Jet_hadronFlavour, ROOT::VecOps::RVec<float> Jet_btagDeepFlavB, ROOT::VecOps::RVec<float> lepton_pt, ROOT::VecOps::RVec<float> lepton_eta, ROOT::VecOps::RVec<float> lepton_phi, ROOT::VecOps::RVec<float> lepton_mass, string incl_uncertainty, string comb_uncertainty, string shape_uncertainty) =>\n",
      "    out_of_range: Index not available in Category for input argument 1 val: 4\n",
      "down_jesTimePtEta\n",
      "vector<double> btag_SFinterface::get_btag_sf(ROOT::VecOps::RVec<float> Jet_pt, ROOT::VecOps::RVec<float> Jet_eta, ROOT::VecOps::RVec<float> Jet_phi, ROOT::VecOps::RVec<float> Jet_mass, ROOT::VecOps::RVec<int> Jet_jetId, ROOT::VecOps::RVec<int> Jet_puId, ROOT::VecOps::RVec<int> Jet_hadronFlavour, ROOT::VecOps::RVec<float> Jet_btagDeepFlavB, ROOT::VecOps::RVec<float> lepton_pt, ROOT::VecOps::RVec<float> lepton_eta, ROOT::VecOps::RVec<float> lepton_phi, ROOT::VecOps::RVec<float> lepton_mass, string incl_uncertainty, string comb_uncertainty, string shape_uncertainty) =>\n",
      "    out_of_range: Index not available in Category for input argument 1 val: 4\n",
      "up_cferr1\n",
      "[0.9540062593751429, 1.0, 1.0, 1.3205910507728913]\n",
      "up_cferr2\n",
      "[0.9540062593751429, 1.0, 1.0, 1.1641170499357774]\n",
      "up_hf\n",
      "[0.9540062593751429, 1.0, 1.0, 1.0]\n",
      "up_hfstats1\n",
      "[0.9540062593751429, 1.0, 1.0, 1.0]\n",
      "up_hfstats2\n",
      "[0.9540062593751429, 1.0, 1.0, 1.0]\n",
      "up_lf\n",
      "[0.9540062593751429, 1.0, 1.0, 1.0]\n",
      "up_lfstats1\n",
      "[0.9540062593751429, 1.0, 1.0, 1.0]\n",
      "up_lfstats2\n",
      "[0.9540062593751429, 1.0, 1.0, 1.0]\n",
      "up_jesAbsoluteMPFBias\n",
      "vector<double> btag_SFinterface::get_btag_sf(ROOT::VecOps::RVec<float> Jet_pt, ROOT::VecOps::RVec<float> Jet_eta, ROOT::VecOps::RVec<float> Jet_phi, ROOT::VecOps::RVec<float> Jet_mass, ROOT::VecOps::RVec<int> Jet_jetId, ROOT::VecOps::RVec<int> Jet_puId, ROOT::VecOps::RVec<int> Jet_hadronFlavour, ROOT::VecOps::RVec<float> Jet_btagDeepFlavB, ROOT::VecOps::RVec<float> lepton_pt, ROOT::VecOps::RVec<float> lepton_eta, ROOT::VecOps::RVec<float> lepton_phi, ROOT::VecOps::RVec<float> lepton_mass, string incl_uncertainty, string comb_uncertainty, string shape_uncertainty) =>\n",
      "    out_of_range: Index not available in Category for input argument 1 val: 4\n",
      "up_jesAbsoluteScale\n",
      "vector<double> btag_SFinterface::get_btag_sf(ROOT::VecOps::RVec<float> Jet_pt, ROOT::VecOps::RVec<float> Jet_eta, ROOT::VecOps::RVec<float> Jet_phi, ROOT::VecOps::RVec<float> Jet_mass, ROOT::VecOps::RVec<int> Jet_jetId, ROOT::VecOps::RVec<int> Jet_puId, ROOT::VecOps::RVec<int> Jet_hadronFlavour, ROOT::VecOps::RVec<float> Jet_btagDeepFlavB, ROOT::VecOps::RVec<float> lepton_pt, ROOT::VecOps::RVec<float> lepton_eta, ROOT::VecOps::RVec<float> lepton_phi, ROOT::VecOps::RVec<float> lepton_mass, string incl_uncertainty, string comb_uncertainty, string shape_uncertainty) =>\n",
      "    out_of_range: Index not available in Category for input argument 1 val: 4\n",
      "up_jesAbsoluteStat\n",
      "vector<double> btag_SFinterface::get_btag_sf(ROOT::VecOps::RVec<float> Jet_pt, ROOT::VecOps::RVec<float> Jet_eta, ROOT::VecOps::RVec<float> Jet_phi, ROOT::VecOps::RVec<float> Jet_mass, ROOT::VecOps::RVec<int> Jet_jetId, ROOT::VecOps::RVec<int> Jet_puId, ROOT::VecOps::RVec<int> Jet_hadronFlavour, ROOT::VecOps::RVec<float> Jet_btagDeepFlavB, ROOT::VecOps::RVec<float> lepton_pt, ROOT::VecOps::RVec<float> lepton_eta, ROOT::VecOps::RVec<float> lepton_phi, ROOT::VecOps::RVec<float> lepton_mass, string incl_uncertainty, string comb_uncertainty, string shape_uncertainty) =>\n",
      "    out_of_range: Index not available in Category for input argument 1 val: 4\n",
      "up_jesFlavorQCD\n",
      "vector<double> btag_SFinterface::get_btag_sf(ROOT::VecOps::RVec<float> Jet_pt, ROOT::VecOps::RVec<float> Jet_eta, ROOT::VecOps::RVec<float> Jet_phi, ROOT::VecOps::RVec<float> Jet_mass, ROOT::VecOps::RVec<int> Jet_jetId, ROOT::VecOps::RVec<int> Jet_puId, ROOT::VecOps::RVec<int> Jet_hadronFlavour, ROOT::VecOps::RVec<float> Jet_btagDeepFlavB, ROOT::VecOps::RVec<float> lepton_pt, ROOT::VecOps::RVec<float> lepton_eta, ROOT::VecOps::RVec<float> lepton_phi, ROOT::VecOps::RVec<float> lepton_mass, string incl_uncertainty, string comb_uncertainty, string shape_uncertainty) =>\n",
      "    out_of_range: Index not available in Category for input argument 1 val: 4\n",
      "up_jesFragmentation\n",
      "vector<double> btag_SFinterface::get_btag_sf(ROOT::VecOps::RVec<float> Jet_pt, ROOT::VecOps::RVec<float> Jet_eta, ROOT::VecOps::RVec<float> Jet_phi, ROOT::VecOps::RVec<float> Jet_mass, ROOT::VecOps::RVec<int> Jet_jetId, ROOT::VecOps::RVec<int> Jet_puId, ROOT::VecOps::RVec<int> Jet_hadronFlavour, ROOT::VecOps::RVec<float> Jet_btagDeepFlavB, ROOT::VecOps::RVec<float> lepton_pt, ROOT::VecOps::RVec<float> lepton_eta, ROOT::VecOps::RVec<float> lepton_phi, ROOT::VecOps::RVec<float> lepton_mass, string incl_uncertainty, string comb_uncertainty, string shape_uncertainty) =>\n",
      "    out_of_range: Index not available in Category for input argument 1 val: 4\n",
      "up_jesPileUpDataMC\n",
      "vector<double> btag_SFinterface::get_btag_sf(ROOT::VecOps::RVec<float> Jet_pt, ROOT::VecOps::RVec<float> Jet_eta, ROOT::VecOps::RVec<float> Jet_phi, ROOT::VecOps::RVec<float> Jet_mass, ROOT::VecOps::RVec<int> Jet_jetId, ROOT::VecOps::RVec<int> Jet_puId, ROOT::VecOps::RVec<int> Jet_hadronFlavour, ROOT::VecOps::RVec<float> Jet_btagDeepFlavB, ROOT::VecOps::RVec<float> lepton_pt, ROOT::VecOps::RVec<float> lepton_eta, ROOT::VecOps::RVec<float> lepton_phi, ROOT::VecOps::RVec<float> lepton_mass, string incl_uncertainty, string comb_uncertainty, string shape_uncertainty) =>\n",
      "    out_of_range: Index not available in Category for input argument 1 val: 4\n",
      "up_jesPileUpPtBB\n",
      "vector<double> btag_SFinterface::get_btag_sf(ROOT::VecOps::RVec<float> Jet_pt, ROOT::VecOps::RVec<float> Jet_eta, ROOT::VecOps::RVec<float> Jet_phi, ROOT::VecOps::RVec<float> Jet_mass, ROOT::VecOps::RVec<int> Jet_jetId, ROOT::VecOps::RVec<int> Jet_puId, ROOT::VecOps::RVec<int> Jet_hadronFlavour, ROOT::VecOps::RVec<float> Jet_btagDeepFlavB, ROOT::VecOps::RVec<float> lepton_pt, ROOT::VecOps::RVec<float> lepton_eta, ROOT::VecOps::RVec<float> lepton_phi, ROOT::VecOps::RVec<float> lepton_mass, string incl_uncertainty, string comb_uncertainty, string shape_uncertainty) =>\n",
      "    out_of_range: Index not available in Category for input argument 1 val: 4\n",
      "up_jesPileUpPtEC1\n",
      "vector<double> btag_SFinterface::get_btag_sf(ROOT::VecOps::RVec<float> Jet_pt, ROOT::VecOps::RVec<float> Jet_eta, ROOT::VecOps::RVec<float> Jet_phi, ROOT::VecOps::RVec<float> Jet_mass, ROOT::VecOps::RVec<int> Jet_jetId, ROOT::VecOps::RVec<int> Jet_puId, ROOT::VecOps::RVec<int> Jet_hadronFlavour, ROOT::VecOps::RVec<float> Jet_btagDeepFlavB, ROOT::VecOps::RVec<float> lepton_pt, ROOT::VecOps::RVec<float> lepton_eta, ROOT::VecOps::RVec<float> lepton_phi, ROOT::VecOps::RVec<float> lepton_mass, string incl_uncertainty, string comb_uncertainty, string shape_uncertainty) =>\n",
      "    out_of_range: Index not available in Category for input argument 1 val: 4\n",
      "up_jesPileUpPtEC2\n",
      "vector<double> btag_SFinterface::get_btag_sf(ROOT::VecOps::RVec<float> Jet_pt, ROOT::VecOps::RVec<float> Jet_eta, ROOT::VecOps::RVec<float> Jet_phi, ROOT::VecOps::RVec<float> Jet_mass, ROOT::VecOps::RVec<int> Jet_jetId, ROOT::VecOps::RVec<int> Jet_puId, ROOT::VecOps::RVec<int> Jet_hadronFlavour, ROOT::VecOps::RVec<float> Jet_btagDeepFlavB, ROOT::VecOps::RVec<float> lepton_pt, ROOT::VecOps::RVec<float> lepton_eta, ROOT::VecOps::RVec<float> lepton_phi, ROOT::VecOps::RVec<float> lepton_mass, string incl_uncertainty, string comb_uncertainty, string shape_uncertainty) =>\n",
      "    out_of_range: Index not available in Category for input argument 1 val: 4\n",
      "up_jesPileUpPtHF\n",
      "vector<double> btag_SFinterface::get_btag_sf(ROOT::VecOps::RVec<float> Jet_pt, ROOT::VecOps::RVec<float> Jet_eta, ROOT::VecOps::RVec<float> Jet_phi, ROOT::VecOps::RVec<float> Jet_mass, ROOT::VecOps::RVec<int> Jet_jetId, ROOT::VecOps::RVec<int> Jet_puId, ROOT::VecOps::RVec<int> Jet_hadronFlavour, ROOT::VecOps::RVec<float> Jet_btagDeepFlavB, ROOT::VecOps::RVec<float> lepton_pt, ROOT::VecOps::RVec<float> lepton_eta, ROOT::VecOps::RVec<float> lepton_phi, ROOT::VecOps::RVec<float> lepton_mass, string incl_uncertainty, string comb_uncertainty, string shape_uncertainty) =>\n",
      "    out_of_range: Index not available in Category for input argument 1 val: 4\n",
      "up_jesPileUpPtRef\n",
      "vector<double> btag_SFinterface::get_btag_sf(ROOT::VecOps::RVec<float> Jet_pt, ROOT::VecOps::RVec<float> Jet_eta, ROOT::VecOps::RVec<float> Jet_phi, ROOT::VecOps::RVec<float> Jet_mass, ROOT::VecOps::RVec<int> Jet_jetId, ROOT::VecOps::RVec<int> Jet_puId, ROOT::VecOps::RVec<int> Jet_hadronFlavour, ROOT::VecOps::RVec<float> Jet_btagDeepFlavB, ROOT::VecOps::RVec<float> lepton_pt, ROOT::VecOps::RVec<float> lepton_eta, ROOT::VecOps::RVec<float> lepton_phi, ROOT::VecOps::RVec<float> lepton_mass, string incl_uncertainty, string comb_uncertainty, string shape_uncertainty) =>\n",
      "    out_of_range: Index not available in Category for input argument 1 val: 4\n",
      "up_jesRelativeBal\n",
      "vector<double> btag_SFinterface::get_btag_sf(ROOT::VecOps::RVec<float> Jet_pt, ROOT::VecOps::RVec<float> Jet_eta, ROOT::VecOps::RVec<float> Jet_phi, ROOT::VecOps::RVec<float> Jet_mass, ROOT::VecOps::RVec<int> Jet_jetId, ROOT::VecOps::RVec<int> Jet_puId, ROOT::VecOps::RVec<int> Jet_hadronFlavour, ROOT::VecOps::RVec<float> Jet_btagDeepFlavB, ROOT::VecOps::RVec<float> lepton_pt, ROOT::VecOps::RVec<float> lepton_eta, ROOT::VecOps::RVec<float> lepton_phi, ROOT::VecOps::RVec<float> lepton_mass, string incl_uncertainty, string comb_uncertainty, string shape_uncertainty) =>\n",
      "    out_of_range: Index not available in Category for input argument 1 val: 4\n",
      "up_jesRelativeFSR\n",
      "vector<double> btag_SFinterface::get_btag_sf(ROOT::VecOps::RVec<float> Jet_pt, ROOT::VecOps::RVec<float> Jet_eta, ROOT::VecOps::RVec<float> Jet_phi, ROOT::VecOps::RVec<float> Jet_mass, ROOT::VecOps::RVec<int> Jet_jetId, ROOT::VecOps::RVec<int> Jet_puId, ROOT::VecOps::RVec<int> Jet_hadronFlavour, ROOT::VecOps::RVec<float> Jet_btagDeepFlavB, ROOT::VecOps::RVec<float> lepton_pt, ROOT::VecOps::RVec<float> lepton_eta, ROOT::VecOps::RVec<float> lepton_phi, ROOT::VecOps::RVec<float> lepton_mass, string incl_uncertainty, string comb_uncertainty, string shape_uncertainty) =>\n",
      "    out_of_range: Index not available in Category for input argument 1 val: 4\n",
      "up_jesRelativeJEREC1\n",
      "vector<double> btag_SFinterface::get_btag_sf(ROOT::VecOps::RVec<float> Jet_pt, ROOT::VecOps::RVec<float> Jet_eta, ROOT::VecOps::RVec<float> Jet_phi, ROOT::VecOps::RVec<float> Jet_mass, ROOT::VecOps::RVec<int> Jet_jetId, ROOT::VecOps::RVec<int> Jet_puId, ROOT::VecOps::RVec<int> Jet_hadronFlavour, ROOT::VecOps::RVec<float> Jet_btagDeepFlavB, ROOT::VecOps::RVec<float> lepton_pt, ROOT::VecOps::RVec<float> lepton_eta, ROOT::VecOps::RVec<float> lepton_phi, ROOT::VecOps::RVec<float> lepton_mass, string incl_uncertainty, string comb_uncertainty, string shape_uncertainty) =>\n",
      "    out_of_range: Index not available in Category for input argument 1 val: 4\n",
      "up_jesRelativeJEREC2\n",
      "vector<double> btag_SFinterface::get_btag_sf(ROOT::VecOps::RVec<float> Jet_pt, ROOT::VecOps::RVec<float> Jet_eta, ROOT::VecOps::RVec<float> Jet_phi, ROOT::VecOps::RVec<float> Jet_mass, ROOT::VecOps::RVec<int> Jet_jetId, ROOT::VecOps::RVec<int> Jet_puId, ROOT::VecOps::RVec<int> Jet_hadronFlavour, ROOT::VecOps::RVec<float> Jet_btagDeepFlavB, ROOT::VecOps::RVec<float> lepton_pt, ROOT::VecOps::RVec<float> lepton_eta, ROOT::VecOps::RVec<float> lepton_phi, ROOT::VecOps::RVec<float> lepton_mass, string incl_uncertainty, string comb_uncertainty, string shape_uncertainty) =>\n",
      "    out_of_range: Index not available in Category for input argument 1 val: 4\n",
      "up_jesRelativeJERHF\n",
      "vector<double> btag_SFinterface::get_btag_sf(ROOT::VecOps::RVec<float> Jet_pt, ROOT::VecOps::RVec<float> Jet_eta, ROOT::VecOps::RVec<float> Jet_phi, ROOT::VecOps::RVec<float> Jet_mass, ROOT::VecOps::RVec<int> Jet_jetId, ROOT::VecOps::RVec<int> Jet_puId, ROOT::VecOps::RVec<int> Jet_hadronFlavour, ROOT::VecOps::RVec<float> Jet_btagDeepFlavB, ROOT::VecOps::RVec<float> lepton_pt, ROOT::VecOps::RVec<float> lepton_eta, ROOT::VecOps::RVec<float> lepton_phi, ROOT::VecOps::RVec<float> lepton_mass, string incl_uncertainty, string comb_uncertainty, string shape_uncertainty) =>\n",
      "    out_of_range: Index not available in Category for input argument 1 val: 4\n",
      "up_jesRelativePtBB\n",
      "vector<double> btag_SFinterface::get_btag_sf(ROOT::VecOps::RVec<float> Jet_pt, ROOT::VecOps::RVec<float> Jet_eta, ROOT::VecOps::RVec<float> Jet_phi, ROOT::VecOps::RVec<float> Jet_mass, ROOT::VecOps::RVec<int> Jet_jetId, ROOT::VecOps::RVec<int> Jet_puId, ROOT::VecOps::RVec<int> Jet_hadronFlavour, ROOT::VecOps::RVec<float> Jet_btagDeepFlavB, ROOT::VecOps::RVec<float> lepton_pt, ROOT::VecOps::RVec<float> lepton_eta, ROOT::VecOps::RVec<float> lepton_phi, ROOT::VecOps::RVec<float> lepton_mass, string incl_uncertainty, string comb_uncertainty, string shape_uncertainty) =>\n",
      "    out_of_range: Index not available in Category for input argument 1 val: 4\n",
      "up_jesRelativePtEC1\n",
      "vector<double> btag_SFinterface::get_btag_sf(ROOT::VecOps::RVec<float> Jet_pt, ROOT::VecOps::RVec<float> Jet_eta, ROOT::VecOps::RVec<float> Jet_phi, ROOT::VecOps::RVec<float> Jet_mass, ROOT::VecOps::RVec<int> Jet_jetId, ROOT::VecOps::RVec<int> Jet_puId, ROOT::VecOps::RVec<int> Jet_hadronFlavour, ROOT::VecOps::RVec<float> Jet_btagDeepFlavB, ROOT::VecOps::RVec<float> lepton_pt, ROOT::VecOps::RVec<float> lepton_eta, ROOT::VecOps::RVec<float> lepton_phi, ROOT::VecOps::RVec<float> lepton_mass, string incl_uncertainty, string comb_uncertainty, string shape_uncertainty) =>\n",
      "    out_of_range: Index not available in Category for input argument 1 val: 4\n",
      "up_jesRelativePtEC2\n",
      "vector<double> btag_SFinterface::get_btag_sf(ROOT::VecOps::RVec<float> Jet_pt, ROOT::VecOps::RVec<float> Jet_eta, ROOT::VecOps::RVec<float> Jet_phi, ROOT::VecOps::RVec<float> Jet_mass, ROOT::VecOps::RVec<int> Jet_jetId, ROOT::VecOps::RVec<int> Jet_puId, ROOT::VecOps::RVec<int> Jet_hadronFlavour, ROOT::VecOps::RVec<float> Jet_btagDeepFlavB, ROOT::VecOps::RVec<float> lepton_pt, ROOT::VecOps::RVec<float> lepton_eta, ROOT::VecOps::RVec<float> lepton_phi, ROOT::VecOps::RVec<float> lepton_mass, string incl_uncertainty, string comb_uncertainty, string shape_uncertainty) =>\n",
      "    out_of_range: Index not available in Category for input argument 1 val: 4\n",
      "up_jesRelativePtHF\n",
      "vector<double> btag_SFinterface::get_btag_sf(ROOT::VecOps::RVec<float> Jet_pt, ROOT::VecOps::RVec<float> Jet_eta, ROOT::VecOps::RVec<float> Jet_phi, ROOT::VecOps::RVec<float> Jet_mass, ROOT::VecOps::RVec<int> Jet_jetId, ROOT::VecOps::RVec<int> Jet_puId, ROOT::VecOps::RVec<int> Jet_hadronFlavour, ROOT::VecOps::RVec<float> Jet_btagDeepFlavB, ROOT::VecOps::RVec<float> lepton_pt, ROOT::VecOps::RVec<float> lepton_eta, ROOT::VecOps::RVec<float> lepton_phi, ROOT::VecOps::RVec<float> lepton_mass, string incl_uncertainty, string comb_uncertainty, string shape_uncertainty) =>\n",
      "    out_of_range: Index not available in Category for input argument 1 val: 4\n",
      "up_jesRelativeSample\n",
      "vector<double> btag_SFinterface::get_btag_sf(ROOT::VecOps::RVec<float> Jet_pt, ROOT::VecOps::RVec<float> Jet_eta, ROOT::VecOps::RVec<float> Jet_phi, ROOT::VecOps::RVec<float> Jet_mass, ROOT::VecOps::RVec<int> Jet_jetId, ROOT::VecOps::RVec<int> Jet_puId, ROOT::VecOps::RVec<int> Jet_hadronFlavour, ROOT::VecOps::RVec<float> Jet_btagDeepFlavB, ROOT::VecOps::RVec<float> lepton_pt, ROOT::VecOps::RVec<float> lepton_eta, ROOT::VecOps::RVec<float> lepton_phi, ROOT::VecOps::RVec<float> lepton_mass, string incl_uncertainty, string comb_uncertainty, string shape_uncertainty) =>\n",
      "    out_of_range: Index not available in Category for input argument 1 val: 4\n",
      "up_jesRelativeStatEC\n",
      "vector<double> btag_SFinterface::get_btag_sf(ROOT::VecOps::RVec<float> Jet_pt, ROOT::VecOps::RVec<float> Jet_eta, ROOT::VecOps::RVec<float> Jet_phi, ROOT::VecOps::RVec<float> Jet_mass, ROOT::VecOps::RVec<int> Jet_jetId, ROOT::VecOps::RVec<int> Jet_puId, ROOT::VecOps::RVec<int> Jet_hadronFlavour, ROOT::VecOps::RVec<float> Jet_btagDeepFlavB, ROOT::VecOps::RVec<float> lepton_pt, ROOT::VecOps::RVec<float> lepton_eta, ROOT::VecOps::RVec<float> lepton_phi, ROOT::VecOps::RVec<float> lepton_mass, string incl_uncertainty, string comb_uncertainty, string shape_uncertainty) =>\n",
      "    out_of_range: Index not available in Category for input argument 1 val: 4\n",
      "up_jesRelativeStatFSR\n",
      "vector<double> btag_SFinterface::get_btag_sf(ROOT::VecOps::RVec<float> Jet_pt, ROOT::VecOps::RVec<float> Jet_eta, ROOT::VecOps::RVec<float> Jet_phi, ROOT::VecOps::RVec<float> Jet_mass, ROOT::VecOps::RVec<int> Jet_jetId, ROOT::VecOps::RVec<int> Jet_puId, ROOT::VecOps::RVec<int> Jet_hadronFlavour, ROOT::VecOps::RVec<float> Jet_btagDeepFlavB, ROOT::VecOps::RVec<float> lepton_pt, ROOT::VecOps::RVec<float> lepton_eta, ROOT::VecOps::RVec<float> lepton_phi, ROOT::VecOps::RVec<float> lepton_mass, string incl_uncertainty, string comb_uncertainty, string shape_uncertainty) =>\n",
      "    out_of_range: Index not available in Category for input argument 1 val: 4\n",
      "up_jesRelativeStatHF\n",
      "vector<double> btag_SFinterface::get_btag_sf(ROOT::VecOps::RVec<float> Jet_pt, ROOT::VecOps::RVec<float> Jet_eta, ROOT::VecOps::RVec<float> Jet_phi, ROOT::VecOps::RVec<float> Jet_mass, ROOT::VecOps::RVec<int> Jet_jetId, ROOT::VecOps::RVec<int> Jet_puId, ROOT::VecOps::RVec<int> Jet_hadronFlavour, ROOT::VecOps::RVec<float> Jet_btagDeepFlavB, ROOT::VecOps::RVec<float> lepton_pt, ROOT::VecOps::RVec<float> lepton_eta, ROOT::VecOps::RVec<float> lepton_phi, ROOT::VecOps::RVec<float> lepton_mass, string incl_uncertainty, string comb_uncertainty, string shape_uncertainty) =>\n",
      "    out_of_range: Index not available in Category for input argument 1 val: 4\n",
      "up_jesSinglePionECAL\n",
      "vector<double> btag_SFinterface::get_btag_sf(ROOT::VecOps::RVec<float> Jet_pt, ROOT::VecOps::RVec<float> Jet_eta, ROOT::VecOps::RVec<float> Jet_phi, ROOT::VecOps::RVec<float> Jet_mass, ROOT::VecOps::RVec<int> Jet_jetId, ROOT::VecOps::RVec<int> Jet_puId, ROOT::VecOps::RVec<int> Jet_hadronFlavour, ROOT::VecOps::RVec<float> Jet_btagDeepFlavB, ROOT::VecOps::RVec<float> lepton_pt, ROOT::VecOps::RVec<float> lepton_eta, ROOT::VecOps::RVec<float> lepton_phi, ROOT::VecOps::RVec<float> lepton_mass, string incl_uncertainty, string comb_uncertainty, string shape_uncertainty) =>\n",
      "    out_of_range: Index not available in Category for input argument 1 val: 4\n",
      "up_jesSinglePionHCAL\n",
      "vector<double> btag_SFinterface::get_btag_sf(ROOT::VecOps::RVec<float> Jet_pt, ROOT::VecOps::RVec<float> Jet_eta, ROOT::VecOps::RVec<float> Jet_phi, ROOT::VecOps::RVec<float> Jet_mass, ROOT::VecOps::RVec<int> Jet_jetId, ROOT::VecOps::RVec<int> Jet_puId, ROOT::VecOps::RVec<int> Jet_hadronFlavour, ROOT::VecOps::RVec<float> Jet_btagDeepFlavB, ROOT::VecOps::RVec<float> lepton_pt, ROOT::VecOps::RVec<float> lepton_eta, ROOT::VecOps::RVec<float> lepton_phi, ROOT::VecOps::RVec<float> lepton_mass, string incl_uncertainty, string comb_uncertainty, string shape_uncertainty) =>\n",
      "    out_of_range: Index not available in Category for input argument 1 val: 4\n",
      "up_jesTimePtEta\n",
      "vector<double> btag_SFinterface::get_btag_sf(ROOT::VecOps::RVec<float> Jet_pt, ROOT::VecOps::RVec<float> Jet_eta, ROOT::VecOps::RVec<float> Jet_phi, ROOT::VecOps::RVec<float> Jet_mass, ROOT::VecOps::RVec<int> Jet_jetId, ROOT::VecOps::RVec<int> Jet_puId, ROOT::VecOps::RVec<int> Jet_hadronFlavour, ROOT::VecOps::RVec<float> Jet_btagDeepFlavB, ROOT::VecOps::RVec<float> lepton_pt, ROOT::VecOps::RVec<float> lepton_eta, ROOT::VecOps::RVec<float> lepton_phi, ROOT::VecOps::RVec<float> lepton_mass, string incl_uncertainty, string comb_uncertainty, string shape_uncertainty) =>\n",
      "    out_of_range: Index not available in Category for input argument 1 val: 4\n"
     ]
    },
    {
     "name": "stderr",
     "output_type": "stream",
     "text": [
      "#################### ERROR : Correctionlib evalutaion failed Index not available in Category for input argument 1 val: 4\n",
      "while evaluating deepJet_shape with input variables systematic(), flavor(hadron flavor definition: 5=b, 4=c, 0=udsg), abseta(), pt(), discriminant(deepJet output value), \n",
      "Input values : down_jesAbsoluteMPFBias, 4, 0.100000, 500.000000, 0.100000, \n",
      "#################### ERROR : Correctionlib evalutaion failed Index not available in Category for input argument 1 val: 4\n",
      "while evaluating deepJet_shape with input variables systematic(), flavor(hadron flavor definition: 5=b, 4=c, 0=udsg), abseta(), pt(), discriminant(deepJet output value), \n",
      "Input values : down_jesAbsoluteScale, 4, 0.100000, 500.000000, 0.100000, \n",
      "#################### ERROR : Correctionlib evalutaion failed Index not available in Category for input argument 1 val: 4\n",
      "while evaluating deepJet_shape with input variables systematic(), flavor(hadron flavor definition: 5=b, 4=c, 0=udsg), abseta(), pt(), discriminant(deepJet output value), \n",
      "Input values : down_jesAbsoluteStat, 4, 0.100000, 500.000000, 0.100000, \n",
      "#################### ERROR : Correctionlib evalutaion failed Index not available in Category for input argument 1 val: 4\n",
      "while evaluating deepJet_shape with input variables systematic(), flavor(hadron flavor definition: 5=b, 4=c, 0=udsg), abseta(), pt(), discriminant(deepJet output value), \n",
      "Input values : down_jesFlavorQCD, 4, 0.100000, 500.000000, 0.100000, \n",
      "#################### ERROR : Correctionlib evalutaion failed Index not available in Category for input argument 1 val: 4\n",
      "while evaluating deepJet_shape with input variables systematic(), flavor(hadron flavor definition: 5=b, 4=c, 0=udsg), abseta(), pt(), discriminant(deepJet output value), \n",
      "Input values : down_jesFragmentation, 4, 0.100000, 500.000000, 0.100000, \n",
      "#################### ERROR : Correctionlib evalutaion failed Index not available in Category for input argument 1 val: 4\n",
      "while evaluating deepJet_shape with input variables systematic(), flavor(hadron flavor definition: 5=b, 4=c, 0=udsg), abseta(), pt(), discriminant(deepJet output value), \n",
      "Input values : down_jesPileUpDataMC, 4, 0.100000, 500.000000, 0.100000, \n",
      "#################### ERROR : Correctionlib evalutaion failed Index not available in Category for input argument 1 val: 4\n",
      "while evaluating deepJet_shape with input variables systematic(), flavor(hadron flavor definition: 5=b, 4=c, 0=udsg), abseta(), pt(), discriminant(deepJet output value), \n",
      "Input values : down_jesPileUpPtBB, 4, 0.100000, 500.000000, 0.100000, \n",
      "#################### ERROR : Correctionlib evalutaion failed Index not available in Category for input argument 1 val: 4\n",
      "while evaluating deepJet_shape with input variables systematic(), flavor(hadron flavor definition: 5=b, 4=c, 0=udsg), abseta(), pt(), discriminant(deepJet output value), \n",
      "Input values : down_jesPileUpPtEC1, 4, 0.100000, 500.000000, 0.100000, \n",
      "#################### ERROR : Correctionlib evalutaion failed Index not available in Category for input argument 1 val: 4\n",
      "while evaluating deepJet_shape with input variables systematic(), flavor(hadron flavor definition: 5=b, 4=c, 0=udsg), abseta(), pt(), discriminant(deepJet output value), \n",
      "Input values : down_jesPileUpPtEC2, 4, 0.100000, 500.000000, 0.100000, \n",
      "#################### ERROR : Correctionlib evalutaion failed Index not available in Category for input argument 1 val: 4\n",
      "while evaluating deepJet_shape with input variables systematic(), flavor(hadron flavor definition: 5=b, 4=c, 0=udsg), abseta(), pt(), discriminant(deepJet output value), \n",
      "Input values : down_jesPileUpPtHF, 4, 0.100000, 500.000000, 0.100000, \n",
      "#################### ERROR : Correctionlib evalutaion failed Index not available in Category for input argument 1 val: 4\n",
      "while evaluating deepJet_shape with input variables systematic(), flavor(hadron flavor definition: 5=b, 4=c, 0=udsg), abseta(), pt(), discriminant(deepJet output value), \n",
      "Input values : down_jesPileUpPtRef, 4, 0.100000, 500.000000, 0.100000, \n",
      "#################### ERROR : Correctionlib evalutaion failed Index not available in Category for input argument 1 val: 4\n",
      "while evaluating deepJet_shape with input variables systematic(), flavor(hadron flavor definition: 5=b, 4=c, 0=udsg), abseta(), pt(), discriminant(deepJet output value), \n",
      "Input values : down_jesRelativeBal, 4, 0.100000, 500.000000, 0.100000, \n",
      "#################### ERROR : Correctionlib evalutaion failed Index not available in Category for input argument 1 val: 4\n",
      "while evaluating deepJet_shape with input variables systematic(), flavor(hadron flavor definition: 5=b, 4=c, 0=udsg), abseta(), pt(), discriminant(deepJet output value), \n",
      "Input values : down_jesRelativeFSR, 4, 0.100000, 500.000000, 0.100000, \n",
      "#################### ERROR : Correctionlib evalutaion failed Index not available in Category for input argument 1 val: 4\n",
      "while evaluating deepJet_shape with input variables systematic(), flavor(hadron flavor definition: 5=b, 4=c, 0=udsg), abseta(), pt(), discriminant(deepJet output value), \n",
      "Input values : down_jesRelativeJEREC1, 4, 0.100000, 500.000000, 0.100000, \n",
      "#################### ERROR : Correctionlib evalutaion failed Index not available in Category for input argument 1 val: 4\n",
      "while evaluating deepJet_shape with input variables systematic(), flavor(hadron flavor definition: 5=b, 4=c, 0=udsg), abseta(), pt(), discriminant(deepJet output value), \n",
      "Input values : down_jesRelativeJEREC2, 4, 0.100000, 500.000000, 0.100000, \n",
      "#################### ERROR : Correctionlib evalutaion failed Index not available in Category for input argument 1 val: 4\n",
      "while evaluating deepJet_shape with input variables systematic(), flavor(hadron flavor definition: 5=b, 4=c, 0=udsg), abseta(), pt(), discriminant(deepJet output value), \n",
      "Input values : down_jesRelativeJERHF, 4, 0.100000, 500.000000, 0.100000, \n",
      "#################### ERROR : Correctionlib evalutaion failed Index not available in Category for input argument 1 val: 4\n",
      "while evaluating deepJet_shape with input variables systematic(), flavor(hadron flavor definition: 5=b, 4=c, 0=udsg), abseta(), pt(), discriminant(deepJet output value), \n",
      "Input values : down_jesRelativePtBB, 4, 0.100000, 500.000000, 0.100000, \n",
      "#################### ERROR : Correctionlib evalutaion failed Index not available in Category for input argument 1 val: 4\n",
      "while evaluating deepJet_shape with input variables systematic(), flavor(hadron flavor definition: 5=b, 4=c, 0=udsg), abseta(), pt(), discriminant(deepJet output value), \n",
      "Input values : down_jesRelativePtEC1, 4, 0.100000, 500.000000, 0.100000, \n",
      "#################### ERROR : Correctionlib evalutaion failed Index not available in Category for input argument 1 val: 4\n",
      "while evaluating deepJet_shape with input variables systematic(), flavor(hadron flavor definition: 5=b, 4=c, 0=udsg), abseta(), pt(), discriminant(deepJet output value), \n",
      "Input values : down_jesRelativePtEC2, 4, 0.100000, 500.000000, 0.100000, \n",
      "#################### ERROR : Correctionlib evalutaion failed Index not available in Category for input argument 1 val: 4\n",
      "while evaluating deepJet_shape with input variables systematic(), flavor(hadron flavor definition: 5=b, 4=c, 0=udsg), abseta(), pt(), discriminant(deepJet output value), \n",
      "Input values : down_jesRelativePtHF, 4, 0.100000, 500.000000, 0.100000, \n",
      "#################### ERROR : Correctionlib evalutaion failed Index not available in Category for input argument 1 val: 4\n",
      "while evaluating deepJet_shape with input variables systematic(), flavor(hadron flavor definition: 5=b, 4=c, 0=udsg), abseta(), pt(), discriminant(deepJet output value), \n",
      "Input values : down_jesRelativeSample, 4, 0.100000, 500.000000, 0.100000, \n",
      "#################### ERROR : Correctionlib evalutaion failed Index not available in Category for input argument 1 val: 4\n",
      "while evaluating deepJet_shape with input variables systematic(), flavor(hadron flavor definition: 5=b, 4=c, 0=udsg), abseta(), pt(), discriminant(deepJet output value), \n",
      "Input values : down_jesRelativeStatEC, 4, 0.100000, 500.000000, 0.100000, \n",
      "#################### ERROR : Correctionlib evalutaion failed Index not available in Category for input argument 1 val: 4\n",
      "while evaluating deepJet_shape with input variables systematic(), flavor(hadron flavor definition: 5=b, 4=c, 0=udsg), abseta(), pt(), discriminant(deepJet output value), \n",
      "Input values : down_jesRelativeStatFSR, 4, 0.100000, 500.000000, 0.100000, \n",
      "#################### ERROR : Correctionlib evalutaion failed Index not available in Category for input argument 1 val: 4\n",
      "while evaluating deepJet_shape with input variables systematic(), flavor(hadron flavor definition: 5=b, 4=c, 0=udsg), abseta(), pt(), discriminant(deepJet output value), \n",
      "Input values : down_jesRelativeStatHF, 4, 0.100000, 500.000000, 0.100000, \n",
      "#################### ERROR : Correctionlib evalutaion failed Index not available in Category for input argument 1 val: 4\n",
      "while evaluating deepJet_shape with input variables systematic(), flavor(hadron flavor definition: 5=b, 4=c, 0=udsg), abseta(), pt(), discriminant(deepJet output value), \n",
      "Input values : down_jesSinglePionECAL, 4, 0.100000, 500.000000, 0.100000, \n",
      "#################### ERROR : Correctionlib evalutaion failed Index not available in Category for input argument 1 val: 4\n",
      "while evaluating deepJet_shape with input variables systematic(), flavor(hadron flavor definition: 5=b, 4=c, 0=udsg), abseta(), pt(), discriminant(deepJet output value), \n",
      "Input values : down_jesSinglePionHCAL, 4, 0.100000, 500.000000, 0.100000, \n",
      "#################### ERROR : Correctionlib evalutaion failed Index not available in Category for input argument 1 val: 4\n",
      "while evaluating deepJet_shape with input variables systematic(), flavor(hadron flavor definition: 5=b, 4=c, 0=udsg), abseta(), pt(), discriminant(deepJet output value), \n",
      "Input values : down_jesTimePtEta, 4, 0.100000, 500.000000, 0.100000, \n",
      "#################### ERROR : Correctionlib evalutaion failed Index not available in Category for input argument 1 val: 4\n",
      "while evaluating deepJet_shape with input variables systematic(), flavor(hadron flavor definition: 5=b, 4=c, 0=udsg), abseta(), pt(), discriminant(deepJet output value), \n",
      "Input values : up_jesAbsoluteMPFBias, 4, 0.100000, 500.000000, 0.100000, \n",
      "#################### ERROR : Correctionlib evalutaion failed Index not available in Category for input argument 1 val: 4\n",
      "while evaluating deepJet_shape with input variables systematic(), flavor(hadron flavor definition: 5=b, 4=c, 0=udsg), abseta(), pt(), discriminant(deepJet output value), \n",
      "Input values : up_jesAbsoluteScale, 4, 0.100000, 500.000000, 0.100000, \n",
      "#################### ERROR : Correctionlib evalutaion failed Index not available in Category for input argument 1 val: 4\n",
      "while evaluating deepJet_shape with input variables systematic(), flavor(hadron flavor definition: 5=b, 4=c, 0=udsg), abseta(), pt(), discriminant(deepJet output value), \n",
      "Input values : up_jesAbsoluteStat, 4, 0.100000, 500.000000, 0.100000, \n",
      "#################### ERROR : Correctionlib evalutaion failed Index not available in Category for input argument 1 val: 4\n",
      "while evaluating deepJet_shape with input variables systematic(), flavor(hadron flavor definition: 5=b, 4=c, 0=udsg), abseta(), pt(), discriminant(deepJet output value), \n",
      "Input values : up_jesFlavorQCD, 4, 0.100000, 500.000000, 0.100000, \n",
      "#################### ERROR : Correctionlib evalutaion failed Index not available in Category for input argument 1 val: 4\n",
      "while evaluating deepJet_shape with input variables systematic(), flavor(hadron flavor definition: 5=b, 4=c, 0=udsg), abseta(), pt(), discriminant(deepJet output value), \n",
      "Input values : up_jesFragmentation, 4, 0.100000, 500.000000, 0.100000, \n",
      "#################### ERROR : Correctionlib evalutaion failed Index not available in Category for input argument 1 val: 4\n",
      "while evaluating deepJet_shape with input variables systematic(), flavor(hadron flavor definition: 5=b, 4=c, 0=udsg), abseta(), pt(), discriminant(deepJet output value), \n",
      "Input values : up_jesPileUpDataMC, 4, 0.100000, 500.000000, 0.100000, \n",
      "#################### ERROR : Correctionlib evalutaion failed Index not available in Category for input argument 1 val: 4\n",
      "while evaluating deepJet_shape with input variables systematic(), flavor(hadron flavor definition: 5=b, 4=c, 0=udsg), abseta(), pt(), discriminant(deepJet output value), \n",
      "Input values : up_jesPileUpPtBB, 4, 0.100000, 500.000000, 0.100000, \n",
      "#################### ERROR : Correctionlib evalutaion failed Index not available in Category for input argument 1 val: 4\n",
      "while evaluating deepJet_shape with input variables systematic(), flavor(hadron flavor definition: 5=b, 4=c, 0=udsg), abseta(), pt(), discriminant(deepJet output value), \n",
      "Input values : up_jesPileUpPtEC1, 4, 0.100000, 500.000000, 0.100000, \n",
      "#################### ERROR : Correctionlib evalutaion failed Index not available in Category for input argument 1 val: 4\n",
      "while evaluating deepJet_shape with input variables systematic(), flavor(hadron flavor definition: 5=b, 4=c, 0=udsg), abseta(), pt(), discriminant(deepJet output value), \n",
      "Input values : up_jesPileUpPtEC2, 4, 0.100000, 500.000000, 0.100000, \n",
      "#################### ERROR : Correctionlib evalutaion failed Index not available in Category for input argument 1 val: 4\n",
      "while evaluating deepJet_shape with input variables systematic(), flavor(hadron flavor definition: 5=b, 4=c, 0=udsg), abseta(), pt(), discriminant(deepJet output value), \n",
      "Input values : up_jesPileUpPtHF, 4, 0.100000, 500.000000, 0.100000, \n",
      "#################### ERROR : Correctionlib evalutaion failed Index not available in Category for input argument 1 val: 4\n",
      "while evaluating deepJet_shape with input variables systematic(), flavor(hadron flavor definition: 5=b, 4=c, 0=udsg), abseta(), pt(), discriminant(deepJet output value), \n",
      "Input values : up_jesPileUpPtRef, 4, 0.100000, 500.000000, 0.100000, \n",
      "#################### ERROR : Correctionlib evalutaion failed Index not available in Category for input argument 1 val: 4\n",
      "while evaluating deepJet_shape with input variables systematic(), flavor(hadron flavor definition: 5=b, 4=c, 0=udsg), abseta(), pt(), discriminant(deepJet output value), \n",
      "Input values : up_jesRelativeBal, 4, 0.100000, 500.000000, 0.100000, \n",
      "#################### ERROR : Correctionlib evalutaion failed Index not available in Category for input argument 1 val: 4\n",
      "while evaluating deepJet_shape with input variables systematic(), flavor(hadron flavor definition: 5=b, 4=c, 0=udsg), abseta(), pt(), discriminant(deepJet output value), \n",
      "Input values : up_jesRelativeFSR, 4, 0.100000, 500.000000, 0.100000, \n",
      "#################### ERROR : Correctionlib evalutaion failed Index not available in Category for input argument 1 val: 4\n",
      "while evaluating deepJet_shape with input variables systematic(), flavor(hadron flavor definition: 5=b, 4=c, 0=udsg), abseta(), pt(), discriminant(deepJet output value), \n",
      "Input values : up_jesRelativeJEREC1, 4, 0.100000, 500.000000, 0.100000, \n",
      "#################### ERROR : Correctionlib evalutaion failed Index not available in Category for input argument 1 val: 4\n",
      "while evaluating deepJet_shape with input variables systematic(), flavor(hadron flavor definition: 5=b, 4=c, 0=udsg), abseta(), pt(), discriminant(deepJet output value), \n",
      "Input values : up_jesRelativeJEREC2, 4, 0.100000, 500.000000, 0.100000, \n",
      "#################### ERROR : Correctionlib evalutaion failed Index not available in Category for input argument 1 val: 4\n",
      "while evaluating deepJet_shape with input variables systematic(), flavor(hadron flavor definition: 5=b, 4=c, 0=udsg), abseta(), pt(), discriminant(deepJet output value), \n",
      "Input values : up_jesRelativeJERHF, 4, 0.100000, 500.000000, 0.100000, \n",
      "#################### ERROR : Correctionlib evalutaion failed Index not available in Category for input argument 1 val: 4\n",
      "while evaluating deepJet_shape with input variables systematic(), flavor(hadron flavor definition: 5=b, 4=c, 0=udsg), abseta(), pt(), discriminant(deepJet output value), \n",
      "Input values : up_jesRelativePtBB, 4, 0.100000, 500.000000, 0.100000, \n",
      "#################### ERROR : Correctionlib evalutaion failed Index not available in Category for input argument 1 val: 4\n",
      "while evaluating deepJet_shape with input variables systematic(), flavor(hadron flavor definition: 5=b, 4=c, 0=udsg), abseta(), pt(), discriminant(deepJet output value), \n",
      "Input values : up_jesRelativePtEC1, 4, 0.100000, 500.000000, 0.100000, \n",
      "#################### ERROR : Correctionlib evalutaion failed Index not available in Category for input argument 1 val: 4\n",
      "while evaluating deepJet_shape with input variables systematic(), flavor(hadron flavor definition: 5=b, 4=c, 0=udsg), abseta(), pt(), discriminant(deepJet output value), \n",
      "Input values : up_jesRelativePtEC2, 4, 0.100000, 500.000000, 0.100000, \n",
      "#################### ERROR : Correctionlib evalutaion failed Index not available in Category for input argument 1 val: 4\n",
      "while evaluating deepJet_shape with input variables systematic(), flavor(hadron flavor definition: 5=b, 4=c, 0=udsg), abseta(), pt(), discriminant(deepJet output value), \n",
      "Input values : up_jesRelativePtHF, 4, 0.100000, 500.000000, 0.100000, \n",
      "#################### ERROR : Correctionlib evalutaion failed Index not available in Category for input argument 1 val: 4\n",
      "while evaluating deepJet_shape with input variables systematic(), flavor(hadron flavor definition: 5=b, 4=c, 0=udsg), abseta(), pt(), discriminant(deepJet output value), \n",
      "Input values : up_jesRelativeSample, 4, 0.100000, 500.000000, 0.100000, \n",
      "#################### ERROR : Correctionlib evalutaion failed Index not available in Category for input argument 1 val: 4\n",
      "while evaluating deepJet_shape with input variables systematic(), flavor(hadron flavor definition: 5=b, 4=c, 0=udsg), abseta(), pt(), discriminant(deepJet output value), \n",
      "Input values : up_jesRelativeStatEC, 4, 0.100000, 500.000000, 0.100000, \n",
      "#################### ERROR : Correctionlib evalutaion failed Index not available in Category for input argument 1 val: 4\n",
      "while evaluating deepJet_shape with input variables systematic(), flavor(hadron flavor definition: 5=b, 4=c, 0=udsg), abseta(), pt(), discriminant(deepJet output value), \n",
      "Input values : up_jesRelativeStatFSR, 4, 0.100000, 500.000000, 0.100000, \n",
      "#################### ERROR : Correctionlib evalutaion failed Index not available in Category for input argument 1 val: 4\n",
      "while evaluating deepJet_shape with input variables systematic(), flavor(hadron flavor definition: 5=b, 4=c, 0=udsg), abseta(), pt(), discriminant(deepJet output value), \n",
      "Input values : up_jesRelativeStatHF, 4, 0.100000, 500.000000, 0.100000, \n",
      "#################### ERROR : Correctionlib evalutaion failed Index not available in Category for input argument 1 val: 4\n",
      "while evaluating deepJet_shape with input variables systematic(), flavor(hadron flavor definition: 5=b, 4=c, 0=udsg), abseta(), pt(), discriminant(deepJet output value), \n",
      "Input values : up_jesSinglePionECAL, 4, 0.100000, 500.000000, 0.100000, \n",
      "#################### ERROR : Correctionlib evalutaion failed Index not available in Category for input argument 1 val: 4\n",
      "while evaluating deepJet_shape with input variables systematic(), flavor(hadron flavor definition: 5=b, 4=c, 0=udsg), abseta(), pt(), discriminant(deepJet output value), \n",
      "Input values : up_jesSinglePionHCAL, 4, 0.100000, 500.000000, 0.100000, \n",
      "#################### ERROR : Correctionlib evalutaion failed Index not available in Category for input argument 1 val: 4\n",
      "while evaluating deepJet_shape with input variables systematic(), flavor(hadron flavor definition: 5=b, 4=c, 0=udsg), abseta(), pt(), discriminant(deepJet output value), \n",
      "Input values : up_jesTimePtEta, 4, 0.100000, 500.000000, 0.100000, \n"
     ]
    }
   ],
   "source": [
    "# fRVec Jet_pt, fRVec Jet_eta, fRVec Jet_phi, fRVec Jet_mass,\n",
    "#     iRVec Jet_jetId, iRVec Jet_puId, iRVec Jet_hadronFlavour, fRVec Jet_btagDeepFlavB,\n",
    "#     fRVec lepton_pt, fRVec lepton_eta, fRVec lepton_phi, fRVec lepton_mass,\n",
    "#     std::string incl_uncertainty, std::string comb_uncertainty, std::string shape_uncertainty\n",
    "for reshape_unc in reshape_uncertainties:\n",
    "    print(reshape_unc)\n",
    "    try:\n",
    "        print(list(cppyy.gbl._btag_SF.get_btag_sf([500.], [0.1], [1.], [10.], \n",
    "                                [5], [2], [4], [0.1], \n",
    "                                [], [], [], [],\n",
    "                                \"central\", \"central\", reshape_unc)))\n",
    "    except Exception as e:\n",
    "        print(e)"
   ]
  },
  {
   "cell_type": "markdown",
   "metadata": {},
   "source": [
    "## Tau SFs"
   ]
  },
  {
   "cell_type": "code",
   "execution_count": 4,
   "metadata": {},
   "outputs": [
    {
     "name": "stdout",
     "output_type": "stream",
     "text": [
      "{'year': 2018, 'isUL': True, 'isMC': True, 'ispreVFP': False, 'vsjet_wps': ['VVVLoose', 'Medium'], 'systematic_is_central': True, 'vse_wps': ['VVLoose'], 'vsmu_wps': ['VLoose', 'Tight']}\n",
      "** WARNING: tau ID algorithm specified for corrections! Defaulting to correction name from Yaml: DeepTau2017v2p1\n"
     ]
    }
   ],
   "source": [
    "from Corrections.TAU.tauCorrections import *\n",
    "tausf = TauSFRDFProducer(year=2018, isUL=True, isMC=True, ispreVFP=False, vsjet_wps=[\"VVVLoose\", \"Medium\"], systematic_is_central=True,\n",
    "        vse_wps=[\"VVLoose\"],\n",
    "        vsmu_wps=[\"VLoose\", \"Tight\"])"
   ]
  },
  {
   "cell_type": "code",
   "execution_count": 4,
   "metadata": {},
   "outputs": [
    {
     "data": {
      "text/plain": [
       "[1.0]"
      ]
     },
     "execution_count": 4,
     "metadata": {},
     "output_type": "execute_result"
    }
   ],
   "source": [
    "list(cppyy.gbl.get_deeptau_vsjet_sf([32], [5], [5], \"Medium\", \"VVLoose\", \"\", \"dm\"))"
   ]
  }
 ],
 "metadata": {
  "kernelspec": {
   "display_name": ".venv",
   "language": "python",
   "name": "python3"
  },
  "language_info": {
   "codemirror_mode": {
    "name": "ipython",
    "version": 3
   },
   "file_extension": ".py",
   "mimetype": "text/x-python",
   "name": "python",
   "nbconvert_exporter": "python",
   "pygments_lexer": "ipython3",
   "version": "3.9.6"
  }
 },
 "nbformat": 4,
 "nbformat_minor": 2
}
