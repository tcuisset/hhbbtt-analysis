{
 "cells": [
  {
   "cell_type": "code",
   "execution_count": 2,
   "metadata": {},
   "outputs": [],
   "source": [
    "import uproot\n",
    "import subprocess\n",
    "import awkward as ak\n",
    "import awkward\n",
    "import numba\n",
    "import numpy as np\n",
    "import numpy\n",
    "import hist\n",
    "import matplotlib.pyplot as plt\n",
    "from matplotlib.patches import Patch\n",
    "from matplotlib.lines import Line2D\n",
    "import mplhep as hep\n",
    "plt.style.use(hep.style.CMS)\n",
    "from collections import defaultdict\n",
    "import matplotlib.ticker as mtick"
   ]
  },
  {
   "cell_type": "code",
   "execution_count": 12,
   "metadata": {},
   "outputs": [],
   "source": [
    "ar = uproot.open(\"/grid_mnt/data__data.polcms/cms/cuisset/cmt/PreprocessRDF/bul_2018_ZZ_v12/dy_ptz5/cat_base_selection/prod_250217/data_0.root\")[\"Events\"].arrays()"
   ]
  },
  {
   "cell_type": "code",
   "execution_count": 16,
   "metadata": {},
   "outputs": [],
   "source": [
    "def delta_phi(a, b):\n",
    "    \"\"\"Compute difference in angle given two angles a and b\n",
    "\n",
    "    Returns a value within [-pi, pi)\n",
    "    \"\"\"\n",
    "    return (a - b + np.pi) % (2 * np.pi) - np.pi\n",
    "\n",
    "def delta_r(eta1, phi1, eta2, phi2):\n",
    "    r\"\"\"Distance in (eta,phi) plane given two pairs of (eta,phi)\n",
    "\n",
    "    :math:`\\sqrt{\\Delta\\eta^2 + \\Delta\\phi^2}`\n",
    "    \"\"\"\n",
    "    deta = eta1 - eta2\n",
    "    dphi = delta_phi(phi1, phi2)\n",
    "    return np.hypot(deta, dphi)"
   ]
  },
  {
   "cell_type": "code",
   "execution_count": 13,
   "metadata": {},
   "outputs": [
    {
     "data": {
      "text/html": [
       "<pre>[177078,\n",
       " 177089,\n",
       " 177084,\n",
       " 177113,\n",
       " 177126,\n",
       " 177400,\n",
       " 177762,\n",
       " 177747,\n",
       " 177871,\n",
       " 177886,\n",
       " ...,\n",
       " 8496027,\n",
       " 8496093,\n",
       " 8496311,\n",
       " 8496327,\n",
       " 8496423,\n",
       " 8496449,\n",
       " 8496478,\n",
       " 8496518,\n",
       " 8496521]\n",
       "-------------------\n",
       "type: 9814 * uint64</pre>"
      ],
      "text/plain": [
       "<Array [177078, 177089, 177084, ..., 8496518, 8496521] type='9814 * uint64'>"
      ]
     },
     "execution_count": 13,
     "metadata": {},
     "output_type": "execute_result"
    }
   ],
   "source": [
    "arf = ar[ar.isBoostedTau]\n",
    "arf.event"
   ]
  },
  {
   "cell_type": "code",
   "execution_count": 15,
   "metadata": {},
   "outputs": [
    {
     "data": {
      "text/html": [
       "<pre>[0.185,\n",
       " 0.121,\n",
       " 0.556,\n",
       " -0.399,\n",
       " 0.407,\n",
       " 0.23,\n",
       " -0.497,\n",
       " 1.3,\n",
       " -0.346,\n",
       " -1.37,\n",
       " ...,\n",
       " -1.66,\n",
       " 0.498,\n",
       " 0.214,\n",
       " -0.944,\n",
       " -1.86,\n",
       " 0.339,\n",
       " -1.18,\n",
       " 0.532,\n",
       " 1.34]\n",
       "--------------------\n",
       "type: 9814 * float32</pre>"
      ],
      "text/plain": [
       "<Array [0.185, 0.121, 0.556, ..., -1.18, 0.532, 1.34] type='9814 * float32'>"
      ]
     },
     "execution_count": 15,
     "metadata": {},
     "output_type": "execute_result"
    }
   ],
   "source": [
    "arf.dau1_eta"
   ]
  },
  {
   "cell_type": "code",
   "execution_count": 18,
   "metadata": {},
   "outputs": [
    {
     "data": {
      "text/plain": [
       "92.32728754840025"
      ]
     },
     "execution_count": 18,
     "metadata": {},
     "output_type": "execute_result"
    }
   ],
   "source": [
    "ak.count_nonzero(delta_phi(arf.MET_phi, arf.dau1_phi)<0.5)/len(arf)*100"
   ]
  },
  {
   "cell_type": "code",
   "execution_count": 19,
   "metadata": {},
   "outputs": [
    {
     "ename": "AttributeError",
     "evalue": "no field named 'MET_significance'",
     "output_type": "error",
     "traceback": [
      "\u001b[0;31m---------------------------------------------------------------------------\u001b[0m",
      "\u001b[0;31mAttributeError\u001b[0m                            Traceback (most recent call last)",
      "Cell \u001b[0;32mIn[19], line 1\u001b[0m\n\u001b[0;32m----> 1\u001b[0m ak\u001b[38;5;241m.\u001b[39mcount_nonzero(\u001b[43marf\u001b[49m\u001b[38;5;241;43m.\u001b[39;49m\u001b[43mMET_significance\u001b[49m\u001b[38;5;241m>\u001b[39m\u001b[38;5;241m2\u001b[39m)\u001b[38;5;241m/\u001b[39m\u001b[38;5;28mlen\u001b[39m(arf)\u001b[38;5;241m*\u001b[39m\u001b[38;5;241m100\u001b[39m\n",
      "File \u001b[0;32m/opt/exp_soft/llr/python/3.11.8/el7/lib/python3.11/site-packages/awkward/highlevel.py:1236\u001b[0m, in \u001b[0;36mArray.__getattr__\u001b[0;34m(self, where)\u001b[0m\n\u001b[1;32m   1231\u001b[0m         \u001b[38;5;28;01mraise\u001b[39;00m \u001b[38;5;167;01mAttributeError\u001b[39;00m(\n\u001b[1;32m   1232\u001b[0m             \u001b[38;5;124mf\u001b[39m\u001b[38;5;124m\"\u001b[39m\u001b[38;5;124mwhile trying to get field \u001b[39m\u001b[38;5;132;01m{\u001b[39;00mwhere\u001b[38;5;132;01m!r}\u001b[39;00m\u001b[38;5;124m, an exception \u001b[39m\u001b[38;5;124m\"\u001b[39m\n\u001b[1;32m   1233\u001b[0m             \u001b[38;5;124mf\u001b[39m\u001b[38;5;124m\"\u001b[39m\u001b[38;5;124moccurred:\u001b[39m\u001b[38;5;130;01m\\n\u001b[39;00m\u001b[38;5;132;01m{\u001b[39;00m\u001b[38;5;28mtype\u001b[39m(err)\u001b[38;5;132;01m}\u001b[39;00m\u001b[38;5;124m: \u001b[39m\u001b[38;5;132;01m{\u001b[39;00merr\u001b[38;5;132;01m!s}\u001b[39;00m\u001b[38;5;124m\"\u001b[39m\n\u001b[1;32m   1234\u001b[0m         ) \u001b[38;5;28;01mfrom\u001b[39;00m \u001b[38;5;21;01merr\u001b[39;00m\n\u001b[1;32m   1235\u001b[0m \u001b[38;5;28;01melse\u001b[39;00m:\n\u001b[0;32m-> 1236\u001b[0m     \u001b[38;5;28;01mraise\u001b[39;00m \u001b[38;5;167;01mAttributeError\u001b[39;00m(\u001b[38;5;124mf\u001b[39m\u001b[38;5;124m\"\u001b[39m\u001b[38;5;124mno field named \u001b[39m\u001b[38;5;132;01m{\u001b[39;00mwhere\u001b[38;5;132;01m!r}\u001b[39;00m\u001b[38;5;124m\"\u001b[39m)\n",
      "\u001b[0;31mAttributeError\u001b[0m: no field named 'MET_significance'"
     ]
    }
   ],
   "source": [
    "ak.count_nonzero(arf.MET_significance>2)/len(arf)*100"
   ]
  }
 ],
 "metadata": {
  "kernelspec": {
   "display_name": "modules-python-3.11",
   "language": "python",
   "name": "python3"
  },
  "language_info": {
   "codemirror_mode": {
    "name": "ipython",
    "version": 3
   },
   "file_extension": ".py",
   "mimetype": "text/x-python",
   "name": "python",
   "nbconvert_exporter": "python",
   "pygments_lexer": "ipython3",
   "version": "3.11.8"
  }
 },
 "nbformat": 4,
 "nbformat_minor": 2
}
