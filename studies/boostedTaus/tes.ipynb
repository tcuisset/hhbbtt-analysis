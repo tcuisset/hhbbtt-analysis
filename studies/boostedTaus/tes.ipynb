{
 "cells": [
  {
   "cell_type": "code",
   "execution_count": null,
   "metadata": {},
   "outputs": [],
   "source": [
    "import correctionlib"
   ]
  },
  {
   "cell_type": "code",
   "execution_count": null,
   "metadata": {},
   "outputs": [],
   "source": [
    "cs = correctionlib.CorrectionSet.from_file(\"/cvmfs/cms.cern.ch/rsync/cms-nanoAOD/jsonpog-integration/POG/TAU/2018_UL/tau.json.gz\")\n",
    "c = cs[\"tau_energy_scale\"] # pt, eta, DM, genmatch, tau ID, syst"
   ]
  },
  {
   "cell_type": "markdown",
   "metadata": {},
   "source": [
    "## genmatch 1 : electron : \n",
    "## Genmatch 2 : muon : 1%\n",
    "## genmatch 5 : real tau : "
   ]
  },
  {
   "cell_type": "code",
   "execution_count": null,
   "metadata": {},
   "outputs": [],
   "source": [
    "c.evaluate(50., 2.2, 0, 5, \"DeepTau2017v2p1\", \"nom\")"
   ]
  },
  {
   "cell_type": "code",
   "execution_count": null,
   "metadata": {},
   "outputs": [],
   "source": []
  }
 ],
 "metadata": {
  "kernelspec": {
   "display_name": "modules-python-3.11",
   "language": "python",
   "name": "python3"
  },
  "language_info": {
   "name": "python",
   "version": "3.11.8"
  }
 },
 "nbformat": 4,
 "nbformat_minor": 2
}
