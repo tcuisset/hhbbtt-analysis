{
 "cells": [
  {
   "cell_type": "code",
   "execution_count": 1,
   "metadata": {},
   "outputs": [],
   "source": [
    "import uproot\n",
    "import awkward as ak\n",
    "import numpy as np\n",
    "import hist\n",
    "import matplotlib.pyplot as plt\n",
    "import mplhep as hep\n",
    "plt.style.use(hep.style.CMS)"
   ]
  },
  {
   "cell_type": "code",
   "execution_count": 2,
   "metadata": {},
   "outputs": [],
   "source": [
    "ar_raw = uproot.concatenate([f\"root://eos.grif.fr//eos/grif/cms/llr/store/user/tcuisset/boostedTaus/2018_MC/GluGluToXToZZTo2B2Tau_M-3000/NANO_NANO_{i}.root:Events\" for i in [1]],\n",
    "    filter_name=[\"boostedTau*\", \"Muon_*\", \"Electron_*\", \"GenPart_pdgId\", \"GenPart_genPartIdxMother\", \"GenPart_eta\", \"GenPart_phi\", \"GenPart_pt\", \"nGenVisTau\", \"GenVisTau*\"],\n",
    "    how=\"zip\")"
   ]
  },
  {
   "cell_type": "code",
   "execution_count": 3,
   "metadata": {},
   "outputs": [],
   "source": [
    "def genPairType_branch(ar):\n",
    "    \"\"\" select etau, mutau, tautau at genlevel\"\"\"\n",
    "    tautau = ar.nGenVisTau == 2\n",
    "\n",
    "    mutau_genMuon_bool = (abs(ar.GenPart.pdgId) == 13) & (abs(ar.GenPart[ar.GenPart.genPartIdxMother].pdgId) == 15)\n",
    "    mutau_genMuon_idx = ak.firsts(ak.local_index(ar.GenPart)[mutau_genMuon_bool]) # index of gen muon in GenPart collection\n",
    "    mutau = (ar.nGenVisTau == 1) & ak.any(mutau_genMuon_bool, axis=-1)\n",
    "    \n",
    "    etau_genMuon_bool = (abs(ar.GenPart.pdgId) == 11) & (abs(ar.GenPart[ar.GenPart.genPartIdxMother].pdgId) == 15)\n",
    "    etau_genMuon_idx = ak.firsts(ak.local_index(ar.GenPart)[etau_genMuon_bool]) # index of gen muon in GenPart collection\n",
    "    etau = (ar.nGenVisTau == 1) & ak.any(etau_genMuon_bool, axis=-1)\n",
    "    \n",
    "    genPairType =  ak.where(mutau, 0, ak.where(etau, 1, ak.where(tautau, 2, -1)))\n",
    "    genLeptonIdx = ak.where(mutau, mutau_genMuon_idx, etau_genMuon_idx) # for tautau will just put None\n",
    "    return ak.with_field(ak.with_field(ar, genPairType, where=\"genPairType\"), genLeptonIdx, \"genLeptonIdx\")\n",
    "\n",
    "# def genDaus(ar):\n",
    "#     genpart = ak.firsts(ar.GenPart[ak.drop_none(ak.singletons(ar.genLeptonIdx))])\n",
    "#     ar = ak.with_field(\n",
    "#         ar,\n",
    "#         ak.where((ar.genPairType >= 0) & (ar.genPairType <= 1), \n",
    "#                      genpart[[\"pt\", \"eta\", \"phi\"]],\n",
    "#                      ak.where(ar.genPairType == 2,\n",
    "#                               ak.firsts(ar.GenVisTau)[[\"pt\", \"eta\", \"phi\"]],\n",
    "#                               None)\n",
    "#                      ),\n",
    "#         \"genDau1\"\n",
    "#     )\n",
    "#     return ar\n",
    "\n",
    "# def genFilterDetectorAcceptance(ar):\n",
    "    \n",
    "\n",
    "def eff(branch_num, filter_denom):\n",
    "    try:\n",
    "        return ak.count_nonzero(branch_num) / ak.count_nonzero(filter_denom)\n",
    "    except:\n",
    "        return ak.count_nonzero(branch_num) / len(filter_denom)\n",
    "\n",
    "def delta_phi(a, b):\n",
    "    \"\"\"Compute difference in angle given two angles a and b\n",
    "\n",
    "    Returns a value within [-pi, pi)\n",
    "    \"\"\"\n",
    "    return (a - b + np.pi) % (2 * np.pi) - np.pi\n",
    "\n",
    "def delta_r(eta1, phi1, eta2, phi2):\n",
    "    r\"\"\"Distance in (eta,phi) plane given two pairs of (eta,phi)\n",
    "\n",
    "    :math:`\\sqrt{\\Delta\\eta^2 + \\Delta\\phi^2}`\n",
    "    \"\"\"\n",
    "    deta = eta1 - eta2\n",
    "    dphi = delta_phi(phi1, phi2)\n",
    "    return np.hypot(deta, dphi)\n",
    "\n",
    "class DotDict(dict):\n",
    "    __getattr__ = dict.__getitem__\n",
    "    __setattr__ = dict.__setitem__\n",
    "    __delattr__ = dict.__delitem__\n",
    "deeptau=DotDict(\n",
    "    vsjet=DotDict(VVVLoose=1, VVLoose=2, VLoose=3, Loose=4, Medium=5,\n",
    "        Tight=6, VTight=7, VVTight=8),\n",
    "    vse=DotDict(VVVLoose=1, VVLoose=2, VLoose=3, Loose=4, Medium=5,\n",
    "        Tight=6, VTight=7, VVTight=8),\n",
    "    vsmu=DotDict(VLoose=1, Loose=1, Medium=3, Tight=4),\n",
    ")\n",
    "\n",
    "\n",
    "def match_muon_gen(ar):\n",
    "    \"\"\" Match muon to gen \"\"\"\n",
    "    gen_muons = ak.firsts(ar.GenPart[ak.singletons(ar.genLeptonIdx)])\n",
    "    matched = (delta_r(gen_muons.eta, gen_muons.phi, ar.Muon.eta, ar.Muon.phi) < 0.1)\n",
    "    return ak.firsts(ar.Muon[matched])\n",
    "\n",
    "def match_boostedtau_gen(ar):\n",
    "    \"\"\" Match boostedtau to gen \"\"\"\n",
    "    gen_taus = ak.firsts(ar.GenVisTau)\n",
    "    matched = (delta_r(gen_taus.eta, gen_taus.phi, ar.boostedTau.eta, ar.boostedTau.phi) < 0.4)\n",
    "    return ak.firsts(ar.boostedTau[matched])\n"
   ]
  },
  {
   "cell_type": "code",
   "execution_count": 37,
   "metadata": {},
   "outputs": [
    {
     "data": {
      "text/html": [
       "<pre>[{status: 15, charge: -1, genPartIdxMother: 16, eta: -0.555, mass: 1.32, ...},\n",
       " {status: 2, charge: -1, genPartIdxMother: 14, eta: -0.119, mass: 1.18, ...},\n",
       " {status: 2, charge: 1, genPartIdxMother: 16, eta: -0.101, mass: 0.912, ...},\n",
       " {status: 1, charge: 1, genPartIdxMother: 21, eta: -0.705, mass: 1.18, ...},\n",
       " {status: 10, charge: 1, genPartIdxMother: 16, eta: -0.409, mass: 1.08, ...},\n",
       " {status: 1, charge: 1, genPartIdxMother: 17, eta: 0.264, mass: 0.852, ...},\n",
       " {status: 1, charge: -1, genPartIdxMother: 13, eta: -0.969, mass: 0.781, ...},\n",
       " {status: 11, charge: -1, genPartIdxMother: 12, eta: 1.22, mass: 1.58, ...},\n",
       " {status: 11, charge: 1, genPartIdxMother: 15, eta: -0.645, mass: 1.35, ...},\n",
       " {status: 1, charge: -1, genPartIdxMother: 17, eta: 0.438, mass: 0.703, ...},\n",
       " ...,\n",
       " {status: 2, charge: 1, genPartIdxMother: 58, eta: -0.951, mass: 1.27, ...},\n",
       " {status: 2, charge: 1, genPartIdxMother: 16, eta: 1.67, mass: 1.09, ...},\n",
       " {status: 10, charge: -1, genPartIdxMother: 19, eta: 0.485, mass: 1.17, ...},\n",
       " {status: 10, charge: 1, genPartIdxMother: 13, eta: 1.11, mass: 1.28, ...},\n",
       " {status: 15, charge: 1, genPartIdxMother: 21, eta: -0.316, mass: 1.58, ...},\n",
       " {status: 1, charge: -1, genPartIdxMother: 16, eta: -0.666, mass: 0.602, ...},\n",
       " {status: 10, charge: 1, genPartIdxMother: 13, eta: -0.233, mass: 0.965, ...},\n",
       " {status: 0, charge: 1, genPartIdxMother: 20, eta: 0.251, mass: 0.14, ...},\n",
       " {status: 10, charge: -1, genPartIdxMother: 19, eta: 0.171, mass: 0.936, ...}]\n",
       "------------------------------------------------------------------------------\n",
       "type: 6696 * {\n",
       "    status: uint8,\n",
       "    charge: int16,\n",
       "    genPartIdxMother: int16,\n",
       "    eta: float32,\n",
       "    mass: float32,\n",
       "    phi: float32,\n",
       "    pt: float32\n",
       "}</pre>"
      ],
      "text/plain": [
       "<Array [{status: 15, charge: -1, ...}, ...] type='6696 * {status: uint8, ch...'>"
      ]
     },
     "execution_count": 37,
     "metadata": {},
     "output_type": "execute_result"
    }
   ],
   "source": [
    "ar_tautau.GenVisTau[:, 0]"
   ]
  },
  {
   "cell_type": "code",
   "execution_count": 4,
   "metadata": {},
   "outputs": [
    {
     "data": {
      "text/html": [
       "<pre>[{nGenVisTau: 2, boostedTau: [{...}, ..., {...}], Electron: [{...}], ...},\n",
       " {nGenVisTau: 2, boostedTau: [{...}, ..., {...}], Electron: [], ...},\n",
       " {nGenVisTau: 1, boostedTau: [{...}, ..., {...}], Electron: [...], ...},\n",
       " {nGenVisTau: 1, boostedTau: [{...}, ..., {...}], Electron: [...], ...},\n",
       " {nGenVisTau: 0, boostedTau: [{...}, ..., {...}], Electron: [], ...},\n",
       " {nGenVisTau: 2, boostedTau: [{...}, ..., {...}], Electron: [{...}], ...},\n",
       " {nGenVisTau: 1, boostedTau: [{...}, ..., {...}], Electron: [{...}], ...},\n",
       " {nGenVisTau: 1, boostedTau: [{...}, {...}], Electron: [], GenPart: [...], ...},\n",
       " {nGenVisTau: 2, boostedTau: [{...}, ..., {...}], Electron: [{...}], ...},\n",
       " {nGenVisTau: 1, boostedTau: [{...}, ..., {...}], Electron: [], ...},\n",
       " ...,\n",
       " {nGenVisTau: 1, boostedTau: [{...}, ..., {...}], Electron: [...], ...},\n",
       " {nGenVisTau: 1, boostedTau: [{...}, ..., {...}], Electron: [...], ...},\n",
       " {nGenVisTau: 1, boostedTau: [{...}, ..., {...}], Electron: [], ...},\n",
       " {nGenVisTau: 2, boostedTau: [{...}, ..., {...}], Electron: [...], ...},\n",
       " {nGenVisTau: 1, boostedTau: [{...}, ..., {...}], Electron: [{...}], ...},\n",
       " {nGenVisTau: 2, boostedTau: [{...}, ..., {...}], Electron: [], ...},\n",
       " {nGenVisTau: 2, boostedTau: [{...}, ..., {...}], Electron: [], ...},\n",
       " {nGenVisTau: 2, boostedTau: [{...}, ..., {...}], Electron: [...], ...},\n",
       " {nGenVisTau: 2, boostedTau: [{...}, ..., {...}], Electron: [{...}], ...}]\n",
       "--------------------------------------------------------------------------------\n",
       "type: 16000 * {\n",
       "    nGenVisTau: int32,\n",
       "    boostedTau: var * {\n",
       "        idAntiEle2018: uint8,\n",
       "        idAntiMu: uint8,\n",
       "        idDecayModeNewDMs: bool,\n",
       "        idDecayModeOldDMs: bool,\n",
       "        idDeepTau2018v2p7VSe: uint8,\n",
       "        idDeepTau2018v2p7VSjet: uint8,\n",
       "        idDeepTau2018v2p7VSmu: uint8,\n",
       "        idMVAnewDM2017v2: uint8,\n",
       "        idMVAoldDM2017v2: uint8,\n",
       "        idMVAoldDMdR032017v2: uint8,\n",
       "        LeadingElectron_electronIdx: int16,\n",
       "        LeadingMuon_muonIdx: int16,\n",
       "        SubLeadingElectron_electronIdx: int16,\n",
       "        SubLeadingMuon_muonIdx: int16,\n",
       "        SubSubLeadingElectron_electronIdx: int16,\n",
       "        SubSubLeadingMuon_muonIdx: int16,\n",
       "        jetIdx: int16,\n",
       "        rawAntiEleCat2018: int16,\n",
       "        Ecounter: int32,\n",
       "        Mcounter: int32,\n",
       "        SubLeadingElectronPhi: int32,\n",
       "        SubLeadingMuonM: int32,\n",
       "        SubSubLeadingElectronPhi: int32,\n",
       "        SubSubLeadingMuonM: int32,\n",
       "        charge: int32,\n",
       "        decayMode: int32,\n",
       "        LeadingElectronCorrIso: float32,\n",
       "        LeadingElectronEta: float32,\n",
       "        LeadingElectronM: float32,\n",
       "        LeadingElectronPhi: float32,\n",
       "        LeadingElectronPt: float32,\n",
       "        LeadingElectrondelR: float32,\n",
       "        LeadingElectronea: float32,\n",
       "        LeadingElectronrho: float32,\n",
       "        LeadingElectronsumPFChargedHadronPt: float32,\n",
       "        LeadingElectronsumPFNeutralHadronPt: float32,\n",
       "        LeadingElectronsumPFPhotonPt: float32,\n",
       "        LeadingElectrontausumPFChargedHadronPt: float32,\n",
       "        LeadingElectrontausumPFNeutralHadronPt: float32,\n",
       "        LeadingElectrontausumPFPhotonPt: float32,\n",
       "        LeadingMuonCorrIso: float32,\n",
       "        LeadingMuonEta: float32,\n",
       "        LeadingMuonM: float32,\n",
       "        LeadingMuonPhi: float32,\n",
       "        LeadingMuonPt: float32,\n",
       "        LeadingMuondelR: float32,\n",
       "        LeadingMuonsumPFChargedHadronPt: float32,\n",
       "        LeadingMuonsumPFNeutralHadronPt: float32,\n",
       "        LeadingMuonsumPFPhotonPt: float32,\n",
       "        LeadingMuonsumPUPt: float32,\n",
       "        LeadingMuontausumPFChargedHadronPt: float32,\n",
       "        LeadingMuontausumPFNeutralHadronPt: float32,\n",
       "        LeadingMuontausumPFPhotonPt: float32,\n",
       "        SubLeadingElectronCorrIso: float32,\n",
       "        SubLeadingElectronEta: float32,\n",
       "        SubLeadingElectronM: float32,\n",
       "        SubLeadingElectronPt: float32,\n",
       "        SubLeadingElectrondelR: float32,\n",
       "        SubLeadingElectronea: float32,\n",
       "        SubLeadingElectronrho: float32,\n",
       "        SubLeadingElectronsumPFChargedHadronPt: float32,\n",
       "        SubLeadingElectronsumPFNeutralHadronPt: float32,\n",
       "        SubLeadingElectronsumPFPhotonPt: float32,\n",
       "        SubLeadingElectrontausumPFChargedHadronPt: float32,\n",
       "        SubLeadingElectrontausumPFNeutralHadronPt: float32,\n",
       "        SubLeadingElectrontausumPFPhotonPt: float32,\n",
       "        SubLeadingMuonCorrIso: float32,\n",
       "        SubLeadingMuonEta: float32,\n",
       "        SubLeadingMuonPhi: float32,\n",
       "        SubLeadingMuonPt: float32,\n",
       "        SubLeadingMuondelR: float32,\n",
       "        SubLeadingMuonsumPFChargedHadronPt: float32,\n",
       "        SubLeadingMuonsumPFNeutralHadronPt: float32,\n",
       "        SubLeadingMuonsumPFPhotonPt: float32,\n",
       "        SubLeadingMuonsumPUPt: float32,\n",
       "        SubLeadingMuontausumPFChargedHadronPt: float32,\n",
       "        SubLeadingMuontausumPFNeutralHadronPt: float32,\n",
       "        SubLeadingMuontausumPFPhotonPt: float32,\n",
       "        SubSubLeadingElectronCorrIso: float32,\n",
       "        SubSubLeadingElectronEta: float32,\n",
       "        SubSubLeadingElectronM: float32,\n",
       "        SubSubLeadingElectronPt: float32,\n",
       "        SubSubLeadingElectrondelR: float32,\n",
       "        SubSubLeadingElectronea: float32,\n",
       "        SubSubLeadingElectronrho: float32,\n",
       "        SubSubLeadingElectronsumPFChargedHadronPt: float32,\n",
       "        SubSubLeadingElectronsumPFNeutralHadronPt: float32,\n",
       "        SubSubLeadingElectronsumPFPhotonPt: float32,\n",
       "        SubSubLeadingElectrontausumPFChargedHadronPt: float32,\n",
       "        SubSubLeadingElectrontausumPFNeutralHadronPt: float32,\n",
       "        SubSubLeadingElectrontausumPFPhotonPt: float32,\n",
       "        SubSubLeadingMuonCorrIso: float32,\n",
       "        SubSubLeadingMuonEta: float32,\n",
       "        SubSubLeadingMuonPhi: float32,\n",
       "        SubSubLeadingMuonPt: float32,\n",
       "        SubSubLeadingMuondelR: float32,\n",
       "        SubSubLeadingMuonsumPFChargedHadronPt: float32,\n",
       "        SubSubLeadingMuonsumPFNeutralHadronPt: float32,\n",
       "        SubSubLeadingMuonsumPFPhotonPt: float32,\n",
       "        SubSubLeadingMuonsumPUPt: float32,\n",
       "        SubSubLeadingMuontausumPFChargedHadronPt: float32,\n",
       "        SubSubLeadingMuontausumPFNeutralHadronPt: float32,\n",
       "        SubSubLeadingMuontausumPFPhotonPt: float32,\n",
       "        chargedIso: float32,\n",
       "        eta: float32,\n",
       "        leadTkDeltaEta: float32,\n",
       "        leadTkDeltaPhi: float32,\n",
       "        leadTkPtOverTauPt: float32,\n",
       "        mass: float32,\n",
       "        neutralIso: float32,\n",
       "        phi: float32,\n",
       "        photonsOutsideSignalCone: float32,\n",
       "        pt: float32,\n",
       "        puCorr: float32,\n",
       "        rawAntiEle2018: float32,\n",
       "        rawDeepTau2018v2p7VSe: float32,\n",
       "        rawDeepTau2018v2p7VSjet: float32,\n",
       "        rawDeepTau2018v2p7VSmu: float32,\n",
       "        rawIso: float32,\n",
       "        rawIsodR03: float32,\n",
       "        rawMVAnewDM2017v2: float32,\n",
       "        rawMVAoldDM2017v2: float32,\n",
       "        rawMVAoldDMdR032017v2: float32,\n",
       "        genPartFlav: uint8,\n",
       "        genPartIdx: int16\n",
       "    },\n",
       "    Electron: var * {\n",
       "        seediEtaOriX: int8,\n",
       "        convVeto: bool,\n",
       "        cutBased: uint8,\n",
       "        cutBased_HEEP: bool,\n",
       "        isPFcand: bool,\n",
       "        jetNDauCharged: uint8,\n",
       "        lostHits: uint8,\n",
       "        mvaIso_WP80: bool,\n",
       "        mvaIso_WP90: bool,\n",
       "        mvaIso_WPL: bool,\n",
       "        mvaNoIso_WP80: bool,\n",
       "        mvaNoIso_WP90: bool,\n",
       "        mvaNoIso_WPL: bool,\n",
       "        seedGain: uint8,\n",
       "        tightCharge: uint8,\n",
       "        jetIdx: int16,\n",
       "        photonIdx: int16,\n",
       "        svIdx: int16,\n",
       "        fsrPhotonIdx: int16,\n",
       "        charge: int32,\n",
       "        pdgId: int32,\n",
       "        seediPhiOriY: int32,\n",
       "        vidNestedWPBitmap: int32,\n",
       "        vidNestedWPBitmapHEEP: int32,\n",
       "        dEscaleDown: float32,\n",
       "        dEscaleUp: float32,\n",
       "        dEsigmaDown: float32,\n",
       "        dEsigmaUp: float32,\n",
       "        deltaEtaSC: float32,\n",
       "        dr03EcalRecHitSumEt: float32,\n",
       "        dr03HcalDepth1TowerSumEt: float32,\n",
       "        dr03TkSumPt: float32,\n",
       "        dr03TkSumPtHEEP: float32,\n",
       "        dxy: float32,\n",
       "        dxyErr: float32,\n",
       "        dz: float32,\n",
       "        dzErr: float32,\n",
       "        eCorr: float32,\n",
       "        eInvMinusPInv: float32,\n",
       "        energyErr: float32,\n",
       "        eta: float32,\n",
       "        hoe: float32,\n",
       "        ip3d: float32,\n",
       "        jetPtRelv2: float32,\n",
       "        jetRelIso: float32,\n",
       "        mass: float32,\n",
       "        miniPFRelIso_all: float32,\n",
       "        miniPFRelIso_chg: float32,\n",
       "        mvaHZZIso: float32,\n",
       "        mvaIso: float32,\n",
       "        mvaNoIso: float32,\n",
       "        pfRelIso03_all: float32,\n",
       "        pfRelIso03_chg: float32,\n",
       "        phi: float32,\n",
       "        pt: float32,\n",
       "        r9: float32,\n",
       "        scEtOverPt: float32,\n",
       "        sieie: float32,\n",
       "        sip3d: float32,\n",
       "        mvaTTH: float32,\n",
       "        genPartFlav: uint8,\n",
       "        genPartIdx: int16\n",
       "    },\n",
       "    GenPart: var * {\n",
       "        genPartIdxMother: int16,\n",
       "        pdgId: int32,\n",
       "        eta: float32,\n",
       "        phi: float32,\n",
       "        pt: float32\n",
       "    },\n",
       "    GenVisTau: var * {\n",
       "        status: uint8,\n",
       "        charge: int16,\n",
       "        genPartIdxMother: int16,\n",
       "        eta: float32,\n",
       "        mass: float32,\n",
       "        phi: float32,\n",
       "        pt: float32\n",
       "    },\n",
       "    Muon: var * {\n",
       "        highPtId: uint8,\n",
       "        highPurity: bool,\n",
       "        inTimeMuon: bool,\n",
       "        isGlobal: bool,\n",
       "        isPFcand: bool,\n",
       "        isStandalone: bool,\n",
       "        isTracker: bool,\n",
       "        jetNDauCharged: uint8,\n",
       "        looseId: bool,\n",
       "        mediumId: bool,\n",
       "        mediumPromptId: bool,\n",
       "        miniIsoId: uint8,\n",
       "        multiIsoId: uint8,\n",
       "        mvaMuID_WP: uint8,\n",
       "        nStations: uint8,\n",
       "        nTrackerLayers: uint8,\n",
       "        pfIsoId: uint8,\n",
       "        puppiIsoId: uint8,\n",
       "        softId: bool,\n",
       "        softMvaId: bool,\n",
       "        tightCharge: uint8,\n",
       "        tightId: bool,\n",
       "        tkIsoId: uint8,\n",
       "        triggerIdLoose: bool,\n",
       "        jetIdx: int16,\n",
       "        svIdx: int16,\n",
       "        fsrPhotonIdx: int16,\n",
       "        charge: int32,\n",
       "        pdgId: int32,\n",
       "        dxy: float32,\n",
       "        dxyErr: float32,\n",
       "        dxybs: float32,\n",
       "        dz: float32,\n",
       "        dzErr: float32,\n",
       "        eta: float32,\n",
       "        ip3d: float32,\n",
       "        jetPtRelv2: float32,\n",
       "        jetRelIso: float32,\n",
       "        mass: float32,\n",
       "        miniPFRelIso_all: float32,\n",
       "        miniPFRelIso_chg: float32,\n",
       "        mvaMuID: float32,\n",
       "        pfRelIso03_all: float32,\n",
       "        pfRelIso03_chg: float32,\n",
       "        pfRelIso04_all: float32,\n",
       "        phi: float32,\n",
       "        pt: float32,\n",
       "        ptErr: float32,\n",
       "        segmentComp: float32,\n",
       "        sip3d: float32,\n",
       "        softMva: float32,\n",
       "        tkRelIso: float32,\n",
       "        tunepRelPt: float32,\n",
       "        bsConstrainedChi2: float32,\n",
       "        bsConstrainedPt: float32,\n",
       "        bsConstrainedPtErr: float32,\n",
       "        mvaLowPt: float32,\n",
       "        mvaTTH: float32,\n",
       "        genPartFlav: uint8,\n",
       "        genPartIdx: int16\n",
       "    },\n",
       "    genPairType: int64,\n",
       "    genLeptonIdx: ?int64\n",
       "}</pre>"
      ],
      "text/plain": [
       "<Array [{nGenVisTau: 2, ...}, ..., {...}] type='16000 * {nGenVisTau: int32,...'>"
      ]
     },
     "execution_count": 4,
     "metadata": {},
     "output_type": "execute_result"
    }
   ],
   "source": [
    "ar = genPairType_branch(ar_raw)\n",
    "ar"
   ]
  },
  {
   "cell_type": "code",
   "execution_count": 5,
   "metadata": {},
   "outputs": [],
   "source": [
    "ar_tautau = ar[ar.genPairType == 2]\n",
    "ar_mutau = ar[ar.genPairType == 0]"
   ]
  },
  {
   "cell_type": "code",
   "execution_count": 6,
   "metadata": {},
   "outputs": [
    {
     "data": {
      "text/html": [
       "<pre>[[605030436],\n",
       " [],\n",
       " [],\n",
       " [],\n",
       " [607144228, 605030692, 134234212],\n",
       " [],\n",
       " [611468324],\n",
       " [],\n",
       " [],\n",
       " [],\n",
       " ...,\n",
       " [],\n",
       " [605038884],\n",
       " [607144228],\n",
       " [],\n",
       " [],\n",
       " [],\n",
       " [605034788, 604767524],\n",
       " [607144228, 605047076],\n",
       " [611436644]]\n",
       "-----------------------------------\n",
       "type: 3556 * var * int32</pre>"
      ],
      "text/plain": [
       "<Array [[605030436], [], [], ..., [...], [611436644]] type='3556 * var * int32'>"
      ]
     },
     "execution_count": 6,
     "metadata": {},
     "output_type": "execute_result"
    }
   ],
   "source": [
    "ar_mutau.Electron.vidNestedWPBitmap"
   ]
  },
  {
   "cell_type": "code",
   "execution_count": 28,
   "metadata": {},
   "outputs": [
    {
     "name": "stdout",
     "output_type": "stream",
     "text": [
      "100100000100000000100000100100\n",
      "000000000000000000001101111111\n"
     ]
    }
   ],
   "source": [
    "print(f\"{ar_mutau.Electron.vidNestedWPBitmap[0, 0]:0{10*3}b}\")\n",
    "print(f\"{0x37F:0{10*3}b}\")"
   ]
  },
  {
   "cell_type": "code",
   "execution_count": 34,
   "metadata": {},
   "outputs": [
    {
     "data": {
      "text/plain": [
       "'010010000010010010010010010010'"
      ]
     },
     "execution_count": 34,
     "metadata": {},
     "output_type": "execute_result"
    }
   ],
   "source": [
    "cut = 0\n",
    "for bitn in [0,1,2,3,4,5,6,8,9]:\n",
    "    cut |= (2 << (bitn*3)) # 2 is for loose, 3 is for 3 bits per cut\n",
    "f\"{cut:0{10*3}b}\""
   ]
  },
  {
   "cell_type": "code",
   "execution_count": 25,
   "metadata": {},
   "outputs": [
    {
     "data": {
      "text/plain": [
       "'100'"
      ]
     },
     "execution_count": 25,
     "metadata": {},
     "output_type": "execute_result"
    }
   ],
   "source": [
    "f\"{4:b}\""
   ]
  },
  {
   "cell_type": "code",
   "execution_count": 7,
   "metadata": {},
   "outputs": [
    {
     "data": {
      "text/plain": [
       "0"
      ]
     },
     "execution_count": 7,
     "metadata": {},
     "output_type": "execute_result"
    }
   ],
   "source": [
    "(ar_mutau.Electron.vidNestedWPBitmap[0, 0]>>(7*3))&0x7 # fail=0, veto=1, loose, medium, tight=4"
   ]
  },
  {
   "cell_type": "code",
   "execution_count": null,
   "metadata": {},
   "outputs": [],
   "source": []
  },
  {
   "cell_type": "code",
   "execution_count": 11,
   "metadata": {},
   "outputs": [
    {
     "data": {
      "text/html": [
       "<pre>[[0],\n",
       " [],\n",
       " [],\n",
       " [],\n",
       " [0, 0, 0],\n",
       " [],\n",
       " [0],\n",
       " [],\n",
       " [],\n",
       " [],\n",
       " ...,\n",
       " [],\n",
       " [0],\n",
       " [0],\n",
       " [],\n",
       " [],\n",
       " [],\n",
       " [0, 0],\n",
       " [0, 0],\n",
       " [1]]\n",
       "------------------------\n",
       "type: 3556 * var * uint8</pre>"
      ],
      "text/plain": [
       "<Array [[0], [], [], [], ..., [0, 0], [0, 0], [1]] type='3556 * var * uint8'>"
      ]
     },
     "execution_count": 11,
     "metadata": {},
     "output_type": "execute_result"
    }
   ],
   "source": [
    "ar_mutau.Electron.cutBased"
   ]
  },
  {
   "cell_type": "code",
   "execution_count": 20,
   "metadata": {},
   "outputs": [
    {
     "data": {
      "text/html": [
       "<pre>[29,\n",
       " None,\n",
       " None,\n",
       " None,\n",
       " None,\n",
       " None,\n",
       " None,\n",
       " None,\n",
       " None,\n",
       " None,\n",
       " ...,\n",
       " None,\n",
       " None,\n",
       " None,\n",
       " None,\n",
       " None,\n",
       " None,\n",
       " None,\n",
       " None,\n",
       " 94]\n",
       "-------------------\n",
       "type: 6696 * ?int64</pre>"
      ],
      "text/plain": [
       "<Array [29, None, None, None, ..., None, None, None, 94] type='6696 * ?int64'>"
      ]
     },
     "execution_count": 20,
     "metadata": {},
     "output_type": "execute_result"
    }
   ],
   "source": [
    "ar_tautau.genLeptonIdx"
   ]
  },
  {
   "cell_type": "code",
   "execution_count": 30,
   "metadata": {},
   "outputs": [
    {
     "data": {
      "text/html": [
       "<pre>[{genPartIdxMother: 15, pdgId: -13, eta: -2.27, phi: 0.0364, pt: 102},\n",
       " {genPartIdxMother: 15, pdgId: -13, eta: 0.181, phi: 1.75, pt: 128},\n",
       " {genPartIdxMother: 17, pdgId: -13, eta: -0.787, phi: -0.979, pt: 4.55},\n",
       " {genPartIdxMother: 16, pdgId: -13, eta: -0.0167, phi: 0.35, pt: 454},\n",
       " {genPartIdxMother: 17, pdgId: 13, eta: -0.525, phi: 0.9, pt: 77.8},\n",
       " {genPartIdxMother: 14, pdgId: -13, eta: 0.51, phi: 0.312, pt: 123},\n",
       " {genPartIdxMother: 19, pdgId: -13, eta: 0.0119, phi: 2.84, pt: 178},\n",
       " {genPartIdxMother: 14, pdgId: -13, eta: -0.0842, phi: 0.471, pt: 92.8},\n",
       " {genPartIdxMother: 13, pdgId: 13, eta: -1.28, phi: -2.55, pt: 201},\n",
       " {genPartIdxMother: 13, pdgId: -13, eta: -0.244, phi: 2.57, pt: 66},\n",
       " ...,\n",
       " {genPartIdxMother: 13, pdgId: 13, eta: 1.54, phi: 1.11, pt: 142},\n",
       " {genPartIdxMother: 14, pdgId: -13, eta: -1.08, phi: -1.45, pt: 337},\n",
       " {genPartIdxMother: 17, pdgId: -13, eta: -2.35, phi: 2.72, pt: 43.9},\n",
       " {genPartIdxMother: 12, pdgId: -13, eta: -0.502, phi: 2.77, pt: 92.2},\n",
       " {genPartIdxMother: 17, pdgId: 13, eta: 1.13, phi: -0.196, pt: 456},\n",
       " {genPartIdxMother: 23, pdgId: -13, eta: 0.938, phi: 2.27, pt: 246},\n",
       " {genPartIdxMother: 14, pdgId: -13, eta: -0.836, phi: 0.049, pt: 658},\n",
       " {genPartIdxMother: 12, pdgId: -13, eta: -0.506, phi: 2.88, pt: 122},\n",
       " {genPartIdxMother: 16, pdgId: 13, eta: 0.253, phi: -1.98, pt: 353}]\n",
       "------------------------------------------------------------------------\n",
       "type: 3556 * ?{\n",
       "    genPartIdxMother: int16,\n",
       "    pdgId: int32,\n",
       "    eta: float32,\n",
       "    phi: float32,\n",
       "    pt: float32\n",
       "}</pre>"
      ],
      "text/plain": [
       "<Array [{genPartIdxMother: 15, ...}, ...] type='3556 * ?{genPartIdxMother: ...'>"
      ]
     },
     "execution_count": 30,
     "metadata": {},
     "output_type": "execute_result"
    }
   ],
   "source": [
    "ak.firsts(ar_mutau.GenPart[ak.drop_none(ak.singletons(ar_mutau.genLeptonIdx))])"
   ]
  },
  {
   "cell_type": "code",
   "execution_count": 21,
   "metadata": {},
   "outputs": [],
   "source": [
    "\n",
    "evt = ar_tautau[1]"
   ]
  },
  {
   "cell_type": "code",
   "execution_count": 22,
   "metadata": {},
   "outputs": [
    {
     "data": {
      "text/html": [
       "<pre>[5,\n",
       " 5,\n",
       " 0]\n",
       "---------------\n",
       "type: 3 * uint8</pre>"
      ],
      "text/plain": [
       "<Array [5, 5, 0] type='3 * uint8'>"
      ]
     },
     "execution_count": 22,
     "metadata": {},
     "output_type": "execute_result"
    }
   ],
   "source": [
    "evt.boostedTau.genPartFlav"
   ]
  },
  {
   "cell_type": "code",
   "execution_count": 23,
   "metadata": {},
   "outputs": [
    {
     "data": {
      "text/html": [
       "<pre>[0,\n",
       " 1,\n",
       " -1]\n",
       "---------------\n",
       "type: 3 * int16</pre>"
      ],
      "text/plain": [
       "<Array [0, 1, -1] type='3 * int16'>"
      ]
     },
     "execution_count": 23,
     "metadata": {},
     "output_type": "execute_result"
    }
   ],
   "source": [
    "evt.boostedTau.genPartIdx"
   ]
  },
  {
   "cell_type": "code",
   "execution_count": 27,
   "metadata": {},
   "outputs": [
    {
     "data": {
      "text/html": [
       "<pre>{status: 2,\n",
       " charge: -1,\n",
       " genPartIdxMother: 14,\n",
       " eta: -0.119,\n",
       " mass: 1.18,\n",
       " phi: 2.29,\n",
       " pt: 672}\n",
       "----------------------------\n",
       "type: {\n",
       "    status: uint8,\n",
       "    charge: int16,\n",
       "    genPartIdxMother: int16,\n",
       "    eta: float32,\n",
       "    mass: float32,\n",
       "    phi: float32,\n",
       "    pt: float32\n",
       "}</pre>"
      ],
      "text/plain": [
       "<Record {status: 2, charge: -1, ...} type='{status: uint8, charge: int16, g...'>"
      ]
     },
     "execution_count": 27,
     "metadata": {},
     "output_type": "execute_result"
    }
   ],
   "source": [
    "evt.GenVisTau[0]"
   ]
  },
  {
   "cell_type": "code",
   "execution_count": null,
   "metadata": {},
   "outputs": [],
   "source": []
  },
  {
   "cell_type": "code",
   "execution_count": 64,
   "metadata": {},
   "outputs": [
    {
     "data": {
      "text/html": [
       "<pre>[{nGenVisTau: 2, GenPairType: 2, genDau1_genPartIdx: 0, ...},\n",
       " {nGenVisTau: 0, GenPairType: 3, genDau1_genPartIdx: -1, ...},\n",
       " {nGenVisTau: 3, GenPairType: 2, genDau1_genPartIdx: -1, ...},\n",
       " {nGenVisTau: 1, GenPairType: -1, genDau1_genPartIdx: -1, ...},\n",
       " {nGenVisTau: 2, GenPairType: 2, genDau1_genPartIdx: 0, ...},\n",
       " {nGenVisTau: 2, GenPairType: 2, genDau1_genPartIdx: 0, ...},\n",
       " {nGenVisTau: 0, GenPairType: -1, genDau1_genPartIdx: -1, ...},\n",
       " {nGenVisTau: 1, GenPairType: -1, genDau1_genPartIdx: -1, ...},\n",
       " {nGenVisTau: 1, GenPairType: 0, genDau1_genPartIdx: 50, ...},\n",
       " {nGenVisTau: 1, GenPairType: 1, genDau1_genPartIdx: 34, ...},\n",
       " ...,\n",
       " {nGenVisTau: 2, GenPairType: 2, genDau1_genPartIdx: 0, ...},\n",
       " {nGenVisTau: 2, GenPairType: 2, genDau1_genPartIdx: 0, ...},\n",
       " {nGenVisTau: 1, GenPairType: 1, genDau1_genPartIdx: 43, ...},\n",
       " {nGenVisTau: 1, GenPairType: 0, genDau1_genPartIdx: 44, ...},\n",
       " {nGenVisTau: 2, GenPairType: 2, genDau1_genPartIdx: 0, ...},\n",
       " {nGenVisTau: 0, GenPairType: -1, genDau1_genPartIdx: -1, ...},\n",
       " {nGenVisTau: 0, GenPairType: 3, genDau1_genPartIdx: -1, ...},\n",
       " {nGenVisTau: 2, GenPairType: 2, genDau1_genPartIdx: 0, ...},\n",
       " {nGenVisTau: 0, GenPairType: 1, genDau1_genPartIdx: 42, ...}]\n",
       "---------------------------------------------------------------\n",
       "type: 3935 * {\n",
       "    nGenVisTau: int32,\n",
       "    GenPairType: int32,\n",
       "    genDau1_genPartIdx: int32,\n",
       "    genDau2_genPartIdx: int32,\n",
       "    cutflow_boostedTaus_dau1_DeltaR: bool,\n",
       "    cutflow_boostedTaus_dau1_Eta: bool,\n",
       "    cutflow_boostedTaus_dau1_LeptonID: bool,\n",
       "    cutflow_boostedTaus_dau1_LeptonIso: bool,\n",
       "    cutflow_boostedTaus_dau1_Pt: bool,\n",
       "    cutflow_boostedTaus_dau1_Reco: bool,\n",
       "    cutflow_boostedTaus_dau1_TauDM: bool,\n",
       "    cutflow_boostedTaus_dau1_TauIdVsE: bool,\n",
       "    cutflow_boostedTaus_dau1_TauIdVsJet: bool,\n",
       "    cutflow_boostedTaus_dau1_TauIdVsMu: bool,\n",
       "    cutflow_boostedTaus_dau1_Vertex: bool,\n",
       "    cutflow_boostedTaus_dau1_WrongPair: bool,\n",
       "    cutflow_boostedTaus_dau2_DeltaR: bool,\n",
       "    cutflow_boostedTaus_dau2_Eta: bool,\n",
       "    cutflow_boostedTaus_dau2_LeptonID: bool,\n",
       "    cutflow_boostedTaus_dau2_LeptonIso: bool,\n",
       "    cutflow_boostedTaus_dau2_Pt: bool,\n",
       "    cutflow_boostedTaus_dau2_Reco: bool,\n",
       "    cutflow_boostedTaus_dau2_TauDM: bool,\n",
       "    cutflow_boostedTaus_dau2_TauIdVsE: bool,\n",
       "    cutflow_boostedTaus_dau2_TauIdVsJet: bool,\n",
       "    cutflow_boostedTaus_dau2_TauIdVsMu: bool,\n",
       "    cutflow_boostedTaus_dau2_Vertex: bool,\n",
       "    cutflow_boostedTaus_dau2_WrongPair: bool,\n",
       "    cutflow_boostedTaus_leptonVetoFail: bool,\n",
       "    cutflow_boostedTaus_deltaR: bool,\n",
       "    boostedTau: var * {\n",
       "        idAntiEle2018: uint8,\n",
       "        idAntiMu: uint8,\n",
       "        idDecayModeNewDMs: bool,\n",
       "        idDecayModeOldDMs: bool,\n",
       "        idDeepTau2018v2p7VSe: uint8,\n",
       "        idDeepTau2018v2p7VSjet: uint8,\n",
       "        idDeepTau2018v2p7VSmu: uint8,\n",
       "        idMVAnewDM2017v2: uint8,\n",
       "        idMVAoldDM2017v2: uint8,\n",
       "        idMVAoldDMdR032017v2: uint8,\n",
       "        LeadingElectron_electronIdx: int16,\n",
       "        LeadingMuon_muonIdx: int16,\n",
       "        SubLeadingElectron_electronIdx: int16,\n",
       "        SubLeadingMuon_muonIdx: int16,\n",
       "        SubSubLeadingElectron_electronIdx: int16,\n",
       "        SubSubLeadingMuon_muonIdx: int16,\n",
       "        jetIdx: int16,\n",
       "        rawAntiEleCat2018: int16,\n",
       "        Ecounter: int32,\n",
       "        Mcounter: int32,\n",
       "        SubLeadingElectronPhi: int32,\n",
       "        SubLeadingMuonM: int32,\n",
       "        SubSubLeadingElectronPhi: int32,\n",
       "        SubSubLeadingMuonM: int32,\n",
       "        charge: int32,\n",
       "        decayMode: int32,\n",
       "        LeadingElectronCorrIso: float32,\n",
       "        LeadingElectronEta: float32,\n",
       "        LeadingElectronM: float32,\n",
       "        LeadingElectronPhi: float32,\n",
       "        LeadingElectronPt: float32,\n",
       "        LeadingElectrondelR: float32,\n",
       "        LeadingElectronea: float32,\n",
       "        LeadingElectronrho: float32,\n",
       "        LeadingElectronsumPFChargedHadronPt: float32,\n",
       "        LeadingElectronsumPFNeutralHadronPt: float32,\n",
       "        LeadingElectronsumPFPhotonPt: float32,\n",
       "        LeadingElectrontausumPFChargedHadronPt: float32,\n",
       "        LeadingElectrontausumPFNeutralHadronPt: float32,\n",
       "        LeadingElectrontausumPFPhotonPt: float32,\n",
       "        LeadingMuonCorrIso: float32,\n",
       "        LeadingMuonEta: float32,\n",
       "        LeadingMuonM: float32,\n",
       "        LeadingMuonPhi: float32,\n",
       "        LeadingMuonPt: float32,\n",
       "        LeadingMuondelR: float32,\n",
       "        LeadingMuonsumPFChargedHadronPt: float32,\n",
       "        LeadingMuonsumPFNeutralHadronPt: float32,\n",
       "        LeadingMuonsumPFPhotonPt: float32,\n",
       "        LeadingMuonsumPUPt: float32,\n",
       "        LeadingMuontausumPFChargedHadronPt: float32,\n",
       "        LeadingMuontausumPFNeutralHadronPt: float32,\n",
       "        LeadingMuontausumPFPhotonPt: float32,\n",
       "        SubLeadingElectronCorrIso: float32,\n",
       "        SubLeadingElectronEta: float32,\n",
       "        SubLeadingElectronM: float32,\n",
       "        SubLeadingElectronPt: float32,\n",
       "        SubLeadingElectrondelR: float32,\n",
       "        SubLeadingElectronea: float32,\n",
       "        SubLeadingElectronrho: float32,\n",
       "        SubLeadingElectronsumPFChargedHadronPt: float32,\n",
       "        SubLeadingElectronsumPFNeutralHadronPt: float32,\n",
       "        SubLeadingElectronsumPFPhotonPt: float32,\n",
       "        SubLeadingElectrontausumPFChargedHadronPt: float32,\n",
       "        SubLeadingElectrontausumPFNeutralHadronPt: float32,\n",
       "        SubLeadingElectrontausumPFPhotonPt: float32,\n",
       "        SubLeadingMuonCorrIso: float32,\n",
       "        SubLeadingMuonEta: float32,\n",
       "        SubLeadingMuonPhi: float32,\n",
       "        SubLeadingMuonPt: float32,\n",
       "        SubLeadingMuondelR: float32,\n",
       "        SubLeadingMuonsumPFChargedHadronPt: float32,\n",
       "        SubLeadingMuonsumPFNeutralHadronPt: float32,\n",
       "        SubLeadingMuonsumPFPhotonPt: float32,\n",
       "        SubLeadingMuonsumPUPt: float32,\n",
       "        SubLeadingMuontausumPFChargedHadronPt: float32,\n",
       "        SubLeadingMuontausumPFNeutralHadronPt: float32,\n",
       "        SubLeadingMuontausumPFPhotonPt: float32,\n",
       "        SubSubLeadingElectronCorrIso: float32,\n",
       "        SubSubLeadingElectronEta: float32,\n",
       "        SubSubLeadingElectronM: float32,\n",
       "        SubSubLeadingElectronPt: float32,\n",
       "        SubSubLeadingElectrondelR: float32,\n",
       "        SubSubLeadingElectronea: float32,\n",
       "        SubSubLeadingElectronrho: float32,\n",
       "        SubSubLeadingElectronsumPFChargedHadronPt: float32,\n",
       "        SubSubLeadingElectronsumPFNeutralHadronPt: float32,\n",
       "        SubSubLeadingElectronsumPFPhotonPt: float32,\n",
       "        SubSubLeadingElectrontausumPFChargedHadronPt: float32,\n",
       "        SubSubLeadingElectrontausumPFNeutralHadronPt: float32,\n",
       "        SubSubLeadingElectrontausumPFPhotonPt: float32,\n",
       "        SubSubLeadingMuonCorrIso: float32,\n",
       "        SubSubLeadingMuonEta: float32,\n",
       "        SubSubLeadingMuonPhi: float32,\n",
       "        SubSubLeadingMuonPt: float32,\n",
       "        SubSubLeadingMuondelR: float32,\n",
       "        SubSubLeadingMuonsumPFChargedHadronPt: float32,\n",
       "        SubSubLeadingMuonsumPFNeutralHadronPt: float32,\n",
       "        SubSubLeadingMuonsumPFPhotonPt: float32,\n",
       "        SubSubLeadingMuonsumPUPt: float32,\n",
       "        SubSubLeadingMuontausumPFChargedHadronPt: float32,\n",
       "        SubSubLeadingMuontausumPFNeutralHadronPt: float32,\n",
       "        SubSubLeadingMuontausumPFPhotonPt: float32,\n",
       "        chargedIso: float32,\n",
       "        eta: float32,\n",
       "        leadTkDeltaEta: float32,\n",
       "        leadTkDeltaPhi: float32,\n",
       "        leadTkPtOverTauPt: float32,\n",
       "        mass: float32,\n",
       "        neutralIso: float32,\n",
       "        phi: float32,\n",
       "        photonsOutsideSignalCone: float32,\n",
       "        pt: float32,\n",
       "        puCorr: float32,\n",
       "        rawAntiEle2018: float32,\n",
       "        rawDeepTau2018v2p7VSe: float32,\n",
       "        rawDeepTau2018v2p7VSjet: float32,\n",
       "        rawDeepTau2018v2p7VSmu: float32,\n",
       "        rawIso: float32,\n",
       "        rawIsodR03: float32,\n",
       "        rawMVAnewDM2017v2: float32,\n",
       "        rawMVAoldDM2017v2: float32,\n",
       "        rawMVAoldDMdR032017v2: float32,\n",
       "        genPartFlav: uint8,\n",
       "        genPartIdx: int16\n",
       "    },\n",
       "    Electron: var * {\n",
       "        eta: float32,\n",
       "        mass: float32,\n",
       "        phi: float32,\n",
       "        pt: float32,\n",
       "        pt_smear_up: float32,\n",
       "        pt_smear_down: float32,\n",
       "        pt_scale_up: float32,\n",
       "        pt_scale_down: float32,\n",
       "        mass_smear_up: float32,\n",
       "        mass_smear_down: float32,\n",
       "        mass_scale_up: float32,\n",
       "        mass_scale_down: float32\n",
       "    },\n",
       "    GenPart: var * {\n",
       "        genPartIdxMother: int16,\n",
       "        pdgId: int32,\n",
       "        eta: float32,\n",
       "        phi: float32,\n",
       "        pt: float32\n",
       "    },\n",
       "    GenVisTau: var * {\n",
       "        status: uint8,\n",
       "        charge: int16,\n",
       "        genPartIdxMother: int16,\n",
       "        eta: float32,\n",
       "        mass: float32,\n",
       "        phi: float32,\n",
       "        pt: float32\n",
       "    },\n",
       "    Muon: var * {\n",
       "        eta: float32,\n",
       "        mass: float32,\n",
       "        phi: float32,\n",
       "        pt: float32\n",
       "    }\n",
       "}</pre>"
      ],
      "text/plain": [
       "<Array [{nGenVisTau: 2, ...}, ..., {...}] type='3935 * {nGenVisTau: int32, ...'>"
      ]
     },
     "execution_count": 64,
     "metadata": {},
     "output_type": "execute_result"
    }
   ],
   "source": [
    "b = uproot.open(\"/grid_mnt/data__data.polcms/cms/cuisset/cmt/PreprocessRDF/ul_2018_ZZ_v12/GluGluToXToZZTo2B2Tau_M3000_BT/cat_base/prod_240923_BT_test/data_4.root:Events\").arrays(filter_name=[\"boostedTau*\", \"Muon_*\", \"Electron_*\", \"GenPart_pdgId\", \"GenPart_genPartIdxMother\", \"GenPart_eta\", \"GenPart_phi\", \"GenPart_pt\", \"nGenVisTau\", \"GenVisTau*\",\n",
    "        \"GenPairType\", \"genDau*\", \"cutflow*\", \"GenVisTau*\"],\n",
    "    how=\"zip\")\n",
    "b"
   ]
  },
  {
   "cell_type": "code",
   "execution_count": 65,
   "metadata": {},
   "outputs": [
    {
     "data": {
      "text/html": [
       "<pre>[2,\n",
       " 3,\n",
       " 2,\n",
       " -1,\n",
       " 2,\n",
       " 2,\n",
       " -1,\n",
       " -1,\n",
       " 0,\n",
       " 1,\n",
       " ...,\n",
       " 2,\n",
       " 2,\n",
       " 1,\n",
       " 0,\n",
       " 2,\n",
       " -1,\n",
       " 3,\n",
       " 2,\n",
       " 1]\n",
       "------------------\n",
       "type: 3935 * int32</pre>"
      ],
      "text/plain": [
       "<Array [2, 3, 2, -1, 2, 2, -1, ..., 1, 0, 2, -1, 3, 2, 1] type='3935 * int32'>"
      ]
     },
     "execution_count": 65,
     "metadata": {},
     "output_type": "execute_result"
    }
   ],
   "source": [
    "b.GenPairType"
   ]
  },
  {
   "cell_type": "code",
   "execution_count": 66,
   "metadata": {},
   "outputs": [
    {
     "data": {
      "text/html": [
       "<pre>[0,\n",
       " -1,\n",
       " 0,\n",
       " 0,\n",
       " 50,\n",
       " 34,\n",
       " 0,\n",
       " 0,\n",
       " 0,\n",
       " 0,\n",
       " ...,\n",
       " 0,\n",
       " -1,\n",
       " 0,\n",
       " 0,\n",
       " 43,\n",
       " 44,\n",
       " 0,\n",
       " 0,\n",
       " 42]\n",
       "------------------\n",
       "type: 2973 * int32</pre>"
      ],
      "text/plain": [
       "<Array [0, -1, 0, 0, 50, 34, 0, ..., 0, 43, 44, 0, 0, 42] type='2973 * int32'>"
      ]
     },
     "execution_count": 66,
     "metadata": {},
     "output_type": "execute_result"
    }
   ],
   "source": [
    "b[(b.GenPairType >= 0) & (b.GenPairType <= 2)].genDau1_genPartIdx"
   ]
  },
  {
   "cell_type": "code",
   "execution_count": 75,
   "metadata": {},
   "outputs": [
    {
     "data": {
      "text/html": [
       "<pre>[[5, 0, 0],\n",
       " [5, 0, 5],\n",
       " [5, 0, 0],\n",
       " [5, 0, 0, 5, 0],\n",
       " [0, 5, 0],\n",
       " [5, 0, 0],\n",
       " [5, 0, 5, 0],\n",
       " [5, 0],\n",
       " [5, 0, 5, 0],\n",
       " [5, 0, 0],\n",
       " ...,\n",
       " [5, 0],\n",
       " [5, 0, 5],\n",
       " [5, 5, 0, 0],\n",
       " [5, 0, 5, 5],\n",
       " [5, 0, 0, 5, 0],\n",
       " [5, 0, 0, 5],\n",
       " [5, 5, 0],\n",
       " [5, 0, 0, 0, 0, 0],\n",
       " [5, 0, 0]]\n",
       "------------------------\n",
       "type: 1648 * var * uint8</pre>"
      ],
      "text/plain": [
       "<Array [[5, 0, 0], [5, 0, 5], ..., [...], [5, 0, 0]] type='1648 * var * uint8'>"
      ]
     },
     "execution_count": 75,
     "metadata": {},
     "output_type": "execute_result"
    }
   ],
   "source": [
    "b[b.GenPairType == 2].boostedTau.genPartFlav"
   ]
  },
  {
   "cell_type": "code",
   "execution_count": 73,
   "metadata": {},
   "outputs": [
    {
     "data": {
      "text/html": [
       "<pre>[[1, 57, -1],\n",
       " [0, 53, 2],\n",
       " [0, -1, -1],\n",
       " [0, -1, -1, 1, -1],\n",
       " [-1, 0, -1],\n",
       " [0, -1, -1],\n",
       " [0, -1, 1, -1],\n",
       " [0, -1],\n",
       " [0, -1, 1, -1],\n",
       " [0, -1, -1],\n",
       " ...,\n",
       " [0, -1],\n",
       " [1, -1, 0],\n",
       " [0, 1, 59, -1],\n",
       " [0, -1, 1, 78],\n",
       " [0, -1, 59, 1, -1],\n",
       " [0, -1, -1, 1],\n",
       " [0, 1, -1],\n",
       " [1, -1, -1, -1, -1, -1],\n",
       " [0, -1, -1]]\n",
       "-------------------------\n",
       "type: 1648 * var * int16</pre>"
      ],
      "text/plain": [
       "<Array [[1, 57, -1], [0, ..., 2], ..., [0, -1, -1]] type='1648 * var * int16'>"
      ]
     },
     "execution_count": 73,
     "metadata": {},
     "output_type": "execute_result"
    }
   ],
   "source": [
    "b[b.GenPairType == 2].boostedTau.genPartIdx"
   ]
  },
  {
   "cell_type": "code",
   "execution_count": 70,
   "metadata": {},
   "outputs": [
    {
     "data": {
      "text/html": [
       "<pre>{status: 11,\n",
       " charge: -1,\n",
       " genPartIdxMother: 14,\n",
       " eta: -0.148,\n",
       " mass: 1.11,\n",
       " phi: 1,\n",
       " pt: 383}\n",
       "----------------------------\n",
       "type: {\n",
       "    status: uint8,\n",
       "    charge: int16,\n",
       "    genPartIdxMother: int16,\n",
       "    eta: float32,\n",
       "    mass: float32,\n",
       "    phi: float32,\n",
       "    pt: float32\n",
       "}</pre>"
      ],
      "text/plain": [
       "<Record {status: 11, charge: -1, ...} type='{status: uint8, charge: int16, ...'>"
      ]
     },
     "execution_count": 70,
     "metadata": {},
     "output_type": "execute_result"
    }
   ],
   "source": [
    "b[b.GenPairType == 2].GenVisTau[0][1]"
   ]
  },
  {
   "cell_type": "code",
   "execution_count": 68,
   "metadata": {},
   "outputs": [
    {
     "data": {
      "text/html": [
       "<pre>[1,\n",
       " -1,\n",
       " 1,\n",
       " 1,\n",
       " 1,\n",
       " 1,\n",
       " 1,\n",
       " 1,\n",
       " 1,\n",
       " 1,\n",
       " ...,\n",
       " -1,\n",
       " 1,\n",
       " -1,\n",
       " 1,\n",
       " -1,\n",
       " 1,\n",
       " 1,\n",
       " 1,\n",
       " 1]\n",
       "------------------\n",
       "type: 1648 * int32</pre>"
      ],
      "text/plain": [
       "<Array [1, -1, 1, 1, 1, 1, 1, ..., -1, 1, -1, 1, 1, 1, 1] type='1648 * int32'>"
      ]
     },
     "execution_count": 68,
     "metadata": {},
     "output_type": "execute_result"
    }
   ],
   "source": [
    "b[b.GenPairType == 2].genDau2_genPartIdx"
   ]
  }
 ],
 "metadata": {
  "kernelspec": {
   "display_name": "modules-python-3.11",
   "language": "python",
   "name": "python3"
  },
  "language_info": {
   "codemirror_mode": {
    "name": "ipython",
    "version": 3
   },
   "file_extension": ".py",
   "mimetype": "text/x-python",
   "name": "python",
   "nbconvert_exporter": "python",
   "pygments_lexer": "ipython3",
   "version": "3.11.8"
  }
 },
 "nbformat": 4,
 "nbformat_minor": 2
}
