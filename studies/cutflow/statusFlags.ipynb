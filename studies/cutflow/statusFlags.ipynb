{
 "cells": [
  {
   "cell_type": "code",
   "execution_count": 2,
   "metadata": {},
   "outputs": [],
   "source": [
    "#from Tools.Tools.Htt_trigSF import Htt_trigSFRDFProducer\n",
    "# import ROOT\n",
    "# import JupyROOT.helpers.utils\n",
    "# JupyROOT.helpers.utils.GetGeometryDrawer = lambda:None # magic fix to make ROOT faster\n",
    "# import cppyy\n",
    "import numpy as np\n",
    "import hist\n",
    "import matplotlib.pyplot as plt\n",
    "import mplhep as hep\n",
    "plt.style.use(hep.style.CMS)\n",
    "import math\n",
    "import uproot"
   ]
  },
  {
   "cell_type": "code",
   "execution_count": 3,
   "metadata": {},
   "outputs": [],
   "source": [
    "ar_raw = uproot.concatenate([f\"root://eos.grif.fr//eos/grif/cms/llr/store/user/tcuisset/boostedTaus/2018_MC/GluGluToXToZZTo2B2Tau_M-1000/nano_{i}.root:Events\" for i in [0]],\n",
    "    filter_name=[\"event\", \"luminosityBlock\",  \"GenPart_pdgId\", \"GenPart_genPartIdxMother\", \"GenPart_eta\", \"GenPart_phi\", \"GenPart_*\", \"nGenVisTau\", \"GenVisTau*\"], # \"boostedTau*\", \"Muon_*\", \"Electron_*\",\n",
    "    how=\"zip\")"
   ]
  },
  {
   "cell_type": "code",
   "execution_count": 34,
   "metadata": {},
   "outputs": [],
   "source": [
    "statusFlags_doc = {0 : \"isPrompt\", 1 : \"isDecayedLeptonHadron\", 2 : \"isTauDecayProduct\", 3 : \"isPromptTauDecayProduct\", 4 : \"isDirectTauDecayProduct\", 5 : \"isDirectPromptTauDecayProduct\", 6 : \"isDirectHadronDecayProduct\", 7 : \"isHardProcess\", 8 : \"fromHardProcess\", 9 : \"isHardProcessTauDecayProduct\", 10 : \"isDirectHardProcessTauDecayProduct\", 11 : \"fromHardProcessBeforeFSR\", 12 : \"isFirstCopy\", 13 : \"isLastCopy\", 14 : \"isLastCopyBeforeFSR\"}\n",
    "def readStatusFlagsBits(val):\n",
    "    s = \"\"\n",
    "    for bitn in statusFlags_doc.keys():\n",
    "        is_bit_set = (val & (1 << bitn)) != 0\n",
    "        if is_bit_set:\n",
    "            s += statusFlags_doc[bitn] + \", \"\n",
    "    return s"
   ]
  },
  {
   "cell_type": "code",
   "execution_count": 4,
   "metadata": {},
   "outputs": [
    {
     "data": {
      "text/html": [
       "<pre>{luminosityBlock: 2,\n",
       " event: 1311,\n",
       " nGenVisTau: 1,\n",
       " GenPart: [{genPartIdxMother: -1, statusFlags: 2433, pdgId: 21, ...}, ...],\n",
       " GenVisTau: [{status: 1, charge: 1, genPartIdxMother: 13, eta: 0.125, ...}]}\n",
       "----------------------------------------------------------------------------\n",
       "type: {\n",
       "    luminosityBlock: uint32,\n",
       "    event: uint64,\n",
       "    nGenVisTau: int32,\n",
       "    GenPart: var * {\n",
       "        genPartIdxMother: int16,\n",
       "        statusFlags: uint16,\n",
       "        pdgId: int32,\n",
       "        status: int32,\n",
       "        eta: float32,\n",
       "        mass: float32,\n",
       "        phi: float32,\n",
       "        pt: float32\n",
       "    },\n",
       "    GenVisTau: var * {\n",
       "        status: uint8,\n",
       "        charge: int16,\n",
       "        genPartIdxMother: int16,\n",
       "        eta: float32,\n",
       "        mass: float32,\n",
       "        phi: float32,\n",
       "        pt: float32\n",
       "    }\n",
       "}</pre>"
      ],
      "text/plain": [
       "<Record {luminosityBlock: 2, event: 1311, ...} type='{luminosityBlock: uint...'>"
      ]
     },
     "execution_count": 4,
     "metadata": {},
     "output_type": "execute_result"
    }
   ],
   "source": [
    "evt = ar_raw[ar_raw.event == 1311][0]\n",
    "evt"
   ]
  },
  {
   "cell_type": "code",
   "execution_count": 5,
   "metadata": {},
   "outputs": [
    {
     "data": {
      "text/html": [
       "<pre>[{pdgId: 21, genPartIdxMother: -1, pt: 0},\n",
       " {pdgId: 21, genPartIdxMother: -1, pt: 0},\n",
       " {pdgId: 25, genPartIdxMother: 0, pt: 25.1},\n",
       " {pdgId: 21, genPartIdxMother: 0, pt: 25.1},\n",
       " {pdgId: 25, genPartIdxMother: 2, pt: 24.2},\n",
       " {pdgId: 25, genPartIdxMother: 4, pt: 36.4},\n",
       " {pdgId: 25, genPartIdxMother: 5, pt: 47.4},\n",
       " {pdgId: 25, genPartIdxMother: 6, pt: 48.1},\n",
       " {pdgId: 25, genPartIdxMother: 7, pt: 49.1},\n",
       " {pdgId: 21, genPartIdxMother: 3, pt: 8.53},\n",
       " ...,\n",
       " {pdgId: 22, genPartIdxMother: 44, pt: 25.4},\n",
       " {pdgId: 22, genPartIdxMother: 44, pt: 44.8},\n",
       " {pdgId: 413, genPartIdxMother: 46, pt: 42.9},\n",
       " {pdgId: 12, genPartIdxMother: 47, pt: 40.8},\n",
       " {pdgId: -11, genPartIdxMother: 47, pt: 62.5},\n",
       " {pdgId: -421, genPartIdxMother: 47, pt: 47.9},\n",
       " {pdgId: 421, genPartIdxMother: 50, pt: 39.9},\n",
       " {pdgId: 111, genPartIdxMother: 53, pt: 16.3},\n",
       " {pdgId: 22, genPartIdxMother: 55, pt: 11.5}]\n",
       "-----------------------------------------------\n",
       "type: 57 * {\n",
       "    pdgId: int32,\n",
       "    genPartIdxMother: int16,\n",
       "    pt: float32\n",
       "}</pre>"
      ],
      "text/plain": [
       "<Array [{pdgId: 21, ...}, {...}, ..., {...}] type='57 * {pdgId: int32, genP...'>"
      ]
     },
     "execution_count": 5,
     "metadata": {},
     "output_type": "execute_result"
    }
   ],
   "source": [
    "evt.GenPart[[\"pdgId\", \"genPartIdxMother\", \"pt\"]]"
   ]
  },
  {
   "cell_type": "code",
   "execution_count": 6,
   "metadata": {},
   "outputs": [
    {
     "name": "stdout",
     "output_type": "stream",
     "text": [
      "(<Array [13, 14] type='2 * int64'>,)\n"
     ]
    },
    {
     "data": {
      "text/html": [
       "<pre>[{genPartIdxMother: 11, statusFlags: 12675, pdgId: -15, status: 2, ...},\n",
       " {genPartIdxMother: 11, statusFlags: 12675, pdgId: 15, status: 2, ...}]\n",
       "------------------------------------------------------------------------\n",
       "type: 2 * {\n",
       "    genPartIdxMother: int16,\n",
       "    statusFlags: uint16,\n",
       "    pdgId: int32,\n",
       "    status: int32,\n",
       "    eta: float32,\n",
       "    mass: float32,\n",
       "    phi: float32,\n",
       "    pt: float32\n",
       "}</pre>"
      ],
      "text/plain": [
       "<Array [{genPartIdxMother: 11, ...}, ...] type='2 * {genPartIdxMother: int1...'>"
      ]
     },
     "execution_count": 6,
     "metadata": {},
     "output_type": "execute_result"
    }
   ],
   "source": [
    "gen_tau = (abs(evt.GenPart.pdgId) == 15) & (evt.GenPart[evt.GenPart.genPartIdxMother].pdgId == 23) \n",
    "print(np.where(gen_tau))\n",
    "evt.GenPart[gen_tau]"
   ]
  },
  {
   "cell_type": "code",
   "execution_count": 32,
   "metadata": {},
   "outputs": [
    {
     "data": {
      "text/plain": [
       "('isTauDecayProduct, isPromptTauDecayProduct, isDirectTauDecayProduct, isDirectPromptTauDecayProduct, isHardProcessTauDecayProduct, isDirectHardProcessTauDecayProduct, isFirstCopy, isLastCopy, ',\n",
       " 'isPrompt, isHardProcess, fromHardProcess, isFirstCopy, ')"
      ]
     },
     "execution_count": 32,
     "metadata": {},
     "output_type": "execute_result"
    }
   ],
   "source": [
    "readStatusFlagsBits(13884), readStatusFlagsBits(4481), "
   ]
  },
  {
   "cell_type": "code",
   "execution_count": 40,
   "metadata": {},
   "outputs": [
    {
     "name": "stdout",
     "output_type": "stream",
     "text": [
      "(<Array [25, 26] type='2 * int64'>,)\n"
     ]
    },
    {
     "data": {
      "text/html": [
       "<pre>[{genPartIdxMother: 15, pdgId: 16, eta: 0.421, statusFlags: 13884},\n",
       " {genPartIdxMother: 15, pdgId: -211, eta: 0.299, statusFlags: 13884}]\n",
       "---------------------------------------------------------------------\n",
       "type: 2 * {\n",
       "    genPartIdxMother: int16,\n",
       "    pdgId: int32,\n",
       "    eta: float32,\n",
       "    statusFlags: uint16\n",
       "}</pre>"
      ],
      "text/plain": [
       "<Array [{genPartIdxMother: 15, ...}, ...] type='2 * {genPartIdxMother: int1...'>"
      ]
     },
     "execution_count": 40,
     "metadata": {},
     "output_type": "execute_result"
    }
   ],
   "source": [
    "idx=15\n",
    "print(np.where(evt.GenPart.genPartIdxMother == idx))\n",
    "evt.GenPart[evt.GenPart.genPartIdxMother == idx][[\"genPartIdxMother\", \"pdgId\", \"eta\", \"statusFlags\"]]"
   ]
  },
  {
   "cell_type": "code",
   "execution_count": 39,
   "metadata": {},
   "outputs": [
    {
     "data": {
      "text/html": [
       "<pre>[{status: 0, charge: -1, genPartIdxMother: 14, eta: 0.299, mass: 0.14, ...}]\n",
       "----------------------------------------------------------------------------\n",
       "type: 1 * {\n",
       "    status: uint8,\n",
       "    charge: int16,\n",
       "    genPartIdxMother: int16,\n",
       "    eta: float32,\n",
       "    mass: float32,\n",
       "    phi: float32,\n",
       "    pt: float32\n",
       "}</pre>"
      ],
      "text/plain": [
       "<Array [{status: 0, charge: -1, ...}] type='1 * {status: uint8, charge: int...'>"
      ]
     },
     "execution_count": 39,
     "metadata": {},
     "output_type": "execute_result"
    }
   ],
   "source": [
    "evt.GenVisTau"
   ]
  },
  {
   "cell_type": "code",
   "execution_count": 18,
   "metadata": {},
   "outputs": [
    {
     "data": {
      "text/html": [
       "<pre>{genPartIdxMother: 14,\n",
       " statusFlags: 13884,\n",
       " pdgId: -13,\n",
       " status: 1,\n",
       " eta: -1.56,\n",
       " mass: 0,\n",
       " phi: 1.47,\n",
       " pt: 158}\n",
       "----------------------------\n",
       "type: {\n",
       "    genPartIdxMother: int16,\n",
       "    statusFlags: uint16,\n",
       "    pdgId: int32,\n",
       "    status: int32,\n",
       "    eta: float32,\n",
       "    mass: float32,\n",
       "    phi: float32,\n",
       "    pt: float32\n",
       "}</pre>"
      ],
      "text/plain": [
       "<Record {genPartIdxMother: 14, ...} type='{genPartIdxMother: int16, statusF...'>"
      ]
     },
     "execution_count": 18,
     "metadata": {},
     "output_type": "execute_result"
    }
   ],
   "source": [
    "evt.GenPart[29]"
   ]
  },
  {
   "cell_type": "code",
   "execution_count": 20,
   "metadata": {},
   "outputs": [
    {
     "data": {
      "text/html": [
       "<pre>{genPartIdxMother: 11,\n",
       " statusFlags: 12675,\n",
       " pdgId: 15,\n",
       " status: 2,\n",
       " eta: -1.56,\n",
       " mass: 0,\n",
       " phi: 1.46,\n",
       " pt: 624}\n",
       "----------------------------\n",
       "type: {\n",
       "    genPartIdxMother: int16,\n",
       "    statusFlags: uint16,\n",
       "    pdgId: int32,\n",
       "    status: int32,\n",
       "    eta: float32,\n",
       "    mass: float32,\n",
       "    phi: float32,\n",
       "    pt: float32\n",
       "}</pre>"
      ],
      "text/plain": [
       "<Record {genPartIdxMother: 11, ...} type='{genPartIdxMother: int16, statusF...'>"
      ]
     },
     "execution_count": 20,
     "metadata": {},
     "output_type": "execute_result"
    }
   ],
   "source": [
    "evt.GenPart[15]"
   ]
  },
  {
   "cell_type": "code",
   "execution_count": 30,
   "metadata": {},
   "outputs": [
    {
     "name": "stdout",
     "output_type": "stream",
     "text": [
      "(<Array [55, 56, 57] type='3 * int64'>,)\n"
     ]
    },
    {
     "data": {
      "text/html": [
       "<pre>[{genPartIdxMother: 19, statusFlags: 13884, pdgId: -16, status: 1, ...},\n",
       " {genPartIdxMother: 19, statusFlags: 13884, pdgId: -11, status: 1, ...},\n",
       " {genPartIdxMother: 19, statusFlags: 13884, pdgId: 12, status: 1, ...}]\n",
       "------------------------------------------------------------------------\n",
       "type: 3 * {\n",
       "    genPartIdxMother: int16,\n",
       "    statusFlags: uint16,\n",
       "    pdgId: int32,\n",
       "    status: int32,\n",
       "    eta: float32,\n",
       "    mass: float32,\n",
       "    phi: float32,\n",
       "    pt: float32\n",
       "}</pre>"
      ],
      "text/plain": [
       "<Array [{genPartIdxMother: 19, ...}, ...] type='3 * {genPartIdxMother: int1...'>"
      ]
     },
     "execution_count": 30,
     "metadata": {},
     "output_type": "execute_result"
    }
   ],
   "source": [
    "print(np.where(evt.GenPart.genPartIdxMother == 19))\n",
    "evt.GenPart[evt.GenPart.genPartIdxMother == 19]"
   ]
  },
  {
   "cell_type": "code",
   "execution_count": 29,
   "metadata": {},
   "outputs": [
    {
     "data": {
      "text/html": [
       "<pre>----------------------------\n",
       "type: 0 * {\n",
       "    status: uint8,\n",
       "    charge: int16,\n",
       "    genPartIdxMother: int16,\n",
       "    eta: float32,\n",
       "    mass: float32,\n",
       "    phi: float32,\n",
       "    pt: float32\n",
       "}</pre>"
      ],
      "text/plain": [
       "<Array [] type='0 * {status: uint8, charge: int16, genPartIdxMother: int16,...'>"
      ]
     },
     "execution_count": 29,
     "metadata": {},
     "output_type": "execute_result"
    }
   ],
   "source": [
    "evt.GenVisTau"
   ]
  },
  {
   "cell_type": "code",
   "execution_count": 31,
   "metadata": {},
   "outputs": [
    {
     "data": {
      "text/html": [
       "<pre>{luminosityBlock: 28,\n",
       " event: 27997,\n",
       " nGenVisTau: 2,\n",
       " GenPart: [{genPartIdxMother: -1, statusFlags: 10625, pdgId: 21, ...}, ...],\n",
       " GenVisTau: [{status: 1, charge: 1, genPartIdxMother: 12, eta: ..., ...}, ...]}\n",
       "-------------------------------------------------------------------------------\n",
       "type: {\n",
       "    luminosityBlock: uint32,\n",
       "    event: uint64,\n",
       "    nGenVisTau: int32,\n",
       "    GenPart: var * {\n",
       "        genPartIdxMother: int16,\n",
       "        statusFlags: uint16,\n",
       "        pdgId: int32,\n",
       "        status: int32,\n",
       "        eta: float32,\n",
       "        mass: float32,\n",
       "        phi: float32,\n",
       "        pt: float32\n",
       "    },\n",
       "    GenVisTau: var * {\n",
       "        status: uint8,\n",
       "        charge: int16,\n",
       "        genPartIdxMother: int16,\n",
       "        eta: float32,\n",
       "        mass: float32,\n",
       "        phi: float32,\n",
       "        pt: float32\n",
       "    }\n",
       "}</pre>"
      ],
      "text/plain": [
       "<Record {luminosityBlock: 28, event: 27997, ...} type='{luminosityBlock: ui...'>"
      ]
     },
     "execution_count": 31,
     "metadata": {},
     "output_type": "execute_result"
    }
   ],
   "source": [
    "ev2 = ar_raw[-1]\n",
    "ev2"
   ]
  },
  {
   "cell_type": "code",
   "execution_count": 33,
   "metadata": {},
   "outputs": [
    {
     "name": "stdout",
     "output_type": "stream",
     "text": [
      "(<Array [13, 14] type='2 * int64'>,)\n"
     ]
    },
    {
     "data": {
      "text/html": [
       "<pre>[{genPartIdxMother: 11, statusFlags: 22913, pdgId: -15, status: 23, ...},\n",
       " {genPartIdxMother: 11, statusFlags: 4481, pdgId: 15, status: 23, ...}]\n",
       "-------------------------------------------------------------------------\n",
       "type: 2 * {\n",
       "    genPartIdxMother: int16,\n",
       "    statusFlags: uint16,\n",
       "    pdgId: int32,\n",
       "    status: int32,\n",
       "    eta: float32,\n",
       "    mass: float32,\n",
       "    phi: float32,\n",
       "    pt: float32\n",
       "}</pre>"
      ],
      "text/plain": [
       "<Array [{genPartIdxMother: 11, ...}, ...] type='2 * {genPartIdxMother: int1...'>"
      ]
     },
     "execution_count": 33,
     "metadata": {},
     "output_type": "execute_result"
    }
   ],
   "source": [
    "gen_tau = (abs(evt.GenPart.pdgId) == 15) & (evt.GenPart[evt.GenPart.genPartIdxMother].pdgId == 23) \n",
    "print(np.where(gen_tau))\n",
    "evt.GenPart[gen_tau]"
   ]
  },
  {
   "cell_type": "code",
   "execution_count": 34,
   "metadata": {},
   "outputs": [
    {
     "name": "stdout",
     "output_type": "stream",
     "text": [
      "(<Array [15, 19] type='2 * int64'>,)\n"
     ]
    },
    {
     "data": {
      "text/html": [
       "<pre>[{genPartIdxMother: 13, statusFlags: 12289, pdgId: 22, status: 1, ...},\n",
       " {genPartIdxMother: 13, statusFlags: 8451, pdgId: -15, status: 2, ...}]\n",
       "-----------------------------------------------------------------------\n",
       "type: 2 * {\n",
       "    genPartIdxMother: int16,\n",
       "    statusFlags: uint16,\n",
       "    pdgId: int32,\n",
       "    status: int32,\n",
       "    eta: float32,\n",
       "    mass: float32,\n",
       "    phi: float32,\n",
       "    pt: float32\n",
       "}</pre>"
      ],
      "text/plain": [
       "<Array [{genPartIdxMother: 13, ...}, ...] type='2 * {genPartIdxMother: int1...'>"
      ]
     },
     "execution_count": 34,
     "metadata": {},
     "output_type": "execute_result"
    }
   ],
   "source": [
    "print(np.where(evt.GenPart.genPartIdxMother == 13))\n",
    "evt.GenPart[evt.GenPart.genPartIdxMother == 13]"
   ]
  },
  {
   "cell_type": "code",
   "execution_count": 42,
   "metadata": {},
   "outputs": [
    {
     "data": {
      "text/plain": [
       "[-2112,\n",
       " -323,\n",
       " -321,\n",
       " -313,\n",
       " -311,\n",
       " -213,\n",
       " -211,\n",
       " -15,\n",
       " -14,\n",
       " -13,\n",
       " -12,\n",
       " -11,\n",
       " -2,\n",
       " -1,\n",
       " 1,\n",
       " 2,\n",
       " 11,\n",
       " 13,\n",
       " 15,\n",
       " 16,\n",
       " 21,\n",
       " 22,\n",
       " 111,\n",
       " 130,\n",
       " 211,\n",
       " 213,\n",
       " 221,\n",
       " 223,\n",
       " 310,\n",
       " 311,\n",
       " 321,\n",
       " 331,\n",
       " 1114]"
      ]
     },
     "execution_count": 42,
     "metadata": {},
     "output_type": "execute_result"
    }
   ],
   "source": [
    "import awkward as ak\n",
    "list(np.unique(ak.flatten(ar_raw.GenPart[(ar_raw.GenPart[ar_raw.GenPart.genPartIdxMother].pdgId == 15)].pdgId)))"
   ]
  },
  {
   "cell_type": "code",
   "execution_count": 49,
   "metadata": {},
   "outputs": [],
   "source": [
    "weird = (ar_raw.GenPart[ar_raw.GenPart.genPartIdxMother].pdgId == 15) & (ar_raw.GenPart.pdgId == 1)"
   ]
  },
  {
   "cell_type": "code",
   "execution_count": 55,
   "metadata": {},
   "outputs": [],
   "source": [
    "evt = ar_raw[ak.any(weird, axis=-1)][0]"
   ]
  },
  {
   "cell_type": "code",
   "execution_count": 56,
   "metadata": {},
   "outputs": [
    {
     "data": {
      "text/html": [
       "<pre>[{genPartIdxMother: 16, statusFlags: 8193, pdgId: 1, status: 71, eta: ..., ...}]\n",
       "--------------------------------------------------------------------------------\n",
       "type: 1 * {\n",
       "    genPartIdxMother: int16,\n",
       "    statusFlags: uint16,\n",
       "    pdgId: int32,\n",
       "    status: int32,\n",
       "    eta: float32,\n",
       "    mass: float32,\n",
       "    phi: float32,\n",
       "    pt: float32\n",
       "}</pre>"
      ],
      "text/plain": [
       "<Array [{genPartIdxMother: 16, ...}] type='1 * {genPartIdxMother: int16, st...'>"
      ]
     },
     "execution_count": 56,
     "metadata": {},
     "output_type": "execute_result"
    }
   ],
   "source": [
    "evt.GenPart[(evt.GenPart[evt.GenPart.genPartIdxMother].pdgId == 15) & (evt.GenPart.pdgId == 1)]"
   ]
  },
  {
   "cell_type": "code",
   "execution_count": 65,
   "metadata": {},
   "outputs": [
    {
     "name": "stdout",
     "output_type": "stream",
     "text": [
      "(<Array [18, 21, 22, 23] type='4 * int64'>,)\n"
     ]
    },
    {
     "data": {
      "text/html": [
       "<pre>[{pdgId: 15, pt: 824},\n",
       " {pdgId: 1, pt: 120},\n",
       " {pdgId: 21, pt: 6.84},\n",
       " {pdgId: -1, pt: 0.816}]\n",
       "------------------------\n",
       "type: 4 * {\n",
       "    pdgId: int32,\n",
       "    pt: float32\n",
       "}</pre>"
      ],
      "text/plain": [
       "<Array [{pdgId: 15, pt: 824}, ..., {...}] type='4 * {pdgId: int32, pt: floa...'>"
      ]
     },
     "execution_count": 65,
     "metadata": {},
     "output_type": "execute_result"
    }
   ],
   "source": [
    "print(np.where(evt.GenPart.genPartIdxMother == 16))\n",
    "evt.GenPart[evt.GenPart.genPartIdxMother == 16][[\"pdgId\", \"pt\"]]"
   ]
  },
  {
   "cell_type": "code",
   "execution_count": 67,
   "metadata": {},
   "outputs": [
    {
     "data": {
      "text/html": [
       "<pre>{genPartIdxMother: 12,\n",
       " statusFlags: 22913,\n",
       " pdgId: 15,\n",
       " status: 23,\n",
       " eta: -0.717,\n",
       " mass: 0,\n",
       " phi: 1.16,\n",
       " pt: 374}\n",
       "----------------------------\n",
       "type: {\n",
       "    genPartIdxMother: int16,\n",
       "    statusFlags: uint16,\n",
       "    pdgId: int32,\n",
       "    status: int32,\n",
       "    eta: float32,\n",
       "    mass: float32,\n",
       "    phi: float32,\n",
       "    pt: float32\n",
       "}</pre>"
      ],
      "text/plain": [
       "<Record {genPartIdxMother: 12, ...} type='{genPartIdxMother: int16, statusF...'>"
      ]
     },
     "execution_count": 67,
     "metadata": {},
     "output_type": "execute_result"
    }
   ],
   "source": [
    "evt.GenPart[16]"
   ]
  },
  {
   "cell_type": "code",
   "execution_count": 63,
   "metadata": {},
   "outputs": [
    {
     "data": {
      "text/plain": [
       "'isPrompt, isLastCopy, '"
      ]
     },
     "execution_count": 63,
     "metadata": {},
     "output_type": "execute_result"
    }
   ],
   "source": [
    "readStatusFlagsBits(8193)"
   ]
  }
 ],
 "metadata": {
  "kernelspec": {
   "display_name": "modules-python-3.11",
   "language": "python",
   "name": "python3"
  },
  "language_info": {
   "codemirror_mode": {
    "name": "ipython",
    "version": 3
   },
   "file_extension": ".py",
   "mimetype": "text/x-python",
   "name": "python",
   "nbconvert_exporter": "python",
   "pygments_lexer": "ipython3",
   "version": "3.11.8"
  }
 },
 "nbformat": 4,
 "nbformat_minor": 2
}
