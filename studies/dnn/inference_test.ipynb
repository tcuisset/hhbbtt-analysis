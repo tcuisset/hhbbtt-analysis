{
 "cells": [
  {
   "cell_type": "code",
   "execution_count": 1,
   "metadata": {},
   "outputs": [
    {
     "name": "stdout",
     "output_type": "stream",
     "text": [
      "Welcome to JupyROOT 6.24/07\n"
     ]
    },
    {
     "name": "stderr",
     "output_type": "stream",
     "text": [
      "\u001b[0;49;32mINFO\u001b[0m: \u001b[0;49;39mlaw.contrib.ipython.magic\u001b[0m - \u001b[0;49;39mmagics successfully registered: %law, %ilaw\u001b[0m\n"
     ]
    }
   ],
   "source": [
    "import ROOT\n",
    "import JupyROOT.helpers.utils\n",
    "JupyROOT.helpers.utils.GetGeometryDrawer = lambda:None # magic fix to make ROOT faster\n",
    "import luigi\n",
    "import law\n",
    "law.contrib.load(\"ipython\")\n",
    "import uproot, onnxruntime\n",
    "import numpy as np\n",
    "import os\n",
    "os.environ[\"CMT_STORE_EOS_MERGECATEGORIZATION\"] = \"/scratch/cuisset/cmt/test_DNNinference\"\n",
    "os.environ[\"CMT_STORE_EOS_CATEGORIZATION\"] = \"/scratch/cuisset/cmt/test_DNNinference\""
   ]
  },
  {
   "cell_type": "code",
   "execution_count": 2,
   "metadata": {},
   "outputs": [],
   "source": [
    "from cmt.base_tasks.preprocessing import Categorization"
   ]
  },
  {
   "cell_type": "code",
   "execution_count": 3,
   "metadata": {},
   "outputs": [
    {
     "name": "stdout",
     "output_type": "stream",
     "text": [
      "remove task output with max_depth 0\n",
      "selected \u001b[1;49;34mall\u001b[0m mode\n",
      "\n",
      "0 > \u001b[0;49;32mDNNInference\u001b[0m(\u001b[1;49;34meffective_workflow\u001b[0m=local, \u001b[1;49;34mbranch\u001b[0m=0, \u001b[1;49;34mversion\u001b[0m=prod_240516_testDNN, \u001b[1;49;34mrequest_cpus\u001b[0m=1, \u001b[1;49;34mconfig_name\u001b[0m=ul_2018_ZbbHtt_v12, \u001b[1;49;34mcategory_name\u001b[0m=ZbbHtt_elliptical_cut_90, \u001b[1;49;34mdataset_name\u001b[0m=ZprimeToZH_ZToBB_HToTauTau_M3000, \u001b[1;49;34mtree_name\u001b[0m=Events, \u001b[1;49;34mcustom_output_tag\u001b[0m=_, \u001b[1;49;34mmax_memory\u001b[0m=, \u001b[1;49;34mallow_redefinition\u001b[0m=False, \u001b[1;49;34msystematic\u001b[0m=, \u001b[1;49;34msystematic_direction\u001b[0m=, \u001b[1;49;34mmodules_file\u001b[0m=NO_STR, \u001b[1;49;34mkeep_and_drop_file\u001b[0m=, \u001b[1;49;34mcompute_filter_efficiency\u001b[0m=False, \u001b[1;49;34mbase_category_name\u001b[0m=base_selection, \u001b[1;49;34mfeature_modules_file\u001b[0m=NO_STR, \u001b[1;49;34mskip_preprocess\u001b[0m=False, \u001b[1;49;34mstore_systematics\u001b[0m=True, \u001b[1;49;34minput_step_size\u001b[0m=100MB)\n",
      "      \u001b[0;49;36mSiblingFileCollection\u001b[0m(\u001b[1;49;34mlen\u001b[0m=1, \u001b[1;49;34mthreshold\u001b[0m=1.0, \u001b[1;49;34mfs\u001b[0m=local_fs, \u001b[1;49;34mdir\u001b[0m=/scratch/cuisset/cmt/test_DNNinference/DNNInference/ul_2018_ZbbHtt_v12/ZprimeToZH_ZToBB_HToTauTau_M3000/cat_ZbbHtt_elliptical_cut_90/prod_240516_testDNN)\n",
      "        \u001b[1;49;31mremoved\u001b[0m\n"
     ]
    }
   ],
   "source": [
    "%ilaw run DNNInference --version prod_240516_testDNN --category-name ZbbHtt_elliptical_cut_90 --config-name ul_2018_ZbbHtt_v12 --dataset-name ZprimeToZH_ZToBB_HToTauTau_M3000 --branch 0 --remove-output 0,a"
   ]
  },
  {
   "cell_type": "code",
   "execution_count": 4,
   "metadata": {},
   "outputs": [
    {
     "name": "stdout",
     "output_type": "stream",
     "text": [
      "print task status with max_depth 1 and target_depth 0\n",
      "\n",
      "0 > \u001b[0;49;32mDNNInference\u001b[0m(\u001b[1;49;34meffective_workflow\u001b[0m=local, \u001b[1;49;34mbranch\u001b[0m=0, \u001b[1;49;34mversion\u001b[0m=prod_240516_testDNN, \u001b[1;49;34mrequest_cpus\u001b[0m=1, \u001b[1;49;34mconfig_name\u001b[0m=ul_2018_ZbbHtt_v12, \u001b[1;49;34mcategory_name\u001b[0m=ZbbHtt_elliptical_cut_90, \u001b[1;49;34mdataset_name\u001b[0m=ZprimeToZH_ZToBB_HToTauTau_M3000, \u001b[1;49;34mtree_name\u001b[0m=Events, \u001b[1;49;34mcustom_output_tag\u001b[0m=_, \u001b[1;49;34mmax_memory\u001b[0m=, \u001b[1;49;34mallow_redefinition\u001b[0m=False, \u001b[1;49;34msystematic\u001b[0m=, \u001b[1;49;34msystematic_direction\u001b[0m=, \u001b[1;49;34mmodules_file\u001b[0m=NO_STR, \u001b[1;49;34mkeep_and_drop_file\u001b[0m=, \u001b[1;49;34mcompute_filter_efficiency\u001b[0m=False, \u001b[1;49;34mbase_category_name\u001b[0m=base_selection, \u001b[1;49;34mfeature_modules_file\u001b[0m=NO_STR, \u001b[1;49;34mskip_preprocess\u001b[0m=False, \u001b[1;49;34mstore_systematics\u001b[0m=True, \u001b[1;49;34minput_step_size\u001b[0m=100MB)\n",
      "│     \u001b[0;49;36mSiblingFileCollection\u001b[0m(\u001b[1;49;34mlen\u001b[0m=1, \u001b[1;49;34mthreshold\u001b[0m=1.0, \u001b[1;49;34mfs\u001b[0m=local_fs, \u001b[1;49;34mdir\u001b[0m=/scratch/cuisset/cmt/test_DNNinference/DNNInference/ul_2018_ZbbHtt_v12/ZprimeToZH_ZToBB_HToTauTau_M3000/cat_ZbbHtt_elliptical_cut_90/prod_240516_testDNN)\n",
      "│       \u001b[1;49;31mabsent\u001b[0m (0/1)\n",
      "│\n",
      "└──1 > \u001b[0;49;32mCategorization\u001b[0m(\u001b[1;49;34meffective_workflow\u001b[0m=local, \u001b[1;49;34mbranch\u001b[0m=0, \u001b[1;49;34mversion\u001b[0m=prod_240516_testDNN, \u001b[1;49;34mrequest_cpus\u001b[0m=1, \u001b[1;49;34mconfig_name\u001b[0m=ul_2018_ZbbHtt_v12, \u001b[1;49;34mcategory_name\u001b[0m=ZbbHtt_elliptical_cut_90, \u001b[1;49;34mdataset_name\u001b[0m=ZprimeToZH_ZToBB_HToTauTau_M3000, \u001b[1;49;34mtree_name\u001b[0m=Events, \u001b[1;49;34mcustom_output_tag\u001b[0m=_, \u001b[1;49;34mmax_memory\u001b[0m=, \u001b[1;49;34mallow_redefinition\u001b[0m=False, \u001b[1;49;34msystematic\u001b[0m=, \u001b[1;49;34msystematic_direction\u001b[0m=, \u001b[1;49;34mmodules_file\u001b[0m=NO_STR, \u001b[1;49;34mkeep_and_drop_file\u001b[0m=, \u001b[1;49;34mcompute_filter_efficiency\u001b[0m=False, \u001b[1;49;34mbase_category_name\u001b[0m=base_selection, \u001b[1;49;34mfeature_modules_file\u001b[0m=NO_STR, \u001b[1;49;34mskip_preprocess\u001b[0m=False)\n",
      "         \u001b[0;49;36mSiblingFileCollection\u001b[0m(\u001b[1;49;34mlen\u001b[0m=1, \u001b[1;49;34mthreshold\u001b[0m=1.0, \u001b[1;49;34mfs\u001b[0m=local_fs, \u001b[1;49;34mdir\u001b[0m=/scratch/cuisset/cmt/test_DNNinference/Categorization/ul_2018_ZbbHtt_v12/ZprimeToZH_ZToBB_HToTauTau_M3000/cat_ZbbHtt_elliptical_cut_90/prod_240516_testDNN)\n",
      "           \u001b[1;49;32mexistent\u001b[0m (1/1)\n"
     ]
    }
   ],
   "source": [
    "%ilaw run DNNInference --version prod_240516_testDNN --category-name ZbbHtt_elliptical_cut_90 --config-name ul_2018_ZbbHtt_v12 --dataset-name ZprimeToZH_ZToBB_HToTauTau_M3000 --branch 0 --print-status 1"
   ]
  },
  {
   "cell_type": "code",
   "execution_count": 3,
   "metadata": {},
   "outputs": [
    {
     "name": "stderr",
     "output_type": "stream",
     "text": [
      "INFO: Informed scheduler that task   DNNInference_False_base_selection_0_b23bc02132   has status   PENDING\n",
      "INFO: Informed scheduler that task   Categorization_False_base_selection_0_58dbd94c62   has status   DONE\n",
      "INFO: Done scheduling tasks\n",
      "INFO: Running Worker with 1 processes\n",
      "INFO: [pid 187686] Worker Worker(salt=294110141, workers=1, host=llruicms01.in2p3.fr, username=cuisset, pid=187686) running   \u001b[0;49;32mDNNInference\u001b[0m(\u001b[1;49;34meffective_workflow\u001b[0m=local, \u001b[1;49;34mbranch\u001b[0m=0, \u001b[1;49;34mversion\u001b[0m=prod_240516_testDNN, \u001b[1;49;34mrequest_cpus\u001b[0m=1, \u001b[1;49;34mconfig_name\u001b[0m=ul_2018_ZbbHtt_v12, \u001b[1;49;34mcategory_name\u001b[0m=ZbbHtt_elliptical_cut_90, \u001b[1;49;34mdataset_name\u001b[0m=ZprimeToZH_ZToBB_HToTauTau_M3000, \u001b[1;49;34mtree_name\u001b[0m=Events, \u001b[1;49;34mcustom_output_tag\u001b[0m=_, \u001b[1;49;34mmax_memory\u001b[0m=, \u001b[1;49;34mallow_redefinition\u001b[0m=False, \u001b[1;49;34msystematic\u001b[0m=, \u001b[1;49;34msystematic_direction\u001b[0m=, \u001b[1;49;34mmodules_file\u001b[0m=NO_STR, \u001b[1;49;34mkeep_and_drop_file\u001b[0m=, \u001b[1;49;34mcompute_filter_efficiency\u001b[0m=False, \u001b[1;49;34mbase_category_name\u001b[0m=base_selection, \u001b[1;49;34mfeature_modules_file\u001b[0m=NO_STR, \u001b[1;49;34mskip_preprocess\u001b[0m=False, \u001b[1;49;34mstore_systematics\u001b[0m=True, \u001b[1;49;34minput_step_size\u001b[0m=100MB)\n",
      "INFO: [pid 187686] Worker Worker(salt=294110141, workers=1, host=llruicms01.in2p3.fr, username=cuisset, pid=187686) done      \u001b[0;49;32mDNNInference\u001b[0m(\u001b[1;49;34meffective_workflow\u001b[0m=local, \u001b[1;49;34mbranch\u001b[0m=0, \u001b[1;49;34mversion\u001b[0m=prod_240516_testDNN, \u001b[1;49;34mrequest_cpus\u001b[0m=1, \u001b[1;49;34mconfig_name\u001b[0m=ul_2018_ZbbHtt_v12, \u001b[1;49;34mcategory_name\u001b[0m=ZbbHtt_elliptical_cut_90, \u001b[1;49;34mdataset_name\u001b[0m=ZprimeToZH_ZToBB_HToTauTau_M3000, \u001b[1;49;34mtree_name\u001b[0m=Events, \u001b[1;49;34mcustom_output_tag\u001b[0m=_, \u001b[1;49;34mmax_memory\u001b[0m=, \u001b[1;49;34mallow_redefinition\u001b[0m=False, \u001b[1;49;34msystematic\u001b[0m=, \u001b[1;49;34msystematic_direction\u001b[0m=, \u001b[1;49;34mmodules_file\u001b[0m=NO_STR, \u001b[1;49;34mkeep_and_drop_file\u001b[0m=, \u001b[1;49;34mcompute_filter_efficiency\u001b[0m=False, \u001b[1;49;34mbase_category_name\u001b[0m=base_selection, \u001b[1;49;34mfeature_modules_file\u001b[0m=NO_STR, \u001b[1;49;34mskip_preprocess\u001b[0m=False, \u001b[1;49;34mstore_systematics\u001b[0m=True, \u001b[1;49;34minput_step_size\u001b[0m=100MB)\n",
      "INFO: Informed scheduler that task   DNNInference_False_base_selection_0_b23bc02132   has status   DONE\n",
      "INFO: Worker Worker(salt=294110141, workers=1, host=llruicms01.in2p3.fr, username=cuisset, pid=187686) was stopped. Shutting down Keep-Alive thread\n",
      "INFO: \n",
      "===== Luigi Execution Summary =====\n",
      "\n",
      "Scheduled 2 tasks of which:\n",
      "* 1 complete ones were encountered:\n",
      "    - 1 Categorization(...)\n",
      "* 1 ran successfully:\n",
      "    - 1 DNNInference(...)\n",
      "\n",
      "This progress looks :) because there were no failed tasks or missing dependencies\n",
      "\n",
      "===== Luigi Execution Summary =====\n",
      "\n"
     ]
    },
    {
     "data": {
      "text/plain": [
       "True"
      ]
     },
     "execution_count": 3,
     "metadata": {},
     "output_type": "execute_result"
    }
   ],
   "source": [
    "%ilaw run DNNInference --version prod_240516_testDNN --category-name ZbbHtt_elliptical_cut_90 --config-name ul_2018_ZbbHtt_v12 --dataset-name ZprimeToZH_ZToBB_HToTauTau_M3000 --branch 0 "
   ]
  },
  {
   "cell_type": "code",
   "execution_count": null,
   "metadata": {},
   "outputs": [],
   "source": [
    "%ilaw run JoinDNNInference --version prod_240514_inferenceTest --Categorization-version prod_240312_DNNinput --category-name ZbbHtt_elliptical_cut_90_sr --config-name ul_2018_ZbbHtt_v12 --dataset-name ZprimeToZH_ZToBB_HToTauTau_M3000 --branch 0 "
   ]
  },
  {
   "cell_type": "markdown",
   "metadata": {},
   "source": [
    "## Looking at data"
   ]
  },
  {
   "cell_type": "code",
   "execution_count": 3,
   "metadata": {},
   "outputs": [
    {
     "name": "stderr",
     "output_type": "stream",
     "text": [
      "INFO: Informed scheduler that task   DNNInference_False_base_selection_0_a0bdc4f220   has status   PENDING\n",
      "INFO: Informed scheduler that task   Categorization_False_base_selection_0_50077be163   has status   DONE\n",
      "INFO: Done scheduling tasks\n",
      "INFO: Running Worker with 1 processes\n",
      "INFO: [pid 48436] Worker Worker(salt=024204852, workers=1, host=llruicms01.in2p3.fr, username=cuisset, pid=48436) running   \u001b[0;49;32mDNNInference\u001b[0m(\u001b[1;49;34meffective_workflow\u001b[0m=local, \u001b[1;49;34mbranch\u001b[0m=0, \u001b[1;49;34mversion\u001b[0m=prod_240516_testDNN, \u001b[1;49;34mrequest_cpus\u001b[0m=1, \u001b[1;49;34mconfig_name\u001b[0m=ul_2018_ZbbHtt_v12, \u001b[1;49;34mcategory_name\u001b[0m=ZbbHtt_elliptical_cut_90, \u001b[1;49;34mdataset_name\u001b[0m=data_etau_d, \u001b[1;49;34mtree_name\u001b[0m=Events, \u001b[1;49;34mcustom_output_tag\u001b[0m=_, \u001b[1;49;34mmax_memory\u001b[0m=, \u001b[1;49;34mallow_redefinition\u001b[0m=False, \u001b[1;49;34msystematic\u001b[0m=, \u001b[1;49;34msystematic_direction\u001b[0m=, \u001b[1;49;34mmodules_file\u001b[0m=NO_STR, \u001b[1;49;34mkeep_and_drop_file\u001b[0m=, \u001b[1;49;34mcompute_filter_efficiency\u001b[0m=False, \u001b[1;49;34mbase_category_name\u001b[0m=base_selection, \u001b[1;49;34mfeature_modules_file\u001b[0m=modulesrdf_syst, \u001b[1;49;34mskip_preprocess\u001b[0m=False, \u001b[1;49;34mstore_systematics\u001b[0m=True, \u001b[1;49;34minput_step_size\u001b[0m=1MB)\n"
     ]
    },
    {
     "name": "stdout",
     "output_type": "stream",
     "text": [
      "Inference on batch with 7759 events\n"
     ]
    },
    {
     "name": "stderr",
     "output_type": "stream",
     "text": [
      "INFO: [pid 48436] Worker Worker(salt=024204852, workers=1, host=llruicms01.in2p3.fr, username=cuisset, pid=48436) done      \u001b[0;49;32mDNNInference\u001b[0m(\u001b[1;49;34meffective_workflow\u001b[0m=local, \u001b[1;49;34mbranch\u001b[0m=0, \u001b[1;49;34mversion\u001b[0m=prod_240516_testDNN, \u001b[1;49;34mrequest_cpus\u001b[0m=1, \u001b[1;49;34mconfig_name\u001b[0m=ul_2018_ZbbHtt_v12, \u001b[1;49;34mcategory_name\u001b[0m=ZbbHtt_elliptical_cut_90, \u001b[1;49;34mdataset_name\u001b[0m=data_etau_d, \u001b[1;49;34mtree_name\u001b[0m=Events, \u001b[1;49;34mcustom_output_tag\u001b[0m=_, \u001b[1;49;34mmax_memory\u001b[0m=, \u001b[1;49;34mallow_redefinition\u001b[0m=False, \u001b[1;49;34msystematic\u001b[0m=, \u001b[1;49;34msystematic_direction\u001b[0m=, \u001b[1;49;34mmodules_file\u001b[0m=NO_STR, \u001b[1;49;34mkeep_and_drop_file\u001b[0m=, \u001b[1;49;34mcompute_filter_efficiency\u001b[0m=False, \u001b[1;49;34mbase_category_name\u001b[0m=base_selection, \u001b[1;49;34mfeature_modules_file\u001b[0m=modulesrdf_syst, \u001b[1;49;34mskip_preprocess\u001b[0m=False, \u001b[1;49;34mstore_systematics\u001b[0m=True, \u001b[1;49;34minput_step_size\u001b[0m=1MB)\n",
      "INFO: Informed scheduler that task   DNNInference_False_base_selection_0_a0bdc4f220   has status   DONE\n",
      "INFO: Worker Worker(salt=024204852, workers=1, host=llruicms01.in2p3.fr, username=cuisset, pid=48436) was stopped. Shutting down Keep-Alive thread\n",
      "INFO: \n",
      "===== Luigi Execution Summary =====\n",
      "\n",
      "Scheduled 2 tasks of which:\n",
      "* 1 complete ones were encountered:\n",
      "    - 1 Categorization(...)\n",
      "* 1 ran successfully:\n",
      "    - 1 DNNInference(...)\n",
      "\n",
      "This progress looks :) because there were no failed tasks or missing dependencies\n",
      "\n",
      "===== Luigi Execution Summary =====\n",
      "\n"
     ]
    },
    {
     "data": {
      "text/plain": [
       "True"
      ]
     },
     "execution_count": 3,
     "metadata": {},
     "output_type": "execute_result"
    }
   ],
   "source": [
    "%ilaw run DNNInference --version prod_240516_testDNN --config-name ul_2018_ZbbHtt_v12 --dataset-name data_etau_d --category-name ZbbHtt_elliptical_cut_90 --base-category-name base_selection --feature-modules-file modulesrdf_syst --PreprocessRDF-version prod_240305 --branch 0"
   ]
  },
  {
   "cell_type": "markdown",
   "metadata": {},
   "source": [
    "## Old TF stuff"
   ]
  },
  {
   "cell_type": "code",
   "execution_count": null,
   "metadata": {},
   "outputs": [],
   "source": [
    "new_f = uproot.open(\"/scratch/cuisset/cmt/test_DNNinference/DNNInference/ul_2018_ZbbHtt_v12/ZprimeToZH_ZToBB_HToTauTau_M3000/cat_ZbbHtt_elliptical_cut_90/prod_240516_testDNN/data_0.root:Events\")\n",
    "old_f = uproot.open(\"/grid_mnt/data__data.polcms/cms/cuisset/cmt/Categorization/ul_2018_ZbbHtt_v12/ZprimeToZH_ZToBB_HToTauTau_M3000/cat_ZbbHtt_elliptical_cut_90/prod_240430/data_0.root:Events\")\n",
    "new = new_f.arrays(filter_name=\"dnn_*\", library=\"np\")\n",
    "old = old_f.arrays(filter_name=\"dnn_*\", library=\"np\")"
   ]
  },
  {
   "cell_type": "code",
   "execution_count": null,
   "metadata": {},
   "outputs": [],
   "source": [
    "diff = { key: new[key]-old[key] for key in new.keys() if not \"1800\" in key and not \"1600\" in key and not \"2500\" in key}\n",
    "diff"
   ]
  },
  {
   "cell_type": "code",
   "execution_count": null,
   "metadata": {},
   "outputs": [],
   "source": [
    "# import tensorflow as tf\n",
    "\n",
    "input_tree = uproot.open(\"/grid_mnt/data__data.polcms/cms/cuisset/cmt/Categorization/ul_2018_ZbbHtt_v12/wzz/cat_ZbbHtt_elliptical_cut_90_sr/prod_240312_DNNinput/data_0.root:Events\")\n",
    "inputs_dnn = input_tree.arrays(library=\"np\")\n",
    "inputs_dnn"
   ]
  },
  {
   "cell_type": "code",
   "execution_count": null,
   "metadata": {},
   "outputs": [],
   "source": [
    "models_folder = \"/grid_mnt/data__data.polcms/cms/cuisset/ZHbbtautau/framework/nanoaod_base_analysis/data/cmssw/CMSSW_12_3_0_pre6/src/cms_runII_dnn_models/models/arc_checks/zz_bbtt/2024-05-10/ResZbbHtt-0/\"\n",
    "sessions = [onnxruntime.InferenceSession(models_folder + f\"/model_merged_{ensemble_nb}.onnx\",providers=[\"CPUExecutionProvider\"]) for ensemble_nb in range(2)]"
   ]
  },
  {
   "cell_type": "code",
   "execution_count": null,
   "metadata": {},
   "outputs": [],
   "source": [
    "with open(models_folder + \"/features.txt\", \"r\") as f:\n",
    "    features = f.read().split(\"\\n\")\n",
    "features = list(filter(len, features)) # remov emepty lines\n",
    "features"
   ]
  },
  {
   "cell_type": "code",
   "execution_count": null,
   "metadata": {},
   "outputs": [],
   "source": [
    "inputs_dnn[\"res_mass\"] = np.ones_like(inputs_dnn[\"phi\"])"
   ]
  },
  {
   "cell_type": "code",
   "execution_count": null,
   "metadata": {},
   "outputs": [],
   "source": [
    "ensemble_i =0\n",
    "feats_vectors = [inputs_dnn[feature_name][inputs_dnn[\"event\"] % 2 == ensemble_i] for feature_name in features]\n",
    "nn_input = np.stack(feats_vectors, axis=1)\n",
    "nn_input"
   ]
  },
  {
   "cell_type": "code",
   "execution_count": null,
   "metadata": {},
   "outputs": [],
   "source": [
    "np.concatenate([nn_input, nn_input])"
   ]
  },
  {
   "cell_type": "code",
   "execution_count": null,
   "metadata": {},
   "outputs": [],
   "source": [
    "res = sessions[0].run([\"output\"], {\"input\":nn_input})[0]\n",
    "res"
   ]
  },
  {
   "cell_type": "code",
   "execution_count": null,
   "metadata": {},
   "outputs": [],
   "source": [
    "out = np.zeros_like(inputs_dnn[\"event\"], dtype=float)\n",
    "out[inputs_dnn[\"event\"] % 2 == 0] = res\n",
    "#out[inputs_dnn[\"event\"] % 2 == 1] = res\n",
    "out"
   ]
  },
  {
   "cell_type": "code",
   "execution_count": null,
   "metadata": {},
   "outputs": [],
   "source": []
  },
  {
   "cell_type": "code",
   "execution_count": null,
   "metadata": {},
   "outputs": [],
   "source": [
    "model_path = \"/grid_mnt/data__data.polcms/cms/cuisset/ZHbbtautau/framework/nanoaod_base_analysis/data/cmssw/CMSSW_12_3_0_pre6/src/cms_runII_dnn_models/models/arc_checks/zz_bbtt/2024-04-29/ResZbbHtt-0/ensemble_0/zz_bbtt_0.pb\"\n",
    "tf.train.import_meta_graph(model_path)"
   ]
  },
  {
   "cell_type": "code",
   "execution_count": null,
   "metadata": {},
   "outputs": [],
   "source": [
    "with tf.io.gfile.GFile(model_path, \"rb\") as f:\n",
    "    graph_def = tf.compat.v1.GraphDef()\n",
    "    loaded = graph_def.ParseFromString(f.read())"
   ]
  },
  {
   "cell_type": "code",
   "execution_count": null,
   "metadata": {},
   "outputs": [],
   "source": [
    "graph_def"
   ]
  },
  {
   "cell_type": "code",
   "execution_count": null,
   "metadata": {},
   "outputs": [],
   "source": [
    "import onnx"
   ]
  },
  {
   "cell_type": "code",
   "execution_count": null,
   "metadata": {},
   "outputs": [],
   "source": [
    "with open(\"/grid_mnt/data__data.polcms/cms/cuisset/ZHbbtautau/framework/nanoaod_base_analysis/data/cmssw/CMSSW_12_3_0_pre6/src/cms_runII_dnn_models/models/arc_checks/zz_bbtt/2024-04-29/ResZbbHtt-0/ensemble_0/zz_bbtt_0.onnx\", \"rb\") as f:\n",
    "    onnx_model = onnx.load(f)\n",
    "onnx_model"
   ]
  },
  {
   "cell_type": "code",
   "execution_count": null,
   "metadata": {},
   "outputs": [],
   "source": [
    "print(onnx.helper.printable_graph(onnx_model.graph))"
   ]
  }
 ],
 "metadata": {
  "kernelspec": {
   "display_name": ".venv",
   "language": "python",
   "name": "python3"
  },
  "language_info": {
   "codemirror_mode": {
    "name": "ipython",
    "version": 3
   },
   "file_extension": ".py",
   "mimetype": "text/x-python",
   "name": "python",
   "nbconvert_exporter": "python",
   "pygments_lexer": "ipython3",
   "version": "3.9.6"
  }
 },
 "nbformat": 4,
 "nbformat_minor": 2
}
