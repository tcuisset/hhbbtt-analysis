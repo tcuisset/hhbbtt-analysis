{
 "cells": [
  {
   "cell_type": "code",
   "execution_count": 1,
   "metadata": {},
   "outputs": [],
   "source": [
    "import uproot\n",
    "from pathlib import Path\n",
    "import numpy as np\n",
    "import awkward as ak\n",
    "import matplotlib.pyplot as plt\n",
    "import hist\n",
    "import mplhep as hep"
   ]
  },
  {
   "cell_type": "markdown",
   "metadata": {},
   "source": [
    "## Stitching ZZ signal (incl. & LHE_VPT filter)"
   ]
  },
  {
   "cell_type": "code",
   "execution_count": 2,
   "metadata": {},
   "outputs": [],
   "source": [
    "year=\"2018\""
   ]
  },
  {
   "cell_type": "code",
   "execution_count": null,
   "metadata": {},
   "outputs": [],
   "source": [
    "def load_dir(d_list):\n",
    "    if isinstance(d_list, str): d_list = [d_list]\n",
    "    event_count = 0.\n",
    "    event_count_VpTGt200 = 0\n",
    "    sum_genw = 0.\n",
    "    sum_genw_VpTGt200 = 0.\n",
    "    for d in d_list:\n",
    "        for path in Path(d).glob('*.root'):\n",
    "            if \"_up\" in path.name or \"_down\" in path.name: continue\n",
    "            with uproot.open(str(path)) as f:\n",
    "                #h = f[\"sum_genw\"]\n",
    "                #sum_genw += h.values()[0]\n",
    "                #event_count += h.all_members[\"fEntries\"]\n",
    "\n",
    "                ar = f[\"Events\"].arrays(filter_name=[\"LHE_Vpt\", \"genWeightFixed\"])\n",
    "\n",
    "                sum_genw += np.sum(ar.genWeightFixed)\n",
    "                event_count += len(ar.genWeightFixed)\n",
    "                sum_genw_VpTGt200 += np.sum(np.where(ar[\"LHE_Vpt\"]>200, ar.genWeightFixed, 0.))\n",
    "                event_count_VpTGt200 += np.count_nonzero(ar[\"LHE_Vpt\"]>200)\n",
    "    return {\"total_events\": event_count, \"total_sum_genw\":sum_genw, \"sum_genw_VpTGt200\":sum_genw_VpTGt200, \"event_count_VpTGt200\":event_count_VpTGt200}\n",
    "def full_load_dir(d_list):\n",
    "    if isinstance(d_list, str): d_list = [d_list]\n",
    "    ars = []\n",
    "    for d in d_list:\n",
    "        for path in Path(d).glob('*.root'):\n",
    "            if \"_up\" in path.name or \"_down\" in path.name: continue\n",
    "            with uproot.open(str(path)) as f:\n",
    "                ars.append(f[\"Events\"].arrays(filter_name=[\"LHE_Vpt\", \"genWeightFixed\"]))\n",
    "    return ak.concatenate(ars)\n",
    "def weightToUnity(ar): # weight to unity is also equal to : genWeight / avg(genWeight) = genWeight * nevts / sum(genWeight)\n",
    "    return np.where(ar>0, 1., -1.)"
   ]
  },
  {
   "cell_type": "code",
   "execution_count": 27,
   "metadata": {},
   "outputs": [
    {
     "data": {
      "text/plain": [
       "({'total_events': 139532.0,\n",
       "  'total_sum_genw': 698657.0951538086,\n",
       "  'sum_genw_VpTGt200': 51163.9754396081,\n",
       "  'event_count_VpTGt200': 12568},\n",
       " {'total_events': 9158.0,\n",
       "  'total_sum_genw': 1367.1551513671875,\n",
       "  'sum_genw_VpTGt200': 1367.0957214832306,\n",
       "  'event_count_VpTGt200': 9158})"
      ]
     },
     "execution_count": 27,
     "metadata": {},
     "output_type": "execute_result"
    }
   ],
   "source": [
    "# computing sticthing weights for ZZ 2018\n",
    "res_inclusive = load_dir([f\"/grid_mnt/data__data.polcms/cms/cuisset/cmt/PreprocessRDF/bul_{year}_ZZ_v12/zz_sl_signal/cat_base_selection/prod_250315\",\n",
    "          f\"/grid_mnt/data__data.polcms/cms/cuisset/cmt/PreprocessRDF/bul_{year}_ZZ_v12/zz_bbtt_dnnTraining/cat_base_selection/prod_250315\"])\n",
    "res_filter = load_dir([f\"/grid_mnt/data__data.polcms/cms/cuisset/cmt/PreprocessRDF/bul_{year}_ZZ_v12/zz_bbtt_vptFilter_dnnTraining/cat_base_selection/prod_250315\"])\n",
    "res_inclusive, res_filter"
   ]
  },
  {
   "cell_type": "code",
   "execution_count": 28,
   "metadata": {},
   "outputs": [],
   "source": [
    "ar_incl = full_load_dir([f\"/grid_mnt/data__data.polcms/cms/cuisset/cmt/PreprocessRDF/bul_{year}_ZZ_v12/zz_sl_signal/cat_base_selection/prod_250315\",\n",
    "          f\"/grid_mnt/data__data.polcms/cms/cuisset/cmt/PreprocessRDF/bul_{year}_ZZ_v12/zz_bbtt_dnnTraining/cat_base_selection/prod_250315\"])\n",
    "ar_filter = full_load_dir([f\"/grid_mnt/data__data.polcms/cms/cuisset/cmt/PreprocessRDF/bul_{year}_ZZ_v12/zz_bbtt_vptFilter_dnnTraining/cat_base_selection/prod_250315\"])"
   ]
  },
  {
   "cell_type": "code",
   "execution_count": 29,
   "metadata": {},
   "outputs": [
    {
     "data": {
      "text/plain": [
       "0.07323188413100479"
      ]
     },
     "execution_count": 29,
     "metadata": {},
     "output_type": "execute_result"
    }
   ],
   "source": [
    "# selection effieicncy is :\n",
    "res_inclusive[\"sum_genw_VpTGt200\"]/res_inclusive[\"total_sum_genw\"] # = eff = sigma(VpT) / sigma(incl)"
   ]
  },
  {
   "cell_type": "code",
   "execution_count": 30,
   "metadata": {},
   "outputs": [],
   "source": [
    "# set the gen weight to\n",
    "# LHE_VpT<200 : +-1 * sigma(incl)\n",
    "# LHE_VpT>200 : +- 1 * sigma(VpT>200) / (N_VpT + eff*N_incl) = +- 1 * sigma(incl) / (N_incl + N_VpT/eff)"
   ]
  },
  {
   "cell_type": "code",
   "execution_count": null,
   "metadata": {},
   "outputs": [
    {
     "data": {
      "text/plain": [
       "6.867737048184594e-06"
      ]
     },
     "execution_count": 31,
     "metadata": {},
     "output_type": "execute_result"
    }
   ],
   "source": [
    "\n",
    "stitchWeight = 1. / (np.sum(weightToUnity(ar_incl.genWeightFixed)) + np.sum(weightToUnity(ar_filter.genWeightFixed))/(res_inclusive[\"sum_genw_VpTGt200\"]/res_inclusive[\"total_sum_genw\"]))\n",
    "stitchWeight # stitch weight for VpT>200"
   ]
  },
  {
   "cell_type": "code",
   "execution_count": 32,
   "metadata": {},
   "outputs": [
    {
     "data": {
      "text/plain": [
       "(61776.370411377095, 83832.0)"
      ]
     },
     "execution_count": 32,
     "metadata": {},
     "output_type": "execute_result"
    }
   ],
   "source": [
    "np.sum(weightToUnity(ar_filter.genWeightFixed))/(res_inclusive[\"sum_genw_VpTGt200\"]/res_inclusive[\"total_sum_genw\"]), np.sum(weightToUnity(ar_incl.genWeightFixed))"
   ]
  },
  {
   "cell_type": "code",
   "execution_count": 33,
   "metadata": {},
   "outputs": [
    {
     "data": {
      "text/plain": [
       "1.618741912710097e-05"
      ]
     },
     "execution_count": 33,
     "metadata": {},
     "output_type": "execute_result"
    }
   ],
   "source": [
    "1/(np.sum(weightToUnity(ar_filter.genWeightFixed))/(res_inclusive[\"sum_genw_VpTGt200\"]/res_inclusive[\"total_sum_genw\"]))"
   ]
  },
  {
   "cell_type": "code",
   "execution_count": 34,
   "metadata": {},
   "outputs": [
    {
     "data": {
      "text/plain": [
       "1.1928619143048001e-05"
      ]
     },
     "execution_count": 34,
     "metadata": {},
     "output_type": "execute_result"
    }
   ],
   "source": [
    "1./np.sum(weightToUnity(ar_incl.genWeightFixed)) # stitch for VpT<200"
   ]
  },
  {
   "cell_type": "code",
   "execution_count": 35,
   "metadata": {},
   "outputs": [
    {
     "data": {
      "text/plain": [
       "<matplotlib.legend.Legend at 0x7f23114cf530>"
      ]
     },
     "execution_count": 35,
     "metadata": {},
     "output_type": "execute_result"
    },
    {
     "data": {
      "image/png": "[encoded data removed]",
      "text/plain": [
       "<Figure size 640x480 with 1 Axes>"
      ]
     },
     "metadata": {},
     "output_type": "display_data"
    }
   ],
   "source": [
    "hep.histplot(hist.new.Regular(50, 0., 400, name=\"LHE_VpT\").Weight().fill(ar_incl.LHE_Vpt, weight=weightToUnity(ar_incl.genWeightFixed)/np.sum(weightToUnity(ar_incl.genWeightFixed))), yerr=False, label=\"Incl no stich\")\n",
    "hep.histplot(\n",
    "    hist.new.Regular(50, 0., 400, name=\"LHE_VpT\").Weight()\n",
    "    .fill(ar_incl.LHE_Vpt, weight=weightToUnity(ar_incl.genWeightFixed)*np.where(ar_incl.LHE_Vpt<200, 1./np.sum(weightToUnity(ar_incl.genWeightFixed)), stitchWeight))\n",
    "    .fill(ar_filter.LHE_Vpt, weight=stitchWeight*weightToUnity(ar_filter.genWeightFixed))\n",
    ", yerr=False, label=\"stitched\")\n",
    "plt.yscale(\"log\")\n",
    "plt.legend()"
   ]
  },
  {
   "cell_type": "markdown",
   "metadata": {},
   "source": [
    "## stitching ZbbHtt"
   ]
  },
  {
   "cell_type": "code",
   "execution_count": 61,
   "metadata": {},
   "outputs": [],
   "source": [
    "def load_dir_ZbbHtt(d_list):\n",
    "    if isinstance(d_list, str): d_list = [d_list]\n",
    "    event_count = 0.\n",
    "    event_count_VpTGt200 = 0\n",
    "    sum_genw = 0.\n",
    "    sum_genw_VpTGt200 = 0.\n",
    "    ars = []\n",
    "    for d in d_list:\n",
    "        for path in Path(d).glob('*.root'):\n",
    "            if \"_up\" in path.name or \"_down\" in path.name: continue\n",
    "            with uproot.open(str(path)) as f:\n",
    "                #h = f[\"sum_genw\"]\n",
    "                #sum_genw += h.values()[0]\n",
    "                #event_count += h.all_members[\"fEntries\"]\n",
    "\n",
    "                ar = f[\"Events\"].arrays(filter_name=[\"genWeightFixed\", \"LHEPart_*\", \"LHE_Vpt\", \"genXtautau_pt\", \"genXbb_pt\"], how=\"zip\")\n",
    "                # return ar\n",
    "                Z_pt = ak.firsts(ar.LHEPart[(ar.LHEPart.status==2)&(ar.LHEPart.pdgId == 23)]).pt\n",
    "                H_pt = ak.firsts(ar.LHEPart[(ar.LHEPart.status==1)&(ar.LHEPart.pdgId == 25)]).pt\n",
    "                VpTGt200 = (Z_pt > 200) & (H_pt > 200)\n",
    "\n",
    "                sum_genw += np.sum(ar.genWeightFixed)\n",
    "                event_count += len(ar.genWeightFixed)\n",
    "                sum_genw_VpTGt200 += np.sum(np.where(VpTGt200, ar.genWeightFixed, 0.))\n",
    "                event_count_VpTGt200 += np.count_nonzero(VpTGt200)\n",
    "                ars.append(ak.zip({\"genWeightFixed\":ar[\"genWeightFixed\"], \"maxVpT\": ak.where(Z_pt>H_pt, Z_pt, H_pt), \"Z_pt\":Z_pt, \"H_pt\":H_pt, \"LHE_Vpt\":ar[\"LHE_Vpt\"]}))\n",
    "    return {\"total_events\": event_count, \"total_sum_genw\":sum_genw, \"sum_genw_VpTGt200\":sum_genw_VpTGt200, \"event_count_VpTGt200\":event_count_VpTGt200, \"ar\":ak.concatenate(ars)} \n",
    "def weightToUnity(ar): # weight to unity is also equal to : genWeight / avg(genWeight) = genWeight * nevts / sum(genWeight)\n",
    "    return np.where(ar>0, 1., -1.)"
   ]
  },
  {
   "cell_type": "code",
   "execution_count": 62,
   "metadata": {},
   "outputs": [],
   "source": [
    "# ZbbHtt is made wi\n",
    "res_inclusive = load_dir_ZbbHtt([f\"/grid_mnt/data__data.polcms/cms/cuisset/cmt/PreprocessRDF/bul_{year}_ZbbHtt_v12/zh_zbb_htt_signal/cat_base_selection/prod_250315\",\n",
    "          f\"/grid_mnt/data__data.polcms/cms/cuisset/cmt/PreprocessRDF/bul_{year}_ZbbHtt_v12/zh_zbb_htt_dnnTraining/cat_base_selection/prod_250315\"])\n",
    "res_filter = load_dir_ZbbHtt([f\"/grid_mnt/data__data.polcms/cms/cuisset/cmt/PreprocessRDF/bul_{year}_ZbbHtt_v12/zh_zbb_htt_vptFilter_dnnTraining/cat_base_selection/prod_250315\"])"
   ]
  },
  {
   "cell_type": "code",
   "execution_count": 39,
   "metadata": {},
   "outputs": [
    {
     "data": {
      "text/plain": [
       "8.43397881384522e-06"
      ]
     },
     "execution_count": 39,
     "metadata": {},
     "output_type": "execute_result"
    }
   ],
   "source": [
    "1./np.sum(weightToUnity(res_inclusive[\"ar\"].genWeightFixed)) # stitch for VpT<200"
   ]
  },
  {
   "cell_type": "code",
   "execution_count": 40,
   "metadata": {},
   "outputs": [
    {
     "data": {
      "text/plain": [
       "3.688162707942288e-06"
      ]
     },
     "execution_count": 40,
     "metadata": {},
     "output_type": "execute_result"
    }
   ],
   "source": [
    "\n",
    "stitchWeight = 1. / (np.sum(weightToUnity(res_inclusive[\"ar\"].genWeightFixed)) + np.sum(weightToUnity(res_filter[\"ar\"].genWeightFixed))/(res_inclusive[\"sum_genw_VpTGt200\"]/res_inclusive[\"total_sum_genw\"]))\n",
    "stitchWeight # stitch weight for VpT>200"
   ]
  },
  {
   "cell_type": "code",
   "execution_count": 64,
   "metadata": {},
   "outputs": [
    {
     "data": {
      "text/html": [
       "<pre>[{genWeightFixed: 0.838, maxVpT: 195, Z_pt: 103, H_pt: 195, LHE_Vpt: 0},\n",
       " {genWeightFixed: 0.838, maxVpT: 134, Z_pt: 131, H_pt: 134, LHE_Vpt: 0},\n",
       " {genWeightFixed: 0.838, maxVpT: 130, Z_pt: 130, H_pt: 33, LHE_Vpt: 0},\n",
       " {genWeightFixed: 0.838, maxVpT: 53.1, Z_pt: 32, H_pt: 53.1, LHE_Vpt: 0},\n",
       " {genWeightFixed: 0.838, maxVpT: 51.4, Z_pt: 51.4, H_pt: 31.1, ...},\n",
       " {genWeightFixed: 0.838, maxVpT: 73.1, Z_pt: 73.1, H_pt: 55.4, ...},\n",
       " {genWeightFixed: 0.838, maxVpT: 31.6, Z_pt: 31.6, H_pt: 16.7, ...},\n",
       " {genWeightFixed: 0.838, maxVpT: 91.4, Z_pt: 91.4, H_pt: 63.5, ...},\n",
       " {genWeightFixed: 0.838, maxVpT: 105, Z_pt: 86.2, H_pt: 105, LHE_Vpt: 0},\n",
       " {genWeightFixed: 0.838, maxVpT: 52.6, Z_pt: 31.9, H_pt: 52.6, ...},\n",
       " ...,\n",
       " {genWeightFixed: 0.838, maxVpT: 31.4, Z_pt: 26.4, H_pt: 31.4, ...},\n",
       " {genWeightFixed: 0.838, maxVpT: 95, Z_pt: 95, H_pt: 80.6, LHE_Vpt: 0},\n",
       " {genWeightFixed: 0.838, maxVpT: 123, Z_pt: 57.1, H_pt: 123, LHE_Vpt: 0},\n",
       " {genWeightFixed: 0.838, maxVpT: 184, Z_pt: 143, H_pt: 184, LHE_Vpt: 0},\n",
       " {genWeightFixed: 0.838, maxVpT: 134, Z_pt: 76.9, H_pt: 134, LHE_Vpt: 0},\n",
       " {genWeightFixed: 0.838, maxVpT: 189, Z_pt: 126, H_pt: 189, LHE_Vpt: 0},\n",
       " {genWeightFixed: 0.838, maxVpT: 85.2, Z_pt: 85.2, H_pt: 74.7, ...},\n",
       " {genWeightFixed: 0.838, maxVpT: 33.2, Z_pt: 33.2, H_pt: 31.5, ...},\n",
       " {genWeightFixed: 0.838, maxVpT: 193, Z_pt: 189, H_pt: 193, LHE_Vpt: 0}]\n",
       "-------------------------------------------------------------------------\n",
       "type: 233588 * {\n",
       "    genWeightFixed: float32,\n",
       "    maxVpT: ?float32,\n",
       "    Z_pt: ?float32,\n",
       "    H_pt: ?float32,\n",
       "    LHE_Vpt: float32\n",
       "}</pre>"
      ],
      "text/plain": [
       "<Array [{genWeightFixed: 0.838, ...}, ...] type='233588 * {genWeightFixed: ...'>"
      ]
     },
     "execution_count": 64,
     "metadata": {},
     "output_type": "execute_result"
    }
   ],
   "source": [
    "res_inclusive[\"ar\"]"
   ]
  },
  {
   "cell_type": "code",
   "execution_count": 52,
   "metadata": {},
   "outputs": [],
   "source": [
    "year=\"2018\""
   ]
  },
  {
   "cell_type": "markdown",
   "metadata": {},
   "source": [
    "## Stitching ZttHbb"
   ]
  },
  {
   "cell_type": "code",
   "execution_count": 59,
   "metadata": {},
   "outputs": [],
   "source": [
    "res_inclusive = load_dir_ZbbHtt([f\"/grid_mnt/data__data.polcms/cms/cuisset/cmt/PreprocessRDF/bul_{year}_ZttHbb_v12/zh_ztt_hbb_signal/cat_base_selection/prod_250315\",\n",
    "          f\"/grid_mnt/data__data.polcms/cms/cuisset/cmt/PreprocessRDF/bul_{year}_ZttHbb_v12/zh_ztt_hbb_dnnTraining/cat_base_selection/prod_250315\"])\n",
    "res_filter = load_dir_ZbbHtt([f\"/grid_mnt/data__data.polcms/cms/cuisset/cmt/PreprocessRDF/bul_{year}_ZttHbb_v12/zh_ztt_hbb_vptFilter_dnnTraining/cat_base_selection/prod_250315\"])"
   ]
  },
  {
   "cell_type": "code",
   "execution_count": 54,
   "metadata": {},
   "outputs": [
    {
     "data": {
      "text/plain": [
       "2.0376558806748714e-06"
      ]
     },
     "execution_count": 54,
     "metadata": {},
     "output_type": "execute_result"
    }
   ],
   "source": [
    "1./np.sum(weightToUnity(res_inclusive[\"ar\"].genWeightFixed)) # stitch for VpT<200"
   ]
  },
  {
   "cell_type": "code",
   "execution_count": 55,
   "metadata": {},
   "outputs": [
    {
     "data": {
      "text/plain": [
       "1.6688810910754723e-06"
      ]
     },
     "execution_count": 55,
     "metadata": {},
     "output_type": "execute_result"
    }
   ],
   "source": [
    "\n",
    "stitchWeight = 1. / (np.sum(weightToUnity(res_inclusive[\"ar\"].genWeightFixed)) + np.sum(weightToUnity(res_filter[\"ar\"].genWeightFixed))/(res_inclusive[\"sum_genw_VpTGt200\"]/res_inclusive[\"total_sum_genw\"]))\n",
    "stitchWeight # stitch weight for VpT>200"
   ]
  },
  {
   "cell_type": "code",
   "execution_count": 60,
   "metadata": {},
   "outputs": [
    {
     "data": {
      "text/html": [
       "<pre>[134,\n",
       " 130,\n",
       " 505,\n",
       " 197,\n",
       " 69.8,\n",
       " 24.9,\n",
       " 56.7,\n",
       " 61.1,\n",
       " 84.3,\n",
       " 140,\n",
       " ...,\n",
       " 22.2,\n",
       " 68.8,\n",
       " 61.4,\n",
       " 127,\n",
       " 30.4,\n",
       " 125,\n",
       " 221,\n",
       " 76.2,\n",
       " 91.4]\n",
       "----------------------\n",
       "type: 513224 * float32</pre>"
      ],
      "text/plain": [
       "<Array [134, 130, 505, 197, ..., 125, 221, 76.2, 91.4] type='513224 * float32'>"
      ]
     },
     "execution_count": 60,
     "metadata": {},
     "output_type": "execute_result"
    }
   ],
   "source": [
    "res_inclusive[\"ar\"][\"LHE_Vpt\"]"
   ]
  },
  {
   "cell_type": "markdown",
   "metadata": {},
   "source": [
    "## Stitching DY "
   ]
  },
  {
   "cell_type": "code",
   "execution_count": 41,
   "metadata": {},
   "outputs": [
    {
     "name": "stdout",
     "output_type": "stream",
     "text": [
      "dy 196946491\n",
      "dy_ptz1 198214727\n",
      "dy_ptz2 120643424\n",
      "dy_ptz3 56500410\n",
      "dy_ptz4 23068060\n",
      "dy_ptz5 3456081\n",
      "dy_ptz6 3593052\n",
      "dy_0j 85742913\n",
      "dy_1j 87574150\n",
      "dy_2j 42098601\n",
      "dy 194921357\n",
      "dy_ptz1 197757001\n",
      "dy_ptz2 122866909\n",
      "dy_ptz3 80534990\n",
      "dy_ptz4 24219168\n",
      "dy_ptz5 3991030\n",
      "dy_ptz6 4034670\n",
      "dy_0j 78448070\n",
      "dy_1j 84402280\n",
      "dy_2j 47006742\n",
      "dy 72700452\n",
      "dy_ptz1 100053291\n",
      "dy_ptz2 59751869\n",
      "dy_ptz3 38443702\n",
      "dy_ptz4 12298946\n",
      "dy_ptz5 1980401\n",
      "dy_ptz6 2018613\n",
      "dy_0j 76450315\n",
      "dy_1j 81862201\n",
      "dy_2j 41249758\n",
      "dy 90827009\n",
      "dy_ptz1 101195882\n",
      "dy_ptz2 60848787\n",
      "dy_ptz3 39968289\n",
      "dy_ptz4 12024545\n",
      "dy_ptz5 1924211\n",
      "dy_ptz6 1999583\n",
      "dy_0j 79522471\n",
      "dy_1j 88364975\n",
      "dy_2j 42503191\n"
     ]
    },
    {
     "data": {
      "text/plain": [
       "{'2018': {'dy': 196946491,\n",
       "  'dy_ptz1': 198214727,\n",
       "  'dy_ptz2': 120643424,\n",
       "  'dy_ptz3': 56500410,\n",
       "  'dy_ptz4': 23068060,\n",
       "  'dy_ptz5': 3456081,\n",
       "  'dy_ptz6': 3593052,\n",
       "  'dy_0j': 85742913,\n",
       "  'dy_1j': 87574150,\n",
       "  'dy_2j': 42098601},\n",
       " '2017': {'dy': 194921357,\n",
       "  'dy_ptz1': 197757001,\n",
       "  'dy_ptz2': 122866909,\n",
       "  'dy_ptz3': 80534990,\n",
       "  'dy_ptz4': 24219168,\n",
       "  'dy_ptz5': 3991030,\n",
       "  'dy_ptz6': 4034670,\n",
       "  'dy_0j': 78448070,\n",
       "  'dy_1j': 84402280,\n",
       "  'dy_2j': 47006742},\n",
       " '2016': {'dy': 72700452,\n",
       "  'dy_ptz1': 100053291,\n",
       "  'dy_ptz2': 59751869,\n",
       "  'dy_ptz3': 38443702,\n",
       "  'dy_ptz4': 12298946,\n",
       "  'dy_ptz5': 1980401,\n",
       "  'dy_ptz6': 2018613,\n",
       "  'dy_0j': 76450315,\n",
       "  'dy_1j': 81862201,\n",
       "  'dy_2j': 41249758},\n",
       " '2016_HIPM': {'dy': 90827009,\n",
       "  'dy_ptz1': 101195882,\n",
       "  'dy_ptz2': 60848787,\n",
       "  'dy_ptz3': 39968289,\n",
       "  'dy_ptz4': 12024545,\n",
       "  'dy_ptz5': 1924211,\n",
       "  'dy_ptz6': 1999583,\n",
       "  'dy_0j': 79522471,\n",
       "  'dy_1j': 88364975,\n",
       "  'dy_2j': 42503191}}"
      ]
     },
     "execution_count": 41,
     "metadata": {},
     "output_type": "execute_result"
    }
   ],
   "source": [
    "dy_nevents = {}\n",
    "for year in [\"2018\", \"2017\", \"2016\", \"2016_HIPM\"]:\n",
    "    for dataset in [\"dy\"] + [f\"dy_ptz{i}\" for i in range(1, 6+1)] + [\"dy_0j\", \"dy_1j\", \"dy_2j\"]:\n",
    "        with uproot.open(f\"/grid_mnt/data__data.polcms/cms/cuisset/cmt/MergeCategorization/bul_{year}_ZZ_v12/{dataset}/cat_baseline_resolved_nobtag/prod_250315/data_0.root\") as f:\n",
    "            entries = int(f[\"sum_genw\"].all_members[\"fEntries\"])\n",
    "            dy_nevents.setdefault(year, dict())[dataset] = entries\n",
    "            print(dataset, entries)\n",
    "dy_nevents"
   ]
  }
 ],
 "metadata": {
  "kernelspec": {
   "display_name": "modules-python-3.12-el9",
   "language": "python",
   "name": "python3"
  },
  "language_info": {
   "codemirror_mode": {
    "name": "ipython",
    "version": 3
   },
   "file_extension": ".py",
   "mimetype": "text/x-python",
   "name": "python",
   "nbconvert_exporter": "python",
   "pygments_lexer": "ipython3",
   "version": "3.12.4"
  }
 },
 "nbformat": 4,
 "nbformat_minor": 2
}
