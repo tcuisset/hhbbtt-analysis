{
 "cells": [
  {
   "cell_type": "markdown",
   "metadata": {},
   "source": [
    "finds large files in MergeCategorization output, to increase merging in datasets"
   ]
  },
  {
   "cell_type": "code",
   "execution_count": 1,
   "metadata": {},
   "outputs": [],
   "source": [
    "from pathlib import Path"
   ]
  },
  {
   "cell_type": "code",
   "execution_count": 2,
   "metadata": {},
   "outputs": [],
   "source": [
    "base = Path(\"/grid_mnt/data__data.polcms/cms/cuisset/cmt/MergeCategorization/bul_2018_ZZ_v12/\")\n",
    "# tth_tautau/cat_ZZ_EC90_resolved_2b_HPSTau/prod_241023g"
   ]
  },
  {
   "cell_type": "code",
   "execution_count": 7,
   "metadata": {},
   "outputs": [
    {
     "data": {
      "text/plain": [
       "('bul_2018_ZZ_v12',)"
      ]
     },
     "execution_count": 7,
     "metadata": {},
     "output_type": "execute_result"
    }
   ],
   "source": [
    "base.parts[7:]"
   ]
  },
  {
   "cell_type": "code",
   "execution_count": 12,
   "metadata": {},
   "outputs": [
    {
     "name": "stdout",
     "output_type": "stream",
     "text": [
      "file tt_dl/cat_ZZ_EC90_resolved_2b_HPSTau/prod_241023g/data_19.root - size 591.207724 MB\n",
      "file tt_dl/cat_ZZ_EC90_resolved_2b_HPSTau/prod_241023g/data_17.root - size 613.838661 MB\n",
      "file tt_dl/cat_ZZ_EC90_resolved_2b_HPSTau/prod_241023g/data_16.root - size 631.014071 MB\n",
      "file tt_dl/cat_ZZ_EC90_resolved_2b_HPSTau/prod_241023g/data_18.root - size 629.683861 MB\n",
      "file tt_dl/cat_ZZ_EC90_resolved_2b_HPSTau/prod_241023g/data_12.root - size 620.96625 MB\n",
      "file tt_dl/cat_ZZ_EC90_resolved_2b_HPSTau/prod_241023g/data_13.root - size 618.328956 MB\n",
      "file tt_dl/cat_ZZ_EC90_resolved_2b_HPSTau/prod_241023g/data_11.root - size 623.057758 MB\n",
      "file tt_dl/cat_ZZ_EC90_resolved_2b_HPSTau/prod_241023g/data_15.root - size 617.664042 MB\n",
      "file tt_dl/cat_ZZ_EC90_resolved_2b_HPSTau/prod_241023g/data_14.root - size 587.539903 MB\n",
      "file tt_dl/cat_ZZ_EC90_resolved_2b_HPSTau/prod_241023g/data_10.root - size 633.23104 MB\n",
      "file tt_dl/cat_ZZ_EC90_resolved_2b_HPSTau/prod_241023g/data_9.root - size 618.973151 MB\n",
      "file tt_dl/cat_ZZ_EC90_resolved_2b_HPSTau/prod_241023g/data_8.root - size 623.495895 MB\n",
      "file tt_dl/cat_ZZ_EC90_resolved_2b_HPSTau/prod_241023g/data_7.root - size 642.246277 MB\n",
      "file tt_dl/cat_ZZ_EC90_resolved_2b_HPSTau/prod_241023g/data_5.root - size 640.626231 MB\n",
      "file tt_dl/cat_ZZ_EC90_resolved_2b_HPSTau/prod_241023g/data_6.root - size 637.045798 MB\n",
      "file tt_dl/cat_ZZ_EC90_resolved_2b_HPSTau/prod_241023g/data_4.root - size 633.812184 MB\n",
      "file tt_dl/cat_ZZ_EC90_resolved_2b_HPSTau/prod_241023g/data_3.root - size 603.937951 MB\n",
      "file tt_dl/cat_ZZ_EC90_resolved_2b_HPSTau/prod_241023g/data_2.root - size 633.371583 MB\n",
      "file tt_dl/cat_ZZ_EC90_resolved_2b_HPSTau/prod_241023g/data_1.root - size 630.757033 MB\n",
      "file tt_dl/cat_ZZ_EC90_resolved_2b_HPSTau/prod_241023g/data_0.root - size 621.929061 MB\n",
      "file tt_dl/cat_ZZ_EC90_resolved_1b_HPSTau/prod_241023g/data_11.root - size 502.308574 MB\n",
      "file tt_dl/cat_ZZ_EC90_resolved_1b_HPSTau/prod_241023g/data_9.root - size 501.077166 MB\n",
      "file tt_dl/cat_ZZ_EC90_resolved_1b_HPSTau/prod_241023g/data_14.root - size 501.963866 MB\n",
      "file tt_sl/cat_ZZ_EC90_boosted_bb_HPSTau/prod_241023g/data_0.root - size 509.331555 MB\n",
      "file tt_sl/cat_ZZ_EC90_resolved_2b_HPSTau/prod_241023g/data_17.root - size 1315.381408 MB\n",
      "file tt_sl/cat_ZZ_EC90_resolved_2b_HPSTau/prod_241023g/data_16.root - size 1574.149487 MB\n",
      "file tt_sl/cat_ZZ_EC90_resolved_2b_HPSTau/prod_241023g/data_15.root - size 1616.731201 MB\n",
      "file tt_sl/cat_ZZ_EC90_resolved_2b_HPSTau/prod_241023g/data_13.root - size 1566.723662 MB\n",
      "file tt_sl/cat_ZZ_EC90_resolved_2b_HPSTau/prod_241023g/data_12.root - size 1570.161821 MB\n",
      "file tt_sl/cat_ZZ_EC90_resolved_2b_HPSTau/prod_241023g/data_14.root - size 1621.151159 MB\n",
      "file tt_sl/cat_ZZ_EC90_resolved_2b_HPSTau/prod_241023g/data_11.root - size 1605.148347 MB\n",
      "file tt_sl/cat_ZZ_EC90_resolved_2b_HPSTau/prod_241023g/data_10.root - size 1600.097551 MB\n",
      "file tt_sl/cat_ZZ_EC90_resolved_2b_HPSTau/prod_241023g/data_9.root - size 1662.359528 MB\n",
      "file tt_sl/cat_ZZ_EC90_resolved_2b_HPSTau/prod_241023g/data_8.root - size 1645.42071 MB\n",
      "file tt_sl/cat_ZZ_EC90_resolved_2b_HPSTau/prod_241023g/data_7.root - size 1608.667084 MB\n",
      "file tt_sl/cat_ZZ_EC90_resolved_2b_HPSTau/prod_241023g/data_6.root - size 1635.496931 MB\n",
      "file tt_sl/cat_ZZ_EC90_resolved_2b_HPSTau/prod_241023g/data_5.root - size 1606.05204 MB\n",
      "file tt_sl/cat_ZZ_EC90_resolved_2b_HPSTau/prod_241023g/data_4.root - size 1553.082407 MB\n",
      "file tt_sl/cat_ZZ_EC90_resolved_2b_HPSTau/prod_241023g/data_3.root - size 1622.752914 MB\n",
      "file tt_sl/cat_ZZ_EC90_resolved_2b_HPSTau/prod_241023g/data_2.root - size 1619.460812 MB\n",
      "file tt_sl/cat_ZZ_EC90_resolved_2b_HPSTau/prod_241023g/data_1.root - size 1603.477467 MB\n",
      "file tt_sl/cat_ZZ_EC90_resolved_2b_HPSTau/prod_241023g/data_0.root - size 1624.152063 MB\n",
      "file tt_sl/cat_ZZ_EC90_resolved_2b_HPSTau/prod_241023g/data_19.root - size 1390.90828 MB\n",
      "file tt_sl/cat_ZZ_EC90_resolved_2b_HPSTau/prod_241023g/data_18.root - size 1597.456524 MB\n",
      "file tt_sl/cat_ZZ_EC90_resolved_1b_HPSTau/prod_241023g/data_20.root - size 1758.908073 MB\n",
      "file tt_sl/cat_ZZ_EC90_resolved_1b_HPSTau/prod_241023g/data_19.root - size 1764.458635 MB\n",
      "file tt_sl/cat_ZZ_EC90_resolved_1b_HPSTau/prod_241023g/data_25.root - size 1729.451766 MB\n",
      "file tt_sl/cat_ZZ_EC90_resolved_1b_HPSTau/prod_241023g/data_24.root - size 1773.99317 MB\n",
      "file tt_sl/cat_ZZ_EC90_resolved_1b_HPSTau/prod_241023g/data_23.root - size 1407.467668 MB\n",
      "file tt_sl/cat_ZZ_EC90_resolved_1b_HPSTau/prod_241023g/data_18.root - size 1775.51449 MB\n",
      "file tt_sl/cat_ZZ_EC90_resolved_1b_HPSTau/prod_241023g/data_22.root - size 1783.430245 MB\n",
      "file tt_sl/cat_ZZ_EC90_resolved_1b_HPSTau/prod_241023g/data_17.root - size 1780.248002 MB\n",
      "file tt_sl/cat_ZZ_EC90_resolved_1b_HPSTau/prod_241023g/data_27.root - size 1519.953636 MB\n",
      "file tt_sl/cat_ZZ_EC90_resolved_1b_HPSTau/prod_241023g/data_21.root - size 1787.788153 MB\n",
      "file tt_sl/cat_ZZ_EC90_resolved_1b_HPSTau/prod_241023g/data_10.root - size 1799.130321 MB\n",
      "file tt_sl/cat_ZZ_EC90_resolved_1b_HPSTau/prod_241023g/data_9.root - size 1719.73349 MB\n",
      "file tt_sl/cat_ZZ_EC90_resolved_1b_HPSTau/prod_241023g/data_6.root - size 1724.772593 MB\n",
      "file tt_sl/cat_ZZ_EC90_resolved_1b_HPSTau/prod_241023g/data_8.root - size 1818.80518 MB\n",
      "file tt_sl/cat_ZZ_EC90_resolved_1b_HPSTau/prod_241023g/data_16.root - size 1797.103138 MB\n",
      "file tt_sl/cat_ZZ_EC90_resolved_1b_HPSTau/prod_241023g/data_15.root - size 1794.440461 MB\n",
      "file tt_sl/cat_ZZ_EC90_resolved_1b_HPSTau/prod_241023g/data_13.root - size 1799.663255 MB\n",
      "file tt_sl/cat_ZZ_EC90_resolved_1b_HPSTau/prod_241023g/data_11.root - size 1802.723179 MB\n",
      "file tt_sl/cat_ZZ_EC90_resolved_1b_HPSTau/prod_241023g/data_5.root - size 1759.460368 MB\n",
      "file tt_sl/cat_ZZ_EC90_resolved_1b_HPSTau/prod_241023g/data_7.root - size 1727.624076 MB\n",
      "file tt_sl/cat_ZZ_EC90_resolved_1b_HPSTau/prod_241023g/data_4.root - size 1758.543727 MB\n",
      "file tt_sl/cat_ZZ_EC90_resolved_1b_HPSTau/prod_241023g/data_3.root - size 1760.685728 MB\n",
      "file tt_sl/cat_ZZ_EC90_resolved_1b_HPSTau/prod_241023g/data_2.root - size 1757.614828 MB\n",
      "file tt_sl/cat_ZZ_EC90_resolved_1b_HPSTau/prod_241023g/data_0.root - size 1783.485918 MB\n",
      "file tt_sl/cat_ZZ_EC90_resolved_1b_HPSTau/prod_241023g/data_1.root - size 1774.552707 MB\n",
      "file tt_sl/cat_ZZ_EC90_resolved_1b_HPSTau/prod_241023g/data_28.root - size 1456.44336 MB\n",
      "file tt_sl/cat_ZZ_EC90_resolved_1b_HPSTau/prod_241023g/data_29.root - size 1798.249567 MB\n",
      "file dy_ptz3/cat_ZZ_EC90_resolved_1b_HPSTau/prod_241023g/data_0.root - size 514.701712 MB\n",
      "file dy_ptz4/cat_ZZ_EC90_resolved_1b_HPSTau/prod_241023g/data_0.root - size 572.461679 MB\n",
      "file zh_hbb_zll/cat_ZZ_EC90_resolved_2b_HPSTau/prod_241023g/data_0.root - size 594.769106 MB\n",
      "file zh_hbb_zll/cat_ZZ_EC90_resolved_1b_HPSTau/prod_241023g/data_0.root - size 636.565237 MB\n",
      "file zh_htt/cat_ZZ_EC90_resolved_1b_HPSTau/prod_241023g/data_0.root - size 671.104101 MB\n",
      "file tth_tautau/cat_ZZ_EC90_resolved_1b_HPSTau/prod_241023g/.nfs00000075804aacf400003f16 - size 22457.437232 MB\n",
      "file ww_lnuqq/cat_ZZ_EC90_resolved_1b_HPSTau/prod_241023g/data_0.root - size 525.676222 MB\n",
      "file wz_llqq/cat_ZZ_EC90_resolved_1b_HPSTau/prod_241023g/data_0.root - size 735.635835 MB\n",
      "file st_top/cat_ZZ_EC90_resolved_1b_HPSTau/prod_241023g/data_0.root - size 1090.886452 MB\n",
      "file zz_dl/cat_ZZ_EC90_resolved_1b_HPSTau/prod_241023g/data_0.root - size 501.422369 MB\n",
      "file st_antitop/cat_ZZ_EC90_resolved_1b_HPSTau/prod_241023g/data_0.root - size 2482.343097 MB\n",
      "file st_antitop/cat_ZZ_EC90_resolved_2b_HPSTau/prod_241023g/data_0.root - size 788.319555 MB\n",
      "file st_tw_top/cat_ZZ_EC90_resolved_1b_HPSTau/prod_241023g/data_0.root - size 763.417213 MB\n",
      "file st_tw_antitop/cat_ZZ_EC90_resolved_1b_HPSTau/prod_241023g/data_0.root - size 745.928088 MB\n",
      "file zz_sl_background/cat_ZZ_EC90_resolved_1b_HPSTau/prod_241023g/data_0.root - size 742.819463 MB\n"
     ]
    }
   ],
   "source": [
    "cur = base\n",
    "for dataset in cur.iterdir():\n",
    "    if not dataset.is_dir(): continue\n",
    "\n",
    "    for category in dataset.iterdir():\n",
    "        if not category.is_dir(): continue\n",
    "        file_dir = category / \"prod_241023g\"\n",
    "        if not file_dir.is_dir(): continue\n",
    "        for file in file_dir.iterdir():\n",
    "            if not file.is_file(): continue\n",
    "            size = file.stat().st_size\n",
    "            if size > 5e8: # 100MB\n",
    "                print(f\"file {'/'.join(file.parts[8:])} - size {size/1e6} MB\")"
   ]
  }
 ],
 "metadata": {
  "kernelspec": {
   "display_name": "modules-python-3.11",
   "language": "python",
   "name": "python3"
  },
  "language_info": {
   "codemirror_mode": {
    "name": "ipython",
    "version": 3
   },
   "file_extension": ".py",
   "mimetype": "text/x-python",
   "name": "python",
   "nbconvert_exporter": "python",
   "pygments_lexer": "ipython3",
   "version": "3.11.8"
  }
 },
 "nbformat": 4,
 "nbformat_minor": 2
}
