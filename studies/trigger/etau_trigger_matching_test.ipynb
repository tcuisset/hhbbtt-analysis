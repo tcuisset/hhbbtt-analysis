{
 "cells": [
  {
   "cell_type": "code",
   "execution_count": 1,
   "metadata": {},
   "outputs": [],
   "source": [
    "import uproot\n",
    "import awkward as ak\n",
    "import numpy as np"
   ]
  },
  {
   "cell_type": "code",
   "execution_count": 2,
   "metadata": {},
   "outputs": [],
   "source": [
    "f = uproot.open(\"root://eoscms.cern.ch////eos/cms/store/group/phys_higgs/HLepRare/HTT_skim_v1/Run2_2017/SingleElectron_Run2017B/nanoHTT_0.root\")[\"Events\"]"
   ]
  },
  {
   "cell_type": "code",
   "execution_count": 3,
   "metadata": {},
   "outputs": [],
   "source": [
    "ar = f.arrays(filter_name=[\"TrigObj*\", \"HLT_Ele*PFTau*\", \"HLT_Ele32_WPTight_Gsf*\"])"
   ]
  },
  {
   "cell_type": "code",
   "execution_count": 21,
   "metadata": {},
   "outputs": [
    {
     "data": {
      "text/plain": [
       "3.0284370236520932e-05"
      ]
     },
     "execution_count": 21,
     "metadata": {},
     "output_type": "execute_result"
    }
   ],
   "source": [
    "ak.count_nonzero((~ar.HLT_Ele24_eta2p1_WPTight_Gsf_LooseChargedIsoPFTau30_eta2p1_CrossL1) & (ar.HLT_Ele24_eta2p1_WPTight_Gsf_MediumChargedIsoPFTau30_eta2p1_CrossL1))/ak.count_nonzero(ar.HLT_Ele24_eta2p1_WPTight_Gsf_LooseChargedIsoPFTau30_eta2p1_CrossL1)"
   ]
  },
  {
   "cell_type": "code",
   "execution_count": 11,
   "metadata": {},
   "outputs": [
    {
     "data": {
      "text/html": [
       "<pre>[{HLT_Ele24_eta2p1_WPTight_Gsf_LooseChargedIsoPFTau30_eta2p1_CrossL1: ..., ...},\n",
       " {HLT_Ele24_eta2p1_WPTight_Gsf_LooseChargedIsoPFTau30_eta2p1_CrossL1: ..., ...},\n",
       " {HLT_Ele24_eta2p1_WPTight_Gsf_LooseChargedIsoPFTau30_eta2p1_CrossL1: ..., ...},\n",
       " {HLT_Ele24_eta2p1_WPTight_Gsf_LooseChargedIsoPFTau30_eta2p1_CrossL1: ..., ...},\n",
       " {HLT_Ele24_eta2p1_WPTight_Gsf_LooseChargedIsoPFTau30_eta2p1_CrossL1: ..., ...},\n",
       " {HLT_Ele24_eta2p1_WPTight_Gsf_LooseChargedIsoPFTau30_eta2p1_CrossL1: ..., ...},\n",
       " {HLT_Ele24_eta2p1_WPTight_Gsf_LooseChargedIsoPFTau30_eta2p1_CrossL1: ..., ...},\n",
       " {HLT_Ele24_eta2p1_WPTight_Gsf_LooseChargedIsoPFTau30_eta2p1_CrossL1: ..., ...},\n",
       " {HLT_Ele24_eta2p1_WPTight_Gsf_LooseChargedIsoPFTau30_eta2p1_CrossL1: ..., ...},\n",
       " {HLT_Ele24_eta2p1_WPTight_Gsf_LooseChargedIsoPFTau30_eta2p1_CrossL1: ..., ...},\n",
       " ...,\n",
       " {HLT_Ele24_eta2p1_WPTight_Gsf_LooseChargedIsoPFTau30_eta2p1_CrossL1: ..., ...},\n",
       " {HLT_Ele24_eta2p1_WPTight_Gsf_LooseChargedIsoPFTau30_eta2p1_CrossL1: ..., ...},\n",
       " {HLT_Ele24_eta2p1_WPTight_Gsf_LooseChargedIsoPFTau30_eta2p1_CrossL1: ..., ...},\n",
       " {HLT_Ele24_eta2p1_WPTight_Gsf_LooseChargedIsoPFTau30_eta2p1_CrossL1: ..., ...},\n",
       " {HLT_Ele24_eta2p1_WPTight_Gsf_LooseChargedIsoPFTau30_eta2p1_CrossL1: ..., ...},\n",
       " {HLT_Ele24_eta2p1_WPTight_Gsf_LooseChargedIsoPFTau30_eta2p1_CrossL1: ..., ...},\n",
       " {HLT_Ele24_eta2p1_WPTight_Gsf_LooseChargedIsoPFTau30_eta2p1_CrossL1: ..., ...},\n",
       " {HLT_Ele24_eta2p1_WPTight_Gsf_LooseChargedIsoPFTau30_eta2p1_CrossL1: ..., ...},\n",
       " {HLT_Ele24_eta2p1_WPTight_Gsf_LooseChargedIsoPFTau30_eta2p1_CrossL1: ..., ...}]\n",
       "--------------------------------------------------------------------------------------\n",
       "type: 297183 * {\n",
       "    HLT_Ele24_eta2p1_WPTight_Gsf_LooseChargedIsoPFTau30_eta2p1_CrossL1: bool,\n",
       "    HLT_Ele24_eta2p1_WPTight_Gsf_LooseChargedIsoPFTau30_eta2p1_TightID_CrossL1: bool,\n",
       "    HLT_Ele24_eta2p1_WPTight_Gsf_MediumChargedIsoPFTau30_eta2p1_CrossL1: bool,\n",
       "    HLT_Ele24_eta2p1_WPTight_Gsf_MediumChargedIsoPFTau30_eta2p1_TightID_CrossL1: bool,\n",
       "    HLT_Ele24_eta2p1_WPTight_Gsf_TightChargedIsoPFTau30_eta2p1_CrossL1: bool,\n",
       "    HLT_Ele24_eta2p1_WPTight_Gsf_TightChargedIsoPFTau30_eta2p1_TightID_CrossL1: bool,\n",
       "    HLT_Ele32_WPTight_Gsf_L1DoubleEG: bool,\n",
       "    TrigObj_eta: var * float32,\n",
       "    TrigObj_filterBits: var * int32,\n",
       "    TrigObj_id: var * uint16,\n",
       "    TrigObj_l1charge: var * int16,\n",
       "    TrigObj_l1iso: var * int32,\n",
       "    TrigObj_l1pt: var * float32,\n",
       "    TrigObj_l1pt_2: var * float32,\n",
       "    TrigObj_l2pt: var * float32,\n",
       "    TrigObj_phi: var * float32,\n",
       "    TrigObj_pt: var * float32\n",
       "}</pre>"
      ],
      "text/plain": [
       "<Array [{...}, {...}, {...}, ..., {...}, {...}] type='297183 * {HLT_Ele24_e...'>"
      ]
     },
     "execution_count": 11,
     "metadata": {},
     "output_type": "execute_result"
    }
   ],
   "source": [
    "art = ar[ar.HLT_Ele24_eta2p1_WPTight_Gsf_LooseChargedIsoPFTau30_eta2p1_CrossL1]\n",
    "art"
   ]
  },
  {
   "cell_type": "code",
   "execution_count": 12,
   "metadata": {},
   "outputs": [],
   "source": [
    "trigobj_ele = ak.zip({\"pt\":art.TrigObj_pt[art.TrigObj_id==11], \"filterBits\":art.TrigObj_filterBits[art.TrigObj_id==11]})\n",
    "trigobj_tau = ak.zip({\"pt\":art.TrigObj_pt[art.TrigObj_id==15], \"filterBits\":art.TrigObj_filterBits[art.TrigObj_id==15]})"
   ]
  },
  {
   "cell_type": "code",
   "execution_count": 13,
   "metadata": {},
   "outputs": [
    {
     "data": {
      "text/plain": [
       "0.9637092296665691"
      ]
     },
     "execution_count": 13,
     "metadata": {},
     "output_type": "execute_result"
    }
   ],
   "source": [
    "ak.count_nonzero(ak.any((trigobj_ele.filterBits & 64) > 0, axis=-1))/len(trigobj_ele)"
   ]
  },
  {
   "cell_type": "code",
   "execution_count": 14,
   "metadata": {},
   "outputs": [
    {
     "data": {
      "text/plain": [
       "(1.0, 1.0)"
      ]
     },
     "execution_count": 14,
     "metadata": {},
     "output_type": "execute_result"
    }
   ],
   "source": [
    "ak.count_nonzero(ak.any((trigobj_tau.filterBits & 256) > 0, axis=-1))/len(trigobj_tau), ak.count_nonzero(ak.any(((trigobj_tau.filterBits & 256) > 0)&((trigobj_tau.filterBits & 1) > 0), axis=-1))/len(trigobj_tau)"
   ]
  },
  {
   "cell_type": "code",
   "execution_count": 35,
   "metadata": {},
   "outputs": [
    {
     "data": {
      "text/html": [
       "<pre>[[False, True],\n",
       " [False, True, False, False],\n",
       " [True, True],\n",
       " [True, False],\n",
       " [False, True],\n",
       " [True, True],\n",
       " [True, False],\n",
       " [False, True],\n",
       " [True, True],\n",
       " [True, True],\n",
       " ...,\n",
       " [False, True],\n",
       " [True, False],\n",
       " [True, False],\n",
       " [True, True],\n",
       " [True, True],\n",
       " [True, False],\n",
       " [True, False, False],\n",
       " [True, False],\n",
       " [True, True]]\n",
       "-----------------------------\n",
       "type: 297183 * var * bool</pre>"
      ],
      "text/plain": [
       "<Array [[False, True], [...], ..., [True, True]] type='297183 * var * bool'>"
      ]
     },
     "execution_count": 35,
     "metadata": {},
     "output_type": "execute_result"
    }
   ],
   "source": [
    "((trigobj_tau.filterBits & 256) > 0)&((trigobj_tau.filterBits & 1)>0)"
   ]
  },
  {
   "cell_type": "code",
   "execution_count": 30,
   "metadata": {},
   "outputs": [
    {
     "data": {
      "text/html": [
       "<pre>[[{pt: 98.8, filterBits: 133207}, {pt: 41.1, filterBits: 134487}],\n",
       " [{pt: 83, filterBits: 134167}, {...}, ..., {pt: 39.7, filterBits: 131089}],\n",
       " [{pt: 69.9, filterBits: 1303}, {pt: 35.7, filterBits: 1303}],\n",
       " [{pt: 36, filterBits: 132369}, {pt: 85.7, filterBits: 131072}],\n",
       " [{pt: 66.8, filterBits: 133207}, {pt: 48.8, filterBits: 134487}],\n",
       " [{pt: 65.1, filterBits: 134423}, {pt: 42.9, filterBits: 132369}],\n",
       " [{pt: 52.1, filterBits: 134487}, {pt: 48.3, filterBits: 133207}],\n",
       " [{pt: 83.2, filterBits: 133207}, {pt: 47.8, filterBits: 134483}],\n",
       " [{pt: 84.7, filterBits: 1303}, {pt: 30, filterBits: 1303}],\n",
       " [{pt: 77.5, filterBits: 134487}, {pt: 39.2, filterBits: 134487}],\n",
       " ...,\n",
       " [{pt: 117, filterBits: 134231}, {pt: 108, filterBits: 134487}],\n",
       " [{pt: 56.6, filterBits: 134423}, {pt: 49.4, filterBits: 132097}],\n",
       " [{pt: 60.6, filterBits: 134487}, {pt: 42.6, filterBits: 134231}],\n",
       " [{pt: 65.4, filterBits: 1303}, {pt: 56.9, filterBits: 1303}],\n",
       " [{pt: 43, filterBits: 134487}, {pt: 42.5, filterBits: 134487}],\n",
       " [{pt: 64.4, filterBits: 134487}, {pt: 40.3, filterBits: 133191}],\n",
       " [{pt: 134, filterBits: 134423}, {...}, {pt: 59.7, filterBits: 131072}],\n",
       " [{pt: 45.7, filterBits: 132375}, {pt: 50.2, filterBits: 131072}],\n",
       " [{pt: 97, filterBits: 134487}, {pt: 61.9, filterBits: 134487}]]\n",
       "----------------------------------------------------------------------------\n",
       "type: 297183 * var * {\n",
       "    pt: float32,\n",
       "    filterBits: int32\n",
       "}</pre>"
      ],
      "text/plain": [
       "<Array [[{pt: 98.8, ...}, {...}], ..., [...]] type='297183 * var * {pt: flo...'>"
      ]
     },
     "execution_count": 30,
     "metadata": {},
     "output_type": "execute_result"
    }
   ],
   "source": [
    "trigobj_tau"
   ]
  },
  {
   "cell_type": "code",
   "execution_count": 15,
   "metadata": {},
   "outputs": [
    {
     "data": {
      "text/plain": [
       "0.9637092296665691"
      ]
     },
     "execution_count": 15,
     "metadata": {},
     "output_type": "execute_result"
    }
   ],
   "source": [
    "good_bits = ak.any((trigobj_ele.filterBits & 64) > 0, axis=-1) & ak.any(((trigobj_tau.filterBits & 256) > 0)&((trigobj_tau.filterBits & 1)>0), axis=-1)\n",
    "ak.count_nonzero(good_bits)/len(good_bits)"
   ]
  },
  {
   "cell_type": "code",
   "execution_count": 39,
   "metadata": {},
   "outputs": [],
   "source": [
    "arg = ar[good_bits]"
   ]
  },
  {
   "cell_type": "code",
   "execution_count": 46,
   "metadata": {},
   "outputs": [
    {
     "data": {
      "text/html": [
       "<pre>[{TrigObj_id: [], TrigObj_eta: [], TrigObj_phi: []},\n",
       " {TrigObj_id: [], TrigObj_eta: [], TrigObj_phi: []},\n",
       " {TrigObj_id: [], TrigObj_eta: [], TrigObj_phi: []},\n",
       " {TrigObj_id: [], TrigObj_eta: [], TrigObj_phi: []},\n",
       " {TrigObj_id: [], TrigObj_eta: [], TrigObj_phi: []},\n",
       " {TrigObj_id: [], TrigObj_eta: [], TrigObj_phi: []},\n",
       " {TrigObj_id: [11], TrigObj_eta: [0.174], TrigObj_phi: [2.66]},\n",
       " {TrigObj_id: [], TrigObj_eta: [], TrigObj_phi: []},\n",
       " {TrigObj_id: [], TrigObj_eta: [], TrigObj_phi: []},\n",
       " {TrigObj_id: [], TrigObj_eta: [], TrigObj_phi: []},\n",
       " ...,\n",
       " {TrigObj_id: [], TrigObj_eta: [], TrigObj_phi: []},\n",
       " {TrigObj_id: [], TrigObj_eta: [], TrigObj_phi: []},\n",
       " {TrigObj_id: [], TrigObj_eta: [], TrigObj_phi: []},\n",
       " {TrigObj_id: [], TrigObj_eta: [], TrigObj_phi: []},\n",
       " {TrigObj_id: [], TrigObj_eta: [], TrigObj_phi: []},\n",
       " {TrigObj_id: [], TrigObj_eta: [], TrigObj_phi: []},\n",
       " {TrigObj_id: [], TrigObj_eta: [], TrigObj_phi: []},\n",
       " {TrigObj_id: [], TrigObj_eta: [], TrigObj_phi: []},\n",
       " {TrigObj_id: [], TrigObj_eta: [], TrigObj_phi: []}]\n",
       "---------------------------------------------------------------\n",
       "type: 286398 * {\n",
       "    TrigObj_id: var * uint16,\n",
       "    TrigObj_eta: var * float32,\n",
       "    TrigObj_phi: var * float32\n",
       "}</pre>"
      ],
      "text/plain": [
       "<Array [{TrigObj_id: [], ...}, ..., {...}] type='286398 * {TrigObj_id: var ...'>"
      ]
     },
     "execution_count": 46,
     "metadata": {},
     "output_type": "execute_result"
    }
   ],
   "source": [
    "central_eles = (np.abs(arg.TrigObj_eta) < 0.5) & (arg.TrigObj_id == 11)\n",
    "arg[[\"TrigObj_id\", \"TrigObj_eta\", \"TrigObj_phi\"]][central_eles]"
   ]
  },
  {
   "cell_type": "code",
   "execution_count": 54,
   "metadata": {},
   "outputs": [],
   "source": [
    "f_dy = uproot.open(\"root://eos.grif.fr///eos/grif/cms/llr/store/user/tcuisset/boostedTaus/2018_MC/DYJetsToLL_M-50-amcatnloFXFX/nano_0.root\")[\"Events\"]\n",
    "ar_dy = f_dy.arrays(filter_name=[\"Electron_eta\", \"Electron_deltaEta*\", \"Electron_dxy\", \"Electron_dz\", \"Electron_pt\"])"
   ]
  },
  {
   "cell_type": "code",
   "execution_count": 53,
   "metadata": {},
   "outputs": [
    {
     "data": {
      "text/plain": [
       "4.6054688"
      ]
     },
     "execution_count": 53,
     "metadata": {},
     "output_type": "execute_result"
    }
   ],
   "source": [
    "np.max(np.abs(ak.flatten(ar_dy.Electron_deltaEtaSC)))"
   ]
  },
  {
   "cell_type": "code",
   "execution_count": 55,
   "metadata": {},
   "outputs": [],
   "source": [
    "good_eles = (ar_dy.Electron_pt>20)&(ar_dy.Electron_dxy<=0.045) & (ar_dy.Electron_dz<=0.2)"
   ]
  },
  {
   "cell_type": "code",
   "execution_count": 57,
   "metadata": {},
   "outputs": [
    {
     "data": {
      "text/html": [
       "<pre>[-0.00858,\n",
       " 0.0104,\n",
       " 0.00567,\n",
       " 0.0136,\n",
       " -0.00215,\n",
       " 0.0136,\n",
       " 0.0106,\n",
       " 0.008,\n",
       " 0.0258,\n",
       " 0.0109,\n",
       " ...,\n",
       " 0.0143,\n",
       " 0.0216,\n",
       " -0.00508,\n",
       " 0.0334,\n",
       " 0.00715,\n",
       " 0.00513,\n",
       " 0.00867,\n",
       " 0.00499,\n",
       " 0.011]\n",
       "-----------------------\n",
       "type: 1692669 * float32</pre>"
      ],
      "text/plain": [
       "<Array [-0.00858, 0.0104, ..., 0.00499, 0.011] type='1692669 * float32'>"
      ]
     },
     "execution_count": 57,
     "metadata": {},
     "output_type": "execute_result"
    }
   ],
   "source": [
    "ak.flatten(ar_dy.Electron_deltaEtaSC[good_eles])"
   ]
  },
  {
   "cell_type": "markdown",
   "metadata": {},
   "source": [
    "# scale & smearing test"
   ]
  },
  {
   "cell_type": "code",
   "execution_count": 2,
   "metadata": {},
   "outputs": [],
   "source": [
    "ar = uproot.open(\"/grid_mnt/data__data.polcms/cms/cuisset/cmt/MergeCategorization/bul_2018_ZZ_v12/dy_2j/cat_crossTrigger_debug/prod_250225_dR02/data_0.root\")[\"Events\"].arrays(filter_name=[\"Electron_pt*\", \"Electron_mass*\", \"Electron_eta\"])"
   ]
  },
  {
   "cell_type": "code",
   "execution_count": 9,
   "metadata": {},
   "outputs": [
    {
     "data": {
      "text/html": [
       "<pre>[1,\n",
       " 1,\n",
       " 1,\n",
       " 1,\n",
       " 1,\n",
       " 1,\n",
       " 1,\n",
       " 1,\n",
       " 1,\n",
       " 1,\n",
       " ...,\n",
       " 1,\n",
       " 1,\n",
       " 1,\n",
       " 1,\n",
       " 1,\n",
       " 1,\n",
       " 1,\n",
       " 1,\n",
       " 1]\n",
       "---------------------\n",
       "type: 32969 * float32</pre>"
      ],
      "text/plain": [
       "<Array [1, 1, 1, 1, 1, 1, 1, ..., 1, 1, 1, 1, 1, 1, 1] type='32969 * float32'>"
      ]
     },
     "execution_count": 9,
     "metadata": {},
     "output_type": "execute_result"
    }
   ],
   "source": [
    "ak.flatten(ar.Electron_pt_scale_up/ar.Electron_pt)"
   ]
  },
  {
   "cell_type": "code",
   "execution_count": 28,
   "metadata": {},
   "outputs": [],
   "source": [
    "# /grid_mnt/data__data.polcms/cms/cuisset/cmt/PreprocessRDF/bul_2018_ZZ_v12/zz_sl_signal/cat_base_selection/prod_250225_dR02/data_0.root\n",
    "# /grid_mnt/data__data.polcms/cms/cuisset/cmt/MergeCategorization/bul_2018_ZZ_v12/dy/cat_ZZ_EC90_resolved_1b_HPSTau/prod_250225_dR02/data_0.root\n",
    "ar = uproot.open(\"/grid_mnt/data__data.polcms/cms/cuisset/cmt/PreprocessRDF/bul_2018_ZZ_v12/zz_sl_signal/cat_base_selection/prod_250225_dR02/data_0.root\")[\"Events\"].arrays(filter_name=[\"Electron_*\", \"dau*\", \"pairType*\", \"isBoostedTau\"])\n",
    "ar = ar[(ar.pairType == 1) & (~(ar.isBoostedTau))]"
   ]
  },
  {
   "cell_type": "code",
   "execution_count": 16,
   "metadata": {},
   "outputs": [
    {
     "data": {
      "text/html": [
       "<pre>[{Electron_cutBased: [3, 4, 0], Electron_vidNestedWPBitmap: [...], ...},\n",
       " {Electron_cutBased: [4, 0], Electron_vidNestedWPBitmap: [...], ...},\n",
       " {Electron_cutBased: [1, 0], Electron_vidNestedWPBitmap: [...], ...},\n",
       " {Electron_cutBased: [4, 0], Electron_vidNestedWPBitmap: [...], ...},\n",
       " {Electron_cutBased: [4], Electron_vidNestedWPBitmap: [613566756], ...},\n",
       " {Electron_cutBased: [4, 0, 0], Electron_vidNestedWPBitmap: [...], ...},\n",
       " {Electron_cutBased: [4, 4], Electron_vidNestedWPBitmap: [...], ...},\n",
       " {Electron_cutBased: [4, 0], Electron_vidNestedWPBitmap: [...], ...},\n",
       " {Electron_cutBased: [4, 1], Electron_vidNestedWPBitmap: [...], ...},\n",
       " {Electron_cutBased: [4], Electron_vidNestedWPBitmap: [613566756], ...},\n",
       " ...,\n",
       " {Electron_cutBased: [2, 4], Electron_vidNestedWPBitmap: [...], ...},\n",
       " {Electron_cutBased: [4], Electron_vidNestedWPBitmap: [613566756], ...},\n",
       " {Electron_cutBased: [4], Electron_vidNestedWPBitmap: [613566756], ...},\n",
       " {Electron_cutBased: [4, 0], Electron_vidNestedWPBitmap: [...], ...},\n",
       " {Electron_cutBased: [4, 0], Electron_vidNestedWPBitmap: [...], ...},\n",
       " {Electron_cutBased: [4], Electron_vidNestedWPBitmap: [613566756], ...},\n",
       " {Electron_cutBased: [4, 0], Electron_vidNestedWPBitmap: [...], ...},\n",
       " {Electron_cutBased: [4], Electron_vidNestedWPBitmap: [613566756], ...},\n",
       " {Electron_cutBased: [4, 0], Electron_vidNestedWPBitmap: [...], ...}]\n",
       "------------------------------------------------------------------------\n",
       "type: 10230 * {\n",
       "    Electron_cutBased: var * uint8,\n",
       "    Electron_vidNestedWPBitmap: var * int32,\n",
       "    Electron_eta: var * float32,\n",
       "    Electron_mass: var * float32,\n",
       "    Electron_miniPFRelIso_all: var * float32,\n",
       "    Electron_miniPFRelIso_chg: var * float32,\n",
       "    Electron_mvaIso: var * float32,\n",
       "    Electron_mvaNoIso: var * float32,\n",
       "    Electron_pfRelIso03_all: var * float32,\n",
       "    Electron_pfRelIso03_chg: var * float32,\n",
       "    Electron_phi: var * float32,\n",
       "    Electron_pt: var * float32,\n",
       "    Electron_genPartFlav: var * uint8,\n",
       "    Electron_genPartIdx: var * int16,\n",
       "    Electron_pt_smear_up: var * float32,\n",
       "    Electron_pt_smear_down: var * float32,\n",
       "    Electron_pt_scale_up: var * float32,\n",
       "    Electron_pt_scale_down: var * float32,\n",
       "    Electron_mass_smear_up: var * float32,\n",
       "    Electron_mass_smear_down: var * float32,\n",
       "    Electron_mass_scale_up: var * float32,\n",
       "    Electron_mass_scale_down: var * float32,\n",
       "    pairType_boostedTaus: int32,\n",
       "    dau1_boostedTaus_index: int32,\n",
       "    dau2_boostedTaus_index: int32,\n",
       "    pairType_HPSTaus: int32,\n",
       "    dau1_HPSTaus_index: int32,\n",
       "    dau2_HPSTaus_index: int32,\n",
       "    isBoostedTau: bool,\n",
       "    dau1_index: int32,\n",
       "    dau2_index: int32,\n",
       "    dau1_eta: float32,\n",
       "    dau1_phi: float32,\n",
       "    dau1_iso: float32,\n",
       "    dau1_decayMode: int32,\n",
       "    dau1_idDeepTau2017v2p1VSe: int32,\n",
       "    dau1_idDeepTau2017v2p1VSmu: int32,\n",
       "    dau1_idDeepTau2017v2p1VSjet: int32,\n",
       "    dau2_eta: float32,\n",
       "    dau2_phi: float32,\n",
       "    dau2_decayMode: int32,\n",
       "    dau2_idDeepTau2017v2p1VSe: int32,\n",
       "    dau2_idDeepTau2017v2p1VSmu: int32,\n",
       "    dau2_idDeepTau2017v2p1VSjet: int32,\n",
       "    pairType_preliminary: int32,\n",
       "    dau1_rawIdDeepTauVSjet: float32,\n",
       "    dau2_rawIdDeepTauVSjet: float32,\n",
       "    dau1_pt: float32,\n",
       "    dau1_mass: float32,\n",
       "    dau2_pt: float32,\n",
       "    dau2_mass: float32,\n",
       "    pairType: int32\n",
       "}</pre>"
      ],
      "text/plain": [
       "<Array [{Electron_cutBased: [...], ...}, ...] type='10230 * {Electron_cutBa...'>"
      ]
     },
     "execution_count": 16,
     "metadata": {},
     "output_type": "execute_result"
    }
   ],
   "source": [
    "ar"
   ]
  },
  {
   "cell_type": "code",
   "execution_count": 18,
   "metadata": {},
   "outputs": [
    {
     "data": {
      "text/html": [
       "<pre>[1,\n",
       " 0,\n",
       " 0,\n",
       " 0,\n",
       " 0,\n",
       " 0,\n",
       " 0,\n",
       " 0,\n",
       " 0,\n",
       " 0,\n",
       " ...,\n",
       " 1,\n",
       " 0,\n",
       " 0,\n",
       " 0,\n",
       " 0,\n",
       " 0,\n",
       " 0,\n",
       " 0,\n",
       " 0]\n",
       "-------------------\n",
       "type: 10230 * int32</pre>"
      ],
      "text/plain": [
       "<Array [1, 0, 0, 0, 0, 0, 0, 0, ..., 0, 0, 0, 0, 0, 0, 0] type='10230 * int32'>"
      ]
     },
     "execution_count": 18,
     "metadata": {},
     "output_type": "execute_result"
    }
   ],
   "source": [
    "ar.dau1_index"
   ]
  },
  {
   "cell_type": "code",
   "execution_count": 30,
   "metadata": {},
   "outputs": [
    {
     "data": {
      "text/html": [
       "<pre>[15,\n",
       " 15,\n",
       " 15,\n",
       " 15,\n",
       " 15,\n",
       " 15,\n",
       " 15,\n",
       " 15,\n",
       " 15,\n",
       " 15,\n",
       " ...,\n",
       " 15,\n",
       " 15,\n",
       " 15,\n",
       " 15,\n",
       " 15,\n",
       " 15,\n",
       " 15,\n",
       " 15,\n",
       " 15]\n",
       "------------------\n",
       "type: 1606 * uint8</pre>"
      ],
      "text/plain": [
       "<Array [15, 15, 15, 15, 15, 15, ..., 15, 15, 15, 15, 15] type='1606 * uint8'>"
      ]
     },
     "execution_count": 30,
     "metadata": {},
     "output_type": "execute_result"
    }
   ],
   "source": [
    "dau1_genmatch = ak.flatten(ar.Electron_genPartFlav[ak.singletons(ar.dau1_index)], axis=-1)\n",
    "dau1_genmatch"
   ]
  },
  {
   "cell_type": "code",
   "execution_count": 34,
   "metadata": {},
   "outputs": [
    {
     "data": {
      "text/plain": [
       "0.772104607721046"
      ]
     },
     "execution_count": 34,
     "metadata": {},
     "output_type": "execute_result"
    }
   ],
   "source": [
    "ak.count_nonzero(ar.dau2_idDeepTau2017v2p1VSe>=6)/len(ar)"
   ]
  },
  {
   "cell_type": "code",
   "execution_count": 33,
   "metadata": {},
   "outputs": [
    {
     "data": {
      "text/plain": [
       "(array([ 12.,  55.,   0.,  98.,   0., 201., 224.,   0., 203., 813.]),\n",
       " array([2. , 2.6, 3.2, 3.8, 4.4, 5. , 5.6, 6.2, 6.8, 7.4, 8. ]),\n",
       " <BarContainer object of 10 artists>)"
      ]
     },
     "execution_count": 33,
     "metadata": {},
     "output_type": "execute_result"
    },
    {
     "data": {
      "image/png": "[encoded data removed]",
      "text/plain": [
       "<Figure size 640x480 with 1 Axes>"
      ]
     },
     "metadata": {},
     "output_type": "display_data"
    }
   ],
   "source": [
    "import matplotlib.pyplot as plt\n",
    "plt.hist(ar.dau2_idDeepTau2017v2p1VSe)#[dau1_genmatch==1]"
   ]
  },
  {
   "cell_type": "code",
   "execution_count": 29,
   "metadata": {},
   "outputs": [
    {
     "ename": "AttributeError",
     "evalue": "no field named 'Tau_genPartFlav'",
     "output_type": "error",
     "traceback": [
      "\u001b[0;31m---------------------------------------------------------------------------\u001b[0m",
      "\u001b[0;31mAttributeError\u001b[0m                            Traceback (most recent call last)",
      "Cell \u001b[0;32mIn[29], line 1\u001b[0m\n\u001b[0;32m----> 1\u001b[0m dau2_genmatch \u001b[38;5;241m=\u001b[39m ak\u001b[38;5;241m.\u001b[39mflatten(\u001b[43mar\u001b[49m\u001b[38;5;241;43m.\u001b[39;49m\u001b[43mTau_genPartFlav\u001b[49m[ak\u001b[38;5;241m.\u001b[39msingletons(ar\u001b[38;5;241m.\u001b[39mdau2_index)], axis\u001b[38;5;241m=\u001b[39m\u001b[38;5;241m-\u001b[39m\u001b[38;5;241m1\u001b[39m)\n\u001b[1;32m      2\u001b[0m dau2_genmatch\n",
      "File \u001b[0;32m/opt/exp_soft/llr/python/3.11.8/el7/lib/python3.11/site-packages/awkward/highlevel.py:1236\u001b[0m, in \u001b[0;36mArray.__getattr__\u001b[0;34m(self, where)\u001b[0m\n\u001b[1;32m   1231\u001b[0m         \u001b[38;5;28;01mraise\u001b[39;00m \u001b[38;5;167;01mAttributeError\u001b[39;00m(\n\u001b[1;32m   1232\u001b[0m             \u001b[38;5;124mf\u001b[39m\u001b[38;5;124m\"\u001b[39m\u001b[38;5;124mwhile trying to get field \u001b[39m\u001b[38;5;132;01m{\u001b[39;00mwhere\u001b[38;5;132;01m!r}\u001b[39;00m\u001b[38;5;124m, an exception \u001b[39m\u001b[38;5;124m\"\u001b[39m\n\u001b[1;32m   1233\u001b[0m             \u001b[38;5;124mf\u001b[39m\u001b[38;5;124m\"\u001b[39m\u001b[38;5;124moccurred:\u001b[39m\u001b[38;5;130;01m\\n\u001b[39;00m\u001b[38;5;132;01m{\u001b[39;00m\u001b[38;5;28mtype\u001b[39m(err)\u001b[38;5;132;01m}\u001b[39;00m\u001b[38;5;124m: \u001b[39m\u001b[38;5;132;01m{\u001b[39;00merr\u001b[38;5;132;01m!s}\u001b[39;00m\u001b[38;5;124m\"\u001b[39m\n\u001b[1;32m   1234\u001b[0m         ) \u001b[38;5;28;01mfrom\u001b[39;00m \u001b[38;5;21;01merr\u001b[39;00m\n\u001b[1;32m   1235\u001b[0m \u001b[38;5;28;01melse\u001b[39;00m:\n\u001b[0;32m-> 1236\u001b[0m     \u001b[38;5;28;01mraise\u001b[39;00m \u001b[38;5;167;01mAttributeError\u001b[39;00m(\u001b[38;5;124mf\u001b[39m\u001b[38;5;124m\"\u001b[39m\u001b[38;5;124mno field named \u001b[39m\u001b[38;5;132;01m{\u001b[39;00mwhere\u001b[38;5;132;01m!r}\u001b[39;00m\u001b[38;5;124m\"\u001b[39m)\n",
      "\u001b[0;31mAttributeError\u001b[0m: no field named 'Tau_genPartFlav'"
     ]
    }
   ],
   "source": [
    "dau2_genmatch = ak.flatten(ar.Tau_genPartFlav[ak.singletons(ar.dau2_index)], axis=-1)\n",
    "dau2_genmatch"
   ]
  },
  {
   "cell_type": "markdown",
   "metadata": {},
   "source": [
    "## checking hlt path vs run nb"
   ]
  },
  {
   "cell_type": "code",
   "execution_count": 54,
   "metadata": {},
   "outputs": [],
   "source": [
    "\"/grid_mnt/data__data.polcms/cms/cuisset/cmt/PreprocessRDF/bul_2018_ZZ_v12/data_etau_a/cat_base_selection/prod_250225_fixFilterBits\"\n",
    "def check(f_path):\n",
    "    with uproot.open(f_path) as f:\n",
    "        ar = f[\"Events\"].arrays(filter_name=[\"HLT_Ele24_eta2p1_WPTight_Gsf_LooseChargedIsoPFTau30_eta2p1_CrossL1\", \"HLT_Ele24_eta2p1_WPTight_Gsf_LooseChargedIsoPFTauHPS30_eta2p1_CrossL1\", \"run\"])\n",
    "        if ak.all(ar.run < 317509) and \"HLT_Ele24_eta2p1_WPTight_Gsf_LooseChargedIsoPFTau30_eta2p1_CrossL1\" in ar.fields and \"HLT_Ele24_eta2p1_WPTight_Gsf_LooseChargedIsoPFTauHPS30_eta2p1_CrossL1\" not in ar.fields:\n",
    "            return True\n",
    "        if ak.all(ar.run >= 317509) and \"HLT_Ele24_eta2p1_WPTight_Gsf_LooseChargedIsoPFTau30_eta2p1_CrossL1\" not in ar.fields and \"HLT_Ele24_eta2p1_WPTight_Gsf_LooseChargedIsoPFTauHPS30_eta2p1_CrossL1\" in ar.fields:\n",
    "            return True\n",
    "        return False"
   ]
  },
  {
   "cell_type": "code",
   "execution_count": 57,
   "metadata": {},
   "outputs": [
    {
     "name": "stdout",
     "output_type": "stream",
     "text": [
      "/grid_mnt/data__data.polcms/cms/cuisset/cmt/PreprocessRDF/bul_2018_ZZ_v12/data_etau_b/cat_base_selection/prod_250225_fixFilterBits/data_35.root\n",
      "/grid_mnt/data__data.polcms/cms/cuisset/cmt/PreprocessRDF/bul_2018_ZZ_v12/data_etau_b/cat_base_selection/prod_250225_fixFilterBits/data_30.root\n",
      "/grid_mnt/data__data.polcms/cms/cuisset/cmt/PreprocessRDF/bul_2018_ZZ_v12/data_etau_b/cat_base_selection/prod_250225_fixFilterBits/data_18.root\n",
      "/grid_mnt/data__data.polcms/cms/cuisset/cmt/PreprocessRDF/bul_2018_ZZ_v12/data_etau_b/cat_base_selection/prod_250225_fixFilterBits/data_21.root\n",
      "/grid_mnt/data__data.polcms/cms/cuisset/cmt/PreprocessRDF/bul_2018_ZZ_v12/data_etau_b/cat_base_selection/prod_250225_fixFilterBits/data_22.root\n",
      "/grid_mnt/data__data.polcms/cms/cuisset/cmt/PreprocessRDF/bul_2018_ZZ_v12/data_etau_b/cat_base_selection/prod_250225_fixFilterBits/data_14.root\n",
      "/grid_mnt/data__data.polcms/cms/cuisset/cmt/PreprocessRDF/bul_2018_ZZ_v12/data_etau_b/cat_base_selection/prod_250225_fixFilterBits/data_1.root\n",
      "/grid_mnt/data__data.polcms/cms/cuisset/cmt/PreprocessRDF/bul_2018_ZZ_v12/data_etau_b/cat_base_selection/prod_250225_fixFilterBits/data_17.root\n",
      "/grid_mnt/data__data.polcms/cms/cuisset/cmt/PreprocessRDF/bul_2018_ZZ_v12/data_etau_b/cat_base_selection/prod_250225_fixFilterBits/data_8.root\n",
      "/grid_mnt/data__data.polcms/cms/cuisset/cmt/PreprocessRDF/bul_2018_ZZ_v12/data_etau_b/cat_base_selection/prod_250225_fixFilterBits/data_26.root\n",
      "/grid_mnt/data__data.polcms/cms/cuisset/cmt/PreprocessRDF/bul_2018_ZZ_v12/data_etau_b/cat_base_selection/prod_250225_fixFilterBits/data_24.root\n",
      "/grid_mnt/data__data.polcms/cms/cuisset/cmt/PreprocessRDF/bul_2018_ZZ_v12/data_etau_b/cat_base_selection/prod_250225_fixFilterBits/data_3.root\n",
      "/grid_mnt/data__data.polcms/cms/cuisset/cmt/PreprocessRDF/bul_2018_ZZ_v12/data_etau_b/cat_base_selection/prod_250225_fixFilterBits/data_9.root\n",
      "/grid_mnt/data__data.polcms/cms/cuisset/cmt/PreprocessRDF/bul_2018_ZZ_v12/data_etau_b/cat_base_selection/prod_250225_fixFilterBits/data_16.root\n",
      "/grid_mnt/data__data.polcms/cms/cuisset/cmt/PreprocessRDF/bul_2018_ZZ_v12/data_etau_b/cat_base_selection/prod_250225_fixFilterBits/data_27.root\n",
      "/grid_mnt/data__data.polcms/cms/cuisset/cmt/PreprocessRDF/bul_2018_ZZ_v12/data_etau_b/cat_base_selection/prod_250225_fixFilterBits/data_38.root\n",
      "/grid_mnt/data__data.polcms/cms/cuisset/cmt/PreprocessRDF/bul_2018_ZZ_v12/data_etau_b/cat_base_selection/prod_250225_fixFilterBits/data_33.root\n",
      "/grid_mnt/data__data.polcms/cms/cuisset/cmt/PreprocessRDF/bul_2018_ZZ_v12/data_etau_b/cat_base_selection/prod_250225_fixFilterBits/data_32.root\n",
      "/grid_mnt/data__data.polcms/cms/cuisset/cmt/PreprocessRDF/bul_2018_ZZ_v12/data_etau_b/cat_base_selection/prod_250225_fixFilterBits/data_28.root\n",
      "/grid_mnt/data__data.polcms/cms/cuisset/cmt/PreprocessRDF/bul_2018_ZZ_v12/data_etau_b/cat_base_selection/prod_250225_fixFilterBits/data_2.root\n",
      "/grid_mnt/data__data.polcms/cms/cuisset/cmt/PreprocessRDF/bul_2018_ZZ_v12/data_etau_b/cat_base_selection/prod_250225_fixFilterBits/data_20.root\n",
      "/grid_mnt/data__data.polcms/cms/cuisset/cmt/PreprocessRDF/bul_2018_ZZ_v12/data_etau_b/cat_base_selection/prod_250225_fixFilterBits/data_37.root\n",
      "/grid_mnt/data__data.polcms/cms/cuisset/cmt/PreprocessRDF/bul_2018_ZZ_v12/data_etau_b/cat_base_selection/prod_250225_fixFilterBits/data_25.root\n",
      "/grid_mnt/data__data.polcms/cms/cuisset/cmt/PreprocessRDF/bul_2018_ZZ_v12/data_etau_b/cat_base_selection/prod_250225_fixFilterBits/data_34.root\n",
      "/grid_mnt/data__data.polcms/cms/cuisset/cmt/PreprocessRDF/bul_2018_ZZ_v12/data_etau_b/cat_base_selection/prod_250225_fixFilterBits/data_31.root\n",
      "/grid_mnt/data__data.polcms/cms/cuisset/cmt/PreprocessRDF/bul_2018_ZZ_v12/data_etau_b/cat_base_selection/prod_250225_fixFilterBits/data_10.root\n",
      "/grid_mnt/data__data.polcms/cms/cuisset/cmt/PreprocessRDF/bul_2018_ZZ_v12/data_etau_b/cat_base_selection/prod_250225_fixFilterBits/data_0.root\n",
      "/grid_mnt/data__data.polcms/cms/cuisset/cmt/PreprocessRDF/bul_2018_ZZ_v12/data_etau_b/cat_base_selection/prod_250225_fixFilterBits/data_40.root\n",
      "/grid_mnt/data__data.polcms/cms/cuisset/cmt/PreprocessRDF/bul_2018_ZZ_v12/data_etau_b/cat_base_selection/prod_250225_fixFilterBits/data_36.root\n"
     ]
    },
    {
     "ename": "KeyboardInterrupt",
     "evalue": "",
     "output_type": "error",
     "traceback": [
      "\u001b[0;31m---------------------------------------------------------------------------\u001b[0m",
      "\u001b[0;31mKeyboardInterrupt\u001b[0m                         Traceback (most recent call last)",
      "Cell \u001b[0;32mIn[57], line 4\u001b[0m\n\u001b[1;32m      2\u001b[0m base \u001b[38;5;241m=\u001b[39m \u001b[38;5;124m\"\u001b[39m\u001b[38;5;124m/grid_mnt/data__data.polcms/cms/cuisset/cmt/PreprocessRDF/bul_2018_ZZ_v12/data_etau_b/cat_base_selection/prod_250225_fixFilterBits\u001b[39m\u001b[38;5;124m\"\u001b[39m\n\u001b[1;32m      3\u001b[0m \u001b[38;5;28;01mfor\u001b[39;00m f_path \u001b[38;5;129;01min\u001b[39;00m os\u001b[38;5;241m.\u001b[39mlistdir(base):\n\u001b[0;32m----> 4\u001b[0m     \u001b[38;5;28;01mif\u001b[39;00m \u001b[38;5;129;01mnot\u001b[39;00m \u001b[43mcheck\u001b[49m\u001b[43m(\u001b[49m\u001b[43mbase\u001b[49m\u001b[38;5;241;43m+\u001b[39;49m\u001b[38;5;124;43m\"\u001b[39;49m\u001b[38;5;124;43m/\u001b[39;49m\u001b[38;5;124;43m\"\u001b[39;49m\u001b[38;5;241;43m+\u001b[39;49m\u001b[43mf_path\u001b[49m\u001b[43m)\u001b[49m:\n\u001b[1;32m      5\u001b[0m         \u001b[38;5;28mprint\u001b[39m(base\u001b[38;5;241m+\u001b[39m\u001b[38;5;124m\"\u001b[39m\u001b[38;5;124m/\u001b[39m\u001b[38;5;124m\"\u001b[39m\u001b[38;5;241m+\u001b[39mf_path)\n",
      "Cell \u001b[0;32mIn[54], line 4\u001b[0m, in \u001b[0;36mcheck\u001b[0;34m(f_path)\u001b[0m\n\u001b[1;32m      2\u001b[0m \u001b[38;5;28;01mdef\u001b[39;00m \u001b[38;5;21mcheck\u001b[39m(f_path):\n\u001b[1;32m      3\u001b[0m     \u001b[38;5;28;01mwith\u001b[39;00m uproot\u001b[38;5;241m.\u001b[39mopen(f_path) \u001b[38;5;28;01mas\u001b[39;00m f:\n\u001b[0;32m----> 4\u001b[0m         ar \u001b[38;5;241m=\u001b[39m \u001b[43mf\u001b[49m\u001b[43m[\u001b[49m\u001b[38;5;124;43m\"\u001b[39;49m\u001b[38;5;124;43mEvents\u001b[39;49m\u001b[38;5;124;43m\"\u001b[39;49m\u001b[43m]\u001b[49m\u001b[38;5;241;43m.\u001b[39;49m\u001b[43marrays\u001b[49m\u001b[43m(\u001b[49m\u001b[43mfilter_name\u001b[49m\u001b[38;5;241;43m=\u001b[39;49m\u001b[43m[\u001b[49m\u001b[38;5;124;43m\"\u001b[39;49m\u001b[38;5;124;43mHLT_Ele24_eta2p1_WPTight_Gsf_LooseChargedIsoPFTau30_eta2p1_CrossL1\u001b[39;49m\u001b[38;5;124;43m\"\u001b[39;49m\u001b[43m,\u001b[49m\u001b[43m \u001b[49m\u001b[38;5;124;43m\"\u001b[39;49m\u001b[38;5;124;43mHLT_Ele24_eta2p1_WPTight_Gsf_LooseChargedIsoPFTauHPS30_eta2p1_CrossL1\u001b[39;49m\u001b[38;5;124;43m\"\u001b[39;49m\u001b[43m,\u001b[49m\u001b[43m \u001b[49m\u001b[38;5;124;43m\"\u001b[39;49m\u001b[38;5;124;43mrun\u001b[39;49m\u001b[38;5;124;43m\"\u001b[39;49m\u001b[43m]\u001b[49m\u001b[43m)\u001b[49m\n\u001b[1;32m      5\u001b[0m         \u001b[38;5;28;01mif\u001b[39;00m ak\u001b[38;5;241m.\u001b[39mall(ar\u001b[38;5;241m.\u001b[39mrun \u001b[38;5;241m<\u001b[39m \u001b[38;5;241m317509\u001b[39m) \u001b[38;5;129;01mand\u001b[39;00m \u001b[38;5;124m\"\u001b[39m\u001b[38;5;124mHLT_Ele24_eta2p1_WPTight_Gsf_LooseChargedIsoPFTau30_eta2p1_CrossL1\u001b[39m\u001b[38;5;124m\"\u001b[39m \u001b[38;5;129;01min\u001b[39;00m ar\u001b[38;5;241m.\u001b[39mfields \u001b[38;5;129;01mand\u001b[39;00m \u001b[38;5;124m\"\u001b[39m\u001b[38;5;124mHLT_Ele24_eta2p1_WPTight_Gsf_LooseChargedIsoPFTauHPS30_eta2p1_CrossL1\u001b[39m\u001b[38;5;124m\"\u001b[39m \u001b[38;5;129;01mnot\u001b[39;00m \u001b[38;5;129;01min\u001b[39;00m ar\u001b[38;5;241m.\u001b[39mfields:\n\u001b[1;32m      6\u001b[0m             \u001b[38;5;28;01mreturn\u001b[39;00m \u001b[38;5;28;01mTrue\u001b[39;00m\n",
      "File \u001b[0;32m/opt/exp_soft/llr/python/3.11.8/el7/lib/python3.11/site-packages/uproot/behaviors/TBranch.py:833\u001b[0m, in \u001b[0;36mHasBranches.arrays\u001b[0;34m(self, expressions, cut, filter_name, filter_typename, filter_branch, aliases, language, entry_start, entry_stop, decompression_executor, interpretation_executor, array_cache, library, ak_add_doc, how)\u001b[0m\n\u001b[1;32m    830\u001b[0m                 ranges_or_baskets\u001b[38;5;241m.\u001b[39mappend((branch, basket_num, range_or_basket))\n\u001b[1;32m    832\u001b[0m interp_options \u001b[38;5;241m=\u001b[39m {\u001b[38;5;124m\"\u001b[39m\u001b[38;5;124mak_add_doc\u001b[39m\u001b[38;5;124m\"\u001b[39m: ak_add_doc}\n\u001b[0;32m--> 833\u001b[0m \u001b[43m_ranges_or_baskets_to_arrays\u001b[49m\u001b[43m(\u001b[49m\n\u001b[1;32m    834\u001b[0m \u001b[43m    \u001b[49m\u001b[38;5;28;43mself\u001b[39;49m\u001b[43m,\u001b[49m\n\u001b[1;32m    835\u001b[0m \u001b[43m    \u001b[49m\u001b[43mranges_or_baskets\u001b[49m\u001b[43m,\u001b[49m\n\u001b[1;32m    836\u001b[0m \u001b[43m    \u001b[49m\u001b[43mbranchid_interpretation\u001b[49m\u001b[43m,\u001b[49m\n\u001b[1;32m    837\u001b[0m \u001b[43m    \u001b[49m\u001b[43mentry_start\u001b[49m\u001b[43m,\u001b[49m\n\u001b[1;32m    838\u001b[0m \u001b[43m    \u001b[49m\u001b[43mentry_stop\u001b[49m\u001b[43m,\u001b[49m\n\u001b[1;32m    839\u001b[0m \u001b[43m    \u001b[49m\u001b[43mdecompression_executor\u001b[49m\u001b[43m,\u001b[49m\n\u001b[1;32m    840\u001b[0m \u001b[43m    \u001b[49m\u001b[43minterpretation_executor\u001b[49m\u001b[43m,\u001b[49m\n\u001b[1;32m    841\u001b[0m \u001b[43m    \u001b[49m\u001b[43mlibrary\u001b[49m\u001b[43m,\u001b[49m\n\u001b[1;32m    842\u001b[0m \u001b[43m    \u001b[49m\u001b[43marrays\u001b[49m\u001b[43m,\u001b[49m\n\u001b[1;32m    843\u001b[0m \u001b[43m    \u001b[49m\u001b[38;5;28;43;01mFalse\u001b[39;49;00m\u001b[43m,\u001b[49m\n\u001b[1;32m    844\u001b[0m \u001b[43m    \u001b[49m\u001b[43minterp_options\u001b[49m\u001b[43m,\u001b[49m\n\u001b[1;32m    845\u001b[0m \u001b[43m\u001b[49m\u001b[43m)\u001b[49m\n\u001b[1;32m    847\u001b[0m \u001b[38;5;66;03m# no longer needed; save memory\u001b[39;00m\n\u001b[1;32m    848\u001b[0m \u001b[38;5;28;01mdel\u001b[39;00m ranges_or_baskets\n",
      "File \u001b[0;32m/opt/exp_soft/llr/python/3.11.8/el7/lib/python3.11/site-packages/uproot/behaviors/TBranch.py:3130\u001b[0m, in \u001b[0;36m_ranges_or_baskets_to_arrays\u001b[0;34m(hasbranches, ranges_or_baskets, branchid_interpretation, entry_start, entry_stop, decompression_executor, interpretation_executor, library, arrays, update_ranges_or_baskets, interp_options)\u001b[0m\n\u001b[1;32m   3127\u001b[0m         notifications\u001b[38;5;241m.\u001b[39mput(\u001b[38;5;28;01mNone\u001b[39;00m)\n\u001b[1;32m   3129\u001b[0m \u001b[38;5;28;01mwhile\u001b[39;00m \u001b[38;5;28mlen\u001b[39m(arrays) \u001b[38;5;241m<\u001b[39m \u001b[38;5;28mlen\u001b[39m(branchid_interpretation):\n\u001b[0;32m-> 3130\u001b[0m     obj \u001b[38;5;241m=\u001b[39m \u001b[43mnotifications\u001b[49m\u001b[38;5;241;43m.\u001b[39;49m\u001b[43mget\u001b[49m\u001b[43m(\u001b[49m\u001b[43m)\u001b[49m\n\u001b[1;32m   3132\u001b[0m     \u001b[38;5;28;01mif\u001b[39;00m \u001b[38;5;28misinstance\u001b[39m(obj, uproot\u001b[38;5;241m.\u001b[39msource\u001b[38;5;241m.\u001b[39mchunk\u001b[38;5;241m.\u001b[39mChunk):\n\u001b[1;32m   3133\u001b[0m         args \u001b[38;5;241m=\u001b[39m range_args[(obj\u001b[38;5;241m.\u001b[39mstart, obj\u001b[38;5;241m.\u001b[39mstop)]\n",
      "File \u001b[0;32m/opt/exp_soft/llr/python/3.11.6/el7/lib/python3.11/queue.py:171\u001b[0m, in \u001b[0;36mQueue.get\u001b[0;34m(self, block, timeout)\u001b[0m\n\u001b[1;32m    169\u001b[0m \u001b[38;5;28;01melif\u001b[39;00m timeout \u001b[38;5;129;01mis\u001b[39;00m \u001b[38;5;28;01mNone\u001b[39;00m:\n\u001b[1;32m    170\u001b[0m     \u001b[38;5;28;01mwhile\u001b[39;00m \u001b[38;5;129;01mnot\u001b[39;00m \u001b[38;5;28mself\u001b[39m\u001b[38;5;241m.\u001b[39m_qsize():\n\u001b[0;32m--> 171\u001b[0m         \u001b[38;5;28;43mself\u001b[39;49m\u001b[38;5;241;43m.\u001b[39;49m\u001b[43mnot_empty\u001b[49m\u001b[38;5;241;43m.\u001b[39;49m\u001b[43mwait\u001b[49m\u001b[43m(\u001b[49m\u001b[43m)\u001b[49m\n\u001b[1;32m    172\u001b[0m \u001b[38;5;28;01melif\u001b[39;00m timeout \u001b[38;5;241m<\u001b[39m \u001b[38;5;241m0\u001b[39m:\n\u001b[1;32m    173\u001b[0m     \u001b[38;5;28;01mraise\u001b[39;00m \u001b[38;5;167;01mValueError\u001b[39;00m(\u001b[38;5;124m\"\u001b[39m\u001b[38;5;124m'\u001b[39m\u001b[38;5;124mtimeout\u001b[39m\u001b[38;5;124m'\u001b[39m\u001b[38;5;124m must be a non-negative number\u001b[39m\u001b[38;5;124m\"\u001b[39m)\n",
      "File \u001b[0;32m/opt/exp_soft/llr/python/3.11.6/el7/lib/python3.11/threading.py:327\u001b[0m, in \u001b[0;36mCondition.wait\u001b[0;34m(self, timeout)\u001b[0m\n\u001b[1;32m    325\u001b[0m \u001b[38;5;28;01mtry\u001b[39;00m:    \u001b[38;5;66;03m# restore state no matter what (e.g., KeyboardInterrupt)\u001b[39;00m\n\u001b[1;32m    326\u001b[0m     \u001b[38;5;28;01mif\u001b[39;00m timeout \u001b[38;5;129;01mis\u001b[39;00m \u001b[38;5;28;01mNone\u001b[39;00m:\n\u001b[0;32m--> 327\u001b[0m         \u001b[43mwaiter\u001b[49m\u001b[38;5;241;43m.\u001b[39;49m\u001b[43macquire\u001b[49m\u001b[43m(\u001b[49m\u001b[43m)\u001b[49m\n\u001b[1;32m    328\u001b[0m         gotit \u001b[38;5;241m=\u001b[39m \u001b[38;5;28;01mTrue\u001b[39;00m\n\u001b[1;32m    329\u001b[0m     \u001b[38;5;28;01melse\u001b[39;00m:\n",
      "\u001b[0;31mKeyboardInterrupt\u001b[0m: "
     ]
    }
   ],
   "source": [
    "import os\n",
    "base = \"/grid_mnt/data__data.polcms/cms/cuisset/cmt/PreprocessRDF/bul_2018_ZZ_v12/data_etau_b/cat_base_selection/prod_250225_fixFilterBits\"\n",
    "for f_path in os.listdir(base):\n",
    "    if not check(base+\"/\"+f_path):\n",
    "        print(base+\"/\"+f_path)"
   ]
  },
  {
   "cell_type": "code",
   "execution_count": 67,
   "metadata": {},
   "outputs": [],
   "source": [
    "ar = uproot.concatenate([base + \"/\" + n + \":Events\" for n in os.listdir(base)], filter_name=[\"HLT_Ele24_eta2p1_WPTight_Gsf_LooseChargedIsoPFTau30_eta2p1_CrossL1\", \"HLT_Ele24_eta2p1_WPTight_Gsf_LooseChargedIsoPFTauHPS30_eta2p1_CrossL1\", \"run\"])"
   ]
  },
  {
   "cell_type": "code",
   "execution_count": null,
   "metadata": {},
   "outputs": [],
   "source": []
  },
  {
   "cell_type": "code",
   "execution_count": null,
   "metadata": {},
   "outputs": [
    {
     "data": {
      "text/plain": [
       "(0.2063944176543413, 0.24361933973686334)"
      ]
     },
     "execution_count": 69,
     "metadata": {},
     "output_type": "execute_result"
    }
   ],
   "source": [
    "ak.count_nonzero((ar.run>= 317509) & (ar.HLT_Ele24_eta2p1_WPTight_Gsf_LooseChargedIsoPFTauHPS30_eta2p1_CrossL1))/ak.count_nonzero(ar.run>= 317509), ak.count_nonzero((ar.run< 317509) & (ar.HLT_Ele24_eta2p1_WPTight_Gsf_LooseChargedIsoPFTau30_eta2p1_CrossL1))/ak.count_nonzero(ar.run< 317509)"
   ]
  },
  {
   "cell_type": "code",
   "execution_count": 70,
   "metadata": {},
   "outputs": [
    {
     "data": {
      "text/plain": [
       "(0.0, 0.0)"
      ]
     },
     "execution_count": 70,
     "metadata": {},
     "output_type": "execute_result"
    }
   ],
   "source": [
    "ak.count_nonzero((ar.run< 317509) & (ar.HLT_Ele24_eta2p1_WPTight_Gsf_LooseChargedIsoPFTauHPS30_eta2p1_CrossL1))/ak.count_nonzero(ar.run< 317509), ak.count_nonzero((ar.run>=317509) & (ar.HLT_Ele24_eta2p1_WPTight_Gsf_LooseChargedIsoPFTau30_eta2p1_CrossL1))/ak.count_nonzero(ar.run>= 317509)"
   ]
  },
  {
   "cell_type": "code",
   "execution_count": 61,
   "metadata": {},
   "outputs": [
    {
     "data": {
      "text/plain": [
       "(array([281.,   5., 223.,  25.,   0.,   0.,   0.,   0.,   0.,  67.]),\n",
       " array([317182. , 317351.5, 317521. , 317690.5, 317860. , 318029.5,\n",
       "        318199. , 318368.5, 318538. , 318707.5, 318877. ]),\n",
       " <BarContainer object of 10 artists>)"
      ]
     },
     "execution_count": 61,
     "metadata": {},
     "output_type": "execute_result"
    },
    {
     "data": {
      "image/png": "[encoded data removed]",
      "text/plain": [
       "<Figure size 640x480 with 1 Axes>"
      ]
     },
     "metadata": {},
     "output_type": "display_data"
    }
   ],
   "source": [
    "import matplotlib.pyplot as plt\n",
    "plt.hist(ar.run)"
   ]
  },
  {
   "cell_type": "markdown",
   "metadata": {},
   "source": [
    "## checking input nano data"
   ]
  },
  {
   "cell_type": "code",
   "execution_count": 80,
   "metadata": {},
   "outputs": [],
   "source": [
    "ar = uproot.concatenate([f\"root://eos.grif.fr///eos/grif/cms/llr/store/user/tcuisset/boostedTaus/2018_data/EGamma_Run2018B/nano_{i}.root\" +\":Events\" for i in range(1)],\n",
    "    filter_name=[\"HLT_Ele24_eta2p1_WPTight_Gsf_LooseChargedIsoPFTau30_eta2p1_CrossL1\", \"HLT_Ele24_eta2p1_WPTight_Gsf_LooseChargedIsoPFTauHPS30_eta2p1_CrossL1\", \"run\", \"TrigObj*\"],\n",
    "    how=\"zip\")\n"
   ]
  },
  {
   "cell_type": "code",
   "execution_count": 81,
   "metadata": {},
   "outputs": [
    {
     "data": {
      "text/html": [
       "<pre>[317510,\n",
       " 317510,\n",
       " 317510,\n",
       " 317510,\n",
       " 317510,\n",
       " 317510,\n",
       " 317510,\n",
       " 317510,\n",
       " 317510,\n",
       " 317510,\n",
       " ...,\n",
       " 318874,\n",
       " 318874,\n",
       " 318874,\n",
       " 318874,\n",
       " 318874,\n",
       " 318874,\n",
       " 318874,\n",
       " 318874,\n",
       " 318874]\n",
       "--------------------\n",
       "type: 25972 * uint32</pre>"
      ],
      "text/plain": [
       "<Array [317510, 317510, 317510, ..., 318874, 318874] type='25972 * uint32'>"
      ]
     },
     "execution_count": 81,
     "metadata": {},
     "output_type": "execute_result"
    }
   ],
   "source": [
    "arf = ar[ar.HLT_Ele24_eta2p1_WPTight_Gsf_LooseChargedIsoPFTauHPS30_eta2p1_CrossL1]\n",
    "ak.sort(arf.run)"
   ]
  },
  {
   "cell_type": "code",
   "execution_count": 84,
   "metadata": {},
   "outputs": [
    {
     "data": {
      "text/html": [
       "<pre>{l1charge: 0,\n",
       " id: 11,\n",
       " l1iso: 3,\n",
       " filterBits: 5211,\n",
       " pt: 32.6,\n",
       " eta: 0.174,\n",
       " phi: -1.08,\n",
       " l1pt: 33.5,\n",
       " l1pt_2: 0,\n",
       " l2pt: 0}\n",
       "----------------------\n",
       "type: {\n",
       "    l1charge: int16,\n",
       "    id: uint16,\n",
       "    l1iso: int32,\n",
       "    filterBits: int32,\n",
       "    pt: float32,\n",
       "    eta: float32,\n",
       "    phi: float32,\n",
       "    l1pt: float32,\n",
       "    l1pt_2: float32,\n",
       "    l2pt: float32\n",
       "}</pre>"
      ],
      "text/plain": [
       "<Record {l1charge: 0, id: 11, l1iso: 3, ...} type='{l1charge: int16, id: ui...'>"
      ]
     },
     "execution_count": 84,
     "metadata": {},
     "output_type": "execute_result"
    }
   ],
   "source": [
    "arf.TrigObj[0][2]"
   ]
  },
  {
   "cell_type": "code",
   "execution_count": 88,
   "metadata": {},
   "outputs": [],
   "source": [
    "statusFlags_doc = {11:{0 : \"CaloIdL_TrackIdL_IsoVL\", 1 : \"1e (WPTight)\", 2 : \"1e (WPLoose)\", 3 : \"OverlapFilter PFTau\", 4 : \"2e\", 5 : \"1e-1mu\", 6 : \"1e-1tau\", 7 : \"3e\", 8 : \"2e-1mu\", 9 : \"1e-2mu\", 10 : \"1e (32_L1DoubleEG_AND_L1SingleEGOr)\", 11 : \"1e (CaloIdVT_GsfTrkIdT)\", 12 : \"1e (PFJet)\", 13 : \"1e (Photon175_OR_Photon200)\"}}\n",
    "def readTrigObj(obj):\n",
    "    s = \"\"\n",
    "    doc = statusFlags_doc[obj.id]\n",
    "    for bitn in doc.keys():\n",
    "        is_bit_set = (obj.filterBits & (1 << bitn)) != 0\n",
    "        if is_bit_set:\n",
    "            s += str(bitn)+\"=\"+doc[bitn] + \", \"\n",
    "    return s"
   ]
  },
  {
   "cell_type": "code",
   "execution_count": 89,
   "metadata": {},
   "outputs": [
    {
     "data": {
      "text/plain": [
       "'0=CaloIdL_TrackIdL_IsoVL, 1=1e (WPTight), 3=OverlapFilter PFTau, 4=2e, 6=1e-1tau, 10=1e (32_L1DoubleEG_AND_L1SingleEGOr), 12=1e (PFJet), '"
      ]
     },
     "execution_count": 89,
     "metadata": {},
     "output_type": "execute_result"
    }
   ],
   "source": [
    "readTrigObj(arf.TrigObj[0][2])"
   ]
  },
  {
   "cell_type": "code",
   "execution_count": 116,
   "metadata": {},
   "outputs": [
    {
     "data": {
      "text/plain": [
       "0"
      ]
     },
     "execution_count": 116,
     "metadata": {},
     "output_type": "execute_result"
    }
   ],
   "source": [
    "ak.count_nonzero((ar.TrigObj.id == 11) & ((ar.TrigObj.filterBits & (1<<3)) == 0) & ((ar.TrigObj.filterBits & (1<<6)) != 0))"
   ]
  },
  {
   "cell_type": "code",
   "execution_count": 109,
   "metadata": {},
   "outputs": [
    {
     "data": {
      "text/plain": [
       "'0=CaloIdL_TrackIdL_IsoVL, 1=1e (WPTight), 3=OverlapFilter PFTau, 4=2e, 6=1e-1tau, 7=3e, 10=1e (32_L1DoubleEG_AND_L1SingleEGOr), 11=1e (CaloIdVT_GsfTrkIdT), 12=1e (PFJet), '"
      ]
     },
     "execution_count": 109,
     "metadata": {},
     "output_type": "execute_result"
    }
   ],
   "source": [
    "readTrigObj(arf2[0].TrigObj[0])"
   ]
  },
  {
   "cell_type": "code",
   "execution_count": 134,
   "metadata": {},
   "outputs": [],
   "source": [
    "f_dy = uproot.open(\"root://eos.grif.fr///eos/grif/cms/llr/store/user/tcuisset/boostedTaus/2018_MC/DYJetsToLL_M-50-amcatnloFXFX/nano_1.root\")[\"Events\"].arrays(filter_name=[\"HLT_Ele24_eta2p1_WPTight_Gsf_LooseChargedIsoPFTau30_eta2p1_CrossL1\", \"HLT_Ele24_eta2p1_WPTight_Gsf_LooseChargedIsoPFTauHPS30_eta2p1_CrossL1\", \"HLT_Ele32_WPTight_Gsf\", \"run\", \"TrigObj*\"],\n",
    "    how=\"zip\", entry_stop=1000000)"
   ]
  },
  {
   "cell_type": "code",
   "execution_count": 126,
   "metadata": {},
   "outputs": [
    {
     "data": {
      "text/plain": [
       "9409"
      ]
     },
     "execution_count": 126,
     "metadata": {},
     "output_type": "execute_result"
    }
   ],
   "source": [
    "ak.count_nonzero((f_dy.TrigObj.id == 11) & ((f_dy.TrigObj.filterBits & (1<<3)) != 0) & ((f_dy.TrigObj.filterBits & (1<<6)) != 0))"
   ]
  },
  {
   "cell_type": "code",
   "execution_count": 135,
   "metadata": {},
   "outputs": [
    {
     "data": {
      "text/html": [
       "<pre>[{run: 1, HLT_Ele32_WPTight_Gsf: False, ...},\n",
       " {run: 1, HLT_Ele32_WPTight_Gsf: False, ...},\n",
       " {run: 1, HLT_Ele32_WPTight_Gsf: False, ...},\n",
       " {run: 1, HLT_Ele32_WPTight_Gsf: False, ...},\n",
       " {run: 1, HLT_Ele32_WPTight_Gsf: False, ...},\n",
       " {run: 1, HLT_Ele32_WPTight_Gsf: False, ...},\n",
       " {run: 1, HLT_Ele32_WPTight_Gsf: False, ...},\n",
       " {run: 1, HLT_Ele32_WPTight_Gsf: False, ...},\n",
       " {run: 1, HLT_Ele32_WPTight_Gsf: False, ...},\n",
       " {run: 1, HLT_Ele32_WPTight_Gsf: False, ...},\n",
       " ...,\n",
       " {run: 1, HLT_Ele32_WPTight_Gsf: False, ...},\n",
       " {run: 1, HLT_Ele32_WPTight_Gsf: False, ...},\n",
       " {run: 1, HLT_Ele32_WPTight_Gsf: False, ...},\n",
       " {run: 1, HLT_Ele32_WPTight_Gsf: False, ...},\n",
       " {run: 1, HLT_Ele32_WPTight_Gsf: False, ...},\n",
       " {run: 1, HLT_Ele32_WPTight_Gsf: False, ...},\n",
       " {run: 1, HLT_Ele32_WPTight_Gsf: False, ...},\n",
       " {run: 1, HLT_Ele32_WPTight_Gsf: False, ...},\n",
       " {run: 1, HLT_Ele32_WPTight_Gsf: False, ...}]\n",
       "--------------------------------------------------------------------------------\n",
       "type: 5994 * {\n",
       "    run: uint32,\n",
       "    HLT_Ele32_WPTight_Gsf: bool,\n",
       "    HLT_Ele24_eta2p1_WPTight_Gsf_LooseChargedIsoPFTauHPS30_eta2p1_CrossL1: bool,\n",
       "    TrigObj: var * {\n",
       "        l1charge: int16,\n",
       "        id: uint16,\n",
       "        l1iso: int32,\n",
       "        filterBits: int32,\n",
       "        pt: float32,\n",
       "        eta: float32,\n",
       "        phi: float32,\n",
       "        l1pt: float32,\n",
       "        l1pt_2: float32,\n",
       "        l2pt: float32\n",
       "    }\n",
       "}</pre>"
      ],
      "text/plain": [
       "<Array [{run: 1, ...}, ..., {run: 1, ...}] type='5994 * {run: uint32, HLT_E...'>"
      ]
     },
     "execution_count": 135,
     "metadata": {},
     "output_type": "execute_result"
    }
   ],
   "source": [
    "arf = f_dy[f_dy.HLT_Ele24_eta2p1_WPTight_Gsf_LooseChargedIsoPFTauHPS30_eta2p1_CrossL1 & ~f_dy.HLT_Ele32_WPTight_Gsf]\n",
    "arf"
   ]
  },
  {
   "cell_type": "code",
   "execution_count": 139,
   "metadata": {},
   "outputs": [
    {
     "data": {
      "text/html": [
       "<pre>[{id: 11, pt: 29.3, eta: 0.629, l1pt: 28.5},\n",
       " {id: 11, pt: 26.2, eta: -1.39, l1pt: 23.5},\n",
       " {id: 15, pt: 36.2, eta: 0.64, l1pt: 32},\n",
       " {id: 15, pt: 40.5, eta: -1.39, l1pt: 27.5}]\n",
       "--------------------------------------------\n",
       "type: 4 * {\n",
       "    id: uint16,\n",
       "    pt: float32,\n",
       "    eta: float32,\n",
       "    l1pt: float32\n",
       "}</pre>"
      ],
      "text/plain": [
       "<Array [{id: 11, pt: 29.3, eta: ..., ...}, ...] type='4 * {id: uint16, pt: ...'>"
      ]
     },
     "execution_count": 139,
     "metadata": {},
     "output_type": "execute_result"
    }
   ],
   "source": [
    "arf[1].TrigObj[[\"id\", \"pt\", \"eta\", \"l1pt\"]]"
   ]
  },
  {
   "cell_type": "code",
   "execution_count": 143,
   "metadata": {},
   "outputs": [
    {
     "data": {
      "text/plain": [
       "'0=CaloIdL_TrackIdL_IsoVL, 1=1e (WPTight), 2=1e (WPLoose), 3=OverlapFilter PFTau, 4=2e, 6=1e-1tau, 12=1e (PFJet), '"
      ]
     },
     "execution_count": 143,
     "metadata": {},
     "output_type": "execute_result"
    }
   ],
   "source": [
    "readTrigObj(arf.TrigObj[1][0])"
   ]
  }
 ],
 "metadata": {
  "kernelspec": {
   "display_name": "modules-python-3.11",
   "language": "python",
   "name": "python3"
  },
  "language_info": {
   "codemirror_mode": {
    "name": "ipython",
    "version": 3
   },
   "file_extension": ".py",
   "mimetype": "text/x-python",
   "name": "python",
   "nbconvert_exporter": "python",
   "pygments_lexer": "ipython3",
   "version": "3.11.8"
  }
 },
 "nbformat": 4,
 "nbformat_minor": 2
}
