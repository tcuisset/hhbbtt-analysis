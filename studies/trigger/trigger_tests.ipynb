{
 "cells": [
  {
   "cell_type": "code",
   "execution_count": 1,
   "metadata": {},
   "outputs": [],
   "source": [
    "import uproot\n",
    "import awkward as ak\n",
    "import numpy as np\n",
    "import hist\n",
    "import matplotlib.pyplot as plt\n",
    "import mplhep as hep\n",
    "plt.style.use(hep.style.CMS)"
   ]
  },
  {
   "cell_type": "code",
   "execution_count": 6,
   "metadata": {},
   "outputs": [],
   "source": [
    "t = uproot.open(f\"root://eos.grif.fr///eos/grif/cms/llr/store/user/tcuisset/boostedTaus/2016_MC/GluGluToXToZZTo2B2Tau_M800/nano_0.root\")"
   ]
  },
  {
   "cell_type": "code",
   "execution_count": 12,
   "metadata": {},
   "outputs": [],
   "source": [
    "ar = t[\"Events\"].arrays(filter_name=[\"HLT_Ele*\", \"TrigObj_*\"], how=\"zip\")"
   ]
  },
  {
   "cell_type": "code",
   "execution_count": 13,
   "metadata": {},
   "outputs": [],
   "source": [
    "ar_f = ar[ar.HLT_Ele25_eta2p1_WPTight_Gsf]"
   ]
  },
  {
   "cell_type": "code",
   "execution_count": 16,
   "metadata": {},
   "outputs": [
    {
     "data": {
      "text/html": [
       "<pre>[[{pt: 73, eta: 0.656, id: 11, filterBits: 6495}, {...}, ..., {pt: 96.6, ...}],\n",
       " [{pt: 88.4, eta: -1, id: 11, filterBits: 6223}, ..., {pt: 111, eta: ..., ...}],\n",
       " [{pt: 79.8, eta: 1.47, id: 11, filterBits: 6223}, {...}, ..., {pt: 31.4, ...}],\n",
       " [{pt: 149, eta: 0.681, id: 22, filterBits: 4126}, {...}, ..., {pt: 45.9, ...}],\n",
       " [{pt: 196, eta: 1.46, id: 11, filterBits: 14359}, {...}, ..., {pt: 225, ...}],\n",
       " [{pt: 97.3, eta: 0.283, id: 11, filterBits: 6527}, ..., {pt: 64.8, ...}],\n",
       " [{pt: 107, eta: -0.925, id: 11, filterBits: 6783}, ..., {pt: 73.4, ...}],\n",
       " [{pt: 162, eta: 0.874, id: 11, filterBits: 6239}, {...}, ..., {pt: 27.4, ...}],\n",
       " [{pt: 89.5, eta: 0.401, id: 11, filterBits: 6223}, {...}, ..., {pt: 104, ...}],\n",
       " [{pt: 210, eta: 0.238, id: 11, filterBits: 14431}, {...}, ..., {pt: 116, ...}],\n",
       " ...,\n",
       " [{pt: 45.9, eta: -1.12, id: 11, filterBits: 6223}, ..., {pt: 64.1, ...}],\n",
       " [{pt: 145, eta: 0.9, id: 11, filterBits: 6239}, {...}, ..., {pt: 81.3, ...}],\n",
       " [{pt: 54.8, eta: 0.026, id: 11, filterBits: 6239}, ..., {pt: 74.1, ...}],\n",
       " [{pt: 208, eta: 0.197, id: 11, filterBits: 14431}, {...}, ..., {pt: 38, ...}],\n",
       " [{pt: 27.2, eta: -0.493, id: 11, filterBits: 4119}, ..., {pt: 39.9, ...}],\n",
       " [{pt: 48.3, eta: -0.852, id: 11, filterBits: 6495}, ..., {pt: 74.7, ...}],\n",
       " [{pt: 89.9, eta: 0.495, id: 11, filterBits: 4368}, {...}, ..., {pt: 77, ...}],\n",
       " [{pt: 215, eta: 0.456, id: 11, filterBits: 14975}, ..., {pt: 59.6, ...}],\n",
       " [{pt: 71.3, eta: 0.613, id: 11, filterBits: 6239}, ..., {pt: 96.5, ...}]]\n",
       "--------------------------------------------------------------------------------\n",
       "type: 10483 * var * {\n",
       "    pt: float32,\n",
       "    eta: float32,\n",
       "    id: uint16,\n",
       "    filterBits: int32\n",
       "}</pre>"
      ],
      "text/plain": [
       "<Array [[{pt: 73, eta: 0.656, ...}, ...], ...] type='10483 * var * {pt: flo...'>"
      ]
     },
     "execution_count": 16,
     "metadata": {},
     "output_type": "execute_result"
    }
   ],
   "source": [
    "ar_f.TrigObj[[\"pt\", \"eta\", \"id\", \"filterBits\"]]"
   ]
  },
  {
   "cell_type": "code",
   "execution_count": 18,
   "metadata": {},
   "outputs": [
    {
     "name": "stdout",
     "output_type": "stream",
     "text": [
      "1\n",
      "2\n",
      "3\n",
      "4\n",
      "6\n",
      "8\n",
      "11\n",
      "12\n"
     ]
    }
   ],
   "source": [
    "x= 6495\n",
    "for i in range(1, 13+1):\n",
    "    if (x& (2**i))>0: print(i)"
   ]
  },
  {
   "cell_type": "code",
   "execution_count": 19,
   "metadata": {},
   "outputs": [
    {
     "data": {
      "text/plain": [
       "2"
      ]
     },
     "execution_count": 19,
     "metadata": {},
     "output_type": "execute_result"
    }
   ],
   "source": [
    "6495&2"
   ]
  },
  {
   "cell_type": "code",
   "execution_count": 22,
   "metadata": {},
   "outputs": [
    {
     "data": {
      "text/html": [
       "<pre>[[{pt: 73, eta: 0.656}],\n",
       " [{pt: 88.4, eta: -1}],\n",
       " [{pt: 79.8, eta: 1.47}],\n",
       " [{pt: 33, eta: 0.784}],\n",
       " [{pt: 196, eta: 1.46}],\n",
       " [{pt: 97.3, eta: 0.283}],\n",
       " [{pt: 107, eta: -0.925}],\n",
       " [{pt: 162, eta: 0.874}],\n",
       " [{pt: 89.5, eta: 0.401}],\n",
       " [{pt: 210, eta: 0.238}, {pt: 64.9, eta: 0.677}],\n",
       " ...,\n",
       " [{pt: 45.9, eta: -1.12}],\n",
       " [{pt: 145, eta: 0.9}],\n",
       " [{pt: 54.8, eta: 0.026}],\n",
       " [{pt: 208, eta: 0.197}],\n",
       " [{pt: 27.2, eta: -0.493}],\n",
       " [{pt: 48.3, eta: -0.852}],\n",
       " [{pt: 52.3, eta: 0.752}],\n",
       " [{pt: 215, eta: 0.456}],\n",
       " [{pt: 71.3, eta: 0.613}]]\n",
       "-------------------------------------------------\n",
       "type: 10483 * var * {\n",
       "    pt: float32,\n",
       "    eta: float32\n",
       "}</pre>"
      ],
      "text/plain": [
       "<Array [[{pt: 73, eta: 0.656}], ..., [{...}]] type='10483 * var * {pt: floa...'>"
      ]
     },
     "execution_count": 22,
     "metadata": {},
     "output_type": "execute_result"
    }
   ],
   "source": [
    "ar_f.TrigObj[(ar_f.TrigObj.id == 11) & ((ar_f.TrigObj.filterBits & 2) > 0)][[\"pt\", \"eta\"]]"
   ]
  },
  {
   "cell_type": "code",
   "execution_count": 4,
   "metadata": {},
   "outputs": [
    {
     "ename": "KeyboardInterrupt",
     "evalue": "",
     "output_type": "error",
     "traceback": [
      "\u001b[0;31m---------------------------------------------------------------------------\u001b[0m",
      "\u001b[0;31mKeyboardInterrupt\u001b[0m                         Traceback (most recent call last)",
      "Cell \u001b[0;32mIn[4], line 5\u001b[0m\n\u001b[1;32m      2\u001b[0m     \u001b[38;5;28;01mreturn\u001b[39;00m uproot\u001b[38;5;241m.\u001b[39mopen(\u001b[38;5;124mf\u001b[39m\u001b[38;5;124m\"\u001b[39m\u001b[38;5;132;01m{\u001b[39;00mfolder\u001b[38;5;132;01m}\u001b[39;00m\u001b[38;5;124m/nanoHTT_\u001b[39m\u001b[38;5;132;01m{\u001b[39;00midx\u001b[38;5;132;01m}\u001b[39;00m\u001b[38;5;124m.root:Events\u001b[39m\u001b[38;5;124m\"\u001b[39m)\n\u001b[1;32m      3\u001b[0m     \u001b[38;5;66;03m#    except OSError:\u001b[39;00m\n\u001b[1;32m      4\u001b[0m     \u001b[38;5;66;03m#        return uproot.open(f\"{folder}/nanoHTT_1_0.root:Events\")\u001b[39;00m\n\u001b[0;32m----> 5\u001b[0m ar_raw \u001b[38;5;241m=\u001b[39m \u001b[43m[\u001b[49m\u001b[43mopen_file\u001b[49m\u001b[43m(\u001b[49m\u001b[38;5;124;43mf\u001b[39;49m\u001b[38;5;124;43m\"\u001b[39;49m\u001b[38;5;124;43mroot://eoscms.cern.ch///eos/cms/store/group/phys_higgs/HLepRare/HTT_skim_v1/Run2_2018/TTTo2L2Nu\u001b[39;49m\u001b[38;5;124;43m\"\u001b[39;49m\u001b[43m,\u001b[49m\u001b[43m \u001b[49m\u001b[43midx\u001b[49m\u001b[43m)\u001b[49m\u001b[38;5;241;43m.\u001b[39;49m\u001b[43marrays\u001b[49m\u001b[43m(\u001b[49m\u001b[43mfilter_name\u001b[49m\u001b[38;5;241;43m=\u001b[39;49m\u001b[43m[\u001b[49m\u001b[38;5;124;43m\"\u001b[39;49m\u001b[38;5;124;43mHLT_*\u001b[39;49m\u001b[38;5;124;43m\"\u001b[39;49m\u001b[43m]\u001b[49m\u001b[43m,\u001b[49m\u001b[43m \u001b[49m\u001b[43mhow\u001b[49m\u001b[38;5;241;43m=\u001b[39;49m\u001b[38;5;124;43m\"\u001b[39;49m\u001b[38;5;124;43mak\u001b[39;49m\u001b[38;5;124;43m\"\u001b[39;49m\u001b[43m)\u001b[49m\n\u001b[1;32m      6\u001b[0m \u001b[43m       \u001b[49m\u001b[38;5;28;43;01mfor\u001b[39;49;00m\u001b[43m \u001b[49m\u001b[43midx\u001b[49m\u001b[43m \u001b[49m\u001b[38;5;129;43;01min\u001b[39;49;00m\u001b[43m \u001b[49m\u001b[38;5;28;43mrange\u001b[39;49m\u001b[43m(\u001b[49m\u001b[38;5;241;43m1\u001b[39;49m\u001b[43m)\u001b[49m\u001b[43m]\u001b[49m\n",
      "Cell \u001b[0;32mIn[4], line 5\u001b[0m, in \u001b[0;36m<listcomp>\u001b[0;34m(.0)\u001b[0m\n\u001b[1;32m      2\u001b[0m     \u001b[38;5;28;01mreturn\u001b[39;00m uproot\u001b[38;5;241m.\u001b[39mopen(\u001b[38;5;124mf\u001b[39m\u001b[38;5;124m\"\u001b[39m\u001b[38;5;132;01m{\u001b[39;00mfolder\u001b[38;5;132;01m}\u001b[39;00m\u001b[38;5;124m/nanoHTT_\u001b[39m\u001b[38;5;132;01m{\u001b[39;00midx\u001b[38;5;132;01m}\u001b[39;00m\u001b[38;5;124m.root:Events\u001b[39m\u001b[38;5;124m\"\u001b[39m)\n\u001b[1;32m      3\u001b[0m     \u001b[38;5;66;03m#    except OSError:\u001b[39;00m\n\u001b[1;32m      4\u001b[0m     \u001b[38;5;66;03m#        return uproot.open(f\"{folder}/nanoHTT_1_0.root:Events\")\u001b[39;00m\n\u001b[0;32m----> 5\u001b[0m ar_raw \u001b[38;5;241m=\u001b[39m [\u001b[43mopen_file\u001b[49m\u001b[43m(\u001b[49m\u001b[38;5;124;43mf\u001b[39;49m\u001b[38;5;124;43m\"\u001b[39;49m\u001b[38;5;124;43mroot://eoscms.cern.ch///eos/cms/store/group/phys_higgs/HLepRare/HTT_skim_v1/Run2_2018/TTTo2L2Nu\u001b[39;49m\u001b[38;5;124;43m\"\u001b[39;49m\u001b[43m,\u001b[49m\u001b[43m \u001b[49m\u001b[43midx\u001b[49m\u001b[43m)\u001b[49m\u001b[38;5;241;43m.\u001b[39;49m\u001b[43marrays\u001b[49m\u001b[43m(\u001b[49m\u001b[43mfilter_name\u001b[49m\u001b[38;5;241;43m=\u001b[39;49m\u001b[43m[\u001b[49m\u001b[38;5;124;43m\"\u001b[39;49m\u001b[38;5;124;43mHLT_*\u001b[39;49m\u001b[38;5;124;43m\"\u001b[39;49m\u001b[43m]\u001b[49m\u001b[43m,\u001b[49m\u001b[43m \u001b[49m\u001b[43mhow\u001b[49m\u001b[38;5;241;43m=\u001b[39;49m\u001b[38;5;124;43m\"\u001b[39;49m\u001b[38;5;124;43mak\u001b[39;49m\u001b[38;5;124;43m\"\u001b[39;49m\u001b[43m)\u001b[49m\n\u001b[1;32m      6\u001b[0m        \u001b[38;5;28;01mfor\u001b[39;00m idx \u001b[38;5;129;01min\u001b[39;00m \u001b[38;5;28mrange\u001b[39m(\u001b[38;5;241m1\u001b[39m)]\n",
      "File \u001b[0;32m/opt/exp_soft/llr/python/3.11.8/el7/lib/python3.11/site-packages/uproot/behaviors/TBranch.py:833\u001b[0m, in \u001b[0;36mHasBranches.arrays\u001b[0;34m(self, expressions, cut, filter_name, filter_typename, filter_branch, aliases, language, entry_start, entry_stop, decompression_executor, interpretation_executor, array_cache, library, ak_add_doc, how)\u001b[0m\n\u001b[1;32m    830\u001b[0m                 ranges_or_baskets\u001b[38;5;241m.\u001b[39mappend((branch, basket_num, range_or_basket))\n\u001b[1;32m    832\u001b[0m interp_options \u001b[38;5;241m=\u001b[39m {\u001b[38;5;124m\"\u001b[39m\u001b[38;5;124mak_add_doc\u001b[39m\u001b[38;5;124m\"\u001b[39m: ak_add_doc}\n\u001b[0;32m--> 833\u001b[0m \u001b[43m_ranges_or_baskets_to_arrays\u001b[49m\u001b[43m(\u001b[49m\n\u001b[1;32m    834\u001b[0m \u001b[43m    \u001b[49m\u001b[38;5;28;43mself\u001b[39;49m\u001b[43m,\u001b[49m\n\u001b[1;32m    835\u001b[0m \u001b[43m    \u001b[49m\u001b[43mranges_or_baskets\u001b[49m\u001b[43m,\u001b[49m\n\u001b[1;32m    836\u001b[0m \u001b[43m    \u001b[49m\u001b[43mbranchid_interpretation\u001b[49m\u001b[43m,\u001b[49m\n\u001b[1;32m    837\u001b[0m \u001b[43m    \u001b[49m\u001b[43mentry_start\u001b[49m\u001b[43m,\u001b[49m\n\u001b[1;32m    838\u001b[0m \u001b[43m    \u001b[49m\u001b[43mentry_stop\u001b[49m\u001b[43m,\u001b[49m\n\u001b[1;32m    839\u001b[0m \u001b[43m    \u001b[49m\u001b[43mdecompression_executor\u001b[49m\u001b[43m,\u001b[49m\n\u001b[1;32m    840\u001b[0m \u001b[43m    \u001b[49m\u001b[43minterpretation_executor\u001b[49m\u001b[43m,\u001b[49m\n\u001b[1;32m    841\u001b[0m \u001b[43m    \u001b[49m\u001b[43mlibrary\u001b[49m\u001b[43m,\u001b[49m\n\u001b[1;32m    842\u001b[0m \u001b[43m    \u001b[49m\u001b[43marrays\u001b[49m\u001b[43m,\u001b[49m\n\u001b[1;32m    843\u001b[0m \u001b[43m    \u001b[49m\u001b[38;5;28;43;01mFalse\u001b[39;49;00m\u001b[43m,\u001b[49m\n\u001b[1;32m    844\u001b[0m \u001b[43m    \u001b[49m\u001b[43minterp_options\u001b[49m\u001b[43m,\u001b[49m\n\u001b[1;32m    845\u001b[0m \u001b[43m\u001b[49m\u001b[43m)\u001b[49m\n\u001b[1;32m    847\u001b[0m \u001b[38;5;66;03m# no longer needed; save memory\u001b[39;00m\n\u001b[1;32m    848\u001b[0m \u001b[38;5;28;01mdel\u001b[39;00m ranges_or_baskets\n",
      "File \u001b[0;32m/opt/exp_soft/llr/python/3.11.8/el7/lib/python3.11/site-packages/uproot/behaviors/TBranch.py:3130\u001b[0m, in \u001b[0;36m_ranges_or_baskets_to_arrays\u001b[0;34m(hasbranches, ranges_or_baskets, branchid_interpretation, entry_start, entry_stop, decompression_executor, interpretation_executor, library, arrays, update_ranges_or_baskets, interp_options)\u001b[0m\n\u001b[1;32m   3127\u001b[0m         notifications\u001b[38;5;241m.\u001b[39mput(\u001b[38;5;28;01mNone\u001b[39;00m)\n\u001b[1;32m   3129\u001b[0m \u001b[38;5;28;01mwhile\u001b[39;00m \u001b[38;5;28mlen\u001b[39m(arrays) \u001b[38;5;241m<\u001b[39m \u001b[38;5;28mlen\u001b[39m(branchid_interpretation):\n\u001b[0;32m-> 3130\u001b[0m     obj \u001b[38;5;241m=\u001b[39m \u001b[43mnotifications\u001b[49m\u001b[38;5;241;43m.\u001b[39;49m\u001b[43mget\u001b[49m\u001b[43m(\u001b[49m\u001b[43m)\u001b[49m\n\u001b[1;32m   3132\u001b[0m     \u001b[38;5;28;01mif\u001b[39;00m \u001b[38;5;28misinstance\u001b[39m(obj, uproot\u001b[38;5;241m.\u001b[39msource\u001b[38;5;241m.\u001b[39mchunk\u001b[38;5;241m.\u001b[39mChunk):\n\u001b[1;32m   3133\u001b[0m         args \u001b[38;5;241m=\u001b[39m range_args[(obj\u001b[38;5;241m.\u001b[39mstart, obj\u001b[38;5;241m.\u001b[39mstop)]\n",
      "File \u001b[0;32m/opt/exp_soft/llr/python/3.11.6/el7/lib/python3.11/queue.py:171\u001b[0m, in \u001b[0;36mQueue.get\u001b[0;34m(self, block, timeout)\u001b[0m\n\u001b[1;32m    169\u001b[0m \u001b[38;5;28;01melif\u001b[39;00m timeout \u001b[38;5;129;01mis\u001b[39;00m \u001b[38;5;28;01mNone\u001b[39;00m:\n\u001b[1;32m    170\u001b[0m     \u001b[38;5;28;01mwhile\u001b[39;00m \u001b[38;5;129;01mnot\u001b[39;00m \u001b[38;5;28mself\u001b[39m\u001b[38;5;241m.\u001b[39m_qsize():\n\u001b[0;32m--> 171\u001b[0m         \u001b[38;5;28;43mself\u001b[39;49m\u001b[38;5;241;43m.\u001b[39;49m\u001b[43mnot_empty\u001b[49m\u001b[38;5;241;43m.\u001b[39;49m\u001b[43mwait\u001b[49m\u001b[43m(\u001b[49m\u001b[43m)\u001b[49m\n\u001b[1;32m    172\u001b[0m \u001b[38;5;28;01melif\u001b[39;00m timeout \u001b[38;5;241m<\u001b[39m \u001b[38;5;241m0\u001b[39m:\n\u001b[1;32m    173\u001b[0m     \u001b[38;5;28;01mraise\u001b[39;00m \u001b[38;5;167;01mValueError\u001b[39;00m(\u001b[38;5;124m\"\u001b[39m\u001b[38;5;124m'\u001b[39m\u001b[38;5;124mtimeout\u001b[39m\u001b[38;5;124m'\u001b[39m\u001b[38;5;124m must be a non-negative number\u001b[39m\u001b[38;5;124m\"\u001b[39m)\n",
      "File \u001b[0;32m/opt/exp_soft/llr/python/3.11.6/el7/lib/python3.11/threading.py:327\u001b[0m, in \u001b[0;36mCondition.wait\u001b[0;34m(self, timeout)\u001b[0m\n\u001b[1;32m    325\u001b[0m \u001b[38;5;28;01mtry\u001b[39;00m:    \u001b[38;5;66;03m# restore state no matter what (e.g., KeyboardInterrupt)\u001b[39;00m\n\u001b[1;32m    326\u001b[0m     \u001b[38;5;28;01mif\u001b[39;00m timeout \u001b[38;5;129;01mis\u001b[39;00m \u001b[38;5;28;01mNone\u001b[39;00m:\n\u001b[0;32m--> 327\u001b[0m         \u001b[43mwaiter\u001b[49m\u001b[38;5;241;43m.\u001b[39;49m\u001b[43macquire\u001b[49m\u001b[43m(\u001b[49m\u001b[43m)\u001b[49m\n\u001b[1;32m    328\u001b[0m         gotit \u001b[38;5;241m=\u001b[39m \u001b[38;5;28;01mTrue\u001b[39;00m\n\u001b[1;32m    329\u001b[0m     \u001b[38;5;28;01melse\u001b[39;00m:\n",
      "\u001b[0;31mKeyboardInterrupt\u001b[0m: "
     ]
    }
   ],
   "source": [
    "def open_file(folder:str, idx):\n",
    "    return uproot.open(f\"{folder}/nanoHTT_{idx}.root:Events\")\n",
    "    #    except OSError:\n",
    "    #        return uproot.open(f\"{folder}/nanoHTT_1_0.root:Events\")\n",
    "ar_raw = [open_file(f\"root://eoscms.cern.ch///eos/cms/store/group/phys_higgs/HLepRare/HTT_skim_v1/Run2_2018/TTTo2L2Nu\", idx).arrays(filter_name=[\"HLT_*\"], how=\"ak\")\n",
    "       for idx in range(1)]"
   ]
  },
  {
   "cell_type": "code",
   "execution_count": 2,
   "metadata": {},
   "outputs": [],
   "source": [
    "t = uproot.open(\"root://xrootd-cms.infn.it///store/mc/RunIISummer20UL18NanoAODv9/ZprimeToZH_ZToBB_HToTauTau_M-2000_TuneCP5_13TeV-madgraph-pythia8/NANOAODSIM/106X_upgrade2018_realistic_v16_L1v1-v2/2830000/148D44D0-19E2-D147-85AD-39F132BB86D3.root:Events\")"
   ]
  },
  {
   "cell_type": "code",
   "execution_count": 3,
   "metadata": {},
   "outputs": [],
   "source": [
    "ar = t.arrays(filter_name=[\"HLT_*\", \"TrigObj*\"])"
   ]
  },
  {
   "cell_type": "code",
   "execution_count": 6,
   "metadata": {},
   "outputs": [
    {
     "data": {
      "text/html": [
       "<pre>[[13, 1, 1, 3, 15],\n",
       " [13, 1, 1, 3, 15, 15],\n",
       " [11, 11, 1, 1, 1, 3],\n",
       " [11, 1, 1, 1, 1, 4, 3, 3, 1, 1, 1, 1, 1, 15],\n",
       " [11, 1, 1, 3],\n",
       " [11, 1, 1, 3],\n",
       " [13, 1, 1, 3, 15, 15, 15],\n",
       " [13, 1, 3, 15],\n",
       " [1, 1, 3, 15],\n",
       " [13, 1, 1, 3],\n",
       " ...,\n",
       " [1, 1, 3, 15],\n",
       " [11, 1, 1, 3, 15],\n",
       " [11, 1, 1, 3],\n",
       " [13, 13, 13, 1, 1, 1, 3],\n",
       " [13, 1, 1, 1, 3],\n",
       " [1, 1, 1, 1, 4, 3, 4, 3, 1, 1, 1, 1, 1, 3, 1, 1, 1, 1, 15],\n",
       " [11, 13, 13, 13, 1, 1, 1, 3, 15],\n",
       " [1, 1, 3, 15],\n",
       " [13, 1, 1, 1, 1, 1, 4, 3, 4, 3, 1, 1, 1, 1, 3, 1, 1, 1, 1]]\n",
       "------------------------------------------------------------\n",
       "type: 6824 * var * int32</pre>"
      ],
      "text/plain": [
       "<Array [[13, 1, 1, 3, 15], ..., [13, 1, ..., 1, 1]] type='6824 * var * int32'>"
      ]
     },
     "execution_count": 6,
     "metadata": {},
     "output_type": "execute_result"
    }
   ],
   "source": [
    "ar[ar.HLT_AK8PFJet400_TrimMass30].TrigObj_id"
   ]
  },
  {
   "cell_type": "code",
   "execution_count": 8,
   "metadata": {},
   "outputs": [
    {
     "data": {
      "text/html": [
       "<pre>[1,\n",
       " 3,\n",
       " 4,\n",
       " 11,\n",
       " 13,\n",
       " 15]\n",
       "---------------\n",
       "type: 6 * int32</pre>"
      ],
      "text/plain": [
       "<Array [1, 3, 4, 11, 13, 15] type='6 * int32'>"
      ]
     },
     "execution_count": 8,
     "metadata": {},
     "output_type": "execute_result"
    }
   ],
   "source": [
    "np.unique(ak.flatten(ar.TrigObj_id))"
   ]
  },
  {
   "cell_type": "code",
   "execution_count": 9,
   "metadata": {},
   "outputs": [],
   "source": [
    "t_v12 = uproot.open(\"root://eos.grif.fr///eos/grif/cms/llr/store/user/evernazz/HTT/Run2_2018/ZprimeToZH_ZToBB_HToTauTau_M-2000/nanoHTT_0_0.root:Events\").arrays(filter_name=[\"HLT_*\", \"TrigObj*\"])"
   ]
  },
  {
   "cell_type": "code",
   "execution_count": 13,
   "metadata": {},
   "outputs": [
    {
     "data": {
      "text/html": [
       "<pre>[{HLT_AK8PFJet330_TrimMass30_PFAK8BoostedDoubleB_np2: True, ...},\n",
       " {HLT_AK8PFJet330_TrimMass30_PFAK8BoostedDoubleB_np2: False, ...},\n",
       " {HLT_AK8PFJet330_TrimMass30_PFAK8BoostedDoubleB_np2: True, ...},\n",
       " {HLT_AK8PFJet330_TrimMass30_PFAK8BoostedDoubleB_np2: True, ...},\n",
       " {HLT_AK8PFJet330_TrimMass30_PFAK8BoostedDoubleB_np2: True, ...},\n",
       " {HLT_AK8PFJet330_TrimMass30_PFAK8BoostedDoubleB_np2: True, ...},\n",
       " {HLT_AK8PFJet330_TrimMass30_PFAK8BoostedDoubleB_np2: True, ...},\n",
       " {HLT_AK8PFJet330_TrimMass30_PFAK8BoostedDoubleB_np2: True, ...},\n",
       " {HLT_AK8PFJet330_TrimMass30_PFAK8BoostedDoubleB_np2: True, ...},\n",
       " {HLT_AK8PFJet330_TrimMass30_PFAK8BoostedDoubleB_np2: True, ...},\n",
       " ...,\n",
       " {HLT_AK8PFJet330_TrimMass30_PFAK8BoostedDoubleB_np2: False, ...},\n",
       " {HLT_AK8PFJet330_TrimMass30_PFAK8BoostedDoubleB_np2: True, ...},\n",
       " {HLT_AK8PFJet330_TrimMass30_PFAK8BoostedDoubleB_np2: True, ...},\n",
       " {HLT_AK8PFJet330_TrimMass30_PFAK8BoostedDoubleB_np2: True, ...},\n",
       " {HLT_AK8PFJet330_TrimMass30_PFAK8BoostedDoubleB_np2: True, ...},\n",
       " {HLT_AK8PFJet330_TrimMass30_PFAK8BoostedDoubleB_np2: False, ...},\n",
       " {HLT_AK8PFJet330_TrimMass30_PFAK8BoostedDoubleB_np2: True, ...},\n",
       " {HLT_AK8PFJet330_TrimMass30_PFAK8BoostedDoubleB_np2: True, ...},\n",
       " {HLT_AK8PFJet330_TrimMass30_PFAK8BoostedDoubleB_np2: False, ...}]\n",
       "-----------------------------------------------------------------------------------------\n",
       "type: 947 * {\n",
       "    HLT_AK8PFJet330_TrimMass30_PFAK8BoostedDoubleB_np2: bool,\n",
       "    HLT_AK8PFJet330_TrimMass30_PFAK8BoostedDoubleB_np4: bool,\n",
       "    HLT_AK8PFJet330_TrimMass30_PFAK8BoostedDoubleB_p02: bool,\n",
       "    HLT_DoubleMediumChargedIsoPFTauHPS35_Trk1_TightID_eta2p1_Reg: bool,\n",
       "    HLT_DoubleMediumChargedIsoPFTauHPS35_Trk1_eta2p1_Reg: bool,\n",
       "    HLT_DoubleMediumChargedIsoPFTauHPS40_Trk1_TightID_eta2p1_Reg: bool,\n",
       "    HLT_DoubleMediumChargedIsoPFTauHPS40_Trk1_eta2p1_Reg: bool,\n",
       "    HLT_DoubleTightChargedIsoPFTauHPS35_Trk1_TightID_eta2p1_Reg: bool,\n",
       "    HLT_DoubleTightChargedIsoPFTauHPS35_Trk1_eta2p1_Reg: bool,\n",
       "    HLT_DoubleTightChargedIsoPFTauHPS40_Trk1_TightID_eta2p1_Reg: bool,\n",
       "    HLT_DoubleTightChargedIsoPFTauHPS40_Trk1_eta2p1_Reg: bool,\n",
       "    HLT_Ele15_IsoVVVL_PFHT450: bool,\n",
       "    HLT_Ele15_IsoVVVL_PFHT450_CaloBTagDeepCSV_4p5: bool,\n",
       "    HLT_Ele15_IsoVVVL_PFHT450_PFMET50: bool,\n",
       "    HLT_Ele15_IsoVVVL_PFHT600: bool,\n",
       "    HLT_Ele15_WPLoose_Gsf: bool,\n",
       "    HLT_Ele17_WPLoose_Gsf: bool,\n",
       "    HLT_Ele20_WPLoose_Gsf: bool,\n",
       "    HLT_Ele20_WPTight_Gsf: bool,\n",
       "    HLT_Ele20_eta2p1_WPLoose_Gsf: bool,\n",
       "    HLT_Ele24_eta2p1_WPTight_Gsf_LooseChargedIsoPFTauHPS30_eta2p1_CrossL1: bool,\n",
       "    HLT_Ele24_eta2p1_WPTight_Gsf_LooseChargedIsoPFTauHPS30_eta2p1_TightID_CrossL1: bool,\n",
       "    HLT_Ele24_eta2p1_WPTight_Gsf_MediumChargedIsoPFTauHPS30_eta2p1_CrossL1: bool,\n",
       "    HLT_Ele24_eta2p1_WPTight_Gsf_MediumChargedIsoPFTauHPS30_eta2p1_TightID_CrossL1: bool,\n",
       "    HLT_Ele24_eta2p1_WPTight_Gsf_TightChargedIsoPFTauHPS30_eta2p1_CrossL1: bool,\n",
       "    HLT_Ele24_eta2p1_WPTight_Gsf_TightChargedIsoPFTauHPS30_eta2p1_TightID_CrossL1: bool,\n",
       "    HLT_Ele27_WPTight_Gsf: bool,\n",
       "    HLT_Ele28_HighEta_SC20_Mass55: bool,\n",
       "    HLT_Ele28_WPTight_Gsf: bool,\n",
       "    HLT_Ele28_eta2p1_WPTight_Gsf_HT150: bool,\n",
       "    HLT_Ele30_WPTight_Gsf: bool,\n",
       "    HLT_Ele32_WPTight_Gsf: bool,\n",
       "    HLT_Ele32_WPTight_Gsf_L1DoubleEG: bool,\n",
       "    HLT_Ele35_WPTight_Gsf: bool,\n",
       "    HLT_Ele35_WPTight_Gsf_L1EGMT: bool,\n",
       "    HLT_Ele38_WPTight_Gsf: bool,\n",
       "    HLT_Ele40_WPTight_Gsf: bool,\n",
       "    HLT_Ele50_IsoVVVL_PFHT450: bool,\n",
       "    HLT_IsoMu20: bool,\n",
       "    HLT_IsoMu20_eta2p1_LooseChargedIsoPFTauHPS27_eta2p1_CrossL1: bool,\n",
       "    HLT_IsoMu20_eta2p1_LooseChargedIsoPFTauHPS27_eta2p1_TightID_CrossL1: bool,\n",
       "    HLT_IsoMu20_eta2p1_MediumChargedIsoPFTauHPS27_eta2p1_CrossL1: bool,\n",
       "    HLT_IsoMu20_eta2p1_MediumChargedIsoPFTauHPS27_eta2p1_TightID_CrossL1: bool,\n",
       "    HLT_IsoMu20_eta2p1_TightChargedIsoPFTauHPS27_eta2p1_CrossL1: bool,\n",
       "    HLT_IsoMu20_eta2p1_TightChargedIsoPFTauHPS27_eta2p1_TightID_CrossL1: bool,\n",
       "    HLT_IsoMu24: bool,\n",
       "    HLT_IsoMu24_TwoProngs35: bool,\n",
       "    HLT_IsoMu24_eta2p1: bool,\n",
       "    HLT_IsoMu24_eta2p1_MediumChargedIsoPFTau50_Trk30_eta2p1_1pr: bool,\n",
       "    HLT_IsoMu24_eta2p1_MediumChargedIsoPFTauHPS35_Trk1_TightID_eta2p1_Reg_CrossL1: bool,\n",
       "    HLT_IsoMu24_eta2p1_MediumChargedIsoPFTauHPS35_Trk1_eta2p1_Reg_CrossL1: bool,\n",
       "    HLT_IsoMu24_eta2p1_TightChargedIsoPFTauHPS35_Trk1_TightID_eta2p1_Reg_CrossL1: bool,\n",
       "    HLT_IsoMu24_eta2p1_TightChargedIsoPFTauHPS35_Trk1_eta2p1_Reg_CrossL1: bool,\n",
       "    HLT_IsoMu27: bool,\n",
       "    HLT_IsoMu27_LooseChargedIsoPFTauHPS20_Trk1_eta2p1_SingleL1: bool,\n",
       "    HLT_IsoMu27_MET90: bool,\n",
       "    HLT_IsoMu27_MediumChargedIsoPFTauHPS20_Trk1_eta2p1_SingleL1: bool,\n",
       "    HLT_IsoMu27_TightChargedIsoPFTauHPS20_Trk1_eta2p1_SingleL1: bool,\n",
       "    HLT_IsoMu30: bool,\n",
       "    HLT_MediumChargedIsoPFTau180HighPtRelaxedIso_Trk50_eta2p1: bool,\n",
       "    HLT_MediumChargedIsoPFTau180HighPtRelaxedIso_Trk50_eta2p1_1pr: bool,\n",
       "    HLT_MediumChargedIsoPFTau200HighPtRelaxedIso_Trk50_eta2p1: bool,\n",
       "    HLT_MediumChargedIsoPFTau220HighPtRelaxedIso_Trk50_eta2p1: bool,\n",
       "    HLT_MediumChargedIsoPFTau50_Trk30_eta2p1_1pr: bool,\n",
       "    HLT_MediumChargedIsoPFTau50_Trk30_eta2p1_1pr_MET100: bool,\n",
       "    HLT_MediumChargedIsoPFTau50_Trk30_eta2p1_1pr_MET110: bool,\n",
       "    HLT_MediumChargedIsoPFTau50_Trk30_eta2p1_1pr_MET120: bool,\n",
       "    HLT_MediumChargedIsoPFTau50_Trk30_eta2p1_1pr_MET130: bool,\n",
       "    HLT_MediumChargedIsoPFTau50_Trk30_eta2p1_1pr_MET140: bool,\n",
       "    HLT_MediumChargedIsoPFTau50_Trk30_eta2p1_1pr_MET90: bool,\n",
       "    HLT_Mu10_TrkIsoVVL_DiPFJet40_DEta3p5_MJJ750_HTT350_PFMETNoMu60: bool,\n",
       "    HLT_Mu12: bool,\n",
       "    HLT_Mu12_DoublePFJets100_CaloBTagDeepCSV_p71: bool,\n",
       "    HLT_Mu12_DoublePFJets200_CaloBTagDeepCSV_p71: bool,\n",
       "    HLT_Mu12_DoublePFJets350_CaloBTagDeepCSV_p71: bool,\n",
       "    HLT_Mu12_DoublePFJets40MaxDeta1p6_DoubleCaloBTagDeepCSV_p71: bool,\n",
       "    HLT_Mu12_DoublePFJets40_CaloBTagDeepCSV_p71: bool,\n",
       "    HLT_Mu12_DoublePFJets54MaxDeta1p6_DoubleCaloBTagDeepCSV_p71: bool,\n",
       "    HLT_Mu12_DoublePFJets62MaxDeta1p6_DoubleCaloBTagDeepCSV_p71: bool,\n",
       "    HLT_Mu12_DoublePhoton20: bool,\n",
       "    HLT_Mu12_TrkIsoVVL_Ele23_CaloIdL_TrackIdL_IsoVL: bool,\n",
       "    HLT_Mu12_TrkIsoVVL_Ele23_CaloIdL_TrackIdL_IsoVL_DZ: bool,\n",
       "    HLT_Mu15: bool,\n",
       "    HLT_Mu15_IsoVVVL_PFHT450: bool,\n",
       "    HLT_Mu15_IsoVVVL_PFHT450_CaloBTagDeepCSV_4p5: bool,\n",
       "    HLT_Mu15_IsoVVVL_PFHT450_PFMET50: bool,\n",
       "    HLT_Mu15_IsoVVVL_PFHT600: bool,\n",
       "    HLT_Mu17: bool,\n",
       "    HLT_Mu17_Photon30_IsoCaloId: bool,\n",
       "    HLT_Mu17_TrkIsoVVL: bool,\n",
       "    HLT_Mu17_TrkIsoVVL_Mu8_TrkIsoVVL: bool,\n",
       "    HLT_Mu17_TrkIsoVVL_Mu8_TrkIsoVVL_DZ: bool,\n",
       "    HLT_Mu17_TrkIsoVVL_Mu8_TrkIsoVVL_DZ_Mass3p8: bool,\n",
       "    HLT_Mu17_TrkIsoVVL_Mu8_TrkIsoVVL_DZ_Mass8: bool,\n",
       "    HLT_Mu18_Mu9: bool,\n",
       "    HLT_Mu18_Mu9_DZ: bool,\n",
       "    HLT_Mu18_Mu9_SameSign: bool,\n",
       "    HLT_Mu18_Mu9_SameSign_DZ: bool,\n",
       "    HLT_Mu19: bool,\n",
       "    HLT_Mu19_TrkIsoVVL: bool,\n",
       "    HLT_Mu19_TrkIsoVVL_Mu9_TrkIsoVVL: bool,\n",
       "    HLT_Mu19_TrkIsoVVL_Mu9_TrkIsoVVL_DZ: bool,\n",
       "    HLT_Mu19_TrkIsoVVL_Mu9_TrkIsoVVL_DZ_Mass3p8: bool,\n",
       "    HLT_Mu19_TrkIsoVVL_Mu9_TrkIsoVVL_DZ_Mass8: bool,\n",
       "    HLT_Mu20: bool,\n",
       "    HLT_Mu20_Mu10: bool,\n",
       "    HLT_Mu20_Mu10_DZ: bool,\n",
       "    HLT_Mu20_Mu10_SameSign: bool,\n",
       "    HLT_Mu20_Mu10_SameSign_DZ: bool,\n",
       "    HLT_Mu20_TkMu0_Phi: bool,\n",
       "    HLT_Mu23_Mu12: bool,\n",
       "    HLT_Mu23_Mu12_DZ: bool,\n",
       "    HLT_Mu23_Mu12_SameSign: bool,\n",
       "    HLT_Mu23_Mu12_SameSign_DZ: bool,\n",
       "    HLT_Mu23_TrkIsoVVL_Ele12_CaloIdL_TrackIdL_IsoVL: bool,\n",
       "    HLT_Mu23_TrkIsoVVL_Ele12_CaloIdL_TrackIdL_IsoVL_DZ: bool,\n",
       "    HLT_Mu25_TkMu0_Onia: bool,\n",
       "    HLT_Mu25_TkMu0_Phi: bool,\n",
       "    HLT_Mu27: bool,\n",
       "    HLT_Mu27_Ele37_CaloIdL_MW: bool,\n",
       "    HLT_Mu30_TkMu0_Psi: bool,\n",
       "    HLT_Mu37_Ele27_CaloIdL_MW: bool,\n",
       "    HLT_Mu37_TkMu27: bool,\n",
       "    HLT_Mu50: bool,\n",
       "    HLT_Mu50_IsoVVVL_PFHT450: bool,\n",
       "    HLT_Mu55: bool,\n",
       "    HLT_OldMu100: bool,\n",
       "    HLT_PFHT1050: bool,\n",
       "    HLT_PFHT180: bool,\n",
       "    HLT_PFHT250: bool,\n",
       "    HLT_PFHT330PT30_QuadPFJet_75_60_45_40: bool,\n",
       "    HLT_PFHT330PT30_QuadPFJet_75_60_45_40_TriplePFBTagDeepCSV_4p5: bool,\n",
       "    HLT_PFHT350: bool,\n",
       "    HLT_PFHT350MinPFJet15: bool,\n",
       "    HLT_PFHT370: bool,\n",
       "    HLT_PFHT400_SixPFJet32: bool,\n",
       "    HLT_PFHT400_SixPFJet32_DoublePFBTagDeepCSV_2p94: bool,\n",
       "    HLT_PFHT430: bool,\n",
       "    HLT_PFHT450_SixPFJet36: bool,\n",
       "    HLT_PFHT450_SixPFJet36_PFBTagDeepCSV_1p59: bool,\n",
       "    HLT_PFHT500_PFMET100_PFMHT100_IDTight: bool,\n",
       "    HLT_PFHT500_PFMET110_PFMHT110_IDTight: bool,\n",
       "    HLT_PFHT510: bool,\n",
       "    HLT_PFHT590: bool,\n",
       "    HLT_PFHT680: bool,\n",
       "    HLT_PFHT700_PFMET85_PFMHT85_IDTight: bool,\n",
       "    HLT_PFHT700_PFMET95_PFMHT95_IDTight: bool,\n",
       "    HLT_PFHT780: bool,\n",
       "    HLT_PFHT800_PFMET75_PFMHT75_IDTight: bool,\n",
       "    HLT_PFHT800_PFMET85_PFMHT85_IDTight: bool,\n",
       "    HLT_PFHT890: bool,\n",
       "    HLT_PFMET100_PFMHT100_IDTight_CaloBTagDeepCSV_3p1: bool,\n",
       "    HLT_PFMET100_PFMHT100_IDTight_PFHT60: bool,\n",
       "    HLT_PFMET110_PFMHT110_IDTight: bool,\n",
       "    HLT_PFMET110_PFMHT110_IDTight_CaloBTagDeepCSV_3p1: bool,\n",
       "    HLT_PFMET120_PFMHT120_IDTight: bool,\n",
       "    HLT_PFMET120_PFMHT120_IDTight_CaloBTagDeepCSV_3p1: bool,\n",
       "    HLT_PFMET120_PFMHT120_IDTight_PFHT60: bool,\n",
       "    HLT_PFMET130_PFMHT130_IDTight: bool,\n",
       "    HLT_PFMET130_PFMHT130_IDTight_CaloBTagDeepCSV_3p1: bool,\n",
       "    HLT_PFMET140_PFMHT140_IDTight: bool,\n",
       "    HLT_PFMET140_PFMHT140_IDTight_CaloBTagDeepCSV_3p1: bool,\n",
       "    HLT_PFMET200_HBHECleaned: bool,\n",
       "    HLT_PFMET200_HBHE_BeamHaloCleaned: bool,\n",
       "    HLT_PFMET200_NotCleaned: bool,\n",
       "    HLT_PFMET250_HBHECleaned: bool,\n",
       "    HLT_PFMET300_HBHECleaned: bool,\n",
       "    HLT_PFMETNoMu100_PFMHTNoMu100_IDTight_PFHT60: bool,\n",
       "    HLT_PFMETNoMu110_PFMHTNoMu110_IDTight: bool,\n",
       "    HLT_PFMETNoMu120_PFMHTNoMu120_IDTight: bool,\n",
       "    HLT_PFMETNoMu120_PFMHTNoMu120_IDTight_PFHT60: bool,\n",
       "    HLT_PFMETNoMu130_PFMHTNoMu130_IDTight: bool,\n",
       "    HLT_PFMETNoMu140_PFMHTNoMu140_IDTight: bool,\n",
       "    HLT_PFMETTypeOne100_PFMHT100_IDTight_PFHT60: bool,\n",
       "    HLT_PFMETTypeOne110_PFMHT110_IDTight: bool,\n",
       "    HLT_PFMETTypeOne120_PFMHT120_IDTight: bool,\n",
       "    HLT_PFMETTypeOne120_PFMHT120_IDTight_PFHT60: bool,\n",
       "    HLT_PFMETTypeOne130_PFMHT130_IDTight: bool,\n",
       "    HLT_PFMETTypeOne140_PFMHT140_IDTight: bool,\n",
       "    HLT_PFMETTypeOne200_HBHE_BeamHaloCleaned: bool,\n",
       "    HLT_TkMu100: bool,\n",
       "    HLT_VBF_DoubleLooseChargedIsoPFTauHPS20_Trk1_eta2p1: bool,\n",
       "    HLT_VBF_DoubleMediumChargedIsoPFTauHPS20_Trk1_eta2p1: bool,\n",
       "    HLT_VBF_DoubleTightChargedIsoPFTauHPS20_Trk1_eta2p1: bool,\n",
       "    TrigObj_eta: var * float32,\n",
       "    TrigObj_filterBits: var * int32,\n",
       "    TrigObj_id: var * uint16,\n",
       "    TrigObj_l1charge: var * int16,\n",
       "    TrigObj_l1iso: var * int32,\n",
       "    TrigObj_l1pt: var * float32,\n",
       "    TrigObj_l1pt_2: var * float32,\n",
       "    TrigObj_l2pt: var * float32,\n",
       "    TrigObj_phi: var * float32,\n",
       "    TrigObj_pt: var * float32\n",
       "}</pre>"
      ],
      "text/plain": [
       "<Array [{...}, {...}, {...}, ..., {...}, {...}] type='947 * {HLT_AK8PFJet33...'>"
      ]
     },
     "execution_count": 13,
     "metadata": {},
     "output_type": "execute_result"
    }
   ],
   "source": [
    "t_v12"
   ]
  },
  {
   "cell_type": "code",
   "execution_count": 12,
   "metadata": {},
   "outputs": [
    {
     "ename": "AttributeError",
     "evalue": "no field named 'HLT_AK8PFJet400_TrimMass30'",
     "output_type": "error",
     "traceback": [
      "\u001b[0;31m---------------------------------------------------------------------------\u001b[0m",
      "\u001b[0;31mAttributeError\u001b[0m                            Traceback (most recent call last)",
      "Cell \u001b[0;32mIn[12], line 1\u001b[0m\n\u001b[0;32m----> 1\u001b[0m t_v12[\u001b[43mt_v12\u001b[49m\u001b[38;5;241;43m.\u001b[39;49m\u001b[43mHLT_AK8PFJet400_TrimMass30\u001b[49m]\u001b[38;5;241m.\u001b[39mTrigObj_id\n",
      "File \u001b[0;32m/opt/exp_soft/llr/python/3.11.8/el7/lib/python3.11/site-packages/awkward/highlevel.py:1236\u001b[0m, in \u001b[0;36mArray.__getattr__\u001b[0;34m(self, where)\u001b[0m\n\u001b[1;32m   1231\u001b[0m         \u001b[38;5;28;01mraise\u001b[39;00m \u001b[38;5;167;01mAttributeError\u001b[39;00m(\n\u001b[1;32m   1232\u001b[0m             \u001b[38;5;124mf\u001b[39m\u001b[38;5;124m\"\u001b[39m\u001b[38;5;124mwhile trying to get field \u001b[39m\u001b[38;5;132;01m{\u001b[39;00mwhere\u001b[38;5;132;01m!r}\u001b[39;00m\u001b[38;5;124m, an exception \u001b[39m\u001b[38;5;124m\"\u001b[39m\n\u001b[1;32m   1233\u001b[0m             \u001b[38;5;124mf\u001b[39m\u001b[38;5;124m\"\u001b[39m\u001b[38;5;124moccurred:\u001b[39m\u001b[38;5;130;01m\\n\u001b[39;00m\u001b[38;5;132;01m{\u001b[39;00m\u001b[38;5;28mtype\u001b[39m(err)\u001b[38;5;132;01m}\u001b[39;00m\u001b[38;5;124m: \u001b[39m\u001b[38;5;132;01m{\u001b[39;00merr\u001b[38;5;132;01m!s}\u001b[39;00m\u001b[38;5;124m\"\u001b[39m\n\u001b[1;32m   1234\u001b[0m         ) \u001b[38;5;28;01mfrom\u001b[39;00m \u001b[38;5;21;01merr\u001b[39;00m\n\u001b[1;32m   1235\u001b[0m \u001b[38;5;28;01melse\u001b[39;00m:\n\u001b[0;32m-> 1236\u001b[0m     \u001b[38;5;28;01mraise\u001b[39;00m \u001b[38;5;167;01mAttributeError\u001b[39;00m(\u001b[38;5;124mf\u001b[39m\u001b[38;5;124m\"\u001b[39m\u001b[38;5;124mno field named \u001b[39m\u001b[38;5;132;01m{\u001b[39;00mwhere\u001b[38;5;132;01m!r}\u001b[39;00m\u001b[38;5;124m\"\u001b[39m)\n",
      "\u001b[0;31mAttributeError\u001b[0m: no field named 'HLT_AK8PFJet400_TrimMass30'"
     ]
    }
   ],
   "source": [
    "t_v12[t_v12.HLT_AK8PFJet400_TrimMass30].TrigObj_id"
   ]
  },
  {
   "cell_type": "code",
   "execution_count": 10,
   "metadata": {},
   "outputs": [
    {
     "data": {
      "text/html": [
       "<pre>[1,\n",
       " 3,\n",
       " 4,\n",
       " 6,\n",
       " 11,\n",
       " 13,\n",
       " 15,\n",
       " 22]\n",
       "----------------\n",
       "type: 8 * uint16</pre>"
      ],
      "text/plain": [
       "<Array [1, 3, 4, 6, 11, 13, 15, 22] type='8 * uint16'>"
      ]
     },
     "execution_count": 10,
     "metadata": {},
     "output_type": "execute_result"
    }
   ],
   "source": [
    "np.unique(ak.flatten(t_v12.TrigObj_id))"
   ]
  },
  {
   "cell_type": "code",
   "execution_count": null,
   "metadata": {},
   "outputs": [],
   "source": [
    "loose = ar.HLT_Ele24_eta2p1_WPTight_Gsf_LooseChargedIsoPFTauHPS30_eta2p1_CrossL1\n",
    "tight = ar.HLT_Ele24_eta2p1_WPTight_Gsf_LooseChargedIsoPFTauHPS30_eta2p1_TightID_CrossL1\n",
    "ak.count_nonzero(loose&(~tight)), ak.count_nonzero(tight&(~loose))"
   ]
  },
  {
   "cell_type": "code",
   "execution_count": null,
   "metadata": {},
   "outputs": [],
   "source": []
  }
 ],
 "metadata": {
  "kernelspec": {
   "display_name": "modules-python-3.11",
   "language": "python",
   "name": "python3"
  },
  "language_info": {
   "codemirror_mode": {
    "name": "ipython",
    "version": 3
   },
   "file_extension": ".py",
   "mimetype": "text/x-python",
   "name": "python",
   "nbconvert_exporter": "python",
   "pygments_lexer": "ipython3",
   "version": "3.11.8"
  }
 },
 "nbformat": 4,
 "nbformat_minor": 2
}
