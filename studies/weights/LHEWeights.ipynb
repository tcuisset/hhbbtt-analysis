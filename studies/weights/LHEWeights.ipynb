{
 "cells": [
  {
   "cell_type": "code",
   "execution_count": 1,
   "metadata": {},
   "outputs": [],
   "source": [
    "import uproot\n",
    "import awkward as ak\n",
    "import numpy as np"
   ]
  },
  {
   "cell_type": "code",
   "execution_count": 2,
   "metadata": {},
   "outputs": [],
   "source": [
    "#ar = uproot.open(\"/grid_mnt/data__data.polcms/cms/cuisset/cmt/MergeCategorization/bul_2018_ZZ_v12/GluGluToXToZZTo2B2Tau_M200/cat_ZZ_EC90_resolved_2b_HPSTau/prod_250217/data_0.root\")[\"Events\"].arrays(filter_name=[\"LHEPdf*\", \"LHEReweightingWeight\", \"LHEScaleWeight\", \"LHEWeight\"])\n",
    "t = uproot.open(\"/grid_mnt/data__data.polcms/cms/cuisset/cmt/MergeCategorization/bul_2018_ZZ_v12/st_tw_antitop/cat_ZZ_EC90_resolved_2b_HPSTau/prod_250217/data_0.root\")[\"Events\"]\n",
    "ar = t.arrays(filter_name=[\"LHEPdf*\", \"LHEReweightingWeight\", \"LHEScaleWeight\", \"LHEWeight\"])"
   ]
  },
  {
   "cell_type": "code",
   "execution_count": 3,
   "metadata": {},
   "outputs": [
    {
     "name": "stdout",
     "output_type": "stream",
     "text": [
      "LHE scale variation weights (w_var / w_nominal); [0] is renscfact=0.5d0 facscfact=0.5d0 ; [1] is renscfact=0.5d0 facscfact=1d0 ; [2] is renscfact=0.5d0 facscfact=2d0 ; [3] is renscfact=1d0 facscfact=0.5d0 ; [4] is renscfact=1d0 facscfact=1d0 ; [5] is renscfact=1d0 facscfact=2d0 ; [6] is renscfact=2d0 facscfact=0.5d0 ; [7] is renscfact=2d0 facscfact=1d0 ; [8] is renscfact=2d0 facscfact=2d0 \n",
      "LHE pdf variation weights (w_var / w_nominal) for LHA IDs 325300 - 325402\n"
     ]
    }
   ],
   "source": [
    "print(t[\"LHEScaleWeight\"].title)\n",
    "print(t[\"LHEPdfWeight\"].title)"
   ]
  },
  {
   "cell_type": "code",
   "execution_count": 54,
   "metadata": {},
   "outputs": [
    {
     "data": {
      "text/html": [
       "<pre>[{LHEPdfWeight: [1.02, 1.01, ..., 1.01, 1.05], LHEReweightingWeight: [], ...},\n",
       " {LHEPdfWeight: [0.984, 0.983, ..., 0.984], LHEReweightingWeight: [], ...},\n",
       " {LHEPdfWeight: [0.891, 0.891, ..., 0.899], LHEReweightingWeight: [], ...},\n",
       " {LHEPdfWeight: [1, 1, 1, ..., 0.985, 1.02], LHEReweightingWeight: [], ...},\n",
       " {LHEPdfWeight: [0.915, 0.914, ..., 0.919], LHEReweightingWeight: [], ...},\n",
       " {LHEPdfWeight: [0.971, 0.971, ..., 0.983], LHEReweightingWeight: [], ...},\n",
       " {LHEPdfWeight: [1.03, 1.03, ..., 1.02, 1.04], LHEReweightingWeight: [], ...},\n",
       " {LHEPdfWeight: [0.99, 0.987, ..., 0.992], LHEReweightingWeight: [], ...},\n",
       " {LHEPdfWeight: [0.905, 0.905, ..., 0.907], LHEReweightingWeight: [], ...},\n",
       " {LHEPdfWeight: [0.942, 0.942, ..., 0.967], LHEReweightingWeight: [], ...},\n",
       " ...,\n",
       " {LHEPdfWeight: [0.929, 0.926, ..., 0.978], LHEReweightingWeight: [], ...},\n",
       " {LHEPdfWeight: [0.903, 0.902, ..., 0.916], LHEReweightingWeight: [], ...},\n",
       " {LHEPdfWeight: [0.954, 0.954, ..., 0.969], LHEReweightingWeight: [], ...},\n",
       " {LHEPdfWeight: [0.988, 0.987, ..., 1.05], LHEReweightingWeight: [], ...},\n",
       " {LHEPdfWeight: [0.956, 0.95, ..., 1.06], LHEReweightingWeight: [], ...},\n",
       " {LHEPdfWeight: [1.03, 1.03, ..., 1.01, 1.04], LHEReweightingWeight: [], ...},\n",
       " {LHEPdfWeight: [0.972, 0.971, ..., 0.987], LHEReweightingWeight: [], ...},\n",
       " {LHEPdfWeight: [0.941, 0.941, ..., 0.949], LHEReweightingWeight: [], ...},\n",
       " {LHEPdfWeight: [1, 1, ..., 0.986, 1.01], LHEReweightingWeight: [], ...}]\n",
       "------------------------------------------------------------------------------\n",
       "type: 49899 * {\n",
       "    LHEPdfWeight: var * float32,\n",
       "    LHEReweightingWeight: var * float32,\n",
       "    LHEScaleWeight: var * float32\n",
       "}</pre>"
      ],
      "text/plain": [
       "<Array [{LHEPdfWeight: [...], ...}, ..., {...}] type='49899 * {LHEPdfWeight...'>"
      ]
     },
     "execution_count": 54,
     "metadata": {},
     "output_type": "execute_result"
    }
   ],
   "source": [
    "ar"
   ]
  },
  {
   "cell_type": "code",
   "execution_count": 55,
   "metadata": {},
   "outputs": [
    {
     "data": {
      "text/plain": [
       "103"
      ]
     },
     "execution_count": 55,
     "metadata": {},
     "output_type": "execute_result"
    }
   ],
   "source": [
    "len(ar.LHEPdfWeight[0])"
   ]
  },
  {
   "cell_type": "code",
   "execution_count": 46,
   "metadata": {},
   "outputs": [
    {
     "data": {
      "text/plain": [
       "0.4872881355932203"
      ]
     },
     "execution_count": 46,
     "metadata": {},
     "output_type": "execute_result"
    }
   ],
   "source": [
    "ak.count_nonzero(ar.LHEPdfWeight[:, 0] >0)/len(ar)"
   ]
  },
  {
   "cell_type": "code",
   "execution_count": 11,
   "metadata": {},
   "outputs": [
    {
     "data": {
      "text/html": [
       "<pre>[[1, 0.999, 1, 1, 1, 0.999, 1, 1, 1, 1, ..., 1, 1, 1, 1, 1, 1, 1, 0.969, 1.03],\n",
       " [1, 0.998, 1, 1, 1, 1.01, 1, 1, ..., 0.999, 0.999, 1, 0.999, 1, 0.947, 1.05],\n",
       " [1.01, 0.997, 0.999, 1, 1, 1, 1, 1.01, ..., 1, 1, 1, 0.999, 1, 0.911, 1.09],\n",
       " [1, 0.997, 0.998, 1, 1, 1, 1, 1.01, 0.998, ..., 1, 1, 1, 1, 1, 1, 0.964, 1.03],\n",
       " [1, 0.999, 1, 0.998, 1.01, 0.999, 1, 1, 1, ..., 1, 1, 1, 1, 1, 1, 0.962, 1.04],\n",
       " [1, 0.997, 0.999, 1, 1, 1, 1, 1, 0.999, ..., 1, 1, 1, 1, 1, 1, 1, 0.948, 1.06],\n",
       " [0.998, 0.998, 1, 1, 0.999, 1, 1, 1, 1, ..., 1, 1, 1, 1, 1, 1, 1, 0.964, 1.04],\n",
       " [0.998, 0.997, 1, 1, 0.999, 1, 0.999, 1, ..., 1, 1, 1, 1, 1, 1, 0.936, 1.07],\n",
       " [1, 0.997, 1, 1, 1, 1, 1, 1, 0.998, ..., 1, 1, 1, 1, 1, 1, 1, 0.958, 1.04],\n",
       " [0.999, 0.999, 0.998, 1, 0.997, 1, 1, 1, ..., 1, 1, 1, 1, 1, 1, 0.963, 1.04],\n",
       " ...,\n",
       " [0.998, 0.999, 1, 1.01, 0.995, 1, 1, 1, 1, ..., 1, 1, 1, 1, 1, 1, 0.943, 1.06],\n",
       " [1, 0.999, 1, 0.999, 1, 0.999, 1, 1, 1, ..., 1, 1, 1, 1, 1, 1, 1, 0.961, 1.04],\n",
       " [1.01, 0.999, 0.996, 1, 0.997, 1.01, ..., 1.01, 1, 0.997, 1, 0.898, 1.09],\n",
       " [1, 0.999, 0.998, 1, 1, 0.999, 1, 1, 1, ..., 1, 1, 1, 1, 1, 1, 1, 0.968, 1.03],\n",
       " [1, 0.997, 0.998, 1, 1, 1, 1, 1.01, 0.998, ..., 1, 1, 1, 1, 1, 1, 0.971, 1.02],\n",
       " [1, 0.997, 0.999, 1, 1, 1, 1, 1, 0.999, ..., 1, 1, 1, 1, 1, 1, 1, 0.937, 1.07],\n",
       " [1, 0.998, 1, 1, 1.01, 1, 1, 1, 0.999, ..., 1, 0.999, 1, 1, 1, 1, 0.949, 1.05],\n",
       " [1, 1, 1, 0.999, 1.01, 0.999, 1, 1, 1, ..., 1, 1, 1, 1, 1, 1, 1, 0.954, 1.04],\n",
       " [1, 0.997, 0.999, 1, 1, 1, 1.01, 1.01, ..., 1, 1, 1, 1, 1, 1, 0.958, 1.04]]\n",
       "--------------------------------------------------------------------------------\n",
       "type: 14410 * var * float32</pre>"
      ],
      "text/plain": [
       "<Array [[1, 0.999, 1, ..., 1, 0.969, 1.03], ...] type='14410 * var * float32'>"
      ]
     },
     "execution_count": 11,
     "metadata": {},
     "output_type": "execute_result"
    }
   ],
   "source": [
    "ar.LHEPdfWeight[:, 1:]/ar.LHEPdfWeight[:, 0]"
   ]
  },
  {
   "cell_type": "code",
   "execution_count": 61,
   "metadata": {},
   "outputs": [
    {
     "data": {
      "text/html": [
       "<pre>[1.02,\n",
       " 0.984,\n",
       " 0.891,\n",
       " 1,\n",
       " 0.915,\n",
       " 0.971,\n",
       " 1.03,\n",
       " 0.99,\n",
       " 0.905,\n",
       " 0.942,\n",
       " ...,\n",
       " 0.929,\n",
       " 0.903,\n",
       " 0.954,\n",
       " 0.988,\n",
       " 0.956,\n",
       " 1.03,\n",
       " 0.972,\n",
       " 0.941,\n",
       " 1]\n",
       "---------------------\n",
       "type: 49899 * float32</pre>"
      ],
      "text/plain": [
       "<Array [1.02, 0.984, 0.891, 1, ..., 0.972, 0.941, 1] type='49899 * float32'>"
      ]
     },
     "execution_count": 61,
     "metadata": {},
     "output_type": "execute_result"
    }
   ],
   "source": [
    "ar.LHEPdfWeight[:, 0]"
   ]
  },
  {
   "cell_type": "code",
   "execution_count": 60,
   "metadata": {},
   "outputs": [
    {
     "data": {
      "text/html": [
       "<pre>[0.891,\n",
       " 0.802,\n",
       " 0.887,\n",
       " 0.826,\n",
       " 0.859,\n",
       " 0.808,\n",
       " 0.843,\n",
       " 0.801,\n",
       " 0.859,\n",
       " 0.872,\n",
       " ...,\n",
       " 0.831,\n",
       " 0.884,\n",
       " 0.846,\n",
       " 0.882,\n",
       " 0.894,\n",
       " 0.891,\n",
       " 0.897,\n",
       " 0.849,\n",
       " 0.895]\n",
       "--------------------\n",
       "type: 3528 * float32</pre>"
      ],
      "text/plain": [
       "<Array [0.891, 0.802, 0.887, ..., 0.897, 0.849, 0.895] type='3528 * float32'>"
      ]
     },
     "execution_count": 60,
     "metadata": {},
     "output_type": "execute_result"
    }
   ],
   "source": [
    "ar.LHEPdfWeight[:, 0][np.abs(ar.LHEPdfWeight[:, 0]-1)>0.1]"
   ]
  },
  {
   "cell_type": "code",
   "execution_count": 9,
   "metadata": {},
   "outputs": [
    {
     "data": {
      "text/html": [
       "<pre>[[1.04, 1.03, 1.04, 0.995, 0.999, 1.01, 0.95, 0.962, 0.976],\n",
       " [1.01, 1.04, 1.07, 0.967, 0.999, 1.03, 0.922, 0.958, 0.99],\n",
       " [1.02, 1.05, 1.07, 0.971, 0.999, 1.03, 0.923, 0.953, 0.98],\n",
       " [1.01, 1.04, 1.07, 0.963, 0.999, 1.03, 0.916, 0.956, 0.991],\n",
       " [1.02, 1.04, 1.06, 0.983, 1, 1.02, 0.941, 0.962, 0.983],\n",
       " [0.92, 1.02, 1.11, 0.901, 1, 1.09, 0.875, 0.973, 1.06],\n",
       " [1, 1.04, 1.08, 0.954, 1, 1.04, 0.907, 0.959, 1],\n",
       " [1.1, 1.06, 1.04, 1.02, 0.999, 0.986, 0.951, 0.943, 0.938],\n",
       " [0.977, 1.03, 1.08, 0.942, 1, 1.05, 0.906, 0.965, 1.02],\n",
       " [1.01, 1.04, 1.06, 0.967, 1, 1.03, 0.921, 0.961, 0.996],\n",
       " ...,\n",
       " [1.02, 1.05, 1.08, 0.969, 1, 1.03, 0.919, 0.95, 0.979],\n",
       " [0.986, 1.03, 1.08, 0.949, 1, 1.05, 0.91, 0.964, 1.01],\n",
       " [0.993, 1.03, 1.07, 0.957, 1, 1.04, 0.918, 0.965, 1.01],\n",
       " [1.01, 1.05, 1.09, 0.961, 0.999, 1.03, 0.911, 0.95, 0.985],\n",
       " [1.34, 1.22, 1.11, 1.1, 0.998, 0.911, 0.917, 0.835, 0.762],\n",
       " [1.03, 1.03, 1.05, 0.987, 0.999, 1.02, 0.941, 0.961, 0.984],\n",
       " [0.945, 1.01, 1.08, 0.927, 1, 1.07, 0.902, 0.978, 1.05],\n",
       " [0.965, 1.02, 1.08, 0.937, 1, 1.06, 0.905, 0.969, 1.03],\n",
       " [1.01, 1.04, 1.07, 0.968, 0.999, 1.03, 0.924, 0.957, 0.987]]\n",
       "-------------------------------------------------------------\n",
       "type: 20337 * var * float32</pre>"
      ],
      "text/plain": [
       "<Array [[1.04, 1.03, ..., 0.962, 0.976], ...] type='20337 * var * float32'>"
      ]
     },
     "execution_count": 9,
     "metadata": {},
     "output_type": "execute_result"
    }
   ],
   "source": [
    "ar.LHEScaleWeight"
   ]
  },
  {
   "cell_type": "code",
   "execution_count": 7,
   "metadata": {},
   "outputs": [
    {
     "data": {
      "text/html": [
       "<pre>[[1.34, 1.37, 1.38, 1.1, 1.13, 1.13, 0.917, 0.943, 0.946],\n",
       " [1.34, 1.39, 1.41, 1.1, 1.14, 1.16, 0.921, 0.955, 0.968],\n",
       " [1.3, 1.27, 1.21, 1.07, 1.04, 0.996, 0.894, 0.87, 0.833]]\n",
       "----------------------------------------------------------\n",
       "type: 3 * var * float32</pre>"
      ],
      "text/plain": [
       "<Array [[1.34, 1.37, 1.38, ..., 0.943, 0.946], ...] type='3 * var * float32'>"
      ]
     },
     "execution_count": 7,
     "metadata": {},
     "output_type": "execute_result"
    }
   ],
   "source": [
    "ar.LHEScaleWeight[ar.LHEScaleWeight[:, 4]>1.04]"
   ]
  },
  {
   "cell_type": "code",
   "execution_count": 8,
   "metadata": {},
   "outputs": [
    {
     "data": {
      "text/html": [
       "<pre>[1.01,\n",
       " 1.04,\n",
       " 0.963,\n",
       " 1.03,\n",
       " 0.956,\n",
       " 0.991]\n",
       "-----------------\n",
       "type: 6 * float32</pre>"
      ],
      "text/plain": [
       "<Array [1.01, 1.04, 0.963, 1.03, 0.956, 0.991] type='6 * float32'>"
      ]
     },
     "execution_count": 8,
     "metadata": {},
     "output_type": "execute_result"
    }
   ],
   "source": [
    "ar.LHEScaleWeight[3][[0, 1, 3, 5, 7, 8]]"
   ]
  }
 ],
 "metadata": {
  "kernelspec": {
   "display_name": "modules-python-3.11",
   "language": "python",
   "name": "python3"
  },
  "language_info": {
   "codemirror_mode": {
    "name": "ipython",
    "version": 3
   },
   "file_extension": ".py",
   "mimetype": "text/x-python",
   "name": "python",
   "nbconvert_exporter": "python",
   "pygments_lexer": "ipython3",
   "version": "3.11.8"
  }
 },
 "nbformat": 4,
 "nbformat_minor": 2
}
