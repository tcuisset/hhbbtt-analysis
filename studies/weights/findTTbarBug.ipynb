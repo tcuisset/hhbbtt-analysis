{
 "cells": [
  {
   "cell_type": "code",
   "execution_count": 1,
   "metadata": {},
   "outputs": [],
   "source": [
    "import uproot\n",
    "import numpy as np\n",
    "import matplotlib.pyplot as plt"
   ]
  },
  {
   "cell_type": "markdown",
   "metadata": {},
   "source": [
    "~~~cpp\n",
    "rdf = ROOT::RDataFrame(\"Events\", \"/grid_mnt/data__data.polcms/cms/vernazza/cmt/Categorization/ul_2017_ZZ_v12/tt_sl/cat_ZZ_elliptical_cut_90_etau/prod_240327/data_25.root\")\n",
    "rdf.Filter(\"!((event == 178049355) && (bunchCrossing == 4294967295))\").Snapshot(\"Events\", \"tt_sl_25_fixed.root\")\n",
    "~~~\n",
    "\n",
    "~~~cpp\n",
    "rdf = ROOT::RDataFrame(\"Events\", \"/grid_mnt/data__data.polcms/cms/cuisset/cmt/Categorization/ul_2017_ZbbHtt_v12/tt_sl/cat_ZbbHtt_elliptical_cut_90_etau/prod_240327/data_25.root\")\n",
    "rdf.Filter(\"!((event == 178049355) && (bunchCrossing == 4294967295))\").Snapshot(\"Events\", \"/grid_mnt/data__data.polcms/cms/cuisset/cmt/Categorization/ul_2017_ZbbHtt_v12/tt_sl/cat_ZbbHtt_elliptical_cut_90_etau/prod_240327/data_25_fixed.root\")\n",
    "~~~\n",
    "~~~cpp\n",
    "rdf = ROOT::RDataFrame(\"Events\", \"/grid_mnt/data__data.polcms/cms/cuisset/cmt/Categorization/ul_2017_ZttHbb_v12/tt_sl/cat_ZttHbb_elliptical_cut_90_etau/prod_240327/data_25.root\")\n",
    "rdf.Filter(\"!((event == 178049355) && (bunchCrossing == 4294967295))\").Snapshot(\"Events\", \"/grid_mnt/data__data.polcms/cms/cuisset/cmt/Categorization/ul_2017_ZttHbb_v12/tt_sl/cat_ZttHbb_elliptical_cut_90_etau/prod_240327/data_25_fixed.root\")\n",
    "~~~"
   ]
  },
  {
   "cell_type": "markdown",
   "metadata": {},
   "source": [
    "~~~cpp\n",
    "rdf = ROOT::RDataFrame(\"Events\", \"/grid_mnt/data__data.polcms/cms/vernazza/cmt/Categorization/ul_2017_ZZ_v12/tt_sl/cat_ZZ_elliptical_cut_90_CR_etau/prod_240318/data_25.root\")\n",
    "rdf.Filter(\"!((event == 178049355) && (bunchCrossing == 4294967295))\").Snapshot(\"Events\", \"tt_sl_25_fixed_ZZ_CR.root\")\n",
    "~~~\n",
    "\n",
    "~~~cpp\n",
    "rdf = ROOT::RDataFrame(\"Events\", \"/grid_mnt/data__data.polcms/cms/cuisset/cmt/Categorization/ul_2017_ZbbHtt_v12/tt_sl/cat_ZbbHtt_elliptical_cut_90_CR_etau/prod_240318/data_25.root\")\n",
    "rdf.Filter(\"!((event == 178049355) && (bunchCrossing == 4294967295))\").Snapshot(\"Events\", \"/grid_mnt/data__data.polcms/cms/cuisset/cmt/Categorization/ul_2017_ZbbHtt_v12/tt_sl/cat_ZbbHtt_elliptical_cut_90_CR_etau/prod_240318/data_25_fixed.root\")\n",
    "~~~\n",
    "~~~cpp\n",
    "rdf = ROOT::RDataFrame(\"Events\", \"/grid_mnt/data__data.polcms/cms/cuisset/cmt/Categorization/ul_2017_ZttHbb_v12/tt_sl/cat_ZttHbb_elliptical_cut_90_CR_etau/prod_240318/data_25.root\")\n",
    "rdf.Filter(\"!((event == 178049355) && (bunchCrossing == 4294967295))\").Snapshot(\"Events\", \"/grid_mnt/data__data.polcms/cms/cuisset/cmt/Categorization/ul_2017_ZttHbb_v12/tt_sl/cat_ZttHbb_elliptical_cut_90_CR_etau/prod_240318/data_25_fixed.root\")\n",
    "~~~"
   ]
  },
  {
   "cell_type": "markdown",
   "metadata": {},
   "source": [
    "\n",
    "~~~cpp\n",
    "rdf = ROOT::RDataFrame(\"Events\", \"/grid_mnt/data__data.polcms/cms/vernazza/cmt/Categorization/ul_2017_ZZ_v12/tt_sl/cat_ZZ_elliptical_cut_90_sr/prod_240318/data_25.root\")\n",
    "rdf.Filter(\"!((event == 178049355) && (bunchCrossing == 4294967295))\").Snapshot(\"Events\", \"tt_sl_25_fixed_ZZ_cat_sr.root\")\n",
    "~~~\n",
    "\n",
    "~~~cpp\n",
    "rdf = ROOT::RDataFrame(\"Events\", \"/grid_mnt/data__data.polcms/cms/cuisset/cmt/Categorization/ul_2017_ZbbHtt_v12/tt_sl/cat_ZbbHtt_elliptical_cut_90_sr/prod_240312/data_25.root\")\n",
    "rdf.Filter(\"!((event == 178049355) && (bunchCrossing == 4294967295))\").Snapshot(\"Events\", \"/grid_mnt/data__data.polcms/cms/cuisset/cmt/Categorization/ul_2017_ZbbHtt_v12/tt_sl/cat_ZbbHtt_elliptical_cut_90_sr/prod_240312/data_25_fixed.root\")\n",
    "~~~\n",
    "~~~cpp\n",
    "rdf = ROOT::RDataFrame(\"Events\", \"/grid_mnt/data__data.polcms/cms/cuisset/cmt/Categorization/ul_2017_ZttHbb_v12/tt_sl/cat_ZttHbb_elliptical_cut_90_sr/prod_240312/data_25.root\")\n",
    "rdf.Filter(\"!((event == 178049355) && (bunchCrossing == 4294967295))\").Snapshot(\"Events\", \"/grid_mnt/data__data.polcms/cms/cuisset/cmt/Categorization/ul_2017_ZttHbb_v12/tt_sl/cat_ZttHbb_elliptical_cut_90_sr/prod_240312/data_25_fixed.root\")\n",
    "~~~"
   ]
  },
  {
   "cell_type": "markdown",
   "metadata": {},
   "source": [
    "\n",
    "~~~cpp\n",
    "rdf = ROOT::RDataFrame(\"Events\", \"/grid_mnt/data__data.polcms/cms/vernazza/cmt/Categorization/ul_2017_ZZ_v12/tt_sl/cat_ZZ_elliptical_cut_90_sr/prod_240312/data_25.root\")\n",
    "rdf.Filter(\"!((event == 178049355) && (bunchCrossing == 4294967295))\").Snapshot(\"Events\", \"tt_sl_25_fixed_ZZ_cat_sr_prod_240312.root\")\n",
    "~~~\n",
    "\n",
    "~~~cpp\n",
    "rdf = ROOT::RDataFrame(\"Events\", \"/grid_mnt/data__data.polcms/cms/cuisset/cmt/Categorization/ul_2017_ZbbHtt_v12/tt_sl/cat_ZbbHtt_elliptical_cut_90_sr/prod_240312_DNNinput/data_25.root\")\n",
    "rdf.Filter(\"!((event == 178049355) && (bunchCrossing == 4294967295))\").Snapshot(\"Events\", \"/grid_mnt/data__data.polcms/cms/cuisset/cmt/Categorization/ul_2017_ZbbHtt_v12/tt_sl/cat_ZbbHtt_elliptical_cut_90_sr/prod_240312_DNNinput/data_25_fixed.root\")\n",
    "~~~\n",
    "~~~cpp\n",
    "rdf = ROOT::RDataFrame(\"Events\", \"/grid_mnt/data__data.polcms/cms/cuisset/cmt/Categorization/ul_2017_ZttHbb_v12/tt_sl/cat_ZttHbb_elliptical_cut_90_sr/prod_240312_DNNinput/data_25.root\")\n",
    "rdf.Filter(\"!((event == 178049355) && (bunchCrossing == 4294967295))\").Snapshot(\"Events\", \"/grid_mnt/data__data.polcms/cms/cuisset/cmt/Categorization/ul_2017_ZttHbb_v12/tt_sl/cat_ZttHbb_elliptical_cut_90_sr/prod_240312_DNNinput/data_25_fixed.root\")\n",
    "~~~"
   ]
  },
  {
   "cell_type": "markdown",
   "metadata": {},
   "source": [
    "## cat_base\n",
    "~~~cpp\n",
    "rdf = ROOT::RDataFrame(\"Events\", \"/grid_mnt/data__data.polcms/cms/vernazza/cmt/Categorization/ul_2017_ZZ_v12/tt_sl/cat_base/prod_240312/data_25.root\")\n",
    "rdf.Filter(\"!((event == 178049355) && (bunchCrossing == 4294967295))\").Snapshot(\"Events\", \"tt_sl_25_fixed_cat_base.root\")\n",
    "~~~\n",
    "\n",
    "~~~cpp\n",
    "rdf = ROOT::RDataFrame(\"Events\", \"/grid_mnt/data__data.polcms/cms/cuisset/cmt/Categorization/ul_2017_ZbbHtt_v12/tt_sl/cat_base/prod_240312/data_25.root\")\n",
    "rdf.Filter(\"!((event == 178049355) && (bunchCrossing == 4294967295))\").Snapshot(\"Events\", \"/grid_mnt/data__data.polcms/cms/cuisset/cmt/Categorization/ul_2017_ZbbHtt_v12/tt_sl/cat_base/prod_240312/data_25_fixed.root\")\n",
    "~~~\n",
    "~~~cpp\n",
    "rdf = ROOT::RDataFrame(\"Events\", \"/grid_mnt/data__data.polcms/cms/cuisset/cmt/Categorization/ul_2017_ZttHbb_v12/tt_sl/cat_base/prod_240312/data_25.root\")\n",
    "rdf.Filter(\"!((event == 178049355) && (bunchCrossing == 4294967295))\").Snapshot(\"Events\", \"/grid_mnt/data__data.polcms/cms/cuisset/cmt/Categorization/ul_2017_ZttHbb_v12/tt_sl/cat_base/prod_240312/data_25_fixed.root\")\n",
    "~~~"
   ]
  },
  {
   "cell_type": "markdown",
   "metadata": {},
   "source": [
    "## Preprocess\n",
    "~~~cpp\n",
    "rdf = ROOT::RDataFrame(\"Events\", \"/grid_mnt/data__data.polcms/cms/vernazza/cmt/PreprocessRDF/ul_2017_ZZ_v12/tt_sl/cat_base_selection/prod_240305/data_25.root\")\n",
    "rdf.Filter(\"!((event == 178049355) && (bunchCrossing == 4294967295))\").Snapshot(\"Events\", \"tt_sl_25_preproc_ZZ.root\")\n",
    "~~~\n",
    "\n",
    "~~~cpp\n",
    "rdf = ROOT::RDataFrame(\"Events\", \"/grid_mnt/data__data.polcms/cms/vernazza/cmt/PreprocessRDF/ul_2018_ZbbHtt_v12/tt_sl/cat_base_selection/prod_240305/data_25.root\")\n",
    "rdf.Filter(\"!((event == 178049355) && (bunchCrossing == 4294967295))\").Snapshot(\"Events\", \"tt_sl_25_preproc_ZbbHtt.root\")\n",
    "~~~\n",
    "~~~cpp\n",
    "rdf = ROOT::RDataFrame(\"Events\", \"/grid_mnt/data__data.polcms/cms/vernazza/cmt/PreprocessRDF/ul_2018_ZttHbb_v12/tt_sl/cat_base_selection/prod_240305/data_25.root\")\n",
    "rdf.Filter(\"!((event == 178049355) && (bunchCrossing == 4294967295))\").Snapshot(\"Events\", \"tt_sl_25_preproc_ZttHbb.root\")\n",
    "~~~"
   ]
  },
  {
   "cell_type": "code",
   "execution_count": 2,
   "metadata": {},
   "outputs": [],
   "source": [
    "# t = uproot.open(\"/scratch/cuisset/cmt/tt_sl_25_fixed.root:Events\")\n",
    "# t = uproot.open(\"/grid_mnt/data__data.polcms/cms/cuisset/cmt/Categorization/ul_2017_ZbbHtt_v12/tt_sl/cat_ZbbHtt_elliptical_cut_90_etau/prod_240327/data_25.root:Events\")\n",
    "t = uproot.open(\"/scratch/cuisset/cmt/MergeCategorization/ul_2017_ZbbHtt_v12/tt_sl/cat_base/prod_240318/data_0.root:Events\")"
   ]
  },
  {
   "cell_type": "code",
   "execution_count": null,
   "metadata": {},
   "outputs": [],
   "source": []
  },
  {
   "cell_type": "code",
   "execution_count": 3,
   "metadata": {},
   "outputs": [
    {
     "data": {
      "text/plain": [
       "(True, nan, nan)"
      ]
     },
     "execution_count": 3,
     "metadata": {},
     "output_type": "execute_result"
    }
   ],
   "source": [
    "weight = \"genWeight*puWeight*DYstitchEasyWeight*prescaleWeight*trigSF*idAndIsoAndFakeSF*PUjetID_SF*bTagweightReshape\"\n",
    "col = t.arrays(weight, library=\"np\")[weight]\n",
    "np.any(np.isnan(col)), np.min(col), np.max(col)"
   ]
  },
  {
   "cell_type": "code",
   "execution_count": 4,
   "metadata": {},
   "outputs": [
    {
     "data": {
      "text/plain": [
       "array([[1945811]])"
      ]
     },
     "execution_count": 4,
     "metadata": {},
     "output_type": "execute_result"
    }
   ],
   "source": [
    "np.argwhere(np.isnan(col))"
   ]
  },
  {
   "cell_type": "code",
   "execution_count": 51,
   "metadata": {},
   "outputs": [
    {
     "data": {
      "text/html": [
       "<pre>{&#x27;genWeight*puWeight*DYstitchEasyWeight*prescaleWeight*trigSF*idAndIsoAndFakeSF*PUjetID_SF*bTagweightReshape&#x27;: nan}\n",
       "-------------------------------------------------------------------------------------------------------------------------\n",
       "type: {\n",
       "    &quot;genWeight*puWeight*DYstitchEasyWeight*prescaleWeight*trigSF*idAndIsoAndFakeSF*PUjetID_SF*bTagweightReshape&quot;: float64\n",
       "}</pre>"
      ],
      "text/plain": [
       "<Record {...} type='{\"genWeight*puWeight*DYstitchEasyWeight*prescaleWeight*...'>"
      ]
     },
     "execution_count": 51,
     "metadata": {},
     "output_type": "execute_result"
    }
   ],
   "source": [
    "t.arrays(weight, entry_start=4047, entry_stop=4048)[0]"
   ]
  },
  {
   "cell_type": "code",
   "execution_count": 5,
   "metadata": {},
   "outputs": [
    {
     "name": "stdout",
     "output_type": "stream",
     "text": [
      "bunchCrossing = 4294967295\n",
      "event = 178049355\n",
      "luminosityBlock = 178050\n",
      "nElectron = 1\n",
      "nFatJet = 1\n",
      "nGenPart = 17\n",
      "nJet = 9\n",
      "nLHEPdfWeight = 103\n",
      "nLHEReweightingWeight = 0\n",
      "nLHEScaleWeight = 9\n",
      "nMuon = 0\n",
      "nPSWeight = 4\n",
      "nTau = 1\n",
      "nTauProd = 6\n",
      "run = 1\n",
      "Electron_eta = [-0.334]\n",
      "Electron_mass = [-0.00311]\n",
      "Electron_phi = [-0.492]\n",
      "Electron_pt = [33]\n",
      "FatJet_eta = [-1.5]\n",
      "FatJet_mass = [68.6]\n",
      "FatJet_phi = [1.29]\n",
      "FatJet_pt = [253]\n",
      "GenPart_eta = [2.28e+04, -2.36e+04, -1.58, -1.63, -1.58, ..., -0.334, -1.4, -1.17, -0.229]\n",
      "GenPart_genPartIdxMother = [-1, -1, 0, 0, 2, 3, 4, 4, 6, 5, 5, 8, 8, 11, 12, 9, 9]\n",
      "GenPart_mass = [0, 0, 174, 173, 173, 173, 82.2, 0, 82.2, 81, 0, 0, 0, 0, 0, 0, 0]\n",
      "GenPart_pdgId = [21, 21, 6, -6, 6, -6, 24, 5, 24, -24, -5, -11, 12, -11, 12, 1, -2]\n",
      "GenPart_phi = [0, 0, -1.98, 1.21, -1.96, 1.2, ..., -0.492, 2.83, -0.492, 2.83, 0.98, -1.46]\n",
      "GenPart_pt = [0, 0, 148, 156, 142, 162, 9.66, 136, ..., 132, 32.5, 40, 32.5, 40, 56, 26.1]\n",
      "GenPart_status = [21, 21, 22, 22, 62, 62, 22, 23, 52, 22, 23, 23, 23, 1, 1, 23, 23]\n",
      "GenPart_statusFlags = [2433, 2433, 4481, 4481, 10497, 10497, ..., 4481, 8449, 8449, 22913, 4481]\n",
      "GenPart_vx = [-0.0257, -0.0257, -0.0257, -0.0257, ..., -0.0257, -0.0257, -0.0257, -0.0257]\n",
      "GenPart_vy = [0.069, 0.069, 0.069, 0.069, 0.069, ..., 0.069, 0.069, 0.069, 0.069, 0.069]\n",
      "GenPart_vz = [4.12, 4.12, 4.12, 4.12, 4.12, 4.12, ..., 4.12, 4.12, 4.12, 4.12, 4.12, 4.12]\n",
      "Jet_btagDeepFlavB = [0.998, 0.279, 0.00243, 0.0742, 0.0184, 0.0431, 0.0412, 0.049, 0.0574]\n",
      "Jet_btagDeepFlavCvB = [0.00224, 0.585, 0.956, 0.43, 0.723, 0.668, 0.659, 0.625, 0.595]\n",
      "Jet_btagDeepFlavCvL = [0.96, 0.546, 0.0533, 0.0604, 0.0488, 0.0908, 0.0831, 0.0859, 0.0895]\n",
      "Jet_btagDeepFlavQG = [0.926, 0.668, 0.225, 0.43, 0.365, 0.763, 0.746, 0.775, 0.633]\n",
      "Jet_eta = [-1.57, -1.36, -1.25, -0.406, -0.191, 0.354, 1.38, 2.24, 1.27]\n",
      "Jet_mass = [22.2, 14.8, 9.09, 10.7, 6.46, 4.65, 4.96, 4.6, 4.57]\n",
      "Jet_phi = [1.41, -1.94, 1.03, -0.471, -1.44, 1.7, -2.05, 1.67, 2.31]\n",
      "Jet_pt = [145, 114, 71.8, 44.8, 25.8, 22.9, 16.5, 15.5, 15.3]\n",
      "L1PreFiringWeight_Dn = 1.0\n",
      "L1PreFiringWeight_ECAL_Dn = 1.0\n",
      "L1PreFiringWeight_ECAL_Nom = 1.0\n",
      "L1PreFiringWeight_ECAL_Up = 1.0\n",
      "L1PreFiringWeight_Muon_Nom = 1.0\n",
      "L1PreFiringWeight_Muon_StatDn = 1.0\n",
      "L1PreFiringWeight_Muon_StatUp = 1.0\n",
      "L1PreFiringWeight_Muon_SystDn = 1.0\n",
      "L1PreFiringWeight_Muon_SystUp = 1.0\n",
      "L1PreFiringWeight_Nom = 1.0\n",
      "L1PreFiringWeight_Up = 1.0\n",
      "LHE_HT = 362.02982\n",
      "LHE_Vpt = 11.277011\n",
      "MET_covXX = 43904.0\n",
      "MET_covXY = 4704.0\n",
      "MET_covYY = 60288.0\n",
      "MET_phi = -2.2324219\n",
      "MET_pt = 104.98668\n",
      "Muon_eta = []\n",
      "Muon_mass = []\n",
      "Muon_phi = []\n",
      "Muon_pt = []\n",
      "PSWeight = [0.955, 0.666, 1.05, 1.69]\n",
      "RefitPV_chi2 = 94.0\n",
      "RefitPV_cov00 = 2.4284236e-07\n",
      "RefitPV_cov01 = 5.9226295e-09\n",
      "RefitPV_cov02 = -4.1211024e-08\n",
      "RefitPV_cov11 = 3.8254075e-07\n",
      "RefitPV_cov12 = -1.4377292e-07\n",
      "RefitPV_cov22 = 1.95764e-06\n",
      "RefitPV_ndof = 70.125\n",
      "RefitPV_valid = True\n",
      "RefitPV_x = -0.0262146\n",
      "RefitPV_y = 0.06945801\n",
      "RefitPV_z = 4.125\n",
      "Tau_decayMode = [1]\n",
      "Tau_eta = [-0.188]\n",
      "Tau_mass = [1.01]\n",
      "Tau_phi = [-1.45]\n",
      "Tau_pt = [24.6]\n",
      "genWeight = 303.358\n",
      "puWeight = 1.1491213\n",
      "puWeightUp = 3.0268457\n",
      "puWeightDown = 0.33896458\n",
      "DYstitchEasyWeight = 1\n",
      "tes_factor = [1]\n",
      "Tau_pt_corr = [24.6]\n",
      "Tau_mass_corr = [1.01]\n",
      "tes_factor_up = [1]\n",
      "Tau_pt_corr_up = [24.6]\n",
      "Tau_mass_corr_up = [1.01]\n",
      "tes_factor_down = [1]\n",
      "Tau_pt_corr_down = [24.6]\n",
      "Tau_mass_corr_down = [1.01]\n",
      "pairType = 1\n",
      "dau1_index = 0\n",
      "dau2_index = 0\n",
      "isTauTauJetTrigger = 0\n",
      "isVBFtrigger = 0\n",
      "isOS = 1\n",
      "dau1_eta = -0.33416748\n",
      "dau1_phi = -0.4918213\n",
      "dau1_iso = 0.0\n",
      "dau1_decayMode = -1\n",
      "dau1_idDeepTau2017v2p1VSe = -1\n",
      "dau1_idDeepTau2017v2p1VSmu = -1\n",
      "dau1_idDeepTau2017v2p1VSjet = -1\n",
      "dau2_eta = -0.18774414\n",
      "dau2_phi = -1.4499512\n",
      "dau2_decayMode = 1\n",
      "dau2_idDeepTau2017v2p1VSe = 8\n",
      "dau2_idDeepTau2017v2p1VSmu = 4\n",
      "dau2_idDeepTau2017v2p1VSjet = 5\n",
      "dau1_pt = 33.0\n",
      "dau1_mass = -0.003107071\n",
      "dau2_pt = 24.61251\n",
      "dau2_mass = 1.0126953\n",
      "dau1_pt_corr_up = 33.0\n",
      "dau1_mass_corr_up = -0.003107071\n",
      "dau2_pt_corr_up = 24.61251\n",
      "dau2_mass_corr_up = 1.0126953\n",
      "dau1_pt_corr_down = 33.0\n",
      "dau1_mass_corr_down = -0.003107071\n",
      "dau2_pt_corr_down = 24.61251\n",
      "dau2_mass_corr_down = 1.0126953\n",
      "jet_smear_factor = [1.02, 0.959, 1.04, 1.03, 1.01, 0.841, 1.29, 0.836, 1.05]\n",
      "jet_smear_factor_down = [1.01, 0.972, 1.02, 1.01, 1.01, 0.891, 1.23, 0.919, 1.04]\n",
      "jet_smear_factor_up = [1.02, 0.945, 1.06, 1.04, 1.02, 0.801, 1.34, 0.779, 1.07]\n",
      "jet_pt_resolution = [0.125, 0.138, 0.162, 0.163, 0.225, 0.243, 0.392, 0.487, 0.378]\n",
      "Jet_pt_nom = [147, 109, 74.8, 45.9, 26.1, 19.2, 21.3, 13, 16.1]\n",
      "Jet_mass_nom = [22.6, 14.2, 9.47, 11, 6.54, 3.91, 6.4, 3.84, 4.81]\n",
      "Jet_pt_smeared_up = [148, 107, 76.2, 46.5, 26.3, 18.3, 22.1, 12.1, 16.3]\n",
      "Jet_mass_smeared_up = [22.7, 14, 9.64, 11.1, 6.59, 3.73, 6.64, 3.58, 4.87]\n",
      "Jet_pt_smeared_down = [146, 110, 73.4, 45.3, 26, 20.4, 20.4, 14.3, 15.9]\n",
      "Jet_mass_smeared_down = [22.5, 14.4, 9.29, 10.8, 6.5, 4.15, 6.12, 4.22, 4.75]\n",
      "MET_smeared_pt = 105.62740639583423\n",
      "MET_smeared_phi = -2.2598066284265985\n",
      "MET_smeared_pt_up = 107.11098561501902\n",
      "MET_smeared_phi_up = -2.2682995132430963\n",
      "MET_smeared_pt_down = 104.70665250640401\n",
      "MET_smeared_phi_down = -2.246839312018404\n",
      "MET_smeared_pt_corr_up = 105.62740639583423\n",
      "MET_smeared_phi_corr_up = -2.2598066284265985\n",
      "MET_smeared_pt_corr_down = 105.62740639583423\n",
      "MET_smeared_phi_corr_down = -2.2598066284265985\n",
      "jec_factor_FlavorQCD_up = [1.01, 1.01, 1.01, 1.01, 1.02, 1.02, 1.02, 1.02, 1.02]\n",
      "jec_factor_RelativeBal_up = [0.996, 0.999, 1, 0.999, 0.999, 0.998, 1, 0.996, 1]\n",
      "jec_factor_HF_up = [1, 1, 1, 1, 1, 1, 1, 1, 1]\n",
      "jec_factor_BBEC1_up = [1, 1, 1, 1, 1.01, 1.01, 1.02, 1.04, 1.02]\n",
      "jec_factor_EC2_up = [1, 1, 1, 1, 1, 1, 1, 1, 1]\n",
      "jec_factor_Absolute_up = [1, 1, 1, 1.01, 1.01, 1.02, 1.02, 1.02, 1.02]\n",
      "jec_factor_BBEC1_2017_up = [1, 1, 1, 1, 1, 1, 1, 1.01, 1]\n",
      "jec_factor_EC2_2017_up = [1, 1, 1, 1, 1, 1, 1, 1, 1]\n",
      "jec_factor_Absolute_2017_up = [1, 1, 1, 1, 1, 1, 1, 1, 1]\n",
      "jec_factor_HF_2017_up = [1, 1, 1, 1, 1, 1, 1, 1, 1]\n",
      "jec_factor_RelativeSample_2017_up = [1, 0.998, 0.999, 1, 0.996, 1, 1, 1.01, 1]\n",
      "jec_factor_Total_up = [1.01, 1.01, 1.01, 1.01, 1.02, 1.03, 1.03, 1.05, 1.04]\n",
      "jec_factor_FlavorQCD_down = [0.994, 0.993, 0.991, 0.988, 0.984, 0.984, 0.984, 0.984, 0.984]\n",
      "jec_factor_RelativeBal_down = [1, 1, 1, 1, 1, 1, 1, 1, 1]\n",
      "jec_factor_HF_down = [1, 1, 1, 1, 1, 1, 1, 1, 1]\n",
      "jec_factor_BBEC1_down = [0.999, 1, 0.997, 0.998, 0.995, 0.992, 0.985, 0.956, 0.98]\n",
      "jec_factor_EC2_down = [1, 1, 1, 1, 1, 1, 1, 1, 1]\n",
      "jec_factor_Absolute_down = [0.997, 0.997, 0.996, 0.992, 0.986, 0.979, 0.983, 0.977, 0.975]\n",
      "jec_factor_BBEC1_2017_down = [0.996, 0.998, 0.998, 1, 1, 1, 0.998, 0.991, 0.998]\n",
      "jec_factor_EC2_2017_down = [1, 1, 1, 1, 1, 1, 1, 1, 1]\n",
      "jec_factor_Absolute_2017_down = [0.999, 0.999, 0.998, 0.998, 0.997, 0.998, 0.997, 0.998, 0.998]\n",
      "jec_factor_HF_2017_down = [1, 1, 1, 1, 1, 1, 1, 1, 1]\n",
      "jec_factor_RelativeSample_2017_down = [1, 1, 1, 1, 1, 1, 1, 0.995, 1]\n",
      "jec_factor_Total_down = [0.991, 0.991, 0.989, 0.986, 0.978, 0.973, 0.972, 0.947, 0.964]\n",
      "Jet_pt_FlavorQCD_up = [148, 110, 75.5, 46.5, 26.6, 19.5, 21.6, 13.2, 16.3]\n",
      "Jet_mass_FlavorQCD_up = [22.8, 14.3, 9.55, 11.1, 6.65, 3.97, 6.5, 3.9, 4.89]\n",
      "Jet_pt_RelativeBal_up = [146, 109, 74.7, 45.9, 26.1, 19.2, 21.3, 12.9, 16.1]\n",
      "Jet_mass_RelativeBal_up = [22.5, 14.2, 9.47, 10.9, 6.53, 3.91, 6.4, 3.83, 4.81]\n",
      "Jet_pt_HF_up = [147, 109, 74.8, 45.9, 26.1, 19.2, 21.3, 13, 16.1]\n",
      "Jet_mass_HF_up = [22.6, 14.2, 9.47, 11, 6.54, 3.91, 6.4, 3.84, 4.81]\n",
      "Jet_pt_BBEC1_up = [147, 109, 75, 46, 26.3, 19.4, 21.6, 13.6, 16.4]\n",
      "Jet_mass_BBEC1_up = [22.6, 14.2, 9.49, 11, 6.58, 3.94, 6.5, 4.01, 4.91]\n",
      "Jet_pt_EC2_up = [147, 109, 74.8, 45.9, 26.1, 19.2, 21.3, 13, 16.1]\n",
      "Jet_mass_EC2_up = [22.6, 14.2, 9.47, 11, 6.54, 3.91, 6.4, 3.84, 4.81]\n",
      "Jet_pt_Absolute_up = [147, 109, 75, 46.3, 26.5, 19.6, 21.6, 13.3, 16.5]\n",
      "Jet_mass_Absolute_up = [22.7, 14.3, 9.5, 11, 6.63, 3.99, 6.5, 3.93, 4.93]\n",
      "Jet_pt_BBEC1_2017_up = [148, 109, 74.9, 45.9, 26.1, 19.2, 21.3, 13.1, 16.1]\n",
      "Jet_mass_BBEC1_2017_up = [22.7, 14.2, 9.49, 11, 6.54, 3.91, 6.41, 3.88, 4.82]\n",
      "Jet_pt_EC2_2017_up = [147, 109, 74.8, 45.9, 26.1, 19.2, 21.3, 13, 16.1]\n",
      "Jet_mass_EC2_2017_up = [22.6, 14.2, 9.47, 11, 6.54, 3.91, 6.4, 3.84, 4.81]\n",
      "Jet_pt_Absolute_2017_up = [147, 109, 74.9, 46, 26.2, 19.3, 21.3, 13, 16.1]\n",
      "Jet_mass_Absolute_2017_up = [22.6, 14.2, 9.48, 11, 6.56, 3.92, 6.41, 3.85, 4.82]\n",
      "Jet_pt_HF_2017_up = [147, 109, 74.8, 45.9, 26.1, 19.2, 21.3, 13, 16.1]\n",
      "Jet_mass_HF_2017_up = [22.6, 14.2, 9.47, 11, 6.54, 3.91, 6.4, 3.84, 4.81]\n",
      "Jet_pt_RelativeSample_2017_up = [147, 109, 74.7, 45.9, 26, 19.2, 21.3, 13.1, 16.1]\n",
      "Jet_mass_RelativeSample_2017_up = [22.6, 14.2, 9.45, 11, 6.52, 3.91, 6.4, 3.86, 4.81]\n",
      "Jet_pt_Total_up = [148, 110, 75.6, 46.6, 26.7, 19.8, 21.9, 13.7, 16.7]\n",
      "Jet_mass_Total_up = [22.8, 14.3, 9.57, 11.1, 6.69, 4.02, 6.58, 4.05, 4.99]\n",
      "Jet_pt_FlavorQCD_down = [146, 108, 74.1, 45.4, 25.7, 18.9, 20.9, 12.8, 15.8]\n",
      "Jet_mass_FlavorQCD_down = [22.5, 14.1, 9.38, 10.8, 6.44, 3.85, 6.29, 3.78, 4.74]\n",
      "Jet_pt_RelativeBal_down = [148, 109, 74.8, 46, 26.2, 19.3, 21.3, 13, 16.1]\n",
      "Jet_mass_RelativeBal_down = [22.7, 14.2, 9.47, 11, 6.55, 3.92, 6.4, 3.86, 4.81]\n",
      "Jet_pt_HF_down = [147, 109, 74.8, 45.9, 26.1, 19.2, 21.3, 13, 16.1]\n",
      "Jet_mass_HF_down = [22.6, 14.2, 9.47, 11, 6.54, 3.91, 6.4, 3.84, 4.81]\n",
      "Jet_pt_BBEC1_down = [147, 109, 74.6, 45.8, 26, 19.1, 20.9, 12.4, 15.8]\n",
      "Jet_mass_BBEC1_down = [22.6, 14.2, 9.44, 10.9, 6.51, 3.88, 6.3, 3.67, 4.72]\n",
      "Jet_pt_EC2_down = [147, 109, 74.8, 45.9, 26.1, 19.2, 21.3, 13, 16.1]\n",
      "Jet_mass_EC2_down = [22.6, 14.2, 9.47, 11, 6.54, 3.91, 6.4, 3.84, 4.81]\n",
      "Jet_pt_Absolute_down = [146, 109, 74.5, 45.6, 25.8, 18.8, 20.9, 12.7, 15.7]\n",
      "Jet_mass_Absolute_down = [22.5, 14.2, 9.43, 10.9, 6.45, 3.83, 6.29, 3.75, 4.7]\n",
      "Jet_pt_BBEC1_2017_down = [146, 109, 74.6, 45.9, 26.1, 19.2, 21.2, 12.9, 16]\n",
      "Jet_mass_BBEC1_2017_down = [22.5, 14.2, 9.45, 11, 6.54, 3.91, 6.38, 3.81, 4.8]\n",
      "Jet_pt_EC2_2017_down = [147, 109, 74.8, 45.9, 26.1, 19.2, 21.3, 13, 16.1]\n",
      "Jet_mass_EC2_2017_down = [22.6, 14.2, 9.47, 11, 6.54, 3.91, 6.4, 3.84, 4.81]\n",
      "Jet_pt_Absolute_2017_down = [147, 109, 74.6, 45.8, 26.1, 19.2, 21.2, 13, 16]\n",
      "Jet_mass_Absolute_2017_down = [22.6, 14.2, 9.45, 10.9, 6.52, 3.9, 6.38, 3.83, 4.8]\n",
      "Jet_pt_HF_2017_down = [147, 109, 74.8, 45.9, 26.1, 19.2, 21.3, 13, 16.1]\n",
      "Jet_mass_HF_2017_down = [22.6, 14.2, 9.47, 11, 6.54, 3.91, 6.4, 3.84, 4.81]\n",
      "Jet_pt_RelativeSample_2017_down = [147, 109, 74.9, 45.9, 26.3, 19.2, 21.3, 12.9, 16.1]\n",
      "Jet_mass_RelativeSample_2017_down = [22.6, 14.2, 9.48, 11, 6.57, 3.91, 6.4, 3.82, 4.81]\n",
      "Jet_pt_Total_down = [146, 108, 74, 45.3, 25.6, 18.7, 20.7, 12.3, 15.5]\n",
      "Jet_mass_Total_down = [22.4, 14.1, 9.37, 10.8, 6.4, 3.8, 6.22, 3.64, 4.64]\n",
      "MET_smeared_pt_FlavorQCD_up = 106.20336313137686\n",
      "MET_smeared_phi_FlavorQCD_up = -2.2596745730216314\n",
      "MET_smeared_pt_RelativeBal_up = 105.07214358833843\n",
      "MET_smeared_phi_RelativeBal_up = -2.2624551618708604\n",
      "MET_smeared_pt_HF_up = 105.62740639583423\n",
      "MET_smeared_phi_HF_up = -2.2598066284265985\n",
      "MET_smeared_pt_BBEC1_up = 106.13265768530506\n",
      "MET_smeared_phi_BBEC1_up = -2.2531328406932682\n",
      "MET_smeared_pt_EC2_up = 105.62740639583423\n",
      "MET_smeared_phi_EC2_up = -2.2598066284265985\n",
      "MET_smeared_pt_Absolute_up = 106.01891025007707\n",
      "MET_smeared_phi_Absolute_up = -2.256129618268671\n",
      "MET_smeared_pt_BBEC1_2017_up = 106.18252369517165\n",
      "MET_smeared_phi_BBEC1_2017_up = -2.2560448592896534\n",
      "MET_smeared_pt_EC2_2017_up = 105.62740639583423\n",
      "MET_smeared_phi_EC2_2017_up = -2.2598066284265985\n",
      "MET_smeared_pt_Absolute_2017_up = 105.665296077143\n",
      "MET_smeared_phi_Absolute_2017_up = -2.2601477236632292\n",
      "MET_smeared_pt_HF_2017_up = 105.62740639583423\n",
      "MET_smeared_phi_HF_2017_up = -2.2598066284265985\n",
      "MET_smeared_pt_RelativeSample_2017_up = 105.84538823717122\n",
      "MET_smeared_phi_RelativeSample_2017_up = -2.2582493747253563\n",
      "MET_smeared_pt_Total_up = 106.8125505295796\n",
      "MET_smeared_phi_Total_up = -2.2526447200667965\n",
      "MET_smeared_pt_FlavorQCD_down = 105.05146025637143\n",
      "MET_smeared_phi_FlavorQCD_down = -2.2599401378819324\n",
      "MET_smeared_pt_RelativeBal_down = 106.18340225615188\n",
      "MET_smeared_phi_RelativeBal_down = -2.257185771718882\n",
      "MET_smeared_pt_HF_down = 105.62740639583423\n",
      "MET_smeared_phi_HF_down = -2.2598066284265985\n",
      "MET_smeared_pt_BBEC1_down = 105.12691941623225\n",
      "MET_smeared_phi_BBEC1_down = -2.2665442397990314\n",
      "MET_smeared_pt_EC2_down = 105.62740639583423\n",
      "MET_smeared_phi_EC2_down = -2.2598066284265985\n",
      "MET_smeared_pt_Absolute_down = 105.23734624373982\n",
      "MET_smeared_phi_Absolute_down = -2.263510910629436\n",
      "MET_smeared_pt_BBEC1_2017_down = 105.07380683038247\n",
      "MET_smeared_phi_BBEC1_2017_down = -2.2636080682067585\n",
      "MET_smeared_pt_EC2_2017_down = 105.62740639583423\n",
      "MET_smeared_phi_EC2_2017_down = -2.2598066284265985\n",
      "MET_smeared_pt_Absolute_2017_down = 105.58953170256059\n",
      "MET_smeared_phi_Absolute_2017_down = -2.259465319983476\n",
      "MET_smeared_pt_HF_2017_down = 105.62740639583423\n",
      "MET_smeared_phi_HF_2017_down = -2.2598066284265985\n",
      "MET_smeared_pt_RelativeSample_2017_down = 105.4096900175377\n",
      "MET_smeared_phi_RelativeSample_2017_down = -2.261370300612553\n",
      "MET_smeared_pt_Total_down = 104.4478114622017\n",
      "MET_smeared_phi_Total_down = -2.2671307121897932\n",
      "Jet_HHbtag = [1.06, 0.359, 0.58, -999, -999, -999, -999, -999, -999]\n",
      "bjet1_JetIdx = 0\n",
      "bjet2_JetIdx = 2\n",
      "VBFjet1_JetIdx = -1\n",
      "VBFjet2_JetIdx = -1\n",
      "ctjet_indexes = [1]\n",
      "fwjet_indexes = []\n",
      "isBoosted = 1\n",
      "fatjet_JetIdx = 0\n",
      "bjet1_pt_nom = 146.9956\n",
      "bjet1_eta = -1.5666504\n",
      "bjet1_mass_nom = 22.614708\n",
      "bjet2_pt_nom = 74.77204\n",
      "bjet2_eta = -1.2492676\n",
      "bjet2_mass_nom = 9.468628\n",
      "fatjet_pt = 252.875\n",
      "fatjet_eta = -1.501709\n",
      "fatjet_mass = 68.5625\n",
      "bjet1_pt_FlavorQCD_up = 147.87509\n",
      "bjet1_mass_FlavorQCD_up = 22.750015\n",
      "bjet1_pt_RelativeBal_up = 146.37822\n",
      "bjet1_mass_RelativeBal_up = 22.519726\n",
      "bjet1_pt_HF_up = 146.9956\n",
      "bjet1_mass_HF_up = 22.614708\n",
      "bjet1_pt_BBEC1_up = 147.21286\n",
      "bjet1_mass_BBEC1_up = 22.648132\n",
      "bjet1_pt_EC2_up = 146.9956\n",
      "bjet1_mass_EC2_up = 22.614708\n",
      "bjet1_pt_Absolute_up = 147.49826\n",
      "bjet1_mass_Absolute_up = 22.69204\n",
      "bjet1_pt_BBEC1_2017_up = 147.65422\n",
      "bjet1_mass_BBEC1_2017_up = 22.716032\n",
      "bjet1_pt_EC2_2017_up = 146.9956\n",
      "bjet1_mass_EC2_2017_up = 22.614708\n",
      "bjet1_pt_Absolute_2017_up = 147.0985\n",
      "bjet1_mass_Absolute_2017_up = 22.630539\n",
      "bjet1_pt_HF_2017_up = 146.9956\n",
      "bjet1_mass_HF_2017_up = 22.614708\n",
      "bjet1_pt_RelativeSample_2017_up = 147.01604\n",
      "bjet1_mass_RelativeSample_2017_up = 22.617851\n",
      "bjet1_pt_Total_up = 148.37164\n",
      "bjet1_mass_Total_up = 22.826405\n",
      "bjet1_pt_FlavorQCD_down = 146.11612\n",
      "bjet1_mass_FlavorQCD_down = 22.479403\n",
      "bjet1_pt_RelativeBal_down = 147.61299\n",
      "bjet1_mass_RelativeBal_down = 22.70969\n",
      "bjet1_pt_HF_down = 146.9956\n",
      "bjet1_mass_HF_down = 22.614708\n",
      "bjet1_pt_BBEC1_down = 146.77835\n",
      "bjet1_mass_BBEC1_down = 22.581284\n",
      "bjet1_pt_EC2_down = 146.9956\n",
      "bjet1_mass_EC2_down = 22.614708\n",
      "bjet1_pt_Absolute_down = 146.49295\n",
      "bjet1_mass_Absolute_down = 22.537376\n",
      "bjet1_pt_BBEC1_2017_down = 146.33699\n",
      "bjet1_mass_BBEC1_2017_down = 22.513384\n",
      "bjet1_pt_EC2_2017_down = 146.9956\n",
      "bjet1_mass_EC2_2017_down = 22.614708\n",
      "bjet1_pt_Absolute_2017_down = 146.89272\n",
      "bjet1_mass_Absolute_2017_down = 22.598877\n",
      "bjet1_pt_HF_2017_down = 146.9956\n",
      "bjet1_mass_HF_2017_down = 22.614708\n",
      "bjet1_pt_RelativeSample_2017_down = 146.97517\n",
      "bjet1_mass_RelativeSample_2017_down = 22.611565\n",
      "bjet1_pt_Total_down = 145.61957\n",
      "bjet1_mass_Total_down = 22.403011\n",
      "bjet2_pt_FlavorQCD_up = 75.45216\n",
      "bjet2_mass_FlavorQCD_up = 9.554753\n",
      "bjet2_pt_RelativeBal_up = 74.74529\n",
      "bjet2_mass_RelativeBal_up = 9.4652405\n",
      "bjet2_pt_HF_up = 74.77204\n",
      "bjet2_mass_HF_up = 9.468628\n",
      "bjet2_pt_BBEC1_up = 74.96068\n",
      "bjet2_mass_BBEC1_up = 9.492516\n",
      "bjet2_pt_EC2_up = 74.77204\n",
      "bjet2_mass_EC2_up = 9.468628\n",
      "bjet2_pt_Absolute_up = 75.046394\n",
      "bjet2_mass_Absolute_up = 9.503369\n",
      "bjet2_pt_BBEC1_2017_up = 74.91411\n",
      "bjet2_mass_BBEC1_2017_up = 9.486618\n",
      "bjet2_pt_EC2_2017_up = 74.77204\n",
      "bjet2_mass_EC2_2017_up = 9.468628\n",
      "bjet2_pt_Absolute_2017_up = 74.89484\n",
      "bjet2_mass_Absolute_2017_up = 9.484178\n",
      "bjet2_pt_HF_2017_up = 74.77204\n",
      "bjet2_mass_HF_2017_up = 9.468628\n",
      "bjet2_pt_RelativeSample_2017_up = 74.66305\n",
      "bjet2_mass_RelativeSample_2017_up = 9.454825\n",
      "bjet2_pt_Total_up = 75.55885\n",
      "bjet2_mass_Total_up = 9.568265\n",
      "bjet2_pt_FlavorQCD_down = 74.09192\n",
      "bjet2_mass_FlavorQCD_down = 9.382502\n",
      "bjet2_pt_RelativeBal_down = 74.79879\n",
      "bjet2_mass_RelativeBal_down = 9.472015\n",
      "bjet2_pt_HF_down = 74.77204\n",
      "bjet2_mass_HF_down = 9.468628\n",
      "bjet2_pt_BBEC1_down = 74.58341\n",
      "bjet2_mass_BBEC1_down = 9.444741\n",
      "bjet2_pt_EC2_down = 74.77204\n",
      "bjet2_mass_EC2_down = 9.468628\n",
      "bjet2_pt_Absolute_down = 74.49769\n",
      "bjet2_mass_Absolute_down = 9.433887\n",
      "bjet2_pt_BBEC1_2017_down = 74.629974\n",
      "bjet2_mass_BBEC1_2017_down = 9.450638\n",
      "bjet2_pt_EC2_2017_down = 74.77204\n",
      "bjet2_mass_EC2_2017_down = 9.468628\n",
      "bjet2_pt_Absolute_2017_down = 74.64925\n",
      "bjet2_mass_Absolute_2017_down = 9.453077\n",
      "bjet2_pt_HF_2017_down = 74.77204\n",
      "bjet2_mass_HF_2017_down = 9.468628\n",
      "bjet2_pt_RelativeSample_2017_down = 74.881035\n",
      "bjet2_mass_RelativeSample_2017_down = 9.48243\n",
      "bjet2_pt_Total_down = 73.98523\n",
      "bjet2_mass_Total_down = 9.368992\n",
      "trigSF = nan\n",
      "trigSF_single = 0.9276542991847738\n",
      "trigSF_cross = 0.7757049121333021\n",
      "trigSF_muUp = nan\n",
      "trigSF_muDown = nan\n",
      "trigSF_eleUp = nan\n",
      "trigSF_eleDown = nan\n",
      "trigSF_DM0Up = nan\n",
      "trigSF_DM1Up = nan\n",
      "trigSF_DM10Up = nan\n",
      "trigSF_DM11Up = nan\n",
      "trigSF_DM0Down = nan\n",
      "trigSF_DM1Down = nan\n",
      "trigSF_DM10Down = nan\n",
      "trigSF_DM11Down = nan\n",
      "trigSF_vbfjetUp = nan\n",
      "trigSF_vbfjetDown = nan\n",
      "PUjetID_SF = 1.0\n",
      "PUjetID_SF_up = 1.0\n",
      "PUjetID_SF_down = 1.0\n",
      "prescaleWeight = 1.0\n",
      "musf_tight_id = []\n",
      "musf_tight_id_up = []\n",
      "musf_tight_id_down = []\n",
      "musf_tight_reliso = []\n",
      "musf_tight_reliso_up = []\n",
      "musf_tight_reliso_down = []\n",
      "elesf_wp80iso = [0.949]\n",
      "elesf_wp80iso_up = [0.96]\n",
      "elesf_wp80iso_down = [0.938]\n",
      "idAndIsoAndFakeSF = 0.9491525292396545\n",
      "idAndIsoAndFakeSF_muon_id_up = 0.9491525292396545\n",
      "idAndIsoAndFakeSF_muon_id_down = 0.9491525292396545\n",
      "idAndIsoAndFakeSF_muon_iso_up = 0.9491525292396545\n",
      "idAndIsoAndFakeSF_muon_iso_down = 0.9491525292396545\n",
      "idAndIsoAndFakeSF_ele_iso_up = 0.9604243636131287\n",
      "idAndIsoAndFakeSF_ele_iso_down = 0.9378806948661804\n",
      "idAndIsoAndFakeSF_tau_vsjet_up = 0.9491525292396545\n",
      "idAndIsoAndFakeSF_tau_vsjet_down = 0.9491525292396545\n",
      "idAndIsoAndFakeSF_tau_vse_up = 0.9491525292396545\n",
      "idAndIsoAndFakeSF_tau_vse_down = 0.9491525292396545\n",
      "idAndIsoAndFakeSF_tau_vsmu_up = 0.9491525292396545\n",
      "idAndIsoAndFakeSF_tau_vsmu_down = 0.9491525292396545\n",
      "bTagweightReshape = 0.9642571442770472\n",
      "Xtt_svfit_pt = 152.17373657226562\n",
      "Xtt_svfit_eta = -0.35000000000000037\n",
      "Xtt_svfit_phi = -0.6457718232379019\n",
      "Xtt_svfit_mass = 77.02320861816406\n",
      "Xtt_svfit_pt_corr_up = 152.17373657226562\n",
      "Xtt_svfit_eta_corr_up = -0.35000000000000037\n",
      "Xtt_svfit_phi_corr_up = -0.6457718232379019\n",
      "Xtt_svfit_mass_corr_up = 77.02320861816406\n",
      "Xtt_svfit_pt_corr_down = 152.17373657226562\n",
      "Xtt_svfit_eta_corr_down = -0.35000000000000037\n",
      "Xtt_svfit_phi_corr_down = -0.6457718232379019\n",
      "Xtt_svfit_mass_corr_down = 77.02320861816406\n",
      "Xtt_svfit_pt_smeared_up = 163.87447357177734\n",
      "Xtt_svfit_eta_smeared_up = -0.35000000000000037\n",
      "Xtt_svfit_phi_smeared_up = -0.6457718232379019\n",
      "Xtt_svfit_mass_smeared_up = 77.02320861816406\n",
      "Xtt_svfit_pt_smeared_down = 172.17061614990234\n",
      "Xtt_svfit_eta_smeared_down = -0.35000000000000037\n",
      "Xtt_svfit_phi_smeared_down = -0.6108652381980153\n",
      "Xtt_svfit_mass_smeared_down = 80.92250442504883\n",
      "Xtt_svfit_pt_Total_up = 159.87753295898438\n",
      "Xtt_svfit_eta_Total_up = -0.35000000000000037\n",
      "Xtt_svfit_phi_Total_up = -0.6108652381980153\n",
      "Xtt_svfit_mass_Total_up = 80.92250442504883\n",
      "Xtt_svfit_pt_Total_down = 155.97808074951172\n",
      "Xtt_svfit_eta_Total_down = -0.35000000000000037\n",
      "Xtt_svfit_phi_Total_down = -0.6457718232379019\n",
      "Xtt_svfit_mass_Total_down = 80.92250442504883\n",
      "ZHKinFit_mass = 735.2189852169721\n",
      "ZHKinFit_chi2 = 25.11863123481236\n",
      "Zbb_pt = 218.21025862365263\n",
      "Zbb_eta = -1.483907686989212\n",
      "Zbb_phi = 1.2833159430544459\n",
      "Zbb_mass = 60.93102446323706\n",
      "Htt_pt = 51.27283153577832\n",
      "Htt_eta = -0.3050029758389665\n",
      "Htt_phi = -0.8954099446788527\n",
      "Htt_mass = 26.649487799570057\n",
      "Htt_met_pt = 126.5142588649262\n",
      "Htt_met_eta = -0.12520754761810374\n",
      "Htt_met_phi = -1.8519188646139837\n",
      "Htt_met_mass = 105.5955215337727\n",
      "ZH_pt = 193.55578943924974\n",
      "ZH_eta = -1.6247842777260473\n",
      "ZH_phi = 1.0641269650586385\n",
      "ZH_mass = 252.54650052573834\n",
      "ZH_svfit_pt = 217.90742730347122\n",
      "ZH_svfit_eta = -1.587700379145357\n",
      "ZH_svfit_phi = 0.5704629908324179\n",
      "ZH_svfit_mass = 407.1218077654638\n",
      "VBFjj_mass = -999.0\n",
      "VBFjj_deltaEta = -999.0\n",
      "VBFjj_deltaPhi = -999.0\n"
     ]
    }
   ],
   "source": [
    "evt = t.arrays(entry_start=1945811, entry_stop=1945811+1)[0]\n",
    "for key in evt.fields:\n",
    "    if True or np.any(np.isnan(evt[key])):\n",
    "        print(f\"{key} = \" + str(evt[key]))"
   ]
  },
  {
   "cell_type": "code",
   "execution_count": 55,
   "metadata": {},
   "outputs": [
    {
     "data": {
      "text/html": [
       "<pre>{event: 178049355,\n",
       " luminosityBlock: 178050}\n",
       "---------------------------\n",
       "type: {\n",
       "    event: uint64,\n",
       "    luminosityBlock: uint32\n",
       "}</pre>"
      ],
      "text/plain": [
       "<Record {event: 178049355, ...} type='{event: uint64, luminosityBlock: uint32}'>"
      ]
     },
     "execution_count": 55,
     "metadata": {},
     "output_type": "execute_result"
    }
   ],
   "source": [
    "evt[[\"event\", \"luminosityBlock\"]]"
   ]
  },
  {
   "cell_type": "code",
   "execution_count": 7,
   "metadata": {},
   "outputs": [
    {
     "data": {
      "text/plain": [
       "array([0.3629115 , 0.66855   , 0.80060226, ..., 0.01661257, 0.01006833,\n",
       "       0.14624418], dtype=float32)"
      ]
     },
     "execution_count": 7,
     "metadata": {},
     "output_type": "execute_result"
    }
   ],
   "source": [
    "dnn = t[\"dnn_ZZbbtt_kl_1\"].array(library=\"np\")\n",
    "dnn"
   ]
  },
  {
   "cell_type": "code",
   "execution_count": 34,
   "metadata": {},
   "outputs": [
    {
     "data": {
      "text/plain": [
       "array([183.79044248, 228.317454  , 271.114144  , ..., 485.27139371,\n",
       "         0.        , 225.75350633])"
      ]
     },
     "execution_count": 34,
     "metadata": {},
     "output_type": "execute_result"
    }
   ],
   "source": [
    "kinfit = t[\"ZZKinFit_mass\"].array(library=\"np\")\n",
    "kinfit"
   ]
  },
  {
   "cell_type": "code",
   "execution_count": 22,
   "metadata": {},
   "outputs": [],
   "source": [
    "dnns_cols = uproot.concatenate(\"/grid_mnt/data__data.polcms/cms/vernazza/cmt/Categorization/ul_2017_ZZ_v12/tt_sl/cat_ZZ_elliptical_cut_90_etau/prod_240327/data_*.root:Events\",\n",
    "filter_name=\"dnn_ZZbbtt_kl_1*\", library=\"np\")\n",
    "dnns_cols"
   ]
  },
  {
   "cell_type": "code",
   "execution_count": 25,
   "metadata": {},
   "outputs": [
    {
     "data": {
      "text/plain": [
       "{'dnn_ZZbbtt_kl_1': array([0.48550493, 0.01637449, 0.0240656 , ..., 0.20031454, 0.14812618,\n",
       "        0.21200718], dtype=float32),\n",
       " 'dnn_ZZbbtt_kl_1_corr_up': array([0.48550493, 0.01637449, 0.0240656 , ..., 0.20031454, 0.14812618,\n",
       "        0.21200718], dtype=float32),\n",
       " 'dnn_ZZbbtt_kl_1_corr_down': array([0.48550493, 0.01637449, 0.0240656 , ..., 0.20031454, 0.14812618,\n",
       "        0.21200718], dtype=float32),\n",
       " 'dnn_ZZbbtt_kl_1_smeared_up': array([0.45146304, 0.01395875, 0.0222287 , ..., 0.19597618, 0.14942162,\n",
       "        0.17869757], dtype=float32),\n",
       " 'dnn_ZZbbtt_kl_1_smeared_down': array([0.48583007, 0.018055  , 0.02381711, ..., 0.20442565, 0.14678474,\n",
       "        0.22734824], dtype=float32),\n",
       " 'dnn_ZZbbtt_kl_1_Total_up': array([0.4778319 , 0.01639314, 0.0240068 , ..., 0.20252718, 0.14932735,\n",
       "        0.16539901], dtype=float32),\n",
       " 'dnn_ZZbbtt_kl_1_Total_down': array([0.46937147, 0.01638768, 0.02179417, ..., 0.2075324 , 0.14706801,\n",
       "        0.22818129], dtype=float32)}"
      ]
     },
     "execution_count": 25,
     "metadata": {},
     "output_type": "execute_result"
    }
   ],
   "source": [
    "dnns_cols"
   ]
  },
  {
   "cell_type": "code",
   "execution_count": 27,
   "metadata": {},
   "outputs": [
    {
     "name": "stdout",
     "output_type": "stream",
     "text": [
      "False 8.790396e-08 0.9991063\n",
      "False 8.790396e-08 0.9991063\n",
      "False 8.790396e-08 0.9991063\n",
      "False 8.3112944e-08 0.99911016\n",
      "False 6.37301e-08 0.9991118\n",
      "False 8.685362e-08 0.9991016\n",
      "False 8.226754e-08 0.99910986\n"
     ]
    }
   ],
   "source": [
    "for col in dnns_cols.values():\n",
    "    print(np.any(np.isnan(col)), np.min(col), np.max(col))"
   ]
  },
  {
   "cell_type": "code",
   "execution_count": 13,
   "metadata": {},
   "outputs": [
    {
     "data": {
      "text/plain": [
       "False"
      ]
     },
     "execution_count": 13,
     "metadata": {},
     "output_type": "execute_result"
    }
   ],
   "source": []
  },
  {
   "cell_type": "code",
   "execution_count": 30,
   "metadata": {},
   "outputs": [
    {
     "data": {
      "text/plain": [
       "<TH1D (version 3) at 0x7f32e5b803d0>"
      ]
     },
     "execution_count": 30,
     "metadata": {},
     "output_type": "execute_result"
    }
   ],
   "source": [
    "preplot = uproot.open(\"/grid_mnt/data__data.polcms/cms/vernazza/cmt/PrePlot/ul_2017_ZZ_v12/tt_sl/cat_ZZ_elliptical_cut_90_etau/prod_240327/data__etau_os_iso_25.root\")\n",
    "preplot[\"ZZKinFit_mass\"]"
   ]
  },
  {
   "cell_type": "code",
   "execution_count": 32,
   "metadata": {},
   "outputs": [
    {
     "data": {
      "text/plain": [
       "array([    0.        ,  5272.72554037, 24326.4648298 , 32009.32818206,\n",
       "       24065.49215037, 30582.0749073 , 22643.30913319, 17403.12204522,\n",
       "       16823.42440191,  9282.74987454, 11490.36295236,  9308.22297735,\n",
       "        4236.26666367,  4000.5675038 ,  3610.71428187,  4612.34862595,\n",
       "        1985.3335982 ,  2412.52070416,  2138.33219282,  1166.45343466,\n",
       "        1837.03484378,   985.76823252,   258.47261457,   565.04553791,\n",
       "         395.43576113,   288.66852782,            nan,     0.        ,\n",
       "           0.        ,     0.        ,   364.34076744,     0.        ,\n",
       "           0.        ,     0.        ,     0.        ,     0.        ,\n",
       "           0.        ,     0.        ,     0.        ,     0.        ,\n",
       "           0.        ,   244.44786556,     0.        ,     0.        ,\n",
       "           0.        ,     0.        ,     0.        ,     0.        ,\n",
       "           0.        ,     0.        ])"
      ]
     },
     "execution_count": 32,
     "metadata": {},
     "output_type": "execute_result"
    }
   ],
   "source": [
    "preplot[\"ZZKinFit_mass\"].values()"
   ]
  }
 ],
 "metadata": {
  "kernelspec": {
   "display_name": "modules-python-3.11",
   "language": "python",
   "name": "python3"
  },
  "language_info": {
   "codemirror_mode": {
    "name": "ipython",
    "version": 3
   },
   "file_extension": ".py",
   "mimetype": "text/x-python",
   "name": "python",
   "nbconvert_exporter": "python",
   "pygments_lexer": "ipython3",
   "version": "3.11.8"
  }
 },
 "nbformat": 4,
 "nbformat_minor": 2
}
