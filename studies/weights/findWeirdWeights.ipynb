{
 "cells": [
  {
   "cell_type": "markdown",
   "metadata": {},
   "source": [
    "Finding MC samples with anomalously high weights"
   ]
  },
  {
   "cell_type": "code",
   "execution_count": 14,
   "metadata": {},
   "outputs": [],
   "source": [
    "import uproot\n",
    "import hist\n",
    "import numpy as np\n",
    "import matplotlib.pyplot as plt\n",
    "import glob\n",
    "from pathlib import Path"
   ]
  },
  {
   "cell_type": "code",
   "execution_count": 53,
   "metadata": {},
   "outputs": [],
   "source": [
    "# find anomalous high weights compared to rest of weights in histogram\n",
    "def checkHistWeights(h):\n",
    "    \"\"\" h must be a uproot TH1D \"\"\"\n",
    "    if h.all_members[\"fEntries\"] < 100:\n",
    "        return True\n",
    "    with np.errstate(divide=\"ignore\", invalid=\"ignore\"):\n",
    "        return not np.any(h.variances()/np.mean(h.variances()) > 100)\n",
    "\n",
    "def checkWeightInPrePlot(path:str):\n",
    "    f = uproot.open(path)\n",
    "    count_bad = 0\n",
    "    for key in f.keys():\n",
    "        if not (\"_up\" in key) and not (\"_down\" in key):\n",
    "            res = checkHistWeights(f[key].to_hist())\n",
    "            if not res:\n",
    "                count_bad += 1\n",
    "                print(path)\n",
    "            \n",
    "    return count_bad\n",
    "\n",
    "# does not do anything useful\n",
    "def compareSamplesMaximum(base_path:str, cat_prod:str, feature_name:str):\n",
    "    for dataset_path in Path(base_path).iterdir():\n",
    "        dataset = dataset_path.name\n",
    "        maximums = []\n",
    "        files = []\n",
    "        for file in (dataset_path / cat_prod).glob(\"data_*.root\"):\n",
    "            files.append(file)\n",
    "            with uproot.open(file) as f:\n",
    "                h = f[feature_name]\n",
    "                maximums.append(np.max(h.variances()))\n",
    "        if max(maximums) > 2*np.mean(maximums):\n",
    "            print(f\"{dataset} {files[np.argmax(maximums)]}\")\n",
    "\n",
    "def dataEvtsPerMCEvent(base_path:str, cat_prod:str, feature_name:str):\n",
    "    for dataset_path in Path(base_path).iterdir():\n",
    "        dataset = dataset_path.name\n",
    "        ratios = []\n",
    "        for file in (dataset_path / cat_prod).glob(\"data_*.root\"):\n",
    "            with uproot.open(file) as f:\n",
    "                h = f[feature_name]\n",
    "                ratios.append(np.sum(h.values())/h.all_members[\"fEntries\"])\n",
    "        print(f\"{dataset} {np.mean(ratios)}\")"
   ]
  },
  {
   "cell_type": "code",
   "execution_count": 36,
   "metadata": {},
   "outputs": [
    {
     "name": "stdout",
     "output_type": "stream",
     "text": [
      "/grid_mnt/data__data.polcms/cms/vernazza/cmt/PrePlot2D/ul_2017_ZZ_v12/tt_fh/cat_base/prod_240318/data_96.root\n",
      "/grid_mnt/data__data.polcms/cms/vernazza/cmt/PrePlot2D/ul_2017_ZZ_v12/dy_0j/cat_base/prod_240318/data_18.root\n",
      "/grid_mnt/data__data.polcms/cms/vernazza/cmt/PrePlot2D/ul_2017_ZZ_v12/zz_qnu/cat_base/prod_240318/data_1.root\n"
     ]
    }
   ],
   "source": [
    "for file in glob.glob(\"/grid_mnt/data__data.polcms/cms/vernazza/cmt/PrePlot2D/ul_2017_ZZ_v12/*/cat_base/prod_240318/data_*.root\"):\n",
    "    checkWeightInPrePlot(file)"
   ]
  },
  {
   "cell_type": "code",
   "execution_count": 38,
   "metadata": {},
   "outputs": [
    {
     "name": "stdout",
     "output_type": "stream",
     "text": [
      "/grid_mnt/data__data.polcms/cms/cuisset/cmt/PrePlot2D/ul_2017_ZbbHtt_v12/wjets_MLM/cat_base/prod_240318/data_0.root\n",
      "/grid_mnt/data__data.polcms/cms/cuisset/cmt/PrePlot2D/ul_2017_ZttHbb_v12/wjets_MLM/cat_base/prod_240318/data_0.root\n",
      "/grid_mnt/data__data.polcms/cms/cuisset/cmt/PrePlot2D/ul_2016_HIPM_ZbbHtt_v12/zz_qnu/cat_base/prod_240318/data_0.root\n",
      "/grid_mnt/data__data.polcms/cms/cuisset/cmt/PrePlot2D/ul_2016_HIPM_ZttHbb_v12/zz_qnu/cat_base/prod_240318/data_0.root\n"
     ]
    }
   ],
   "source": [
    "for file in glob.glob(\"/grid_mnt/data__data.polcms/cms/cuisset/cmt/PrePlot2D/ul_*_Z*_v12/*/cat_base/prod_240318/data_*.root\"):\n",
    "    checkWeightInPrePlot(file)"
   ]
  },
  {
   "cell_type": "code",
   "execution_count": 54,
   "metadata": {},
   "outputs": [
    {
     "name": "stdout",
     "output_type": "stream",
     "text": [
      "ttzh 0.8146576626326417\n",
      "ttz_qq 0.4150548952749032\n",
      "ttww 0.7586954100544205\n",
      "zz_sl_background 3.9726794384407618\n",
      "dy_ptz2 1181.8085195303463\n",
      "ttzz 0.786212436052412\n",
      "ww_qqqq 60.186969510826664\n",
      "zz_bbtt 3.7680660932632315\n",
      "ttwz 0.7670432308169727\n",
      "wplush_htt 0.7256309516907326\n",
      "zz_lnu 0.8053957740486526\n",
      "tth_tautau 0.4246006274799415\n",
      "ww_lnuqq 59.03035892679533\n",
      "zh_htt 0.6769031538536122\n",
      "ewk_wplus 0.796042799609711\n",
      "dy_ptz3 145.8158530158928\n",
      "dy_2j 762.2467571675452\n",
      "ewk_z 0.7809093450045055\n",
      "wz_llqq 6.953776226251641\n",
      "wjets_ht6 0.5408400420268653\n",
      "st_antitop 52.57133735099466\n",
      "ggH_ZZ 26.335518651797827\n",
      "zz_fh 5.22390907355792\n",
      "ttwh 0.7936761586661866\n",
      "ggf_sm 0.801565911650156\n",
      "zzz 0.012475217792425337\n",
      "tt_sl nan\n",
      "zz_sl_signal 3.758873580106102\n",
      "ttw_qq 0.5388191219005442\n",
      "wjets_ht8 0.39572418806101484\n",
      "dy_ptz4 3.719777281609509\n",
      "dy_ptz1 2810.578859803813\n",
      "ttw_lnu 0.2553317726585312\n",
      "www 0.16935536009469726\n",
      "dy 2913.7777634479385\n",
      "wz_lllnu 5.071155590109383\n",
      "zz_dl 1.112484840801173\n",
      "dy_1j 1379.1675814525288\n",
      "st_top 87.55288715457485\n",
      "dy_ptz5 0.3749286101654982\n",
      "wminush_htt 0.4566635968539043\n",
      "wjets_ht1 106922.73282985594\n",
      "wjets_ht2 0.8808012307806878\n",
      "wz_lnuqq 10.97788712720918\n",
      "zh_hbb_zll 0.07034671022626192\n",
      "tt_dl 54.091865971701104\n",
      "tt_fh 254.93258704944802\n",
      "dy_ptz6 0.027534793844036082\n",
      "dy_0j 2268.0797173370283\n",
      "wjets_ht7 0.49551035260913445\n",
      "st_tw_antitop 26.661988746558738\n",
      "wjets_ht3 0.8233451437870938\n",
      "wzz 0.04598855677927832\n",
      "ww_llnunu 7.982765815191183\n",
      "wjets_ht5 0.5904554253526155\n",
      "wwz 0.1291683233973575\n",
      "wz_lnununu 4.182603346093955\n",
      "st_tw_top 26.538438379954087\n",
      "zz_qnu 6.4393736237372\n",
      "wjets_ht4 0.7065234328324314\n",
      "ttz_llnunu 0.19290874492058338\n",
      "ewk_wminus 0.8018306979013127\n"
     ]
    }
   ],
   "source": [
    "dataEvtsPerMCEvent(\"/grid_mnt/data__data.polcms/cms/vernazza/cmt/PrePlot2D/ul_2017_ZZ_v12\", \"cat_base/prod_240318\", \"Ztt_svfit_mass_ellipse_Zbb_mass_ellipse\")"
   ]
  },
  {
   "cell_type": "code",
   "execution_count": 51,
   "metadata": {},
   "outputs": [
    {
     "name": "stderr",
     "output_type": "stream",
     "text": [
      "/tmp/ipykernel_232567/742775961.py:2: RuntimeWarning: invalid value encountered in divide\n",
      "  np.where(h.values()/np.sqrt(h.variances()) > 5)\n"
     ]
    },
    {
     "data": {
      "text/plain": [
       "(array([11]), array([5]))"
      ]
     },
     "execution_count": 51,
     "metadata": {},
     "output_type": "execute_result"
    }
   ],
   "source": [
    "h = uproot.open(\"/grid_mnt/data__data.polcms/cms/vernazza/cmt/PrePlot2D/ul_2018_ZZ_v12/dy_ptz1/cat_base/prod_240318/data_38.root\")[\"Ztt_svfit_mass_ellipse_Zbb_mass_ellipse\"].to_hist()\n",
    "np.where(h.values()/np.sqrt(h.variances()) > 5)"
   ]
  },
  {
   "cell_type": "code",
   "execution_count": 52,
   "metadata": {},
   "outputs": [
    {
     "name": "stderr",
     "output_type": "stream",
     "text": [
      "/tmp/ipykernel_232567/2034046058.py:1: RuntimeWarning: invalid value encountered in divide\n",
      "  plt.hist((h.values()/np.sqrt(h.variances())).flatten())\n"
     ]
    },
    {
     "data": {
      "text/plain": [
       "(array([  5.,  81.,  60., 108., 282., 208.,  47.,  21.,   5.,   1.]),\n",
       " array([-2.40674276, -1.65768616, -0.90862956, -0.15957297,  0.58948363,\n",
       "         1.33854023,  2.08759682,  2.83665342,  3.58571002,  4.33476662,\n",
       "         5.08382321]),\n",
       " <BarContainer object of 10 artists>)"
      ]
     },
     "execution_count": 52,
     "metadata": {},
     "output_type": "execute_result"
    },
    {
     "data": {
      "image/png": "[encoded data removed]",
      "text/plain": [
       "<Figure size 640x480 with 1 Axes>"
      ]
     },
     "metadata": {},
     "output_type": "display_data"
    }
   ],
   "source": [
    "plt.hist((h.values()/np.sqrt(h.variances())).flatten())"
   ]
  },
  {
   "cell_type": "code",
   "execution_count": 55,
   "metadata": {},
   "outputs": [
    {
     "data": {
      "text/plain": [
       "(282362.2467538633, 55541.31899663593, 5.083823212246105)"
      ]
     },
     "execution_count": 55,
     "metadata": {},
     "output_type": "execute_result"
    }
   ],
   "source": [
    "idx = (11,5)\n",
    "h.values()[idx], np.sqrt(h.variances()[idx]), h.values()[idx]/np.sqrt(h.variances()[idx]), "
   ]
  },
  {
   "cell_type": "code",
   "execution_count": 25,
   "metadata": {},
   "outputs": [],
   "source": [
    "buggy_h = uproot.open(\"/grid_mnt/data__data.polcms/cms/cuisset/cmt/PrePlot2D/ul_2017_ZbbHtt_v12/wjets_MLM/cat_base/prod_240318/data_0.root\")[\"Htt_svfit_mass_ellipse_Zbb_mass_ellipse\"]"
   ]
  },
  {
   "cell_type": "code",
   "execution_count": 43,
   "metadata": {},
   "outputs": [
    {
     "data": {
      "text/plain": [
       "36815.0"
      ]
     },
     "execution_count": 43,
     "metadata": {},
     "output_type": "execute_result"
    }
   ],
   "source": [
    "buggy_h.all_members[\"fEntries\"]"
   ]
  },
  {
   "cell_type": "code",
   "execution_count": 48,
   "metadata": {},
   "outputs": [
    {
     "data": {
      "text/plain": [
       "1750"
      ]
     },
     "execution_count": 48,
     "metadata": {},
     "output_type": "execute_result"
    }
   ],
   "source": [
    "buggy_h.variances().size"
   ]
  },
  {
   "cell_type": "code",
   "execution_count": 46,
   "metadata": {},
   "outputs": [
    {
     "data": {
      "text/plain": [
       "35"
      ]
     },
     "execution_count": 46,
     "metadata": {},
     "output_type": "execute_result"
    }
   ],
   "source": [
    "len(buggy_h.variances())"
   ]
  },
  {
   "cell_type": "code",
   "execution_count": 50,
   "metadata": {},
   "outputs": [
    {
     "data": {
      "text/plain": [
       "12.442394817491726"
      ]
     },
     "execution_count": 50,
     "metadata": {},
     "output_type": "execute_result"
    }
   ],
   "source": [
    "np.sum(buggy_h.values())/buggy_h.all_members[\"fEntries\"]"
   ]
  },
  {
   "cell_type": "code",
   "execution_count": 45,
   "metadata": {},
   "outputs": [
    {
     "data": {
      "text/plain": [
       "array([[ 0.        ,  0.        ,  0.        , ...,  0.        ,\n",
       "         0.        ,  0.        ],\n",
       "       [ 0.        ,  7.81659881, 12.11797427, ...,  0.        ,\n",
       "         0.        ,  0.        ],\n",
       "       [ 0.        , 21.13324128, 40.12679476, ...,  0.        ,\n",
       "         0.        ,  0.        ],\n",
       "       ...,\n",
       "       [ 0.        , 18.86874129, 42.42300751, ...,  0.        ,\n",
       "         0.        ,  0.        ],\n",
       "       [ 0.        ,  8.42150145, 41.01323888, ...,  0.        ,\n",
       "         0.        ,  0.        ],\n",
       "       [ 0.        , 19.69167061, 30.07516205, ...,  0.        ,\n",
       "         0.        ,  0.        ]])"
      ]
     },
     "execution_count": 45,
     "metadata": {},
     "output_type": "execute_result"
    }
   ],
   "source": [
    "np.sqrt(buggy_h.variances())"
   ]
  },
  {
   "cell_type": "code",
   "execution_count": 28,
   "metadata": {},
   "outputs": [
    {
     "data": {
      "text/plain": [
       "(array([[35.,  0.,  0.,  0.,  0.,  0.,  0.,  0.,  0.,  0.],\n",
       "        [35.,  0.,  0.,  0.,  0.,  0.,  0.,  0.,  0.,  0.],\n",
       "        [35.,  0.,  0.,  0.,  0.,  0.,  0.,  0.,  0.,  0.],\n",
       "        [35.,  0.,  0.,  0.,  0.,  0.,  0.,  0.,  0.,  0.],\n",
       "        [35.,  0.,  0.,  0.,  0.,  0.,  0.,  0.,  0.,  0.],\n",
       "        [35.,  0.,  0.,  0.,  0.,  0.,  0.,  0.,  0.,  0.],\n",
       "        [35.,  0.,  0.,  0.,  0.,  0.,  0.,  0.,  0.,  0.],\n",
       "        [35.,  0.,  0.,  0.,  0.,  0.,  0.,  0.,  0.,  0.],\n",
       "        [34.,  0.,  0.,  0.,  0.,  0.,  0.,  0.,  0.,  1.],\n",
       "        [35.,  0.,  0.,  0.,  0.,  0.,  0.,  0.,  0.,  0.],\n",
       "        [35.,  0.,  0.,  0.,  0.,  0.,  0.,  0.,  0.,  0.],\n",
       "        [35.,  0.,  0.,  0.,  0.,  0.,  0.,  0.,  0.,  0.],\n",
       "        [35.,  0.,  0.,  0.,  0.,  0.,  0.,  0.,  0.,  0.],\n",
       "        [35.,  0.,  0.,  0.,  0.,  0.,  0.,  0.,  0.,  0.],\n",
       "        [35.,  0.,  0.,  0.,  0.,  0.,  0.,  0.,  0.,  0.],\n",
       "        [35.,  0.,  0.,  0.,  0.,  0.,  0.,  0.,  0.,  0.],\n",
       "        [35.,  0.,  0.,  0.,  0.,  0.,  0.,  0.,  0.,  0.],\n",
       "        [35.,  0.,  0.,  0.,  0.,  0.,  0.,  0.,  0.,  0.],\n",
       "        [35.,  0.,  0.,  0.,  0.,  0.,  0.,  0.,  0.,  0.],\n",
       "        [35.,  0.,  0.,  0.,  0.,  0.,  0.,  0.,  0.,  0.],\n",
       "        [35.,  0.,  0.,  0.,  0.,  0.,  0.,  0.,  0.,  0.],\n",
       "        [35.,  0.,  0.,  0.,  0.,  0.,  0.,  0.,  0.,  0.],\n",
       "        [35.,  0.,  0.,  0.,  0.,  0.,  0.,  0.,  0.,  0.],\n",
       "        [35.,  0.,  0.,  0.,  0.,  0.,  0.,  0.,  0.,  0.],\n",
       "        [35.,  0.,  0.,  0.,  0.,  0.,  0.,  0.,  0.,  0.],\n",
       "        [35.,  0.,  0.,  0.,  0.,  0.,  0.,  0.,  0.,  0.],\n",
       "        [35.,  0.,  0.,  0.,  0.,  0.,  0.,  0.,  0.,  0.],\n",
       "        [35.,  0.,  0.,  0.,  0.,  0.,  0.,  0.,  0.,  0.],\n",
       "        [35.,  0.,  0.,  0.,  0.,  0.,  0.,  0.,  0.,  0.],\n",
       "        [35.,  0.,  0.,  0.,  0.,  0.,  0.,  0.,  0.,  0.],\n",
       "        [35.,  0.,  0.,  0.,  0.,  0.,  0.,  0.,  0.,  0.],\n",
       "        [35.,  0.,  0.,  0.,  0.,  0.,  0.,  0.,  0.,  0.],\n",
       "        [35.,  0.,  0.,  0.,  0.,  0.,  0.,  0.,  0.,  0.],\n",
       "        [35.,  0.,  0.,  0.,  0.,  0.,  0.,  0.,  0.,  0.],\n",
       "        [35.,  0.,  0.,  0.,  0.,  0.,  0.,  0.,  0.,  0.],\n",
       "        [35.,  0.,  0.,  0.,  0.,  0.,  0.,  0.,  0.,  0.],\n",
       "        [35.,  0.,  0.,  0.,  0.,  0.,  0.,  0.,  0.,  0.],\n",
       "        [35.,  0.,  0.,  0.,  0.,  0.,  0.,  0.,  0.,  0.],\n",
       "        [35.,  0.,  0.,  0.,  0.,  0.,  0.,  0.,  0.,  0.],\n",
       "        [35.,  0.,  0.,  0.,  0.,  0.,  0.,  0.,  0.,  0.],\n",
       "        [35.,  0.,  0.,  0.,  0.,  0.,  0.,  0.,  0.,  0.],\n",
       "        [35.,  0.,  0.,  0.,  0.,  0.,  0.,  0.,  0.,  0.],\n",
       "        [35.,  0.,  0.,  0.,  0.,  0.,  0.,  0.,  0.,  0.],\n",
       "        [35.,  0.,  0.,  0.,  0.,  0.,  0.,  0.,  0.,  0.],\n",
       "        [35.,  0.,  0.,  0.,  0.,  0.,  0.,  0.,  0.,  0.],\n",
       "        [35.,  0.,  0.,  0.,  0.,  0.,  0.,  0.,  0.,  0.],\n",
       "        [35.,  0.,  0.,  0.,  0.,  0.,  0.,  0.,  0.,  0.],\n",
       "        [35.,  0.,  0.,  0.,  0.,  0.,  0.,  0.,  0.,  0.],\n",
       "        [35.,  0.,  0.,  0.,  0.,  0.,  0.,  0.,  0.,  0.],\n",
       "        [35.,  0.,  0.,  0.,  0.,  0.,  0.,  0.,  0.,  0.]]),\n",
       " array([     0.        ,  14320.2902545 ,  28640.580509  ,  42960.8707635 ,\n",
       "         57281.16101801,  71601.45127251,  85921.74152701, 100242.03178151,\n",
       "        114562.32203601, 128882.61229051, 143202.90254502]),\n",
       " <a list of 50 BarContainer objects>)"
      ]
     },
     "execution_count": 28,
     "metadata": {},
     "output_type": "execute_result"
    },
    {
     "data": {
      "image/png": "[encoded data removed]",
      "text/plain": [
       "<Figure size 640x480 with 1 Axes>"
      ]
     },
     "metadata": {},
     "output_type": "display_data"
    }
   ],
   "source": [
    "plt.hist(np.sqrt(buggy_h.variances()))"
   ]
  },
  {
   "cell_type": "code",
   "execution_count": 27,
   "metadata": {},
   "outputs": [
    {
     "name": "stderr",
     "output_type": "stream",
     "text": [
      "/tmp/ipykernel_244764/3040276831.py:1: RuntimeWarning: invalid value encountered in divide\n",
      "  plt.hist((buggy_h.values()/np.sqrt(buggy_h.variances())).flatten())\n"
     ]
    },
    {
     "data": {
      "text/plain": [
       "(array([630., 208., 154., 102.,  65.,  52.,  50.,  34.,  17.,   5.]),\n",
       " array([ 1.        ,  2.44279106,  3.88558212,  5.32837318,  6.77116424,\n",
       "         8.21395529,  9.65674635, 11.09953741, 12.54232847, 13.98511953,\n",
       "        15.42791059]),\n",
       " <BarContainer object of 10 artists>)"
      ]
     },
     "execution_count": 27,
     "metadata": {},
     "output_type": "execute_result"
    },
    {
     "data": {
      "image/png": "[encoded data removed]",
      "text/plain": [
       "<Figure size 640x480 with 1 Axes>"
      ]
     },
     "metadata": {},
     "output_type": "display_data"
    }
   ],
   "source": [
    "plt.hist((buggy_h.values()/np.sqrt(buggy_h.variances())).flatten())"
   ]
  }
 ],
 "metadata": {
  "kernelspec": {
   "display_name": "modules-python-3.11",
   "language": "python",
   "name": "python3"
  },
  "language_info": {
   "codemirror_mode": {
    "name": "ipython",
    "version": 3
   },
   "file_extension": ".py",
   "mimetype": "text/x-python",
   "name": "python",
   "nbconvert_exporter": "python",
   "pygments_lexer": "ipython3",
   "version": "3.11.8"
  }
 },
 "nbformat": 4,
 "nbformat_minor": 2
}
